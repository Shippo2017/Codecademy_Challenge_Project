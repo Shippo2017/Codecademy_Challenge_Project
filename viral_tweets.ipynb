{
 "cells": [
  {
   "cell_type": "markdown",
   "metadata": {},
   "source": [
    "# Off-Platform Project: Viral Tweets\n",
    "\n",
    "In this project, we are going to use the K-Nearest Neighbor algorithm to predict whether a tweet will go viral. Before jumping into using the classifier, let's first consider the problem we're trying to solve. Which features of a tweet are most closely linked to its popularity? Maybe the number of hashtags or the number of links in the tweet strongly influences its popularity. Maybe its virality is dependent on how many followers the person has. Maybe it's something more subtle like the specific language used in the tweets.\n",
    "\n",
    "Let's explore these options by looking at the data we have available to us. We've imported the dataset and printed the following information:\n",
    "\n",
    "* The total number of tweets in the dataset.\n",
    "* The columns, or features, of the dataset.\n",
    "* The text of the first tweet in the dataset.\n",
    "\n",
    "Some of these features are dictionaries. For example, the feature `\"user\"` is a dictionary. We might want to use some of the information found in these sub-dictionaries. Print `all_tweets.loc[0][\"user\"]` to see what the `\"user\"` feature looks like.\n",
    "\n",
    "After printing that, try printing just the `\"location\"` found in that `\"user\"` dictionary. For example, `all_tweets.loc[0][\"user\"][\"screen_name\"]` would give you only the screen name associated with the first tweet."
   ]
  },
  {
   "cell_type": "code",
   "execution_count": 1,
   "metadata": {},
   "outputs": [],
   "source": [
    "import pandas as pd\n",
    "pd.set_option('display.max_rows', None)\n",
    "pd.set_option('display.max_columns', None)\n",
    "pd.set_option('display.max_colwidth', None)\n",
    "\n",
    "from IPython.display import display, HTML\n",
    "\n",
    "all_tweets = pd.read_json(\"random_tweets.json\", lines=True)"
   ]
  },
  {
   "cell_type": "code",
   "execution_count": 2,
   "metadata": {
    "scrolled": true
   },
   "outputs": [
    {
     "data": {
      "text/html": [
       "<div>\n",
       "<style scoped>\n",
       "    .dataframe tbody tr th:only-of-type {\n",
       "        vertical-align: middle;\n",
       "    }\n",
       "\n",
       "    .dataframe tbody tr th {\n",
       "        vertical-align: top;\n",
       "    }\n",
       "\n",
       "    .dataframe thead th {\n",
       "        text-align: right;\n",
       "    }\n",
       "</style>\n",
       "<table border=\"1\" class=\"dataframe\">\n",
       "  <thead>\n",
       "    <tr style=\"text-align: right;\">\n",
       "      <th></th>\n",
       "      <th>created_at</th>\n",
       "      <th>id</th>\n",
       "      <th>id_str</th>\n",
       "      <th>text</th>\n",
       "      <th>truncated</th>\n",
       "      <th>entities</th>\n",
       "      <th>metadata</th>\n",
       "      <th>source</th>\n",
       "      <th>in_reply_to_status_id</th>\n",
       "      <th>in_reply_to_status_id_str</th>\n",
       "      <th>in_reply_to_user_id</th>\n",
       "      <th>in_reply_to_user_id_str</th>\n",
       "      <th>in_reply_to_screen_name</th>\n",
       "      <th>user</th>\n",
       "      <th>geo</th>\n",
       "      <th>coordinates</th>\n",
       "      <th>place</th>\n",
       "      <th>contributors</th>\n",
       "      <th>retweeted_status</th>\n",
       "      <th>is_quote_status</th>\n",
       "      <th>retweet_count</th>\n",
       "      <th>favorite_count</th>\n",
       "      <th>favorited</th>\n",
       "      <th>retweeted</th>\n",
       "      <th>lang</th>\n",
       "      <th>possibly_sensitive</th>\n",
       "      <th>quoted_status_id</th>\n",
       "      <th>quoted_status_id_str</th>\n",
       "      <th>extended_entities</th>\n",
       "      <th>quoted_status</th>\n",
       "      <th>withheld_in_countries</th>\n",
       "    </tr>\n",
       "  </thead>\n",
       "  <tbody>\n",
       "    <tr>\n",
       "      <th>0</th>\n",
       "      <td>2018-07-31 13:34:40+00:00</td>\n",
       "      <td>1024287229525598210</td>\n",
       "      <td>1024287229525598208</td>\n",
       "      <td>RT @KWWLStormTrack7: We are more than a month into summer but the days are getting shorter. The sunrise is about 25 minutes later on July 3…</td>\n",
       "      <td>False</td>\n",
       "      <td>{'hashtags': [], 'symbols': [], 'user_mentions': [{'screen_name': 'KWWLStormTrack7', 'name': 'KWWL Storm Track 7', 'id': 131864835, 'id_str': '131864835', 'indices': [3, 19]}], 'urls': []}</td>\n",
       "      <td>{'iso_language_code': 'en', 'result_type': 'recent'}</td>\n",
       "      <td>&lt;a href=\"http://twitter.com/download/android\" rel=\"nofollow\"&gt;Twitter for Android&lt;/a&gt;</td>\n",
       "      <td>NaN</td>\n",
       "      <td>NaN</td>\n",
       "      <td>NaN</td>\n",
       "      <td>NaN</td>\n",
       "      <td>None</td>\n",
       "      <td>{'id': 145388018, 'id_str': '145388018', 'name': 'Derek Wolkenhauer', 'screen_name': 'derekw221', 'location': 'Waterloo, Iowa', 'description': '', 'url': None, 'entities': {'description': {'urls': []}}, 'protected': False, 'followers_count': 215, 'friends_count': 335, 'listed_count': 2, 'created_at': 'Tue May 18 21:30:10 +0000 2010', 'favourites_count': 3419, 'utc_offset': None, 'time_zone': None, 'geo_enabled': True, 'verified': False, 'statuses_count': 4475, 'lang': 'en', 'contributors_enabled': False, 'is_translator': False, 'is_translation_enabled': False, 'profile_background_color': '022330', 'profile_background_image_url': 'http://abs.twimg.com/images/themes/theme15/bg.png', 'profile_background_image_url_https': 'https://abs.twimg.com/images/themes/theme15/bg.png', 'profile_background_tile': False, 'profile_image_url': 'http://pbs.twimg.com/profile_images/995790590276243456/cgxRVviN_normal.jpg', 'profile_image_url_https': 'https://pbs.twimg.com/profile_images/995790590276243456/cgxRVviN_normal.jpg', 'profile_banner_url': 'https://pbs.twimg.com/profile_banners/145388018/1494937921', 'profile_link_color': '0084B4', 'profile_sidebar_border_color': 'A8C7F7', 'profile_sidebar_fill_color': 'C0DFEC', 'profile_text_color': '333333', 'profile_use_background_image': True, 'has_extended_profile': True, 'default_profile': False, 'default_profile_image': False, 'following': False, 'follow_request_sent': False, 'notifications': False, 'translator_type': 'none'}</td>\n",
       "      <td>None</td>\n",
       "      <td>None</td>\n",
       "      <td>None</td>\n",
       "      <td>NaN</td>\n",
       "      <td>{'created_at': 'Mon Jul 30 16:49:41 +0000 2018', 'id': 1023973918959382528, 'id_str': '1023973918959382528', 'text': 'We are more than a month into summer but the days are getting shorter. The sunrise is about 25 minutes later on Jul… https://t.co/fEfTJIfrA7', 'truncated': True, 'entities': {'hashtags': [], 'symbols': [], 'user_mentions': [], 'urls': [{'url': 'https://t.co/fEfTJIfrA7', 'expanded_url': 'https://twitter.com/i/web/status/1023973918959382528', 'display_url': 'twitter.com/i/web/status/1…', 'indices': [117, 140]}]}, 'metadata': {'iso_language_code': 'en', 'result_type': 'recent'}, 'source': '&lt;a href=\"http://www.socialnewsdesk.com\" rel=\"nofollow\"&gt;SocialNewsDesk&lt;/a&gt;', 'in_reply_to_status_id': None, 'in_reply_to_status_id_str': None, 'in_reply_to_user_id': None, 'in_reply_to_user_id_str': None, 'in_reply_to_screen_name': None, 'user': {'id': 131864835, 'id_str': '131864835', 'name': 'KWWL Storm Track 7', 'screen_name': 'KWWLStormTrack7', 'location': 'Waterloo, IA', 'description': 'The latest weather information from the StormTrack 7 team at KWWL.', 'url': 'http://t.co/W2x2myBw0j', 'entities': {'url': {'urls': [{'url': 'http://t.co/W2x2myBw0j', 'expanded_url': 'http://www.kwwl.com/weather', 'display_url': 'kwwl.com/weather', 'indices': [0, 22]}]}, 'description': {'urls': []}}, 'protected': False, 'followers_count': 7225, 'friends_count': 42, 'listed_count': 134, 'created_at': 'Sun Apr 11 15:36:02 +0000 2010', 'favourites_count': 379, 'utc_offset': None, 'time_zone': None, 'geo_enabled': False, 'verified': False, 'statuses_count': 60957, 'lang': 'en', 'contributors_enabled': False, 'is_translator': False, 'is_translation_enabled': False, 'profile_background_color': 'C0DEED', 'profile_background_image_url': 'http://abs.twimg.com/images/themes/theme1/bg.png', 'profile_background_image_url_https': 'https://abs.twimg.com/images/themes/theme1/bg.png', 'profile_background_tile': True, 'profile_image_url': 'http://pbs.twimg.com/profile_images/884503227110223873/ocabR3F0_normal.jpg', 'profile_image_url_https': 'https://pbs.twimg.com/profile_images/884503227110223873/ocabR3F0_normal.jpg', 'profile_banner_url': 'https://pbs.twimg.com/profile_banners/131864835/1477690280', 'profile_link_color': '0084B4', 'profile_sidebar_border_color': 'C0DEED', 'profile_sidebar_fill_color': 'DDEEF6', 'profile_text_color': '333333', 'profile_use_background_image': True, 'has_extended_profile': False, 'default_profile': False, 'default_profile_image': False, 'following': False, 'follow_request_sent': False, 'notifications': False, 'translator_type': 'none'}, 'geo': None, 'coordinates': None, 'place': None, 'contributors': None, 'is_quote_status': False, 'retweet_count': 3, 'favorite_count': 0, 'favorited': False, 'retweeted': False, 'possibly_sensitive': False, 'lang': 'en'}</td>\n",
       "      <td>False</td>\n",
       "      <td>3</td>\n",
       "      <td>0</td>\n",
       "      <td>False</td>\n",
       "      <td>False</td>\n",
       "      <td>en</td>\n",
       "      <td>NaN</td>\n",
       "      <td>NaN</td>\n",
       "      <td>NaN</td>\n",
       "      <td>NaN</td>\n",
       "      <td>NaN</td>\n",
       "      <td>NaN</td>\n",
       "    </tr>\n",
       "  </tbody>\n",
       "</table>\n",
       "</div>"
      ],
      "text/plain": [
       "                 created_at                   id               id_str  \\\n",
       "0 2018-07-31 13:34:40+00:00  1024287229525598210  1024287229525598208   \n",
       "\n",
       "                                                                                                                                           text  \\\n",
       "0  RT @KWWLStormTrack7: We are more than a month into summer but the days are getting shorter. The sunrise is about 25 minutes later on July 3…   \n",
       "\n",
       "   truncated  \\\n",
       "0      False   \n",
       "\n",
       "                                                                                                                                                                                       entities  \\\n",
       "0  {'hashtags': [], 'symbols': [], 'user_mentions': [{'screen_name': 'KWWLStormTrack7', 'name': 'KWWL Storm Track 7', 'id': 131864835, 'id_str': '131864835', 'indices': [3, 19]}], 'urls': []}   \n",
       "\n",
       "                                               metadata  \\\n",
       "0  {'iso_language_code': 'en', 'result_type': 'recent'}   \n",
       "\n",
       "                                                                                 source  \\\n",
       "0  <a href=\"http://twitter.com/download/android\" rel=\"nofollow\">Twitter for Android</a>   \n",
       "\n",
       "   in_reply_to_status_id  in_reply_to_status_id_str  in_reply_to_user_id  \\\n",
       "0                    NaN                        NaN                  NaN   \n",
       "\n",
       "   in_reply_to_user_id_str in_reply_to_screen_name  \\\n",
       "0                      NaN                    None   \n",
       "\n",
       "                                                                                                                                                                                                                                                                                                                                                                                                                                                                                                                                                                                                                                                                                                                                                                                                                                                                                                                                                                                                                                                                                                                                                                                                                                                                                                                                                                                                                                                                                                                                    user  \\\n",
       "0  {'id': 145388018, 'id_str': '145388018', 'name': 'Derek Wolkenhauer', 'screen_name': 'derekw221', 'location': 'Waterloo, Iowa', 'description': '', 'url': None, 'entities': {'description': {'urls': []}}, 'protected': False, 'followers_count': 215, 'friends_count': 335, 'listed_count': 2, 'created_at': 'Tue May 18 21:30:10 +0000 2010', 'favourites_count': 3419, 'utc_offset': None, 'time_zone': None, 'geo_enabled': True, 'verified': False, 'statuses_count': 4475, 'lang': 'en', 'contributors_enabled': False, 'is_translator': False, 'is_translation_enabled': False, 'profile_background_color': '022330', 'profile_background_image_url': 'http://abs.twimg.com/images/themes/theme15/bg.png', 'profile_background_image_url_https': 'https://abs.twimg.com/images/themes/theme15/bg.png', 'profile_background_tile': False, 'profile_image_url': 'http://pbs.twimg.com/profile_images/995790590276243456/cgxRVviN_normal.jpg', 'profile_image_url_https': 'https://pbs.twimg.com/profile_images/995790590276243456/cgxRVviN_normal.jpg', 'profile_banner_url': 'https://pbs.twimg.com/profile_banners/145388018/1494937921', 'profile_link_color': '0084B4', 'profile_sidebar_border_color': 'A8C7F7', 'profile_sidebar_fill_color': 'C0DFEC', 'profile_text_color': '333333', 'profile_use_background_image': True, 'has_extended_profile': True, 'default_profile': False, 'default_profile_image': False, 'following': False, 'follow_request_sent': False, 'notifications': False, 'translator_type': 'none'}   \n",
       "\n",
       "    geo coordinates place  contributors  \\\n",
       "0  None        None  None           NaN   \n",
       "\n",
       "                                                                                                                                                                                                                                                                                                                                                                                                                                                                                                                                                                                                                                                                                                                                                                                                                                                                                                                                                                                                                                                                                                                                                                                                                                                                                                                                                                                                                                                                                                                                                                                                                                                                                                                                                                                                                                                                                                                                                                                                                                                                                                                                                                                                                                                                                                                                                                                                                                                                                                                                                                                                                                                                                                                                                                                                                                                                                                     retweeted_status  \\\n",
       "0  {'created_at': 'Mon Jul 30 16:49:41 +0000 2018', 'id': 1023973918959382528, 'id_str': '1023973918959382528', 'text': 'We are more than a month into summer but the days are getting shorter. The sunrise is about 25 minutes later on Jul… https://t.co/fEfTJIfrA7', 'truncated': True, 'entities': {'hashtags': [], 'symbols': [], 'user_mentions': [], 'urls': [{'url': 'https://t.co/fEfTJIfrA7', 'expanded_url': 'https://twitter.com/i/web/status/1023973918959382528', 'display_url': 'twitter.com/i/web/status/1…', 'indices': [117, 140]}]}, 'metadata': {'iso_language_code': 'en', 'result_type': 'recent'}, 'source': '<a href=\"http://www.socialnewsdesk.com\" rel=\"nofollow\">SocialNewsDesk</a>', 'in_reply_to_status_id': None, 'in_reply_to_status_id_str': None, 'in_reply_to_user_id': None, 'in_reply_to_user_id_str': None, 'in_reply_to_screen_name': None, 'user': {'id': 131864835, 'id_str': '131864835', 'name': 'KWWL Storm Track 7', 'screen_name': 'KWWLStormTrack7', 'location': 'Waterloo, IA', 'description': 'The latest weather information from the StormTrack 7 team at KWWL.', 'url': 'http://t.co/W2x2myBw0j', 'entities': {'url': {'urls': [{'url': 'http://t.co/W2x2myBw0j', 'expanded_url': 'http://www.kwwl.com/weather', 'display_url': 'kwwl.com/weather', 'indices': [0, 22]}]}, 'description': {'urls': []}}, 'protected': False, 'followers_count': 7225, 'friends_count': 42, 'listed_count': 134, 'created_at': 'Sun Apr 11 15:36:02 +0000 2010', 'favourites_count': 379, 'utc_offset': None, 'time_zone': None, 'geo_enabled': False, 'verified': False, 'statuses_count': 60957, 'lang': 'en', 'contributors_enabled': False, 'is_translator': False, 'is_translation_enabled': False, 'profile_background_color': 'C0DEED', 'profile_background_image_url': 'http://abs.twimg.com/images/themes/theme1/bg.png', 'profile_background_image_url_https': 'https://abs.twimg.com/images/themes/theme1/bg.png', 'profile_background_tile': True, 'profile_image_url': 'http://pbs.twimg.com/profile_images/884503227110223873/ocabR3F0_normal.jpg', 'profile_image_url_https': 'https://pbs.twimg.com/profile_images/884503227110223873/ocabR3F0_normal.jpg', 'profile_banner_url': 'https://pbs.twimg.com/profile_banners/131864835/1477690280', 'profile_link_color': '0084B4', 'profile_sidebar_border_color': 'C0DEED', 'profile_sidebar_fill_color': 'DDEEF6', 'profile_text_color': '333333', 'profile_use_background_image': True, 'has_extended_profile': False, 'default_profile': False, 'default_profile_image': False, 'following': False, 'follow_request_sent': False, 'notifications': False, 'translator_type': 'none'}, 'geo': None, 'coordinates': None, 'place': None, 'contributors': None, 'is_quote_status': False, 'retweet_count': 3, 'favorite_count': 0, 'favorited': False, 'retweeted': False, 'possibly_sensitive': False, 'lang': 'en'}   \n",
       "\n",
       "   is_quote_status  retweet_count  favorite_count  favorited  retweeted lang  \\\n",
       "0            False              3               0      False      False   en   \n",
       "\n",
       "   possibly_sensitive  quoted_status_id  quoted_status_id_str  \\\n",
       "0                 NaN               NaN                   NaN   \n",
       "\n",
       "  extended_entities quoted_status withheld_in_countries  \n",
       "0               NaN           NaN                   NaN  "
      ]
     },
     "execution_count": 2,
     "metadata": {},
     "output_type": "execute_result"
    }
   ],
   "source": [
    "all_tweets.head(1)"
   ]
  },
  {
   "cell_type": "code",
   "execution_count": 3,
   "metadata": {},
   "outputs": [
    {
     "name": "stdout",
     "output_type": "stream",
     "text": [
      "length data :  11099\n",
      "\n",
      "Columns : \n",
      " Index(['created_at', 'id', 'id_str', 'text', 'truncated', 'entities',\n",
      "       'metadata', 'source', 'in_reply_to_status_id',\n",
      "       'in_reply_to_status_id_str', 'in_reply_to_user_id',\n",
      "       'in_reply_to_user_id_str', 'in_reply_to_screen_name', 'user', 'geo',\n",
      "       'coordinates', 'place', 'contributors', 'retweeted_status',\n",
      "       'is_quote_status', 'retweet_count', 'favorite_count', 'favorited',\n",
      "       'retweeted', 'lang', 'possibly_sensitive', 'quoted_status_id',\n",
      "       'quoted_status_id_str', 'extended_entities', 'quoted_status',\n",
      "       'withheld_in_countries'],\n",
      "      dtype='object')\n",
      "\n",
      "Tweet : \n",
      ": An unexpected visit gets an overwhelming response. #Saakshyam team at Tirumala theatre in #Nalgonda @BSaiSreenivas… https://t.co/KbEWwlYbxk\n"
     ]
    }
   ],
   "source": [
    "print(\"length data : \",len(all_tweets))\n",
    "print(\"\\nColumns : \\n\", all_tweets.columns)\n",
    "print(\"\\nTweet : \\n:\", all_tweets.loc[29]['text'])"
   ]
  },
  {
   "cell_type": "code",
   "execution_count": 4,
   "metadata": {},
   "outputs": [
    {
     "name": "stdout",
     "output_type": "stream",
     "text": [
      "User : \n",
      " {'id': 145388018, 'id_str': '145388018', 'name': 'Derek Wolkenhauer', 'screen_name': 'derekw221', 'location': 'Waterloo, Iowa', 'description': '', 'url': None, 'entities': {'description': {'urls': []}}, 'protected': False, 'followers_count': 215, 'friends_count': 335, 'listed_count': 2, 'created_at': 'Tue May 18 21:30:10 +0000 2010', 'favourites_count': 3419, 'utc_offset': None, 'time_zone': None, 'geo_enabled': True, 'verified': False, 'statuses_count': 4475, 'lang': 'en', 'contributors_enabled': False, 'is_translator': False, 'is_translation_enabled': False, 'profile_background_color': '022330', 'profile_background_image_url': 'http://abs.twimg.com/images/themes/theme15/bg.png', 'profile_background_image_url_https': 'https://abs.twimg.com/images/themes/theme15/bg.png', 'profile_background_tile': False, 'profile_image_url': 'http://pbs.twimg.com/profile_images/995790590276243456/cgxRVviN_normal.jpg', 'profile_image_url_https': 'https://pbs.twimg.com/profile_images/995790590276243456/cgxRVviN_normal.jpg', 'profile_banner_url': 'https://pbs.twimg.com/profile_banners/145388018/1494937921', 'profile_link_color': '0084B4', 'profile_sidebar_border_color': 'A8C7F7', 'profile_sidebar_fill_color': 'C0DFEC', 'profile_text_color': '333333', 'profile_use_background_image': True, 'has_extended_profile': True, 'default_profile': False, 'default_profile_image': False, 'following': False, 'follow_request_sent': False, 'notifications': False, 'translator_type': 'none'}\n",
      "\n",
      "Screen Name :  derekw221\n",
      "Location :  Waterloo, Iowa\n"
     ]
    }
   ],
   "source": [
    "#Print the user here and the user's location here.\n",
    "print('User : \\n', all_tweets.loc[0][\"user\"])\n",
    "print('\\nScreen Name : ', all_tweets.loc[0][\"user\"]['screen_name'])\n",
    "print('Location : ', all_tweets.loc[0][\"user\"]['location'])"
   ]
  },
  {
   "cell_type": "code",
   "execution_count": 5,
   "metadata": {},
   "outputs": [
    {
     "name": "stdout",
     "output_type": "stream",
     "text": [
      "<class 'pandas.core.frame.DataFrame'>\n",
      "RangeIndex: 11099 entries, 0 to 11098\n",
      "Data columns (total 31 columns):\n",
      " #   Column                     Non-Null Count  Dtype              \n",
      "---  ------                     --------------  -----              \n",
      " 0   created_at                 11099 non-null  datetime64[ns, UTC]\n",
      " 1   id                         11099 non-null  int64              \n",
      " 2   id_str                     11099 non-null  int64              \n",
      " 3   text                       11099 non-null  object             \n",
      " 4   truncated                  11099 non-null  bool               \n",
      " 5   entities                   11099 non-null  object             \n",
      " 6   metadata                   11099 non-null  object             \n",
      " 7   source                     11099 non-null  object             \n",
      " 8   in_reply_to_status_id      1402 non-null   float64            \n",
      " 9   in_reply_to_status_id_str  1402 non-null   float64            \n",
      " 10  in_reply_to_user_id        1503 non-null   float64            \n",
      " 11  in_reply_to_user_id_str    1503 non-null   float64            \n",
      " 12  in_reply_to_screen_name    1503 non-null   object             \n",
      " 13  user                       11099 non-null  object             \n",
      " 14  geo                        17 non-null     object             \n",
      " 15  coordinates                17 non-null     object             \n",
      " 16  place                      156 non-null    object             \n",
      " 17  contributors               0 non-null      float64            \n",
      " 18  retweeted_status           7372 non-null   object             \n",
      " 19  is_quote_status            11099 non-null  bool               \n",
      " 20  retweet_count              11099 non-null  int64              \n",
      " 21  favorite_count             11099 non-null  int64              \n",
      " 22  favorited                  11099 non-null  bool               \n",
      " 23  retweeted                  11099 non-null  bool               \n",
      " 24  lang                       11099 non-null  object             \n",
      " 25  possibly_sensitive         3192 non-null   float64            \n",
      " 26  quoted_status_id           1154 non-null   float64            \n",
      " 27  quoted_status_id_str       1154 non-null   float64            \n",
      " 28  extended_entities          1199 non-null   object             \n",
      " 29  quoted_status              327 non-null    object             \n",
      " 30  withheld_in_countries      2 non-null      object             \n",
      "dtypes: bool(4), datetime64[ns, UTC](1), float64(8), int64(4), object(14)\n",
      "memory usage: 2.3+ MB\n"
     ]
    }
   ],
   "source": [
    "all_tweets.info()"
   ]
  },
  {
   "cell_type": "code",
   "execution_count": 6,
   "metadata": {
    "scrolled": true
   },
   "outputs": [
    {
     "data": {
      "text/plain": [
       "created_at                       0\n",
       "id                               0\n",
       "id_str                           0\n",
       "text                             0\n",
       "truncated                        0\n",
       "entities                         0\n",
       "metadata                         0\n",
       "source                           0\n",
       "in_reply_to_status_id         9697\n",
       "in_reply_to_status_id_str     9697\n",
       "in_reply_to_user_id           9596\n",
       "in_reply_to_user_id_str       9596\n",
       "in_reply_to_screen_name       9596\n",
       "user                             0\n",
       "geo                          11082\n",
       "coordinates                  11082\n",
       "place                        10943\n",
       "contributors                 11099\n",
       "retweeted_status              3727\n",
       "is_quote_status                  0\n",
       "retweet_count                    0\n",
       "favorite_count                   0\n",
       "favorited                        0\n",
       "retweeted                        0\n",
       "lang                             0\n",
       "possibly_sensitive            7907\n",
       "quoted_status_id              9945\n",
       "quoted_status_id_str          9945\n",
       "extended_entities             9900\n",
       "quoted_status                10772\n",
       "withheld_in_countries        11097\n",
       "dtype: int64"
      ]
     },
     "execution_count": 6,
     "metadata": {},
     "output_type": "execute_result"
    }
   ],
   "source": [
    "all_tweets.isnull().sum()"
   ]
  },
  {
   "cell_type": "code",
   "execution_count": 7,
   "metadata": {},
   "outputs": [],
   "source": [
    "# all_tweets['retweet_count']"
   ]
  },
  {
   "cell_type": "markdown",
   "metadata": {},
   "source": [
    "# Defining Viral Tweets\n",
    "\n",
    "A K-Nearest Neighbor classifier is a supervised machine learning algorithm, and as a result, we need to have a dataset with tagged labels. For this specific example, we need a dataset where every tweet is marked as viral or not viral. Unfortunately, this isn't a feature of our dataset &mdash; we'll need to make it ourselves.\n",
    "\n",
    "So how do we define a viral tweet? A good place to start is to look at the number of retweets the tweet has. This can be found using the feature `\"retweet_count\"`. Let's say we wanted to create a column called `is_viral` that is a `1` if the tweet had more than `5` retweets and `0` otherwise. We could do that like this:\n",
    "\n",
    "```py\n",
    "all_tweets['is_viral'] = np.where(all_tweets['retweet_count'] > 5, 1, 0)\n",
    "```\n",
    "\n",
    "Instead of using `5` as the benchmark for a viral tweet, let's use the median number of retweets. You can find that by calling the `median()` function on `all_tweets[\"retweet_count\"]`. Print the median number of retweets to understand what this threshold is.\n",
    "\n",
    "Print the number of viral tweets and non-viral tweets. You can do this using `all_tweets['is_viral'].value_counts()`.\n",
    "\n",
    "After finishing this project, consider coming back and playing with this threshold number. How do you think your model would work if it was trying to find incredibly viral tweets? For example, how would it work if it were looking for tweets with 1000 or more retweets?"
   ]
  },
  {
   "cell_type": "code",
   "execution_count": 8,
   "metadata": {},
   "outputs": [
    {
     "name": "stdout",
     "output_type": "stream",
     "text": [
      "13.0\n",
      "0    5562\n",
      "1    5537\n",
      "Name: is_viral, dtype: int64\n"
     ]
    }
   ],
   "source": [
    "import numpy as np\n",
    "\n",
    "median_retweets = all_tweets['retweet_count'].median()\n",
    "print(median_retweets)\n",
    "\n",
    "all_tweets['is_viral'] = np.where(all_tweets['retweet_count'] > median_retweets, 1, 0)\n",
    "print(all_tweets['is_viral'].value_counts())"
   ]
  },
  {
   "cell_type": "code",
   "execution_count": 9,
   "metadata": {},
   "outputs": [
    {
     "data": {
      "text/html": [
       "<div>\n",
       "<style scoped>\n",
       "    .dataframe tbody tr th:only-of-type {\n",
       "        vertical-align: middle;\n",
       "    }\n",
       "\n",
       "    .dataframe tbody tr th {\n",
       "        vertical-align: top;\n",
       "    }\n",
       "\n",
       "    .dataframe thead th {\n",
       "        text-align: right;\n",
       "    }\n",
       "</style>\n",
       "<table border=\"1\" class=\"dataframe\">\n",
       "  <thead>\n",
       "    <tr style=\"text-align: right;\">\n",
       "      <th></th>\n",
       "      <th>created_at</th>\n",
       "      <th>id</th>\n",
       "      <th>id_str</th>\n",
       "      <th>text</th>\n",
       "      <th>truncated</th>\n",
       "      <th>entities</th>\n",
       "      <th>metadata</th>\n",
       "      <th>source</th>\n",
       "      <th>in_reply_to_status_id</th>\n",
       "      <th>in_reply_to_status_id_str</th>\n",
       "      <th>in_reply_to_user_id</th>\n",
       "      <th>in_reply_to_user_id_str</th>\n",
       "      <th>in_reply_to_screen_name</th>\n",
       "      <th>user</th>\n",
       "      <th>geo</th>\n",
       "      <th>coordinates</th>\n",
       "      <th>place</th>\n",
       "      <th>contributors</th>\n",
       "      <th>retweeted_status</th>\n",
       "      <th>is_quote_status</th>\n",
       "      <th>retweet_count</th>\n",
       "      <th>favorite_count</th>\n",
       "      <th>favorited</th>\n",
       "      <th>retweeted</th>\n",
       "      <th>lang</th>\n",
       "      <th>possibly_sensitive</th>\n",
       "      <th>quoted_status_id</th>\n",
       "      <th>quoted_status_id_str</th>\n",
       "      <th>extended_entities</th>\n",
       "      <th>quoted_status</th>\n",
       "      <th>withheld_in_countries</th>\n",
       "      <th>is_viral</th>\n",
       "    </tr>\n",
       "  </thead>\n",
       "  <tbody>\n",
       "    <tr>\n",
       "      <th>0</th>\n",
       "      <td>2018-07-31 13:34:40+00:00</td>\n",
       "      <td>1024287229525598210</td>\n",
       "      <td>1024287229525598208</td>\n",
       "      <td>RT @KWWLStormTrack7: We are more than a month into summer but the days are getting shorter. The sunrise is about 25 minutes later on July 3…</td>\n",
       "      <td>False</td>\n",
       "      <td>{'hashtags': [], 'symbols': [], 'user_mentions': [{'screen_name': 'KWWLStormTrack7', 'name': 'KWWL Storm Track 7', 'id': 131864835, 'id_str': '131864835', 'indices': [3, 19]}], 'urls': []}</td>\n",
       "      <td>{'iso_language_code': 'en', 'result_type': 'recent'}</td>\n",
       "      <td>&lt;a href=\"http://twitter.com/download/android\" rel=\"nofollow\"&gt;Twitter for Android&lt;/a&gt;</td>\n",
       "      <td>NaN</td>\n",
       "      <td>NaN</td>\n",
       "      <td>NaN</td>\n",
       "      <td>NaN</td>\n",
       "      <td>None</td>\n",
       "      <td>{'id': 145388018, 'id_str': '145388018', 'name': 'Derek Wolkenhauer', 'screen_name': 'derekw221', 'location': 'Waterloo, Iowa', 'description': '', 'url': None, 'entities': {'description': {'urls': []}}, 'protected': False, 'followers_count': 215, 'friends_count': 335, 'listed_count': 2, 'created_at': 'Tue May 18 21:30:10 +0000 2010', 'favourites_count': 3419, 'utc_offset': None, 'time_zone': None, 'geo_enabled': True, 'verified': False, 'statuses_count': 4475, 'lang': 'en', 'contributors_enabled': False, 'is_translator': False, 'is_translation_enabled': False, 'profile_background_color': '022330', 'profile_background_image_url': 'http://abs.twimg.com/images/themes/theme15/bg.png', 'profile_background_image_url_https': 'https://abs.twimg.com/images/themes/theme15/bg.png', 'profile_background_tile': False, 'profile_image_url': 'http://pbs.twimg.com/profile_images/995790590276243456/cgxRVviN_normal.jpg', 'profile_image_url_https': 'https://pbs.twimg.com/profile_images/995790590276243456/cgxRVviN_normal.jpg', 'profile_banner_url': 'https://pbs.twimg.com/profile_banners/145388018/1494937921', 'profile_link_color': '0084B4', 'profile_sidebar_border_color': 'A8C7F7', 'profile_sidebar_fill_color': 'C0DFEC', 'profile_text_color': '333333', 'profile_use_background_image': True, 'has_extended_profile': True, 'default_profile': False, 'default_profile_image': False, 'following': False, 'follow_request_sent': False, 'notifications': False, 'translator_type': 'none'}</td>\n",
       "      <td>None</td>\n",
       "      <td>None</td>\n",
       "      <td>None</td>\n",
       "      <td>NaN</td>\n",
       "      <td>{'created_at': 'Mon Jul 30 16:49:41 +0000 2018', 'id': 1023973918959382528, 'id_str': '1023973918959382528', 'text': 'We are more than a month into summer but the days are getting shorter. The sunrise is about 25 minutes later on Jul… https://t.co/fEfTJIfrA7', 'truncated': True, 'entities': {'hashtags': [], 'symbols': [], 'user_mentions': [], 'urls': [{'url': 'https://t.co/fEfTJIfrA7', 'expanded_url': 'https://twitter.com/i/web/status/1023973918959382528', 'display_url': 'twitter.com/i/web/status/1…', 'indices': [117, 140]}]}, 'metadata': {'iso_language_code': 'en', 'result_type': 'recent'}, 'source': '&lt;a href=\"http://www.socialnewsdesk.com\" rel=\"nofollow\"&gt;SocialNewsDesk&lt;/a&gt;', 'in_reply_to_status_id': None, 'in_reply_to_status_id_str': None, 'in_reply_to_user_id': None, 'in_reply_to_user_id_str': None, 'in_reply_to_screen_name': None, 'user': {'id': 131864835, 'id_str': '131864835', 'name': 'KWWL Storm Track 7', 'screen_name': 'KWWLStormTrack7', 'location': 'Waterloo, IA', 'description': 'The latest weather information from the StormTrack 7 team at KWWL.', 'url': 'http://t.co/W2x2myBw0j', 'entities': {'url': {'urls': [{'url': 'http://t.co/W2x2myBw0j', 'expanded_url': 'http://www.kwwl.com/weather', 'display_url': 'kwwl.com/weather', 'indices': [0, 22]}]}, 'description': {'urls': []}}, 'protected': False, 'followers_count': 7225, 'friends_count': 42, 'listed_count': 134, 'created_at': 'Sun Apr 11 15:36:02 +0000 2010', 'favourites_count': 379, 'utc_offset': None, 'time_zone': None, 'geo_enabled': False, 'verified': False, 'statuses_count': 60957, 'lang': 'en', 'contributors_enabled': False, 'is_translator': False, 'is_translation_enabled': False, 'profile_background_color': 'C0DEED', 'profile_background_image_url': 'http://abs.twimg.com/images/themes/theme1/bg.png', 'profile_background_image_url_https': 'https://abs.twimg.com/images/themes/theme1/bg.png', 'profile_background_tile': True, 'profile_image_url': 'http://pbs.twimg.com/profile_images/884503227110223873/ocabR3F0_normal.jpg', 'profile_image_url_https': 'https://pbs.twimg.com/profile_images/884503227110223873/ocabR3F0_normal.jpg', 'profile_banner_url': 'https://pbs.twimg.com/profile_banners/131864835/1477690280', 'profile_link_color': '0084B4', 'profile_sidebar_border_color': 'C0DEED', 'profile_sidebar_fill_color': 'DDEEF6', 'profile_text_color': '333333', 'profile_use_background_image': True, 'has_extended_profile': False, 'default_profile': False, 'default_profile_image': False, 'following': False, 'follow_request_sent': False, 'notifications': False, 'translator_type': 'none'}, 'geo': None, 'coordinates': None, 'place': None, 'contributors': None, 'is_quote_status': False, 'retweet_count': 3, 'favorite_count': 0, 'favorited': False, 'retweeted': False, 'possibly_sensitive': False, 'lang': 'en'}</td>\n",
       "      <td>False</td>\n",
       "      <td>3</td>\n",
       "      <td>0</td>\n",
       "      <td>False</td>\n",
       "      <td>False</td>\n",
       "      <td>en</td>\n",
       "      <td>NaN</td>\n",
       "      <td>NaN</td>\n",
       "      <td>NaN</td>\n",
       "      <td>NaN</td>\n",
       "      <td>NaN</td>\n",
       "      <td>NaN</td>\n",
       "      <td>0</td>\n",
       "    </tr>\n",
       "  </tbody>\n",
       "</table>\n",
       "</div>"
      ],
      "text/plain": [
       "                 created_at                   id               id_str  \\\n",
       "0 2018-07-31 13:34:40+00:00  1024287229525598210  1024287229525598208   \n",
       "\n",
       "                                                                                                                                           text  \\\n",
       "0  RT @KWWLStormTrack7: We are more than a month into summer but the days are getting shorter. The sunrise is about 25 minutes later on July 3…   \n",
       "\n",
       "   truncated  \\\n",
       "0      False   \n",
       "\n",
       "                                                                                                                                                                                       entities  \\\n",
       "0  {'hashtags': [], 'symbols': [], 'user_mentions': [{'screen_name': 'KWWLStormTrack7', 'name': 'KWWL Storm Track 7', 'id': 131864835, 'id_str': '131864835', 'indices': [3, 19]}], 'urls': []}   \n",
       "\n",
       "                                               metadata  \\\n",
       "0  {'iso_language_code': 'en', 'result_type': 'recent'}   \n",
       "\n",
       "                                                                                 source  \\\n",
       "0  <a href=\"http://twitter.com/download/android\" rel=\"nofollow\">Twitter for Android</a>   \n",
       "\n",
       "   in_reply_to_status_id  in_reply_to_status_id_str  in_reply_to_user_id  \\\n",
       "0                    NaN                        NaN                  NaN   \n",
       "\n",
       "   in_reply_to_user_id_str in_reply_to_screen_name  \\\n",
       "0                      NaN                    None   \n",
       "\n",
       "                                                                                                                                                                                                                                                                                                                                                                                                                                                                                                                                                                                                                                                                                                                                                                                                                                                                                                                                                                                                                                                                                                                                                                                                                                                                                                                                                                                                                                                                                                                                    user  \\\n",
       "0  {'id': 145388018, 'id_str': '145388018', 'name': 'Derek Wolkenhauer', 'screen_name': 'derekw221', 'location': 'Waterloo, Iowa', 'description': '', 'url': None, 'entities': {'description': {'urls': []}}, 'protected': False, 'followers_count': 215, 'friends_count': 335, 'listed_count': 2, 'created_at': 'Tue May 18 21:30:10 +0000 2010', 'favourites_count': 3419, 'utc_offset': None, 'time_zone': None, 'geo_enabled': True, 'verified': False, 'statuses_count': 4475, 'lang': 'en', 'contributors_enabled': False, 'is_translator': False, 'is_translation_enabled': False, 'profile_background_color': '022330', 'profile_background_image_url': 'http://abs.twimg.com/images/themes/theme15/bg.png', 'profile_background_image_url_https': 'https://abs.twimg.com/images/themes/theme15/bg.png', 'profile_background_tile': False, 'profile_image_url': 'http://pbs.twimg.com/profile_images/995790590276243456/cgxRVviN_normal.jpg', 'profile_image_url_https': 'https://pbs.twimg.com/profile_images/995790590276243456/cgxRVviN_normal.jpg', 'profile_banner_url': 'https://pbs.twimg.com/profile_banners/145388018/1494937921', 'profile_link_color': '0084B4', 'profile_sidebar_border_color': 'A8C7F7', 'profile_sidebar_fill_color': 'C0DFEC', 'profile_text_color': '333333', 'profile_use_background_image': True, 'has_extended_profile': True, 'default_profile': False, 'default_profile_image': False, 'following': False, 'follow_request_sent': False, 'notifications': False, 'translator_type': 'none'}   \n",
       "\n",
       "    geo coordinates place  contributors  \\\n",
       "0  None        None  None           NaN   \n",
       "\n",
       "                                                                                                                                                                                                                                                                                                                                                                                                                                                                                                                                                                                                                                                                                                                                                                                                                                                                                                                                                                                                                                                                                                                                                                                                                                                                                                                                                                                                                                                                                                                                                                                                                                                                                                                                                                                                                                                                                                                                                                                                                                                                                                                                                                                                                                                                                                                                                                                                                                                                                                                                                                                                                                                                                                                                                                                                                                                                                                     retweeted_status  \\\n",
       "0  {'created_at': 'Mon Jul 30 16:49:41 +0000 2018', 'id': 1023973918959382528, 'id_str': '1023973918959382528', 'text': 'We are more than a month into summer but the days are getting shorter. The sunrise is about 25 minutes later on Jul… https://t.co/fEfTJIfrA7', 'truncated': True, 'entities': {'hashtags': [], 'symbols': [], 'user_mentions': [], 'urls': [{'url': 'https://t.co/fEfTJIfrA7', 'expanded_url': 'https://twitter.com/i/web/status/1023973918959382528', 'display_url': 'twitter.com/i/web/status/1…', 'indices': [117, 140]}]}, 'metadata': {'iso_language_code': 'en', 'result_type': 'recent'}, 'source': '<a href=\"http://www.socialnewsdesk.com\" rel=\"nofollow\">SocialNewsDesk</a>', 'in_reply_to_status_id': None, 'in_reply_to_status_id_str': None, 'in_reply_to_user_id': None, 'in_reply_to_user_id_str': None, 'in_reply_to_screen_name': None, 'user': {'id': 131864835, 'id_str': '131864835', 'name': 'KWWL Storm Track 7', 'screen_name': 'KWWLStormTrack7', 'location': 'Waterloo, IA', 'description': 'The latest weather information from the StormTrack 7 team at KWWL.', 'url': 'http://t.co/W2x2myBw0j', 'entities': {'url': {'urls': [{'url': 'http://t.co/W2x2myBw0j', 'expanded_url': 'http://www.kwwl.com/weather', 'display_url': 'kwwl.com/weather', 'indices': [0, 22]}]}, 'description': {'urls': []}}, 'protected': False, 'followers_count': 7225, 'friends_count': 42, 'listed_count': 134, 'created_at': 'Sun Apr 11 15:36:02 +0000 2010', 'favourites_count': 379, 'utc_offset': None, 'time_zone': None, 'geo_enabled': False, 'verified': False, 'statuses_count': 60957, 'lang': 'en', 'contributors_enabled': False, 'is_translator': False, 'is_translation_enabled': False, 'profile_background_color': 'C0DEED', 'profile_background_image_url': 'http://abs.twimg.com/images/themes/theme1/bg.png', 'profile_background_image_url_https': 'https://abs.twimg.com/images/themes/theme1/bg.png', 'profile_background_tile': True, 'profile_image_url': 'http://pbs.twimg.com/profile_images/884503227110223873/ocabR3F0_normal.jpg', 'profile_image_url_https': 'https://pbs.twimg.com/profile_images/884503227110223873/ocabR3F0_normal.jpg', 'profile_banner_url': 'https://pbs.twimg.com/profile_banners/131864835/1477690280', 'profile_link_color': '0084B4', 'profile_sidebar_border_color': 'C0DEED', 'profile_sidebar_fill_color': 'DDEEF6', 'profile_text_color': '333333', 'profile_use_background_image': True, 'has_extended_profile': False, 'default_profile': False, 'default_profile_image': False, 'following': False, 'follow_request_sent': False, 'notifications': False, 'translator_type': 'none'}, 'geo': None, 'coordinates': None, 'place': None, 'contributors': None, 'is_quote_status': False, 'retweet_count': 3, 'favorite_count': 0, 'favorited': False, 'retweeted': False, 'possibly_sensitive': False, 'lang': 'en'}   \n",
       "\n",
       "   is_quote_status  retweet_count  favorite_count  favorited  retweeted lang  \\\n",
       "0            False              3               0      False      False   en   \n",
       "\n",
       "   possibly_sensitive  quoted_status_id  quoted_status_id_str  \\\n",
       "0                 NaN               NaN                   NaN   \n",
       "\n",
       "  extended_entities quoted_status withheld_in_countries  is_viral  \n",
       "0               NaN           NaN                   NaN         0  "
      ]
     },
     "execution_count": 9,
     "metadata": {},
     "output_type": "execute_result"
    }
   ],
   "source": [
    "all_tweets.head(1)"
   ]
  },
  {
   "cell_type": "markdown",
   "metadata": {},
   "source": [
    "# Making Features\n",
    "\n",
    "Now that we've created a label for every tweet in our dataset, we can begin thinking about which features might determine whether a tweet is viral. We can create new columns in our dataset to represent these features. For example, let's say we think the length of a tweet might be a valuable feature. The following line creates a new column containing the length of the tweet.\n",
    "\n",
    "```py\n",
    "all_tweets['tweet_length'] = all_tweets.apply(lambda tweet: len(tweet['text']), axis=1)\n",
    "```\n",
    "\n",
    "Setting `axis = 1` creates a new column rather than a new row.\n",
    "\n",
    "Create a new column called `followers_count` that contains the number of followers of each user. You can find this information in `tweet['user']['followers_count']`. Do the same for `friends_count`.\n",
    "\n",
    "For the rest of this project, we will be using these three features, but we encourage you to create your own. Here are some potential ideas for more features.\n",
    "\n",
    "* The number of hashtags in the tweet. You can find this by looking at the `text` of the tweet and using the `.count()` function with `#` as a parameter.\n",
    "* The number of links in the tweet. Using a similar strategy to the one above, use `.count()` to count the number of times `http` appears in the tweet.\n",
    "* The number of words in the tweet. Call `.split()` on the `text` of a tweet. This will give you a list of the words in the tweet. Find the length of that list.\n",
    "* The average length of the words in the tweet."
   ]
  },
  {
   "cell_type": "code",
   "execution_count": 10,
   "metadata": {},
   "outputs": [],
   "source": [
    "all_tweets['tweet_length'] = all_tweets.apply(lambda tweet: len(tweet['text']), axis=1) #num of characters\n",
    "all_tweets['followers_count'] = all_tweets.apply(lambda tweet: tweet['user']['followers_count'], axis=1)\n",
    "all_tweets['friends_count'] = all_tweets.apply(lambda tweet: tweet['user']['friends_count'], axis=1)\n",
    "all_tweets['hastags_count'] = all_tweets.apply(lambda tweet: tweet['text'].count('#'), axis=1)\n",
    "all_tweets['links_count'] = all_tweets.apply(lambda tweet: tweet['text'].count('http'), axis=1)\n",
    "all_tweets['words_count'] = all_tweets.apply(lambda tweet: len(tweet['text'].split()), axis=1)\n",
    "all_tweets['words_length'] = all_tweets.apply(lambda tweet: sum([len(word) for word in tweet['text'].split()])\\\n",
    "                                              / len(tweet['text'].split()), axis=1)\n",
    "all_tweets['backgrounds'] = all_tweets.apply(lambda tweet: 1 if tweet['user']['profile_use_background_image'] == True else 0,\\\n",
    "                                             axis=1)"
   ]
  },
  {
   "cell_type": "markdown",
   "metadata": {},
   "source": [
    "# Normalizing The Data\n",
    "\n",
    "We've now made the columns that we want to feed into our classifier. Let's get rid of all the data that is no longer relevant. Create a variable named `labels` and set it equal to the `'is_viral'` column of all_tweets.\n",
    "\n",
    "If we had a dataframe named `df` we could get a single column named `A` like this:\n",
    "\n",
    "```py\n",
    "one_column = df['A']\n",
    "```\n",
    "\n",
    "Create a variable named `data` and set it equal to all of the columns that you created in the last step. Those columns are `tweet_length`, `followers_count`, and `friends_count`.\n",
    "\n",
    "When selecting multiple columns, the names of the columns should be in a list. Check out the example below to see how to select column `A` *and* `B`:\n",
    "\n",
    "```py\n",
    "features = df[['A', 'B']]\n",
    "```\n",
    "\n",
    "Now create a new variable named `scaled_data`. `scaled_data` should be the result of the `scale` function with `data` as a parameter. Also include the parameter `axis = 0`. This scales the *columns* as opposed to the rows.\n",
    "\n",
    "The scale function will normalize the data so all of the features will vary within the same range.\n",
    "\n",
    "Print `scaled_data[0]` to get a sense of what our data looks like."
   ]
  },
  {
   "cell_type": "code",
   "execution_count": 11,
   "metadata": {},
   "outputs": [
    {
     "name": "stdout",
     "output_type": "stream",
     "text": [
      "[ 0.6164054  -0.02878298 -0.14483305]\n"
     ]
    }
   ],
   "source": [
    "from sklearn.preprocessing import scale\n",
    "\n",
    "labels = all_tweets['is_viral']\n",
    "data = all_tweets[['tweet_length', 'followers_count', 'friends_count']]\n",
    "scaled_data = scale(data, axis=0)\n",
    "\n",
    "print(scaled_data[0])"
   ]
  },
  {
   "cell_type": "markdown",
   "metadata": {},
   "source": [
    "# Creating the Training Set and Test Set\n",
    "\n",
    "To evaluate the effectiveness of our classifier, we now split `scaled_data` and `labels` into a training set and test set using scikit-learn's `train_test_split` function. This function takes two required parameters: It takes the data, followed by the labels. Set the optional parameter `test_size` to be `0.2`. You can also set the `random_state` parameter so your code will randomly split the data in the same way as our solution code splits the data. We used `random_state = 1`. Remember, this function returns 4 items in this order:\n",
    "\n",
    "1. The training data\n",
    "2. The testing data\n",
    "3. The training labels\n",
    "4. The testing labels\n",
    "\n",
    "Store the results in variables named `train_data`, `test_data`, `train_labels`, and `test_labels`."
   ]
  },
  {
   "cell_type": "code",
   "execution_count": 12,
   "metadata": {},
   "outputs": [],
   "source": [
    "from sklearn.model_selection import train_test_split\n",
    "\n",
    "train_data, test_data, train_labels, test_labels = train_test_split(scaled_data, labels, test_size=0.2, random_state=1)"
   ]
  },
  {
   "cell_type": "markdown",
   "metadata": {},
   "source": [
    "# Using the Classifier\n",
    "\n",
    "We can finally use the K-Nearest Neighbor classifier. Let's test it using `k = 5`. Begin by creating a `KNeighborsClassifier` object named `classifier` with the parameter `n_neighbors` equal to `5`.\n",
    "\n",
    "Next, train `classifier` by calling the `.fit()` method with `train_data` and `train_labels` as parameters.\n",
    "\n",
    "Finally, let's test the model! Call `classifier`'s `.score()` method using `test_data` and `test_labels` as parameters. Print the results.\n"
   ]
  },
  {
   "cell_type": "code",
   "execution_count": 13,
   "metadata": {},
   "outputs": [
    {
     "name": "stdout",
     "output_type": "stream",
     "text": [
      "0.5882882882882883\n"
     ]
    }
   ],
   "source": [
    "from sklearn.neighbors import KNeighborsClassifier\n",
    "\n",
    "classifier = KNeighborsClassifier(n_neighbors=5)\n",
    "classifier.fit(train_data, train_labels)\n",
    "\n",
    "print(classifier.score(test_data, test_labels))"
   ]
  },
  {
   "cell_type": "markdown",
   "metadata": {},
   "source": [
    "# Choosing K\n",
    "\n",
    "We've tested our classifier with `k = 5`, but maybe there's a `k` that will work better. Let's test many different values for `k` and graph the results. \n",
    "\n",
    "First, create an empty list called `scores`. Next, create a for loop that has a variable `k` that begins at `1` and ends at `200`.\n",
    "\n",
    "Inside the for loop, create a `KNeighobrsClassifier` object named `classifier` with the parameter `n_neighbors` equal to `k`.\n",
    "\n",
    "Train `classifier` by calling the `.fit()` method with `train_data` and `train_labels` as parameters.\n",
    "\n",
    "Next, let's test the model! Call `classifier`'s `.score()` method using `test_data` and `test_labels` as parameters. `append` the result to `scores`.\n",
    "\n",
    "Finally, let's plot the results. Outside of the loop, use Matplotlib's `plot()` function. `plot()` takes two parameters &mdash; the data on the x-axis and the data on the y-axis. Data on the x-axis should be the values we used for `k`. In this case, `range(1,200)`.  Data on the y-axis should be `scores`. Make sure to call the `plt.show()` function after calling `plt.plot()`. This should take a couple of seconds to run!"
   ]
  },
  {
   "cell_type": "code",
   "execution_count": 19,
   "metadata": {},
   "outputs": [
    {
     "name": "stdout",
     "output_type": "stream",
     "text": [
      "0.7319819819819819\n",
      "[0.6846846846846847, 0.6666666666666666, 0.6972972972972973, 0.6981981981981982, 0.7166666666666667, 0.7004504504504504, 0.7247747747747748, 0.7166666666666667, 0.7243243243243244, 0.7193693693693693, 0.731081081081081, 0.7315315315315315, 0.7319819819819819, 0.7243243243243244, 0.7319819819819819, 0.7283783783783784, 0.7234234234234235, 0.7162162162162162, 0.7166666666666667, 0.7189189189189189, 0.7207207207207207, 0.7193693693693693, 0.7157657657657658, 0.7193693693693693, 0.7234234234234235, 0.718018018018018, 0.7225225225225225, 0.7243243243243244, 0.7211711711711711, 0.722072072072072, 0.718018018018018, 0.7193693693693693, 0.7175675675675676, 0.7189189189189189, 0.7184684684684685, 0.7157657657657658, 0.7175675675675676, 0.7166666666666667, 0.7171171171171171, 0.7135135135135136, 0.7117117117117117, 0.7121621621621622, 0.7121621621621622, 0.7108108108108108, 0.7121621621621622, 0.7130630630630631, 0.7144144144144144, 0.7153153153153153, 0.7166666666666667, 0.7162162162162162, 0.7157657657657658, 0.7171171171171171, 0.718018018018018, 0.7198198198198198, 0.7193693693693693, 0.7193693693693693, 0.7193693693693693, 0.7198198198198198, 0.7211711711711711, 0.722072072072072, 0.7202702702702702, 0.7207207207207207, 0.722072072072072, 0.7207207207207207, 0.722072072072072, 0.7216216216216216, 0.7234234234234235, 0.7216216216216216, 0.7202702702702702, 0.7211711711711711, 0.7207207207207207, 0.7193693693693693, 0.722072072072072, 0.718018018018018, 0.7216216216216216, 0.718018018018018, 0.7202702702702702, 0.7193693693693693, 0.7207207207207207, 0.7175675675675676, 0.7202702702702702, 0.7198198198198198, 0.7198198198198198, 0.7193693693693693, 0.7202702702702702, 0.7207207207207207, 0.7193693693693693, 0.7193693693693693, 0.7189189189189189, 0.7189189189189189, 0.7193693693693693, 0.7202702702702702, 0.7198198198198198, 0.7211711711711711, 0.7216216216216216, 0.7225225225225225, 0.7234234234234235, 0.7207207207207207, 0.722072072072072, 0.722072072072072, 0.722072072072072, 0.7216216216216216, 0.7216216216216216, 0.7216216216216216, 0.7216216216216216, 0.722072072072072, 0.7211711711711711, 0.722072072072072, 0.7211711711711711, 0.7216216216216216, 0.7198198198198198, 0.7193693693693693, 0.7198198198198198, 0.7202702702702702, 0.7202702702702702, 0.718018018018018, 0.7198198198198198, 0.7184684684684685, 0.7202702702702702, 0.7184684684684685, 0.7198198198198198, 0.7189189189189189, 0.7211711711711711, 0.7207207207207207, 0.7243243243243244, 0.7234234234234235, 0.722972972972973, 0.722072072072072, 0.722072072072072, 0.7202702702702702, 0.7193693693693693, 0.7189189189189189, 0.7184684684684685, 0.7189189189189189, 0.7175675675675676, 0.7171171171171171, 0.7184684684684685, 0.718018018018018, 0.7189189189189189, 0.7171171171171171, 0.7175675675675676, 0.718018018018018, 0.7171171171171171, 0.7162162162162162, 0.7175675675675676, 0.7171171171171171, 0.7184684684684685, 0.7189189189189189, 0.7184684684684685, 0.718018018018018, 0.7166666666666667, 0.7153153153153153, 0.7171171171171171, 0.7162162162162162, 0.7162162162162162, 0.7166666666666667, 0.7162162162162162, 0.7148648648648649, 0.7162162162162162, 0.7157657657657658, 0.7162162162162162, 0.7162162162162162, 0.7162162162162162, 0.7166666666666667, 0.7162162162162162, 0.7148648648648649, 0.7144144144144144, 0.7144144144144144, 0.7144144144144144, 0.7157657657657658, 0.7162162162162162, 0.7148648648648649, 0.7157657657657658, 0.7175675675675676, 0.7171171171171171, 0.7148648648648649, 0.7148648648648649, 0.713963963963964, 0.7153153153153153, 0.7153153153153153, 0.7166666666666667, 0.7162162162162162, 0.7162162162162162, 0.7148648648648649, 0.7153153153153153, 0.7144144144144144, 0.7153153153153153, 0.713963963963964, 0.7157657657657658, 0.713963963963964, 0.7153153153153153, 0.7126126126126127, 0.7121621621621622, 0.7103603603603603, 0.7117117117117117, 0.7108108108108108, 0.7108108108108108, 0.709009009009009, 0.7108108108108108]\n"
     ]
    },
    {
     "data": {
      "text/plain": [
       "Text(0, 0.5, 'Validation Accuracy')"
      ]
     },
     "execution_count": 19,
     "metadata": {},
     "output_type": "execute_result"
    },
    {
     "data": {
      "image/png": "[encoded data removed]",
      "text/plain": [
       "<Figure size 720x360 with 1 Axes>"
      ]
     },
     "metadata": {
      "needs_background": "light"
     },
     "output_type": "display_data"
    }
   ],
   "source": [
    "import matplotlib.pyplot as plt\n",
    "\n",
    "accuracies = []\n",
    "for k in range(1, 200):\n",
    "    classifier = KNeighborsClassifier(n_neighbors=k)\n",
    "    classifier.fit(train_data, train_labels)\n",
    "    accuracies.append(classifier.score(test_data, test_labels))\n",
    "    \n",
    "k_list = range(1, 200)\n",
    "\n",
    "print(max(accuracies))\n",
    "print(accuracies)\n",
    "\n",
    "plt.figure(figsize=(10, 5))\n",
    "plt.plot(k_list, accuracies)\n",
    "plt.title('Tweets Viral Accuracies', weight='bold', fontsize=20)\n",
    "plt.xlabel('k')\n",
    "plt.ylabel('Validation Accuracy')"
   ]
  },
  {
   "cell_type": "markdown",
   "metadata": {},
   "source": [
    "# Explore on your own\n",
    "\n",
    "Nice work! You can see the classifier gets better as `k` increases, but as `k` gets too high, underfitting starts to happen.\n",
    "\n",
    "By using the features `tweet_length`, `followers_count`, and `friends_count`, we were able to get up to around 63% accuracy. That is better than random, but still not exceptional. Can you find some different features that perform better? Share your graphs with us on Twitter and maybe it will go viral!"
   ]
  },
  {
   "cell_type": "code",
   "execution_count": 15,
   "metadata": {},
   "outputs": [
    {
     "name": "stdout",
     "output_type": "stream",
     "text": [
      "0.7166666666666667\n"
     ]
    }
   ],
   "source": [
    "labels = all_tweets['is_viral']\n",
    "data = all_tweets[['tweet_length', 'followers_count', 'friends_count', 'hastags_count', 'links_count', 'words_count',\\\n",
    "                  'words_length', 'backgrounds']]\n",
    "scaled_data = scale(data, axis=0) # normalized data\n",
    "\n",
    "train_data, test_data, train_labels, test_labels = train_test_split(scaled_data, labels, test_size=0.2, random_state=1)\n",
    "\n",
    "classifier = KNeighborsClassifier(n_neighbors=5)\n",
    "classifier.fit(train_data, train_labels)\n",
    "print(classifier.score(test_data, test_labels))"
   ]
  },
  {
   "cell_type": "code",
   "execution_count": 18,
   "metadata": {},
   "outputs": [
    {
     "name": "stdout",
     "output_type": "stream",
     "text": [
      "0.7319819819819819\n",
      "[0.6846846846846847, 0.6666666666666666, 0.6972972972972973, 0.6981981981981982, 0.7166666666666667, 0.7004504504504504, 0.7247747747747748, 0.7166666666666667, 0.7243243243243244, 0.7193693693693693, 0.731081081081081, 0.7315315315315315, 0.7319819819819819, 0.7243243243243244, 0.7319819819819819, 0.7283783783783784, 0.7234234234234235, 0.7162162162162162, 0.7166666666666667]\n"
     ]
    },
    {
     "data": {
      "text/plain": [
       "<matplotlib.legend.Legend at 0x1c091634b20>"
      ]
     },
     "execution_count": 18,
     "metadata": {},
     "output_type": "execute_result"
    },
    {
     "data": {
      "image/png": "[encoded data removed]",
      "text/plain": [
       "<Figure size 1080x360 with 1 Axes>"
      ]
     },
     "metadata": {
      "needs_background": "light"
     },
     "output_type": "display_data"
    }
   ],
   "source": [
    "accuracies = []\n",
    "for k in range(1, 20):\n",
    "    classifier = KNeighborsClassifier(n_neighbors=k)\n",
    "    classifier.fit(train_data, train_labels)\n",
    "    accuracies.append(classifier.score(test_data, test_labels))\n",
    "\n",
    "k_list = range(1, 20)\n",
    "\n",
    "print(max(accuracies))\n",
    "print(accuracies)\n",
    "\n",
    "plt.figure(figsize=(15,5))\n",
    "plt.plot(k_list, accuracies, label = f\"Best accuracy: {max(accuracies)}\")\n",
    "plt.title('Viral Tweets Accuracies', weight='bold', fontsize=20)\n",
    "plt.xlabel('k')\n",
    "plt.ylabel('Accuracies')\n",
    "plt.legend()"
   ]
  },
  {
   "cell_type": "code",
   "execution_count": 20,
   "metadata": {},
   "outputs": [
    {
     "name": "stdout",
     "output_type": "stream",
     "text": [
      "255\n"
     ]
    }
   ],
   "source": [
    "# try combined each features\n",
    "\n",
    "from itertools import compress, product\n",
    "\n",
    "def combinations(items):\n",
    "    return np.array(\n",
    "        list(\n",
    "            set(compress(items, mask)) for mask in product([0,1], repeat=len(items))\n",
    "        )\n",
    "    )[1:]\n",
    "\n",
    "all_combination = combinations([\n",
    "    'tweet_length',\n",
    "    'followers_count', \n",
    "    'friends_count', \n",
    "    'hastags_count', \n",
    "    'links_count', \n",
    "    'words_count',\n",
    "    'words_length', \n",
    "    'backgrounds'\n",
    "])\n",
    "print(len(all_combination))"
   ]
  },
  {
   "cell_type": "code",
   "execution_count": 21,
   "metadata": {},
   "outputs": [
    {
     "name": "stdout",
     "output_type": "stream",
     "text": [
      "Better accuracy found :  0.4936936936936937\n",
      "k: 1\n",
      "features :  {'backgrounds'}\n",
      "Better accuracy found :  0.5031531531531531\n",
      "k: 2\n",
      "features :  {'backgrounds'}\n",
      "Better accuracy found :  0.5923423423423423\n",
      "k: 1\n",
      "features :  {'words_length'}\n",
      "Better accuracy found :  0.6162162162162163\n",
      "k: 2\n",
      "features :  {'words_length'}\n",
      "Better accuracy found :  0.6216216216216216\n",
      "k: 7\n",
      "features :  {'words_length'}\n",
      "Better accuracy found :  0.6256756756756757\n",
      "k: 9\n",
      "features :  {'words_length'}\n",
      "Better accuracy found :  0.6265765765765766\n",
      "k: 8\n",
      "features :  {'words_length', 'backgrounds'}\n",
      "Better accuracy found :  0.627927927927928\n",
      "k: 11\n",
      "features :  {'words_length', 'backgrounds'}\n",
      "Better accuracy found :  0.6310810810810811\n",
      "k: 12\n",
      "features :  {'words_length', 'backgrounds'}\n",
      "Better accuracy found :  0.6328828828828829\n",
      "k: 13\n",
      "features :  {'words_length', 'backgrounds'}\n",
      "Better accuracy found :  0.6337837837837837\n",
      "k: 14\n",
      "features :  {'words_length', 'backgrounds'}\n",
      "Better accuracy found :  0.6360360360360361\n",
      "k: 15\n",
      "features :  {'words_length', 'backgrounds'}\n",
      "Better accuracy found :  0.6490990990990991\n",
      "k: 6\n",
      "features :  {'words_length', 'words_count'}\n",
      "Better accuracy found :  0.6536036036036036\n",
      "k: 11\n",
      "features :  {'words_length', 'words_count'}\n",
      "Better accuracy found :  0.6554054054054054\n",
      "k: 12\n",
      "features :  {'words_length', 'words_count'}\n",
      "Better accuracy found :  0.6572072072072072\n",
      "k: 3\n",
      "features :  {'words_length', 'links_count'}\n",
      "Better accuracy found :  0.7009009009009008\n",
      "k: 5\n",
      "features :  {'words_length', 'links_count'}\n",
      "Better accuracy found :  0.7022522522522523\n",
      "k: 7\n",
      "features :  {'words_length', 'links_count'}\n",
      "Better accuracy found :  0.7058558558558559\n",
      "k: 9\n",
      "features :  {'words_length', 'links_count'}\n",
      "Better accuracy found :  0.7076576576576576\n",
      "k: 12\n",
      "features :  {'words_length', 'links_count'}\n",
      "Better accuracy found :  0.7238738738738739\n",
      "k: 7\n",
      "features :  {'words_length', 'links_count', 'words_count'}\n",
      "Better accuracy found :  0.7247747747747748\n",
      "k: 10\n",
      "features :  {'words_length', 'links_count', 'words_count'}\n",
      "Better accuracy found :  0.7283783783783784\n",
      "k: 11\n",
      "features :  {'words_length', 'links_count', 'words_count'}\n",
      "Better accuracy found :  0.7301801801801802\n",
      "k: 13\n",
      "features :  {'words_length', 'links_count', 'words_count'}\n",
      "Better accuracy found :  0.7319819819819819\n",
      "k: 15\n",
      "features :  {'words_length', 'links_count', 'words_count'}\n",
      "Better accuracy found :  0.7333333333333333\n",
      "k: 14\n",
      "features :  {'hastags_count', 'words_length', 'links_count', 'words_count'}\n",
      "Better accuracy found :  0.7342342342342343\n",
      "k: 9\n",
      "features :  {'words_length', 'links_count', 'tweet_length'}\n",
      "Better accuracy found :  0.7351351351351352\n",
      "k: 21\n",
      "features :  {'words_count', 'links_count', 'tweet_length'}\n",
      "Better accuracy found :  0.7360360360360361\n",
      "k: 23\n",
      "features :  {'words_count', 'links_count', 'tweet_length'}\n",
      "Better accuracy found :  0.7405405405405405\n",
      "k: 9\n",
      "features :  {'words_length', 'words_count', 'links_count', 'tweet_length'}\n",
      "Better accuracy found :  0.740990990990991\n",
      "k: 11\n",
      "features :  {'hastags_count', 'words_length', 'links_count', 'tweet_length'}\n",
      "Better accuracy found :  0.7418918918918919\n",
      "k: 11\n",
      "features :  {'hastags_count', 'links_count', 'tweet_length', 'words_length', 'words_count'}\n"
     ]
    },
    {
     "data": {
      "image/png": "[encoded data removed]",
      "text/plain": [
       "<Figure size 1080x360 with 1 Axes>"
      ]
     },
     "metadata": {
      "needs_background": "light"
     },
     "output_type": "display_data"
    },
    {
     "name": "stdout",
     "output_type": "stream",
     "text": [
      "0.7418918918918919 10\n"
     ]
    }
   ],
   "source": [
    "best = {\n",
    "    \"k\": 0,\n",
    "    \"accuracy\": 0,\n",
    "    \"features\": [],\n",
    "    \"scores\": []\n",
    "}\n",
    "\n",
    "for combination in all_combination:\n",
    "    data = all_tweets[combination]\n",
    "    scaled_data = scale(data)\n",
    "    \n",
    "    train_data, test_data, train_labels, test_labels = train_test_split(\n",
    "        scaled_data,\n",
    "        labels,\n",
    "        test_size = 0.2,\n",
    "        random_state = 1\n",
    "    )\n",
    "    \n",
    "    scores = []\n",
    "    save_score = False\n",
    "    x = range(1, 30)\n",
    "    for k in range(1, 30):\n",
    "        classifier = KNeighborsClassifier(n_neighbors=k)\n",
    "        classifier.fit(train_data, train_labels)\n",
    "        accuracy = classifier.score(test_data, test_labels)\n",
    "        scores.append(accuracy)\n",
    "        \n",
    "        if accuracy > best[\"accuracy\"]:\n",
    "            save_score = True\n",
    "            best[\"accuracy\"] = accuracy\n",
    "            best[\"k\"] = k\n",
    "            best[\"features\"] = combination\n",
    "            print(\"Better accuracy found : \", accuracy)\n",
    "            print(\"k:\", k)\n",
    "            print(\"features : \", combination)\n",
    "            \n",
    "    if save_score:\n",
    "        best[\"scores\"] = list(scores)\n",
    "        \n",
    "best[\"accuracy\"] = \"{:.2f}\".format(best[\"accuracy\"])\n",
    "\n",
    "plt.figure(figsize=(15,5))\n",
    "plt.plot(\n",
    "    x,\n",
    "    best[\"scores\"],\n",
    "    label = f\"Best accuracy: {best['accuracy']}\"\n",
    ")\n",
    "plt.legend()\n",
    "plt.show()\n",
    "    \n",
    "    \n",
    "best_score = max(best[\"scores\"])\n",
    "best_k = best[\"scores\"].index(best_score)\n",
    "print(best_score, best_k)"
   ]
  }
 ],
 "metadata": {
  "kernelspec": {
   "display_name": "Python 3",
   "language": "python",
   "name": "python3"
  },
  "language_info": {
   "codemirror_mode": {
    "name": "ipython",
    "version": 3
   },
   "file_extension": ".py",
   "mimetype": "text/x-python",
   "name": "python",
   "nbconvert_exporter": "python",
   "pygments_lexer": "ipython3",
   "version": "3.8.8"
  }
 },
 "nbformat": 4,
 "nbformat_minor": 2
}
