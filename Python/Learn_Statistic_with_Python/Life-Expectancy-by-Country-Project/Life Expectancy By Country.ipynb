{
 "cells": [
  {
   "cell_type": "markdown",
   "id": "df8f5145",
   "metadata": {},
   "source": [
    "# Life Expectancy By Country"
   ]
  },
  {
   "cell_type": "markdown",
   "id": "b14153c8",
   "metadata": {},
   "source": [
    "Over the course of the past few centuries, technological and medical advancements have helped increase the life expectancy of humans. However, as of now, the average life expectancy of humans varies depending on what country you live in.\n",
    "\n",
    "In this project, we will investigate a dataset containing information about the average life expectancy in 158 different countries. We will specifically look at how a country’s economic success might impact the life expectancy in that area."
   ]
  },
  {
   "cell_type": "code",
   "execution_count": 1,
   "id": "753d074f",
   "metadata": {},
   "outputs": [],
   "source": [
    "import pandas as pd\n",
    "import numpy as np\n",
    "import matplotlib.pyplot as plt\n",
    "from scipy import stats\n",
    "from scipy.stats import iqr"
   ]
  },
  {
   "cell_type": "markdown",
   "id": "e07d7ec6",
   "metadata": {},
   "source": [
    "Access the Data"
   ]
  },
  {
   "cell_type": "code",
   "execution_count": 4,
   "id": "7b694687",
   "metadata": {},
   "outputs": [
    {
     "data": {
      "text/html": [
       "<div>\n",
       "<style scoped>\n",
       "    .dataframe tbody tr th:only-of-type {\n",
       "        vertical-align: middle;\n",
       "    }\n",
       "\n",
       "    .dataframe tbody tr th {\n",
       "        vertical-align: top;\n",
       "    }\n",
       "\n",
       "    .dataframe thead th {\n",
       "        text-align: right;\n",
       "    }\n",
       "</style>\n",
       "<table border=\"1\" class=\"dataframe\">\n",
       "  <thead>\n",
       "    <tr style=\"text-align: right;\">\n",
       "      <th></th>\n",
       "      <th>Country</th>\n",
       "      <th>Life Expectancy</th>\n",
       "      <th>GDP</th>\n",
       "    </tr>\n",
       "  </thead>\n",
       "  <tbody>\n",
       "    <tr>\n",
       "      <th>0</th>\n",
       "      <td>Afghanistan</td>\n",
       "      <td>58.19375</td>\n",
       "      <td>340.015425</td>\n",
       "    </tr>\n",
       "    <tr>\n",
       "      <th>1</th>\n",
       "      <td>Albania</td>\n",
       "      <td>75.15625</td>\n",
       "      <td>2119.726679</td>\n",
       "    </tr>\n",
       "    <tr>\n",
       "      <th>2</th>\n",
       "      <td>Algeria</td>\n",
       "      <td>73.61875</td>\n",
       "      <td>2847.853392</td>\n",
       "    </tr>\n",
       "    <tr>\n",
       "      <th>3</th>\n",
       "      <td>Angola</td>\n",
       "      <td>49.01875</td>\n",
       "      <td>1975.143045</td>\n",
       "    </tr>\n",
       "    <tr>\n",
       "      <th>4</th>\n",
       "      <td>Antigua and Barbuda</td>\n",
       "      <td>75.05625</td>\n",
       "      <td>9759.305728</td>\n",
       "    </tr>\n",
       "  </tbody>\n",
       "</table>\n",
       "</div>"
      ],
      "text/plain": [
       "               Country  Life Expectancy          GDP\n",
       "0          Afghanistan         58.19375   340.015425\n",
       "1              Albania         75.15625  2119.726679\n",
       "2              Algeria         73.61875  2847.853392\n",
       "3               Angola         49.01875  1975.143045\n",
       "4  Antigua and Barbuda         75.05625  9759.305728"
      ]
     },
     "execution_count": 4,
     "metadata": {},
     "output_type": "execute_result"
    }
   ],
   "source": [
    "data = pd.read_csv('country_data.csv')\n",
    "pd.set_option('display.max_rows', None)\n",
    "data.head()"
   ]
  },
  {
   "cell_type": "code",
   "execution_count": 5,
   "id": "d9645856",
   "metadata": {},
   "outputs": [
    {
     "data": {
      "text/plain": [
       "Index(['Country', 'Life Expectancy', 'GDP'], dtype='object')"
      ]
     },
     "execution_count": 5,
     "metadata": {},
     "output_type": "execute_result"
    }
   ],
   "source": [
    "data.columns"
   ]
  },
  {
   "cell_type": "code",
   "execution_count": 20,
   "id": "b6536091",
   "metadata": {},
   "outputs": [
    {
     "data": {
      "text/plain": [
       "158"
      ]
     },
     "execution_count": 20,
     "metadata": {},
     "output_type": "execute_result"
    }
   ],
   "source": [
    "len(data)"
   ]
  },
  {
   "cell_type": "code",
   "execution_count": 7,
   "id": "7d33e6ab",
   "metadata": {},
   "outputs": [
    {
     "data": {
      "text/plain": [
       "0    58.19375\n",
       "1    75.15625\n",
       "2    73.61875\n",
       "3    49.01875\n",
       "4    75.05625\n",
       "Name: Life Expectancy, dtype: float64"
      ]
     },
     "execution_count": 7,
     "metadata": {},
     "output_type": "execute_result"
    }
   ],
   "source": [
    "life_expect = data['Life Expectancy']\n",
    "life_expect.head()"
   ]
  },
  {
   "cell_type": "code",
   "execution_count": 8,
   "id": "6ad4a282",
   "metadata": {},
   "outputs": [
    {
     "data": {
      "text/plain": [
       "array([62.325    , 72.525    , 75.4421875])"
      ]
     },
     "execution_count": 8,
     "metadata": {},
     "output_type": "execute_result"
    }
   ],
   "source": [
    "life_expect_quartiles = np.quantile(life_expect, [0.25, 0.5, 0.75])\n",
    "life_expect_quartiles"
   ]
  },
  {
   "cell_type": "markdown",
   "id": "6a9bf584",
   "metadata": {},
   "source": [
    "Histogram"
   ]
  },
  {
   "cell_type": "code",
   "execution_count": 12,
   "id": "35fae2de",
   "metadata": {},
   "outputs": [
    {
     "data": {
      "image/png": "[encoded data removed]",
      "text/plain": [
       "<Figure size 432x288 with 1 Axes>"
      ]
     },
     "metadata": {
      "needs_background": "light"
     },
     "output_type": "display_data"
    }
   ],
   "source": [
    "plt.hist(life_expect, edgecolor='black')\n",
    "for quartile in life_expect_quartiles:\n",
    "    plt.axvline(x=quartile, color='r', linestyle='solid')\n",
    "plt.title('Life Expectancy by Country', fontsize=16)\n",
    "plt.xlabel('Year')\n",
    "plt.ylabel('Count')\n",
    "\n",
    "plt.show()"
   ]
  },
  {
   "cell_type": "markdown",
   "id": "6c1ab7e7",
   "metadata": {},
   "source": [
    "Spliting the Data by GDP"
   ]
  },
  {
   "cell_type": "code",
   "execution_count": 14,
   "id": "8dd8144e",
   "metadata": {},
   "outputs": [
    {
     "data": {
      "text/plain": [
       "0     340.015425\n",
       "1    2119.726679\n",
       "2    2847.853392\n",
       "3    1975.143045\n",
       "4    9759.305728\n",
       "Name: GDP, dtype: float64"
      ]
     },
     "execution_count": 14,
     "metadata": {},
     "output_type": "execute_result"
    }
   ],
   "source": [
    "gdp = data['GDP']\n",
    "gdp.head()"
   ]
  },
  {
   "cell_type": "code",
   "execution_count": 15,
   "id": "465e6876",
   "metadata": {},
   "outputs": [
    {
     "data": {
      "text/plain": [
       "2938.0781152500003"
      ]
     },
     "execution_count": 15,
     "metadata": {},
     "output_type": "execute_result"
    }
   ],
   "source": [
    "median_gdp = np.median(gdp)\n",
    "median_gdp"
   ]
  },
  {
   "cell_type": "code",
   "execution_count": 16,
   "id": "82591efd",
   "metadata": {},
   "outputs": [
    {
     "data": {
      "text/plain": [
       "137.81532131875"
      ]
     },
     "execution_count": 16,
     "metadata": {},
     "output_type": "execute_result"
    }
   ],
   "source": [
    "min_gdp = np.min(gdp)\n",
    "min_gdp"
   ]
  },
  {
   "cell_type": "code",
   "execution_count": 17,
   "id": "329ca3a7",
   "metadata": {},
   "outputs": [
    {
     "data": {
      "text/plain": [
       "57362.874601250005"
      ]
     },
     "execution_count": 17,
     "metadata": {},
     "output_type": "execute_result"
    }
   ],
   "source": [
    "max_gdp = np.max(gdp)\n",
    "max_gdp"
   ]
  },
  {
   "cell_type": "code",
   "execution_count": 25,
   "id": "c916703f",
   "metadata": {},
   "outputs": [
    {
     "data": {
      "text/html": [
       "<div>\n",
       "<style scoped>\n",
       "    .dataframe tbody tr th:only-of-type {\n",
       "        vertical-align: middle;\n",
       "    }\n",
       "\n",
       "    .dataframe tbody tr th {\n",
       "        vertical-align: top;\n",
       "    }\n",
       "\n",
       "    .dataframe thead th {\n",
       "        text-align: right;\n",
       "    }\n",
       "</style>\n",
       "<table border=\"1\" class=\"dataframe\">\n",
       "  <thead>\n",
       "    <tr style=\"text-align: right;\">\n",
       "      <th></th>\n",
       "      <th>Country</th>\n",
       "      <th>Life Expectancy</th>\n",
       "      <th>GDP</th>\n",
       "    </tr>\n",
       "  </thead>\n",
       "  <tbody>\n",
       "    <tr>\n",
       "      <th>0</th>\n",
       "      <td>Afghanistan</td>\n",
       "      <td>58.19375</td>\n",
       "      <td>340.015425</td>\n",
       "    </tr>\n",
       "    <tr>\n",
       "      <th>1</th>\n",
       "      <td>Albania</td>\n",
       "      <td>75.15625</td>\n",
       "      <td>2119.726679</td>\n",
       "    </tr>\n",
       "    <tr>\n",
       "      <th>2</th>\n",
       "      <td>Algeria</td>\n",
       "      <td>73.61875</td>\n",
       "      <td>2847.853392</td>\n",
       "    </tr>\n",
       "    <tr>\n",
       "      <th>3</th>\n",
       "      <td>Angola</td>\n",
       "      <td>49.01875</td>\n",
       "      <td>1975.143045</td>\n",
       "    </tr>\n",
       "    <tr>\n",
       "      <th>6</th>\n",
       "      <td>Armenia</td>\n",
       "      <td>73.40000</td>\n",
       "      <td>1999.986318</td>\n",
       "    </tr>\n",
       "  </tbody>\n",
       "</table>\n",
       "</div>"
      ],
      "text/plain": [
       "       Country  Life Expectancy          GDP\n",
       "0  Afghanistan         58.19375   340.015425\n",
       "1      Albania         75.15625  2119.726679\n",
       "2      Algeria         73.61875  2847.853392\n",
       "3       Angola         49.01875  1975.143045\n",
       "6      Armenia         73.40000  1999.986318"
      ]
     },
     "execution_count": 25,
     "metadata": {},
     "output_type": "execute_result"
    }
   ],
   "source": [
    "low_gdp = data[gdp <= median_gdp]\n",
    "low_gdp.head()"
   ]
  },
  {
   "cell_type": "code",
   "execution_count": 26,
   "id": "1e07d4e8",
   "metadata": {},
   "outputs": [
    {
     "data": {
      "text/plain": [
       "79"
      ]
     },
     "execution_count": 26,
     "metadata": {},
     "output_type": "execute_result"
    }
   ],
   "source": [
    "len(low_gdp)"
   ]
  },
  {
   "cell_type": "code",
   "execution_count": 24,
   "id": "903b3901",
   "metadata": {},
   "outputs": [
    {
     "data": {
      "text/html": [
       "<div>\n",
       "<style scoped>\n",
       "    .dataframe tbody tr th:only-of-type {\n",
       "        vertical-align: middle;\n",
       "    }\n",
       "\n",
       "    .dataframe tbody tr th {\n",
       "        vertical-align: top;\n",
       "    }\n",
       "\n",
       "    .dataframe thead th {\n",
       "        text-align: right;\n",
       "    }\n",
       "</style>\n",
       "<table border=\"1\" class=\"dataframe\">\n",
       "  <thead>\n",
       "    <tr style=\"text-align: right;\">\n",
       "      <th></th>\n",
       "      <th>Country</th>\n",
       "      <th>Life Expectancy</th>\n",
       "      <th>GDP</th>\n",
       "    </tr>\n",
       "  </thead>\n",
       "  <tbody>\n",
       "    <tr>\n",
       "      <th>4</th>\n",
       "      <td>Antigua and Barbuda</td>\n",
       "      <td>75.05625</td>\n",
       "      <td>9759.305728</td>\n",
       "    </tr>\n",
       "    <tr>\n",
       "      <th>5</th>\n",
       "      <td>Argentina</td>\n",
       "      <td>75.15625</td>\n",
       "      <td>6998.575103</td>\n",
       "    </tr>\n",
       "    <tr>\n",
       "      <th>7</th>\n",
       "      <td>Australia</td>\n",
       "      <td>81.81250</td>\n",
       "      <td>34637.565047</td>\n",
       "    </tr>\n",
       "    <tr>\n",
       "      <th>8</th>\n",
       "      <td>Austria</td>\n",
       "      <td>81.48125</td>\n",
       "      <td>33827.476309</td>\n",
       "    </tr>\n",
       "    <tr>\n",
       "      <th>9</th>\n",
       "      <td>Azerbaijan</td>\n",
       "      <td>70.73125</td>\n",
       "      <td>3302.947807</td>\n",
       "    </tr>\n",
       "  </tbody>\n",
       "</table>\n",
       "</div>"
      ],
      "text/plain": [
       "               Country  Life Expectancy           GDP\n",
       "4  Antigua and Barbuda         75.05625   9759.305728\n",
       "5            Argentina         75.15625   6998.575103\n",
       "7            Australia         81.81250  34637.565047\n",
       "8              Austria         81.48125  33827.476309\n",
       "9           Azerbaijan         70.73125   3302.947807"
      ]
     },
     "execution_count": 24,
     "metadata": {},
     "output_type": "execute_result"
    }
   ],
   "source": [
    "high_gdp = data[gdp > median_gdp]\n",
    "high_gdp.head()"
   ]
  },
  {
   "cell_type": "code",
   "execution_count": 27,
   "id": "8070b29a",
   "metadata": {},
   "outputs": [
    {
     "data": {
      "text/plain": [
       "79"
      ]
     },
     "execution_count": 27,
     "metadata": {},
     "output_type": "execute_result"
    }
   ],
   "source": [
    "len(high_gdp)"
   ]
  },
  {
   "cell_type": "code",
   "execution_count": 28,
   "id": "15e4d91b",
   "metadata": {},
   "outputs": [
    {
     "data": {
      "text/plain": [
       "array([56.3375 , 64.34375, 71.7375 ])"
      ]
     },
     "execution_count": 28,
     "metadata": {},
     "output_type": "execute_result"
    }
   ],
   "source": [
    "low_gdp_quartile = np.quantile(low_gdp['Life Expectancy'], [0.25, 0.5, 0.75])\n",
    "low_gdp_quartile"
   ]
  },
  {
   "cell_type": "code",
   "execution_count": 31,
   "id": "1eb76169",
   "metadata": {},
   "outputs": [
    {
     "data": {
      "text/plain": [
       "array([72.965625, 75.15625 , 80.521875])"
      ]
     },
     "execution_count": 31,
     "metadata": {},
     "output_type": "execute_result"
    }
   ],
   "source": [
    "high_gdp_quartile = np.quantile(high_gdp['Life Expectancy'], [0.25, 0.5, 0.75])\n",
    "high_gdp_quartile"
   ]
  },
  {
   "cell_type": "markdown",
   "id": "bb099fe0",
   "metadata": {},
   "source": [
    "Histogram and Conclusion"
   ]
  },
  {
   "cell_type": "code",
   "execution_count": 47,
   "id": "d4ba853e",
   "metadata": {},
   "outputs": [
    {
     "data": {
      "image/png": "[encoded data removed]",
      "text/plain": [
       "<Figure size 1080x504 with 1 Axes>"
      ]
     },
     "metadata": {
      "needs_background": "light"
     },
     "output_type": "display_data"
    }
   ],
   "source": [
    "plt.figure(figsize=(15, 7))\n",
    "\n",
    "plt.hist(high_gdp['Life Expectancy'], alpha=0.5, label='High GDP', edgecolor='black')\n",
    "plt.hist(low_gdp['Life Expectancy'], alpha=0.5, label='Low GDP', edgecolor='black')\n",
    "plt.title('Life Expectancy by GDP', fontsize=20)\n",
    "plt.xlabel('Age (year)')\n",
    "plt.ylabel('Count')\n",
    "\n",
    "for quartile in low_gdp_quartile:\n",
    "    plt.axvline(x=quartile, color='r', linestyle='solid', label = 'low GDP quartile')\n",
    "    \n",
    "for quartile in high_gdp_quartile:\n",
    "    plt.axvline(x=quartile, color='black', linestyle='--', label = 'high GDP quartile')\n",
    "    \n",
    "plt.legend()\n",
    "plt.show()"
   ]
  },
  {
   "cell_type": "markdown",
   "id": "4420a65a",
   "metadata": {},
   "source": [
    "We can now truly see the impact GDP has on life expectancy.\n",
    "\n",
    "Once again, consider a country that has a life expectancy of 70 years. \n",
    "If that country is in the top half of GDP countries, is it in the first, second, third, or fourth quarter of the data with respect to life expectancy? \n",
    "What if the country is in the bottom half of GDP countries?"
   ]
  },
  {
   "cell_type": "markdown",
   "id": "0acaeb0f",
   "metadata": {},
   "source": [
    "70 years old is below the first quartile of high GDP dataset, so it falls in the first quarter of dataset.\n",
    "70 years old is between second and third quartile of lower GDP dataset, so it falls in the third quarter of dataset."
   ]
  }
 ],
 "metadata": {
  "kernelspec": {
   "display_name": "Python 3",
   "language": "python",
   "name": "python3"
  },
  "language_info": {
   "codemirror_mode": {
    "name": "ipython",
    "version": 3
   },
   "file_extension": ".py",
   "mimetype": "text/x-python",
   "name": "python",
   "nbconvert_exporter": "python",
   "pygments_lexer": "ipython3",
   "version": "3.8.8"
  }
 },
 "nbformat": 4,
 "nbformat_minor": 5
}
