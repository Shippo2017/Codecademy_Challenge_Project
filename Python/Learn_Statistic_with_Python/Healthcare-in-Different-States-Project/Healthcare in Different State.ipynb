{
 "cells": [
  {
   "cell_type": "markdown",
   "id": "62cc806b",
   "metadata": {},
   "source": [
    "# Healthcare in Different States"
   ]
  },
  {
   "cell_type": "markdown",
   "id": "e2dc674a",
   "metadata": {},
   "source": [
    "In this project, we will use boxplots to investigate the way hospitals in different states across the United States charge their patients for medical procedures."
   ]
  },
  {
   "cell_type": "code",
   "execution_count": 1,
   "id": "3ca4e5ff",
   "metadata": {},
   "outputs": [],
   "source": [
    "import pandas as pd\n",
    "import numpy as np\n",
    "import matplotlib.pyplot as plt\n",
    "pd.set_option('display.max_rows',None)"
   ]
  },
  {
   "cell_type": "code",
   "execution_count": 2,
   "id": "73372fa1",
   "metadata": {},
   "outputs": [
    {
     "data": {
      "text/html": [
       "<div>\n",
       "<style scoped>\n",
       "    .dataframe tbody tr th:only-of-type {\n",
       "        vertical-align: middle;\n",
       "    }\n",
       "\n",
       "    .dataframe tbody tr th {\n",
       "        vertical-align: top;\n",
       "    }\n",
       "\n",
       "    .dataframe thead th {\n",
       "        text-align: right;\n",
       "    }\n",
       "</style>\n",
       "<table border=\"1\" class=\"dataframe\">\n",
       "  <thead>\n",
       "    <tr style=\"text-align: right;\">\n",
       "      <th></th>\n",
       "      <th>DRG Definition</th>\n",
       "      <th>Provider Id</th>\n",
       "      <th>Provider Name</th>\n",
       "      <th>Provider Street Address</th>\n",
       "      <th>Provider City</th>\n",
       "      <th>Provider State</th>\n",
       "      <th>Provider Zip Code</th>\n",
       "      <th>Hospital Referral Region Description</th>\n",
       "      <th>Total Discharges</th>\n",
       "      <th>Average Covered Charges</th>\n",
       "      <th>Average Total Payments</th>\n",
       "      <th>Average Medicare Payments</th>\n",
       "    </tr>\n",
       "  </thead>\n",
       "  <tbody>\n",
       "    <tr>\n",
       "      <th>0</th>\n",
       "      <td>039 - EXTRACRANIAL PROCEDURES W/O CC/MCC</td>\n",
       "      <td>10001</td>\n",
       "      <td>SOUTHEAST ALABAMA MEDICAL CENTER</td>\n",
       "      <td>1108 ROSS CLARK CIRCLE</td>\n",
       "      <td>DOTHAN</td>\n",
       "      <td>AL</td>\n",
       "      <td>36301</td>\n",
       "      <td>AL - Dothan</td>\n",
       "      <td>91</td>\n",
       "      <td>32963.07</td>\n",
       "      <td>5777.24</td>\n",
       "      <td>4763.73</td>\n",
       "    </tr>\n",
       "    <tr>\n",
       "      <th>1</th>\n",
       "      <td>039 - EXTRACRANIAL PROCEDURES W/O CC/MCC</td>\n",
       "      <td>10005</td>\n",
       "      <td>MARSHALL MEDICAL CENTER SOUTH</td>\n",
       "      <td>2505 U S HIGHWAY 431 NORTH</td>\n",
       "      <td>BOAZ</td>\n",
       "      <td>AL</td>\n",
       "      <td>35957</td>\n",
       "      <td>AL - Birmingham</td>\n",
       "      <td>14</td>\n",
       "      <td>15131.85</td>\n",
       "      <td>5787.57</td>\n",
       "      <td>4976.71</td>\n",
       "    </tr>\n",
       "  </tbody>\n",
       "</table>\n",
       "</div>"
      ],
      "text/plain": [
       "                             DRG Definition  Provider Id  \\\n",
       "0  039 - EXTRACRANIAL PROCEDURES W/O CC/MCC        10001   \n",
       "1  039 - EXTRACRANIAL PROCEDURES W/O CC/MCC        10005   \n",
       "\n",
       "                      Provider Name     Provider Street Address Provider City  \\\n",
       "0  SOUTHEAST ALABAMA MEDICAL CENTER      1108 ROSS CLARK CIRCLE        DOTHAN   \n",
       "1     MARSHALL MEDICAL CENTER SOUTH  2505 U S HIGHWAY 431 NORTH          BOAZ   \n",
       "\n",
       "  Provider State  Provider Zip Code Hospital Referral Region Description  \\\n",
       "0             AL              36301                          AL - Dothan   \n",
       "1             AL              35957                      AL - Birmingham   \n",
       "\n",
       "    Total Discharges    Average Covered Charges    Average Total Payments   \\\n",
       "0                  91                   32963.07                   5777.24   \n",
       "1                  14                   15131.85                   5787.57   \n",
       "\n",
       "   Average Medicare Payments  \n",
       "0                    4763.73  \n",
       "1                    4976.71  "
      ]
     },
     "execution_count": 2,
     "metadata": {},
     "output_type": "execute_result"
    }
   ],
   "source": [
    "healthcare = pd.read_csv('healthcare.csv')\n",
    "healthcare.head(2)"
   ]
  },
  {
   "cell_type": "code",
   "execution_count": 3,
   "id": "5238e398",
   "metadata": {},
   "outputs": [
    {
     "data": {
      "text/plain": [
       "Index(['DRG Definition', 'Provider Id', 'Provider Name',\n",
       "       'Provider Street Address', 'Provider City', 'Provider State',\n",
       "       'Provider Zip Code', 'Hospital Referral Region Description',\n",
       "       ' Total Discharges ', ' Average Covered Charges ',\n",
       "       ' Average Total Payments ', 'Average Medicare Payments'],\n",
       "      dtype='object')"
      ]
     },
     "execution_count": 3,
     "metadata": {},
     "output_type": "execute_result"
    }
   ],
   "source": [
    "healthcare.columns"
   ]
  },
  {
   "cell_type": "code",
   "execution_count": 4,
   "id": "2797d415",
   "metadata": {},
   "outputs": [
    {
     "data": {
      "text/plain": [
       "163065"
      ]
     },
     "execution_count": 4,
     "metadata": {},
     "output_type": "execute_result"
    }
   ],
   "source": [
    "len(healthcare)"
   ]
  },
  {
   "cell_type": "markdown",
   "id": "2e934ab3",
   "metadata": {},
   "source": [
    "We’re going to focus on only the ways in which hospitals charge patients for chest pain."
   ]
  },
  {
   "cell_type": "code",
   "execution_count": 5,
   "id": "55b7a1be",
   "metadata": {},
   "outputs": [
    {
     "data": {
      "text/plain": [
       "array(['039 - EXTRACRANIAL PROCEDURES W/O CC/MCC',\n",
       "       '057 - DEGENERATIVE NERVOUS SYSTEM DISORDERS W/O MCC',\n",
       "       '069 - TRANSIENT ISCHEMIA',\n",
       "       '064 - INTRACRANIAL HEMORRHAGE OR CEREBRAL INFARCTION W MCC',\n",
       "       '065 - INTRACRANIAL HEMORRHAGE OR CEREBRAL INFARCTION W CC',\n",
       "       '066 - INTRACRANIAL HEMORRHAGE OR CEREBRAL INFARCTION W/O CC/MCC',\n",
       "       '074 - CRANIAL & PERIPHERAL NERVE DISORDERS W/O MCC',\n",
       "       '101 - SEIZURES W/O MCC', '149 - DYSEQUILIBRIUM',\n",
       "       '176 - PULMONARY EMBOLISM W/O MCC',\n",
       "       '177 - RESPIRATORY INFECTIONS & INFLAMMATIONS W MCC',\n",
       "       '189 - PULMONARY EDEMA & RESPIRATORY FAILURE',\n",
       "       '178 - RESPIRATORY INFECTIONS & INFLAMMATIONS W CC',\n",
       "       '190 - CHRONIC OBSTRUCTIVE PULMONARY DISEASE W MCC',\n",
       "       '191 - CHRONIC OBSTRUCTIVE PULMONARY DISEASE W CC',\n",
       "       '193 - SIMPLE PNEUMONIA & PLEURISY W MCC',\n",
       "       '194 - SIMPLE PNEUMONIA & PLEURISY W CC',\n",
       "       '192 - CHRONIC OBSTRUCTIVE PULMONARY DISEASE W/O CC/MCC',\n",
       "       '195 - SIMPLE PNEUMONIA & PLEURISY W/O CC/MCC',\n",
       "       '202 - BRONCHITIS & ASTHMA W CC/MCC',\n",
       "       '203 - BRONCHITIS & ASTHMA W/O CC/MCC',\n",
       "       '207 - RESPIRATORY SYSTEM DIAGNOSIS W VENTILATOR SUPPORT 96+ HOURS',\n",
       "       '238 - MAJOR CARDIOVASC PROCEDURES W/O MCC',\n",
       "       '252 - OTHER VASCULAR PROCEDURES W MCC',\n",
       "       '253 - OTHER VASCULAR PROCEDURES W CC',\n",
       "       '208 - RESPIRATORY SYSTEM DIAGNOSIS W VENTILATOR SUPPORT <96 HOURS',\n",
       "       '254 - OTHER VASCULAR PROCEDURES W/O CC/MCC',\n",
       "       '291 - HEART FAILURE & SHOCK W MCC',\n",
       "       '243 - PERMANENT CARDIAC PACEMAKER IMPLANT W CC',\n",
       "       '244 - PERMANENT CARDIAC PACEMAKER IMPLANT W/O CC/MCC',\n",
       "       '246 - PERC CARDIOVASC PROC W DRUG-ELUTING STENT W MCC OR 4+ VESSELS/STENTS',\n",
       "       '247 - PERC CARDIOVASC PROC W DRUG-ELUTING STENT W/O MCC',\n",
       "       '249 - PERC CARDIOVASC PROC W NON-DRUG-ELUTING STENT W/O MCC',\n",
       "       '251 - PERC CARDIOVASC PROC W/O CORONARY ARTERY STENT W/O MCC',\n",
       "       '280 - ACUTE MYOCARDIAL INFARCTION, DISCHARGED ALIVE W MCC',\n",
       "       '292 - HEART FAILURE & SHOCK W CC',\n",
       "       '281 - ACUTE MYOCARDIAL INFARCTION, DISCHARGED ALIVE W CC',\n",
       "       '282 - ACUTE MYOCARDIAL INFARCTION, DISCHARGED ALIVE W/O CC/MCC',\n",
       "       '286 - CIRCULATORY DISORDERS EXCEPT AMI, W CARD CATH W MCC',\n",
       "       '287 - CIRCULATORY DISORDERS EXCEPT AMI, W CARD CATH W/O MCC',\n",
       "       '293 - HEART FAILURE & SHOCK W/O CC/MCC',\n",
       "       '300 - PERIPHERAL VASCULAR DISORDERS W CC',\n",
       "       '301 - PERIPHERAL VASCULAR DISORDERS W/O CC/MCC',\n",
       "       '303 - ATHEROSCLEROSIS W/O MCC', '305 - HYPERTENSION W/O MCC',\n",
       "       '308 - CARDIAC ARRHYTHMIA & CONDUCTION DISORDERS W MCC',\n",
       "       '312 - SYNCOPE & COLLAPSE',\n",
       "       '309 - CARDIAC ARRHYTHMIA & CONDUCTION DISORDERS W CC',\n",
       "       '310 - CARDIAC ARRHYTHMIA & CONDUCTION DISORDERS W/O CC/MCC',\n",
       "       '313 - CHEST PAIN',\n",
       "       '314 - OTHER CIRCULATORY SYSTEM DIAGNOSES W MCC',\n",
       "       '315 - OTHER CIRCULATORY SYSTEM DIAGNOSES W CC',\n",
       "       '330 - MAJOR SMALL & LARGE BOWEL PROCEDURES W CC',\n",
       "       '377 - G.I. HEMORRHAGE W MCC',\n",
       "       '329 - MAJOR SMALL & LARGE BOWEL PROCEDURES W MCC',\n",
       "       '372 - MAJOR GASTROINTESTINAL DISORDERS & PERITONEAL INFECTIONS W CC',\n",
       "       '378 - G.I. HEMORRHAGE W CC', '379 - G.I. HEMORRHAGE W/O CC/MCC',\n",
       "       '389 - G.I. OBSTRUCTION W CC', '390 - G.I. OBSTRUCTION W/O CC/MCC',\n",
       "       '391 - ESOPHAGITIS, GASTROENT & MISC DIGEST DISORDERS W MCC',\n",
       "       '394 - OTHER DIGESTIVE SYSTEM DIAGNOSES W CC',\n",
       "       '439 - DISORDERS OF PANCREAS EXCEPT MALIGNANCY W CC',\n",
       "       '392 - ESOPHAGITIS, GASTROENT & MISC DIGEST DISORDERS W/O MCC',\n",
       "       '460 - SPINAL FUSION EXCEPT CERVICAL W/O MCC',\n",
       "       '473 - CERVICAL SPINAL FUSION W/O CC/MCC',\n",
       "       '418 - LAPAROSCOPIC CHOLECYSTECTOMY W/O C.D.E. W CC',\n",
       "       '419 - LAPAROSCOPIC CHOLECYSTECTOMY W/O C.D.E. W/O CC/MCC',\n",
       "       '469 - MAJOR JOINT REPLACEMENT OR REATTACHMENT OF LOWER EXTREMITY W MCC',\n",
       "       '470 - MAJOR JOINT REPLACEMENT OR REATTACHMENT OF LOWER EXTREMITY W/O MCC',\n",
       "       '480 - HIP & FEMUR PROCEDURES EXCEPT MAJOR JOINT W MCC',\n",
       "       '481 - HIP & FEMUR PROCEDURES EXCEPT MAJOR JOINT W CC',\n",
       "       '536 - FRACTURES OF HIP & PELVIS W/O MCC',\n",
       "       '482 - HIP & FEMUR PROCEDURES EXCEPT MAJOR JOINT W/O CC/MCC',\n",
       "       '552 - MEDICAL BACK PROBLEMS W/O MCC',\n",
       "       '491 - BACK & NECK PROC EXC SPINAL FUSION W/O CC/MCC',\n",
       "       '563 - FX, SPRN, STRN & DISL EXCEPT FEMUR, HIP, PELVIS & THIGH W/O MCC',\n",
       "       '602 - CELLULITIS W MCC', '603 - CELLULITIS W/O MCC',\n",
       "       '638 - DIABETES W CC',\n",
       "       '640 - MISC DISORDERS OF NUTRITION,METABOLISM,FLUIDS/ELECTROLYTES W MCC',\n",
       "       '682 - RENAL FAILURE W MCC',\n",
       "       '641 - MISC DISORDERS OF NUTRITION,METABOLISM,FLUIDS/ELECTROLYTES W/O MCC',\n",
       "       '683 - RENAL FAILURE W CC', '684 - RENAL FAILURE W/O CC/MCC',\n",
       "       '689 - KIDNEY & URINARY TRACT INFECTIONS W MCC',\n",
       "       '690 - KIDNEY & URINARY TRACT INFECTIONS W/O MCC',\n",
       "       '811 - RED BLOOD CELL DISORDERS W MCC',\n",
       "       '698 - OTHER KIDNEY & URINARY TRACT DIAGNOSES W MCC',\n",
       "       '699 - OTHER KIDNEY & URINARY TRACT DIAGNOSES W CC',\n",
       "       '812 - RED BLOOD CELL DISORDERS W/O MCC',\n",
       "       '853 - INFECTIOUS & PARASITIC DISEASES W O.R. PROCEDURE W MCC',\n",
       "       '885 - PSYCHOSES',\n",
       "       '870 - SEPTICEMIA OR SEVERE SEPSIS W MV 96+ HOURS',\n",
       "       '871 - SEPTICEMIA OR SEVERE SEPSIS W/O MV 96+ HOURS W MCC',\n",
       "       '872 - SEPTICEMIA OR SEVERE SEPSIS W/O MV 96+ HOURS W/O MCC',\n",
       "       '897 - ALCOHOL/DRUG ABUSE OR DEPENDENCE W/O REHABILITATION THERAPY W/O MCC',\n",
       "       '948 - SIGNS & SYMPTOMS W/O MCC',\n",
       "       '917 - POISONING & TOXIC EFFECTS OF DRUGS W MCC',\n",
       "       '918 - POISONING & TOXIC EFFECTS OF DRUGS W/O MCC'], dtype=object)"
      ]
     },
     "execution_count": 5,
     "metadata": {},
     "output_type": "execute_result"
    }
   ],
   "source": [
    "healthcare['DRG Definition'].unique()"
   ]
  },
  {
   "cell_type": "code",
   "execution_count": 6,
   "id": "e969a9ae",
   "metadata": {},
   "outputs": [
    {
     "data": {
      "text/html": [
       "<div>\n",
       "<style scoped>\n",
       "    .dataframe tbody tr th:only-of-type {\n",
       "        vertical-align: middle;\n",
       "    }\n",
       "\n",
       "    .dataframe tbody tr th {\n",
       "        vertical-align: top;\n",
       "    }\n",
       "\n",
       "    .dataframe thead th {\n",
       "        text-align: right;\n",
       "    }\n",
       "</style>\n",
       "<table border=\"1\" class=\"dataframe\">\n",
       "  <thead>\n",
       "    <tr style=\"text-align: right;\">\n",
       "      <th></th>\n",
       "      <th>DRG Definition</th>\n",
       "      <th>Provider Id</th>\n",
       "      <th>Provider Name</th>\n",
       "      <th>Provider Street Address</th>\n",
       "      <th>Provider City</th>\n",
       "      <th>Provider State</th>\n",
       "      <th>Provider Zip Code</th>\n",
       "      <th>Hospital Referral Region Description</th>\n",
       "      <th>Total Discharges</th>\n",
       "      <th>Average Covered Charges</th>\n",
       "      <th>Average Total Payments</th>\n",
       "      <th>Average Medicare Payments</th>\n",
       "    </tr>\n",
       "  </thead>\n",
       "  <tbody>\n",
       "    <tr>\n",
       "      <th>80531</th>\n",
       "      <td>313 - CHEST PAIN</td>\n",
       "      <td>220108</td>\n",
       "      <td>MILTON HOSPITAL INC</td>\n",
       "      <td>199 REEDSDALE ROAD</td>\n",
       "      <td>MILTON</td>\n",
       "      <td>MA</td>\n",
       "      <td>2186</td>\n",
       "      <td>MA - Boston</td>\n",
       "      <td>43</td>\n",
       "      <td>6760.53</td>\n",
       "      <td>3547.00</td>\n",
       "      <td>2633.04</td>\n",
       "    </tr>\n",
       "    <tr>\n",
       "      <th>82205</th>\n",
       "      <td>313 - CHEST PAIN</td>\n",
       "      <td>10001</td>\n",
       "      <td>SOUTHEAST ALABAMA MEDICAL CENTER</td>\n",
       "      <td>1108 ROSS CLARK CIRCLE</td>\n",
       "      <td>DOTHAN</td>\n",
       "      <td>AL</td>\n",
       "      <td>36301</td>\n",
       "      <td>AL - Dothan</td>\n",
       "      <td>36</td>\n",
       "      <td>19540.55</td>\n",
       "      <td>3428.58</td>\n",
       "      <td>2093.38</td>\n",
       "    </tr>\n",
       "  </tbody>\n",
       "</table>\n",
       "</div>"
      ],
      "text/plain": [
       "         DRG Definition  Provider Id                     Provider Name  \\\n",
       "80531  313 - CHEST PAIN       220108               MILTON HOSPITAL INC   \n",
       "82205  313 - CHEST PAIN        10001  SOUTHEAST ALABAMA MEDICAL CENTER   \n",
       "\n",
       "      Provider Street Address Provider City Provider State  Provider Zip Code  \\\n",
       "80531      199 REEDSDALE ROAD        MILTON             MA               2186   \n",
       "82205  1108 ROSS CLARK CIRCLE        DOTHAN             AL              36301   \n",
       "\n",
       "      Hospital Referral Region Description   Total Discharges   \\\n",
       "80531                          MA - Boston                  43   \n",
       "82205                          AL - Dothan                  36   \n",
       "\n",
       "        Average Covered Charges    Average Total Payments   \\\n",
       "80531                    6760.53                   3547.00   \n",
       "82205                   19540.55                   3428.58   \n",
       "\n",
       "       Average Medicare Payments  \n",
       "80531                    2633.04  \n",
       "82205                    2093.38  "
      ]
     },
     "execution_count": 6,
     "metadata": {},
     "output_type": "execute_result"
    }
   ],
   "source": [
    "chest_pain = healthcare[healthcare['DRG Definition'] == '313 - CHEST PAIN']\n",
    "chest_pain.head(2)"
   ]
  },
  {
   "cell_type": "code",
   "execution_count": 7,
   "id": "405ba05d",
   "metadata": {},
   "outputs": [
    {
     "data": {
      "text/plain": [
       "2230"
      ]
     },
     "execution_count": 7,
     "metadata": {},
     "output_type": "execute_result"
    }
   ],
   "source": [
    "len(chest_pain)"
   ]
  },
  {
   "cell_type": "markdown",
   "id": "340cc4c1",
   "metadata": {},
   "source": [
    "Separating By State"
   ]
  },
  {
   "cell_type": "markdown",
   "id": "5a58b045",
   "metadata": {},
   "source": [
    "AL - Alabama"
   ]
  },
  {
   "cell_type": "code",
   "execution_count": 8,
   "id": "d0b58b83",
   "metadata": {},
   "outputs": [
    {
     "data": {
      "text/html": [
       "<div>\n",
       "<style scoped>\n",
       "    .dataframe tbody tr th:only-of-type {\n",
       "        vertical-align: middle;\n",
       "    }\n",
       "\n",
       "    .dataframe tbody tr th {\n",
       "        vertical-align: top;\n",
       "    }\n",
       "\n",
       "    .dataframe thead th {\n",
       "        text-align: right;\n",
       "    }\n",
       "</style>\n",
       "<table border=\"1\" class=\"dataframe\">\n",
       "  <thead>\n",
       "    <tr style=\"text-align: right;\">\n",
       "      <th></th>\n",
       "      <th>DRG Definition</th>\n",
       "      <th>Provider Id</th>\n",
       "      <th>Provider Name</th>\n",
       "      <th>Provider Street Address</th>\n",
       "      <th>Provider City</th>\n",
       "      <th>Provider State</th>\n",
       "      <th>Provider Zip Code</th>\n",
       "      <th>Hospital Referral Region Description</th>\n",
       "      <th>Total Discharges</th>\n",
       "      <th>Average Covered Charges</th>\n",
       "      <th>Average Total Payments</th>\n",
       "      <th>Average Medicare Payments</th>\n",
       "    </tr>\n",
       "  </thead>\n",
       "  <tbody>\n",
       "    <tr>\n",
       "      <th>82205</th>\n",
       "      <td>313 - CHEST PAIN</td>\n",
       "      <td>10001</td>\n",
       "      <td>SOUTHEAST ALABAMA MEDICAL CENTER</td>\n",
       "      <td>1108 ROSS CLARK CIRCLE</td>\n",
       "      <td>DOTHAN</td>\n",
       "      <td>AL</td>\n",
       "      <td>36301</td>\n",
       "      <td>AL - Dothan</td>\n",
       "      <td>36</td>\n",
       "      <td>19540.55</td>\n",
       "      <td>3428.58</td>\n",
       "      <td>2093.38</td>\n",
       "    </tr>\n",
       "    <tr>\n",
       "      <th>82206</th>\n",
       "      <td>313 - CHEST PAIN</td>\n",
       "      <td>10006</td>\n",
       "      <td>ELIZA COFFEE MEMORIAL HOSPITAL</td>\n",
       "      <td>205 MARENGO STREET</td>\n",
       "      <td>FLORENCE</td>\n",
       "      <td>AL</td>\n",
       "      <td>35631</td>\n",
       "      <td>AL - Birmingham</td>\n",
       "      <td>13</td>\n",
       "      <td>20241.84</td>\n",
       "      <td>3849.76</td>\n",
       "      <td>1704.53</td>\n",
       "    </tr>\n",
       "  </tbody>\n",
       "</table>\n",
       "</div>"
      ],
      "text/plain": [
       "         DRG Definition  Provider Id                     Provider Name  \\\n",
       "82205  313 - CHEST PAIN        10001  SOUTHEAST ALABAMA MEDICAL CENTER   \n",
       "82206  313 - CHEST PAIN        10006    ELIZA COFFEE MEMORIAL HOSPITAL   \n",
       "\n",
       "      Provider Street Address Provider City Provider State  Provider Zip Code  \\\n",
       "82205  1108 ROSS CLARK CIRCLE        DOTHAN             AL              36301   \n",
       "82206      205 MARENGO STREET      FLORENCE             AL              35631   \n",
       "\n",
       "      Hospital Referral Region Description   Total Discharges   \\\n",
       "82205                          AL - Dothan                  36   \n",
       "82206                      AL - Birmingham                  13   \n",
       "\n",
       "        Average Covered Charges    Average Total Payments   \\\n",
       "82205                   19540.55                   3428.58   \n",
       "82206                   20241.84                   3849.76   \n",
       "\n",
       "       Average Medicare Payments  \n",
       "82205                    2093.38  \n",
       "82206                    1704.53  "
      ]
     },
     "execution_count": 8,
     "metadata": {},
     "output_type": "execute_result"
    }
   ],
   "source": [
    "alabama_chest_pain = chest_pain[chest_pain['Provider State'] == 'AL']\n",
    "alabama_chest_pain.head(2)"
   ]
  },
  {
   "cell_type": "code",
   "execution_count": 9,
   "id": "b417304b",
   "metadata": {},
   "outputs": [
    {
     "data": {
      "text/plain": [
       "52"
      ]
     },
     "execution_count": 9,
     "metadata": {},
     "output_type": "execute_result"
    }
   ],
   "source": [
    "len(alabama_chest_pain)"
   ]
  },
  {
   "cell_type": "code",
   "execution_count": 10,
   "id": "6848098c",
   "metadata": {},
   "outputs": [
    {
     "data": {
      "text/plain": [
       "array([19540.55, 20241.84,  6417.2 , 13311.78, 21375.25, 12569.92,\n",
       "       12072.04,  9999.98,  7274.72,  6660.36, 15449.91,  9091.22,\n",
       "       20074.9 , 21093.72, 39035.25, 23769.85,  4868.25, 18100.56,\n",
       "        4308.61, 23505.03, 17560.85, 10957.75,  6935.45,  7216.7 ,\n",
       "       14627.35,  7006.38, 24424.71,  8700.78, 12268.8 , 15938.66,\n",
       "       11746.9 , 12790.15,  6131.62,  9824.6 , 11883.65, 13602.91,\n",
       "       28750.57, 13358.27,  4610.73, 13840.5 , 14490.31, 12698.  ,\n",
       "       10512.09,  7770.77, 22905.23, 33436.72, 11779.69, 20088.64,\n",
       "        9561.2 , 10494.45, 14002.31, 14100.38])"
      ]
     },
     "execution_count": 10,
     "metadata": {},
     "output_type": "execute_result"
    }
   ],
   "source": [
    "alabama_cost = alabama_chest_pain[' Average Covered Charges ']\n",
    "alabama_cost.values"
   ]
  },
  {
   "cell_type": "code",
   "execution_count": 11,
   "id": "8a293355",
   "metadata": {},
   "outputs": [
    {
     "data": {
      "image/png": "[encoded data removed]",
      "text/plain": [
       "<Figure size 576x360 with 1 Axes>"
      ]
     },
     "metadata": {
      "needs_background": "light"
     },
     "output_type": "display_data"
    }
   ],
   "source": [
    "plt.figure(figsize=(8,5))\n",
    "\n",
    "plt.boxplot(alabama_cost)\n",
    "plt.title('Alabama Chest Pain Average Covered Charge', fontsize=18)\n",
    "plt.xlabel('State', fontsize=14)\n",
    "plt.ylabel('Cost ($)', fontsize=14)\n",
    "\n",
    "plt.show()"
   ]
  },
  {
   "cell_type": "markdown",
   "id": "0216835c",
   "metadata": {},
   "source": [
    "Making a Boxplot for All States Average Covered Charges for Chest Pain"
   ]
  },
  {
   "cell_type": "code",
   "execution_count": 14,
   "id": "c5ac50c6",
   "metadata": {},
   "outputs": [
    {
     "data": {
      "text/plain": [
       "array(['MA', 'AL', 'AK', 'AZ', 'AR', 'CA', 'CO', 'CT', 'DE', 'DC', 'FL',\n",
       "       'GA', 'HI', 'ID', 'IL', 'IN', 'IA', 'KS', 'KY', 'LA', 'ME', 'MD',\n",
       "       'MI', 'MN', 'MS', 'MO', 'MT', 'NE', 'NV', 'NH', 'NJ', 'NM', 'NY',\n",
       "       'NC', 'ND', 'OH', 'OK', 'OR', 'PA', 'RI', 'SC', 'SD', 'TN', 'TX',\n",
       "       'UT', 'VT', 'VA', 'WA', 'WV', 'WI', 'WY'], dtype=object)"
      ]
     },
     "execution_count": 14,
     "metadata": {},
     "output_type": "execute_result"
    }
   ],
   "source": [
    "states_chest_pain = chest_pain['Provider State'].unique()\n",
    "states_chest_pain"
   ]
  },
  {
   "cell_type": "code",
   "execution_count": 15,
   "id": "90b7c8d5",
   "metadata": {},
   "outputs": [],
   "source": [
    "dataset = []\n",
    "\n",
    "for state in states_chest_pain:\n",
    "    dataset.append(chest_pain[chest_pain['Provider State'] == state][' Average Covered Charges '].values)\n",
    "\n",
    "# dataset"
   ]
  },
  {
   "cell_type": "code",
   "execution_count": 17,
   "id": "4392412a",
   "metadata": {},
   "outputs": [
    {
     "data": {
      "image/png": "[encoded data removed]",
      "text/plain": [
       "<Figure size 1440x576 with 1 Axes>"
      ]
     },
     "metadata": {
      "needs_background": "light"
     },
     "output_type": "display_data"
    }
   ],
   "source": [
    "plt.figure(figsize=(20,8))\n",
    "\n",
    "plt.boxplot(dataset, labels = states_chest_pain)\n",
    "plt.title('Chest Pain Average Corevered Charge for All State in US', fontsize=20)\n",
    "plt.xlabel('State', fontsize=14)\n",
    "plt.ylabel('Cost ($)', fontsize=14)\n",
    "\n",
    "plt.show()"
   ]
  },
  {
   "cell_type": "markdown",
   "id": "1abd1bb6",
   "metadata": {},
   "source": [
    "What information have you learned by looking at these boxplots side by side? What state has the largest spread? What state has the largest median? Which states have the most outliers?"
   ]
  },
  {
   "cell_type": "markdown",
   "id": "9141593e",
   "metadata": {},
   "source": [
    "Answer :\n",
    "State has the largest spread is CA-California, NJ-New Jersey, FL-Florida. VT-Vermont almost has no spread. \n",
    "State with the largest median cost for a chest pain is NJ-New Jersey. The state with the smallest median cost is MD-Maryland.\n",
    "CA-California, GA-Goergia, and TN-Tenesse all have a fair number of outliers."
   ]
  },
  {
   "cell_type": "markdown",
   "id": "6d9aa314",
   "metadata": {},
   "source": [
    "Making a Boxplot for All States Average Medicare Payment for Chest Pain"
   ]
  },
  {
   "cell_type": "code",
   "execution_count": 30,
   "id": "204c082f",
   "metadata": {},
   "outputs": [],
   "source": [
    "dataset_tot_payment = []\n",
    "\n",
    "for state in states_chest_pain:\n",
    "    dataset_tot_payment.append(chest_pain[chest_pain['Provider State'] == state]['Average Medicare Payments'].values)\n",
    "    \n",
    "# dataset_tot_payment"
   ]
  },
  {
   "cell_type": "code",
   "execution_count": 32,
   "id": "a07a3253",
   "metadata": {},
   "outputs": [
    {
     "data": {
      "image/png": "[encoded data removed]",
      "text/plain": [
       "<Figure size 1440x432 with 1 Axes>"
      ]
     },
     "metadata": {
      "needs_background": "light"
     },
     "output_type": "display_data"
    }
   ],
   "source": [
    "plt.figure(figsize=(20,6))\n",
    "\n",
    "plt.boxplot(dataset_tot_payment, labels=states_chest_pain)\n",
    "plt.title('Chest Pain Average Medicare Payment for All State in US', fontsize=20)\n",
    "plt.xlabel('State', fontsize=14)\n",
    "plt.ylabel('Cost ($)', fontsize=14)\n",
    "\n",
    "plt.show()"
   ]
  },
  {
   "cell_type": "markdown",
   "id": "3754f85f",
   "metadata": {},
   "source": [
    "State has the largest spread is NY-New York and CA-California. ND-North Dakota almost has no spread. \n",
    "State with the largest median cost for a chest pain is AK-Alaska. The state with the smallest median cost is Al-Albama. \n",
    "CA-California, FL-Florida,PA-Pennsylvania and TX-Texas all have a fair number of outliers."
   ]
  },
  {
   "cell_type": "markdown",
   "id": "1e2bf544",
   "metadata": {},
   "source": [
    "Average Total Payment for 194-SIMPLE PNEUMONIA & PLEURISY W CC by States"
   ]
  },
  {
   "cell_type": "code",
   "execution_count": 20,
   "id": "1258600e",
   "metadata": {},
   "outputs": [
    {
     "data": {
      "text/plain": [
       "DRG Definition\n",
       "039 - EXTRACRANIAL PROCEDURES W/O CC/MCC                                      1079\n",
       "057 - DEGENERATIVE NERVOUS SYSTEM DISORDERS W/O MCC                           1201\n",
       "064 - INTRACRANIAL HEMORRHAGE OR CEREBRAL INFARCTION W MCC                    1659\n",
       "065 - INTRACRANIAL HEMORRHAGE OR CEREBRAL INFARCTION W CC                     2269\n",
       "066 - INTRACRANIAL HEMORRHAGE OR CEREBRAL INFARCTION W/O CC/MCC               1806\n",
       "069 - TRANSIENT ISCHEMIA                                                      1962\n",
       "074 - CRANIAL & PERIPHERAL NERVE DISORDERS W/O MCC                             979\n",
       "101 - SEIZURES W/O MCC                                                        1593\n",
       "149 - DYSEQUILIBRIUM                                                           988\n",
       "176 - PULMONARY EMBOLISM W/O MCC                                              1396\n",
       "177 - RESPIRATORY INFECTIONS & INFLAMMATIONS W MCC                            1894\n",
       "178 - RESPIRATORY INFECTIONS & INFLAMMATIONS W CC                             1953\n",
       "189 - PULMONARY EDEMA & RESPIRATORY FAILURE                                   2096\n",
       "190 - CHRONIC OBSTRUCTIVE PULMONARY DISEASE W MCC                             2713\n",
       "191 - CHRONIC OBSTRUCTIVE PULMONARY DISEASE W CC                              2720\n",
       "192 - CHRONIC OBSTRUCTIVE PULMONARY DISEASE W/O CC/MCC                        2671\n",
       "193 - SIMPLE PNEUMONIA & PLEURISY W MCC                                       2575\n",
       "194 - SIMPLE PNEUMONIA & PLEURISY W CC                                        3023\n",
       "195 - SIMPLE PNEUMONIA & PLEURISY W/O CC/MCC                                  2576\n",
       "202 - BRONCHITIS & ASTHMA W CC/MCC                                            1384\n",
       "203 - BRONCHITIS & ASTHMA W/O CC/MCC                                           894\n",
       "207 - RESPIRATORY SYSTEM DIAGNOSIS W VENTILATOR SUPPORT 96+ HOURS             1163\n",
       "208 - RESPIRATORY SYSTEM DIAGNOSIS W VENTILATOR SUPPORT <96 HOURS             1993\n",
       "238 - MAJOR CARDIOVASC PROCEDURES W/O MCC                                     1054\n",
       "243 - PERMANENT CARDIAC PACEMAKER IMPLANT W CC                                1150\n",
       "244 - PERMANENT CARDIAC PACEMAKER IMPLANT W/O CC/MCC                          1075\n",
       "246 - PERC CARDIOVASC PROC W DRUG-ELUTING STENT W MCC OR 4+ VESSELS/STENTS     917\n",
       "247 - PERC CARDIOVASC PROC W DRUG-ELUTING STENT W/O MCC                       1408\n",
       "249 - PERC CARDIOVASC PROC W NON-DRUG-ELUTING STENT W/O MCC                    955\n",
       "251 - PERC CARDIOVASC PROC W/O CORONARY ARTERY STENT W/O MCC                   727\n",
       "252 - OTHER VASCULAR PROCEDURES W MCC                                         1151\n",
       "253 - OTHER VASCULAR PROCEDURES W CC                                          1203\n",
       "254 - OTHER VASCULAR PROCEDURES W/O CC/MCC                                     920\n",
       "280 - ACUTE MYOCARDIAL INFARCTION, DISCHARGED ALIVE W MCC                     1881\n",
       "281 - ACUTE MYOCARDIAL INFARCTION, DISCHARGED ALIVE W CC                      1561\n",
       "282 - ACUTE MYOCARDIAL INFARCTION, DISCHARGED ALIVE W/O CC/MCC                1111\n",
       "286 - CIRCULATORY DISORDERS EXCEPT AMI, W CARD CATH W MCC                      910\n",
       "287 - CIRCULATORY DISORDERS EXCEPT AMI, W CARD CATH W/O MCC                   1728\n",
       "291 - HEART FAILURE & SHOCK W MCC                                             2687\n",
       "292 - HEART FAILURE & SHOCK W CC                                              2953\n",
       "293 - HEART FAILURE & SHOCK W/O CC/MCC                                        2514\n",
       "300 - PERIPHERAL VASCULAR DISORDERS W CC                                      1523\n",
       "301 - PERIPHERAL VASCULAR DISORDERS W/O CC/MCC                                 877\n",
       "303 - ATHEROSCLEROSIS W/O MCC                                                 1249\n",
       "305 - HYPERTENSION W/O MCC                                                    1129\n",
       "308 - CARDIAC ARRHYTHMIA & CONDUCTION DISORDERS W MCC                         1880\n",
       "309 - CARDIAC ARRHYTHMIA & CONDUCTION DISORDERS W CC                          2363\n",
       "310 - CARDIAC ARRHYTHMIA & CONDUCTION DISORDERS W/O CC/MCC                    2403\n",
       "312 - SYNCOPE & COLLAPSE                                                      2288\n",
       "313 - CHEST PAIN                                                              2230\n",
       "314 - OTHER CIRCULATORY SYSTEM DIAGNOSES W MCC                                1554\n",
       "315 - OTHER CIRCULATORY SYSTEM DIAGNOSES W CC                                  859\n",
       "329 - MAJOR SMALL & LARGE BOWEL PROCEDURES W MCC                              1476\n",
       "330 - MAJOR SMALL & LARGE BOWEL PROCEDURES W CC                               1682\n",
       "372 - MAJOR GASTROINTESTINAL DISORDERS & PERITONEAL INFECTIONS W CC           1233\n",
       "377 - G.I. HEMORRHAGE W MCC                                                   1679\n",
       "378 - G.I. HEMORRHAGE W CC                                                    2562\n",
       "379 - G.I. HEMORRHAGE W/O CC/MCC                                              1455\n",
       "389 - G.I. OBSTRUCTION W CC                                                   1779\n",
       "390 - G.I. OBSTRUCTION W/O CC/MCC                                             1438\n",
       "391 - ESOPHAGITIS, GASTROENT & MISC DIGEST DISORDERS W MCC                    1570\n",
       "392 - ESOPHAGITIS, GASTROENT & MISC DIGEST DISORDERS W/O MCC                  2950\n",
       "394 - OTHER DIGESTIVE SYSTEM DIAGNOSES W CC                                   1545\n",
       "418 - LAPAROSCOPIC CHOLECYSTECTOMY W/O C.D.E. W CC                             959\n",
       "419 - LAPAROSCOPIC CHOLECYSTECTOMY W/O C.D.E. W/O CC/MCC                       871\n",
       "439 - DISORDERS OF PANCREAS EXCEPT MALIGNANCY W CC                             955\n",
       "460 - SPINAL FUSION EXCEPT CERVICAL W/O MCC                                   1332\n",
       "469 - MAJOR JOINT REPLACEMENT OR REATTACHMENT OF LOWER EXTREMITY W MCC         932\n",
       "470 - MAJOR JOINT REPLACEMENT OR REATTACHMENT OF LOWER EXTREMITY W/O MCC      2750\n",
       "473 - CERVICAL SPINAL FUSION W/O CC/MCC                                        846\n",
       "480 - HIP & FEMUR PROCEDURES EXCEPT MAJOR JOINT W MCC                          929\n",
       "481 - HIP & FEMUR PROCEDURES EXCEPT MAJOR JOINT W CC                          2090\n",
       "482 - HIP & FEMUR PROCEDURES EXCEPT MAJOR JOINT W/O CC/MCC                    1040\n",
       "491 - BACK & NECK PROC EXC SPINAL FUSION W/O CC/MCC                            975\n",
       "536 - FRACTURES OF HIP & PELVIS W/O MCC                                       1142\n",
       "552 - MEDICAL BACK PROBLEMS W/O MCC                                           1801\n",
       "563 - FX, SPRN, STRN & DISL EXCEPT FEMUR, HIP, PELVIS & THIGH W/O MCC          984\n",
       "602 - CELLULITIS W MCC                                                         945\n",
       "603 - CELLULITIS W/O MCC                                                      2807\n",
       "638 - DIABETES W CC                                                           1820\n",
       "640 - MISC DISORDERS OF NUTRITION,METABOLISM,FLUIDS/ELECTROLYTES W MCC        1752\n",
       "641 - MISC DISORDERS OF NUTRITION,METABOLISM,FLUIDS/ELECTROLYTES W/O MCC      2899\n",
       "682 - RENAL FAILURE W MCC                                                     2144\n",
       "683 - RENAL FAILURE W CC                                                      2508\n",
       "684 - RENAL FAILURE W/O CC/MCC                                                1008\n",
       "689 - KIDNEY & URINARY TRACT INFECTIONS W MCC                                 1952\n",
       "690 - KIDNEY & URINARY TRACT INFECTIONS W/O MCC                               2989\n",
       "698 - OTHER KIDNEY & URINARY TRACT DIAGNOSES W MCC                             874\n",
       "699 - OTHER KIDNEY & URINARY TRACT DIAGNOSES W CC                              920\n",
       "811 - RED BLOOD CELL DISORDERS W MCC                                          1135\n",
       "812 - RED BLOOD CELL DISORDERS W/O MCC                                        2321\n",
       "853 - INFECTIOUS & PARASITIC DISEASES W O.R. PROCEDURE W MCC                  1376\n",
       "870 - SEPTICEMIA OR SEVERE SEPSIS W MV 96+ HOURS                               939\n",
       "871 - SEPTICEMIA OR SEVERE SEPSIS W/O MV 96+ HOURS W MCC                      2812\n",
       "872 - SEPTICEMIA OR SEVERE SEPSIS W/O MV 96+ HOURS W/O MCC                    2505\n",
       "885 - PSYCHOSES                                                                613\n",
       "897 - ALCOHOL/DRUG ABUSE OR DEPENDENCE W/O REHABILITATION THERAPY W/O MCC      906\n",
       "917 - POISONING & TOXIC EFFECTS OF DRUGS W MCC                                 843\n",
       "918 - POISONING & TOXIC EFFECTS OF DRUGS W/O MCC                              1382\n",
       "948 - SIGNS & SYMPTOMS W/O MCC                                                1793\n",
       "Name: Provider Id, dtype: int64"
      ]
     },
     "execution_count": 20,
     "metadata": {},
     "output_type": "execute_result"
    }
   ],
   "source": [
    "illness_count = healthcare.groupby('DRG Definition')['Provider Id'].count()\n",
    "illness_count"
   ]
  },
  {
   "cell_type": "code",
   "execution_count": 21,
   "id": "10e93058",
   "metadata": {},
   "outputs": [
    {
     "data": {
      "text/plain": [
       "3023"
      ]
     },
     "execution_count": 21,
     "metadata": {},
     "output_type": "execute_result"
    }
   ],
   "source": [
    "simple_pneumonia = healthcare[healthcare['DRG Definition'] == '194 - SIMPLE PNEUMONIA & PLEURISY W CC']\n",
    "len(simple_pneumonia)"
   ]
  },
  {
   "cell_type": "code",
   "execution_count": 22,
   "id": "6ecb7dbb",
   "metadata": {},
   "outputs": [
    {
     "data": {
      "text/plain": [
       "array(['CA', 'CT', 'FL', 'AL', 'AK', 'AZ', 'AR', 'CO', 'DE', 'DC', 'GA',\n",
       "       'HI', 'ID', 'IL', 'IN', 'IA', 'KS', 'KY', 'LA', 'ME', 'MD', 'MA',\n",
       "       'MI', 'MN', 'NH', 'MS', 'MO', 'MT', 'NE', 'NV', 'NJ', 'NM', 'NY',\n",
       "       'NC', 'OR', 'ND', 'OH', 'OK', 'PA', 'RI', 'SC', 'SD', 'TN', 'TX',\n",
       "       'UT', 'VT', 'VA', 'WI', 'WA', 'WV', 'WY'], dtype=object)"
      ]
     },
     "execution_count": 22,
     "metadata": {},
     "output_type": "execute_result"
    }
   ],
   "source": [
    "states_simple_pneumonia = simple_pneumonia['Provider State'].unique()\n",
    "states_simple_pneumonia"
   ]
  },
  {
   "cell_type": "code",
   "execution_count": 23,
   "id": "98622124",
   "metadata": {},
   "outputs": [],
   "source": [
    "dataset_cost_pneumonia = []\n",
    "\n",
    "for state in states_chest_pain:\n",
    "    dataset_cost_pneumonia.append(simple_pneumonia[simple_pneumonia['Provider State'] == state][' Average Total Payments '].values)\n",
    "    \n",
    "# dataset_cost_pneumonia"
   ]
  },
  {
   "cell_type": "code",
   "execution_count": 24,
   "id": "6e0cab51",
   "metadata": {},
   "outputs": [
    {
     "data": {
      "image/png": "[encoded data removed]",
      "text/plain": [
       "<Figure size 1440x432 with 1 Axes>"
      ]
     },
     "metadata": {
      "needs_background": "light"
     },
     "output_type": "display_data"
    }
   ],
   "source": [
    "plt.figure(figsize=(20,6))\n",
    "\n",
    "plt.boxplot(dataset_cost_pneumonia, labels=states_simple_pneumonia)\n",
    "plt.title('Average Total Payment for 194-SIMPLE PNEUMONIA & PLEURISY W CC by States in US', fontsize=20)\n",
    "plt.xlabel('State ($ cost)')\n",
    "\n",
    "plt.show()"
   ]
  },
  {
   "cell_type": "markdown",
   "id": "5084a66c",
   "metadata": {},
   "source": [
    "State has the largest spread is NY-New York, CA-California and TX-Texas. NH-New Hampshore almost has no spread with one outlier. \n",
    "State with the largest median cost for a chest pain is AK-Alaska. The state with the smallest median cost is Al-Albama. \n",
    "TX-Texas and CA-California all have a fair number of outliers."
   ]
  },
  {
   "cell_type": "code",
   "execution_count": null,
   "id": "279dbcca",
   "metadata": {},
   "outputs": [],
   "source": []
  }
 ],
 "metadata": {
  "kernelspec": {
   "display_name": "Python 3",
   "language": "python",
   "name": "python3"
  },
  "language_info": {
   "codemirror_mode": {
    "name": "ipython",
    "version": 3
   },
   "file_extension": ".py",
   "mimetype": "text/x-python",
   "name": "python",
   "nbconvert_exporter": "python",
   "pygments_lexer": "ipython3",
   "version": "3.8.8"
  }
 },
 "nbformat": 4,
 "nbformat_minor": 5
}
