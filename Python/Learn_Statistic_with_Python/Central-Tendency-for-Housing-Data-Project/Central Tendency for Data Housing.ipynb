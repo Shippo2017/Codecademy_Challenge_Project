{
 "cells": [
  {
   "cell_type": "markdown",
   "id": "3abc3bcc",
   "metadata": {},
   "source": [
    "# Central Tendency for Housing Data"
   ]
  },
  {
   "cell_type": "markdown",
   "id": "580e02c7",
   "metadata": {},
   "source": [
    "In this project, you will find the mean, median, and mode cost of one-bedroom apartments in three of the five New York City boroughs: Brooklyn, Manhattan, and Queens.\n",
    "\n",
    "Using your findings, you will make conclusions about the cost of living in each of the boroughs. We will also discuss an important assumption that we make when we point out differences between the boroughs."
   ]
  },
  {
   "cell_type": "code",
   "execution_count": 35,
   "id": "e4c5d850",
   "metadata": {},
   "outputs": [],
   "source": [
    "import numpy as np\n",
    "import pandas as pd\n",
    "import matplotlib.pyplot as plt\n",
    "import seaborn as sns\n",
    "from scipy import stats"
   ]
  },
  {
   "cell_type": "code",
   "execution_count": 36,
   "id": "c97c3f02",
   "metadata": {},
   "outputs": [],
   "source": [
    "brooklyn_one_bed = pd.read_csv('brooklyn.csv')\n",
    "manhttan_one_bed = pd.read_csv('manhattan.csv')\n",
    "queens_one_bed = pd.read_csv('queens.csv')"
   ]
  },
  {
   "cell_type": "code",
   "execution_count": 37,
   "id": "7dbbbbea",
   "metadata": {},
   "outputs": [
    {
     "data": {
      "text/html": [
       "<div>\n",
       "<style scoped>\n",
       "    .dataframe tbody tr th:only-of-type {\n",
       "        vertical-align: middle;\n",
       "    }\n",
       "\n",
       "    .dataframe tbody tr th {\n",
       "        vertical-align: top;\n",
       "    }\n",
       "\n",
       "    .dataframe thead th {\n",
       "        text-align: right;\n",
       "    }\n",
       "</style>\n",
       "<table border=\"1\" class=\"dataframe\">\n",
       "  <thead>\n",
       "    <tr style=\"text-align: right;\">\n",
       "      <th></th>\n",
       "      <th>rental_id</th>\n",
       "      <th>rent</th>\n",
       "      <th>bedrooms</th>\n",
       "      <th>bathrooms</th>\n",
       "      <th>size_sqft</th>\n",
       "      <th>min_to_subway</th>\n",
       "      <th>floor</th>\n",
       "      <th>building_age_yrs</th>\n",
       "      <th>no_fee</th>\n",
       "      <th>has_roofdeck</th>\n",
       "      <th>has_washer_dryer</th>\n",
       "      <th>has_doorman</th>\n",
       "      <th>has_elevator</th>\n",
       "      <th>has_dishwasher</th>\n",
       "      <th>has_patio</th>\n",
       "      <th>has_gym</th>\n",
       "      <th>neighborhood</th>\n",
       "      <th>borough</th>\n",
       "    </tr>\n",
       "  </thead>\n",
       "  <tbody>\n",
       "    <tr>\n",
       "      <th>0</th>\n",
       "      <td>2869</td>\n",
       "      <td>3600</td>\n",
       "      <td>3.0</td>\n",
       "      <td>2</td>\n",
       "      <td>900</td>\n",
       "      <td>4</td>\n",
       "      <td>1.0</td>\n",
       "      <td>15</td>\n",
       "      <td>1</td>\n",
       "      <td>0</td>\n",
       "      <td>0</td>\n",
       "      <td>0</td>\n",
       "      <td>0</td>\n",
       "      <td>0</td>\n",
       "      <td>0</td>\n",
       "      <td>0</td>\n",
       "      <td>Williamsburg</td>\n",
       "      <td>Brooklyn</td>\n",
       "    </tr>\n",
       "    <tr>\n",
       "      <th>1</th>\n",
       "      <td>4318</td>\n",
       "      <td>3900</td>\n",
       "      <td>3.0</td>\n",
       "      <td>2</td>\n",
       "      <td>1000</td>\n",
       "      <td>4</td>\n",
       "      <td>9.0</td>\n",
       "      <td>8</td>\n",
       "      <td>0</td>\n",
       "      <td>0</td>\n",
       "      <td>0</td>\n",
       "      <td>0</td>\n",
       "      <td>1</td>\n",
       "      <td>0</td>\n",
       "      <td>0</td>\n",
       "      <td>0</td>\n",
       "      <td>Greenwood</td>\n",
       "      <td>Brooklyn</td>\n",
       "    </tr>\n",
       "    <tr>\n",
       "      <th>2</th>\n",
       "      <td>6265</td>\n",
       "      <td>2700</td>\n",
       "      <td>2.0</td>\n",
       "      <td>1</td>\n",
       "      <td>900</td>\n",
       "      <td>4</td>\n",
       "      <td>2.0</td>\n",
       "      <td>96</td>\n",
       "      <td>0</td>\n",
       "      <td>0</td>\n",
       "      <td>0</td>\n",
       "      <td>0</td>\n",
       "      <td>0</td>\n",
       "      <td>0</td>\n",
       "      <td>0</td>\n",
       "      <td>0</td>\n",
       "      <td>Gowanus</td>\n",
       "      <td>Brooklyn</td>\n",
       "    </tr>\n",
       "    <tr>\n",
       "      <th>3</th>\n",
       "      <td>24</td>\n",
       "      <td>4900</td>\n",
       "      <td>1.0</td>\n",
       "      <td>1</td>\n",
       "      <td>1216</td>\n",
       "      <td>6</td>\n",
       "      <td>3.0</td>\n",
       "      <td>88</td>\n",
       "      <td>0</td>\n",
       "      <td>0</td>\n",
       "      <td>0</td>\n",
       "      <td>0</td>\n",
       "      <td>0</td>\n",
       "      <td>0</td>\n",
       "      <td>0</td>\n",
       "      <td>0</td>\n",
       "      <td>Brooklyn Heights</td>\n",
       "      <td>Brooklyn</td>\n",
       "    </tr>\n",
       "    <tr>\n",
       "      <th>4</th>\n",
       "      <td>9481</td>\n",
       "      <td>3900</td>\n",
       "      <td>0.0</td>\n",
       "      <td>1</td>\n",
       "      <td>1100</td>\n",
       "      <td>3</td>\n",
       "      <td>4.0</td>\n",
       "      <td>85</td>\n",
       "      <td>1</td>\n",
       "      <td>0</td>\n",
       "      <td>0</td>\n",
       "      <td>0</td>\n",
       "      <td>0</td>\n",
       "      <td>0</td>\n",
       "      <td>0</td>\n",
       "      <td>0</td>\n",
       "      <td>Williamsburg</td>\n",
       "      <td>Brooklyn</td>\n",
       "    </tr>\n",
       "  </tbody>\n",
       "</table>\n",
       "</div>"
      ],
      "text/plain": [
       "   rental_id  rent  bedrooms  bathrooms  size_sqft  min_to_subway  floor  \\\n",
       "0       2869  3600       3.0          2        900              4    1.0   \n",
       "1       4318  3900       3.0          2       1000              4    9.0   \n",
       "2       6265  2700       2.0          1        900              4    2.0   \n",
       "3         24  4900       1.0          1       1216              6    3.0   \n",
       "4       9481  3900       0.0          1       1100              3    4.0   \n",
       "\n",
       "   building_age_yrs  no_fee  has_roofdeck  has_washer_dryer  has_doorman  \\\n",
       "0                15       1             0                 0            0   \n",
       "1                 8       0             0                 0            0   \n",
       "2                96       0             0                 0            0   \n",
       "3                88       0             0                 0            0   \n",
       "4                85       1             0                 0            0   \n",
       "\n",
       "   has_elevator  has_dishwasher  has_patio  has_gym      neighborhood  \\\n",
       "0             0               0          0        0      Williamsburg   \n",
       "1             1               0          0        0         Greenwood   \n",
       "2             0               0          0        0           Gowanus   \n",
       "3             0               0          0        0  Brooklyn Heights   \n",
       "4             0               0          0        0      Williamsburg   \n",
       "\n",
       "    borough  \n",
       "0  Brooklyn  \n",
       "1  Brooklyn  \n",
       "2  Brooklyn  \n",
       "3  Brooklyn  \n",
       "4  Brooklyn  "
      ]
     },
     "execution_count": 37,
     "metadata": {},
     "output_type": "execute_result"
    }
   ],
   "source": [
    "brooklyn_one_bed.head()"
   ]
  },
  {
   "cell_type": "code",
   "execution_count": 38,
   "id": "c276f675",
   "metadata": {},
   "outputs": [],
   "source": [
    "brooklyn_price = brooklyn_one_bed['rent']\n",
    "manhattan_price = manhttan_one_bed['rent']\n",
    "queens_price = queens_one_bed['rent']"
   ]
  },
  {
   "cell_type": "code",
   "execution_count": 39,
   "id": "6e20fcf4",
   "metadata": {},
   "outputs": [
    {
     "data": {
      "text/plain": [
       "0        3600\n",
       "1        3900\n",
       "2        2700\n",
       "3        4900\n",
       "4        3900\n",
       "        ...  \n",
       "1008     2300\n",
       "1009     3750\n",
       "1010     4000\n",
       "1011     4200\n",
       "1012    18000\n",
       "Name: rent, Length: 1013, dtype: int64"
      ]
     },
     "execution_count": 39,
     "metadata": {},
     "output_type": "execute_result"
    }
   ],
   "source": [
    "brooklyn_price"
   ]
  },
  {
   "cell_type": "markdown",
   "id": "9080f913",
   "metadata": {},
   "source": [
    "Find the Mean"
   ]
  },
  {
   "cell_type": "code",
   "execution_count": 40,
   "id": "10f4ea71",
   "metadata": {},
   "outputs": [],
   "source": [
    "brooklyn_mean = np.mean(brooklyn_price)\n",
    "manhattan_mean = np.mean(manhattan_price)\n",
    "queens_mean = np.average(queens_price)"
   ]
  },
  {
   "cell_type": "code",
   "execution_count": 41,
   "id": "774ba363",
   "metadata": {},
   "outputs": [
    {
     "name": "stdout",
     "output_type": "stream",
     "text": [
      "The mean price in Brooklyn is 3327.4\n",
      "The mean price in Manhattan is 5138.94\n",
      "The mean price in Queens is 2516.15\n"
     ]
    }
   ],
   "source": [
    "try:\n",
    "    print(\"The mean price in Brooklyn is \" + str(round(brooklyn_mean, 2)))\n",
    "except NameError:\n",
    "    print(\"The mean price in Brooklyn is not yet defined.\")\n",
    "try:\n",
    "    print(\"The mean price in Manhattan is \" + str(round(manhattan_mean, 2)))\n",
    "except NameError:\n",
    "    print(\"The mean in Manhattan is not yet defined.\")\n",
    "try:\n",
    "    print(\"The mean price in Queens is \" + str(round(queens_mean, 2)))\n",
    "except NameError:\n",
    "    print(\"The mean price in Queens is not yet defined.\")"
   ]
  },
  {
   "cell_type": "markdown",
   "id": "fb7dcc46",
   "metadata": {},
   "source": [
    "Find The Median"
   ]
  },
  {
   "cell_type": "code",
   "execution_count": 42,
   "id": "bb8b5707",
   "metadata": {},
   "outputs": [],
   "source": [
    "brooklyn_median = np.median(brooklyn_price)\n",
    "manhattan_median = np.median(manhattan_price)\n",
    "queens_median = np.median(queens_price)"
   ]
  },
  {
   "cell_type": "code",
   "execution_count": 43,
   "id": "65e7cc88",
   "metadata": {},
   "outputs": [
    {
     "name": "stdout",
     "output_type": "stream",
     "text": [
      "The median price in Brooklyn is 3000.0\n",
      "The median price in Manhattan is 4000.0\n",
      "The median price in Queens is 2350.0\n"
     ]
    }
   ],
   "source": [
    "try:\n",
    "    print('The median price in Brooklyn is ' + str(brooklyn_median))\n",
    "except NameError:\n",
    "    print('The median price in Brooklyn is not defined')\n",
    "try:\n",
    "    print('The median price in Manhattan is ' + str(manhattan_median))\n",
    "except NameError:\n",
    "    print('The median price in Manhattan is not defined')\n",
    "try:\n",
    "    print('The median price in Queens is ' + str(queens_median))\n",
    "except NameError:\n",
    "    print('The median price in Queens is not defined')"
   ]
  },
  {
   "cell_type": "markdown",
   "id": "1068e037",
   "metadata": {},
   "source": [
    "Find The Mode"
   ]
  },
  {
   "cell_type": "code",
   "execution_count": 44,
   "id": "690ab38c",
   "metadata": {},
   "outputs": [],
   "source": [
    "brooklyn_mode = stats.mode(brooklyn_price)\n",
    "manhattan_mode = stats.mode(manhattan_price)\n",
    "queens_mode = stats.mode(queens_price)"
   ]
  },
  {
   "cell_type": "code",
   "execution_count": 45,
   "id": "79dc17b8",
   "metadata": {},
   "outputs": [
    {
     "name": "stdout",
     "output_type": "stream",
     "text": [
      "The mode price in Brooklyn is 2500 and it appears 26 times out of 1013\n",
      "The mode price in Brooklyn is 3500 and it appears 77 times out of 3539\n",
      "The mode price in Brooklyn is 2200 and it appears 17 times out of 448\n"
     ]
    }
   ],
   "source": [
    "try:\n",
    "    print('The mode price in Brooklyn is ' + str(brooklyn_mode[0][0]) + ' and it appears ' + str(brooklyn_mode[1][0]) + ' times out of ' + str(len(brooklyn_price)))\n",
    "except NameError:\n",
    "    print('The median price in Brooklyn is not defined')\n",
    "try:\n",
    "    print('The mode price in Brooklyn is ' + str(manhattan_mode[0][0]) + ' and it appears ' + str(manhattan_mode[1][0]) + ' times out of ' + str(len(manhattan_price)))\n",
    "except NameError:\n",
    "    print('The median price in Manhattan is not defined')\n",
    "try:\n",
    "    print('The mode price in Brooklyn is ' + str(queens_mode[0][0]) + ' and it appears ' + str(queens_mode[1][0]) + ' times out of ' + str(len(queens_price)))\n",
    "except NameError:\n",
    "    print('The median price in Queens is not defined')"
   ]
  },
  {
   "cell_type": "markdown",
   "id": "8fdbe2ea",
   "metadata": {},
   "source": [
    "What does our data tell us?"
   ]
  },
  {
   "cell_type": "raw",
   "id": "3a887402",
   "metadata": {},
   "source": [
    "It looks like the average cost of one-bedroom apartments in Manhattan is the most, and in Queens is the least. This pattern holds for the median and mode values as well.\n",
    "\n",
    "While the mode is not the most important indicator of centrality, the fact that mean, median, and mode are within a few hundred dollars for each borough indicates the data is centered around:\n",
    "\n",
    "$3,300 for Brooklyn\n",
    "$3,900 for Manhattan\n",
    "$2,300 for Queens"
   ]
  },
  {
   "cell_type": "markdown",
   "id": "8dda11d3",
   "metadata": {},
   "source": [
    "Histogram"
   ]
  },
  {
   "cell_type": "code",
   "execution_count": 47,
   "id": "e65ff7e3",
   "metadata": {},
   "outputs": [
    {
     "data": {
      "image/png": "[encoded data removed]",
      "text/plain": [
       "<Figure size 720x576 with 3 Axes>"
      ]
     },
     "metadata": {
      "needs_background": "light"
     },
     "output_type": "display_data"
    }
   ],
   "source": [
    "plt.figure(figsize=(10, 8))\n",
    "\n",
    "plt.subplot(311)\n",
    "plt.hist(brooklyn_price, range=(0, 10000), bins=20, edgecolor='black')\n",
    "plt.title('Brooklyn 1 Bedroom Price')\n",
    "plt.xlabel('Cost')\n",
    "plt.ylabel('Count')\n",
    "plt.axvline(brooklyn_mean, color='r', linestyle='solid', linewidth=3, label=\"Mean\")\n",
    "plt.axvline(brooklyn_median, color='y', linestyle='dotted', linewidth=3, label=\"Median\")\n",
    "plt.legend()\n",
    "\n",
    "plt.subplot(312)\n",
    "plt.hist(manhattan_price, range=(0, 10000), bins=20, edgecolor='black')\n",
    "plt.title('Manhattann 1 Bedroom Price')\n",
    "plt.xlabel('Cost')\n",
    "plt.ylabel('Count')\n",
    "plt.axvline(manhattan_mean, color='r', linestyle='solid', linewidth=3, label=\"Mean\")\n",
    "plt.axvline(manhattan_median, color='y', linestyle='dotted', linewidth=3, label=\"Median\")\n",
    "plt.legend()\n",
    "\n",
    "plt.subplot(313)\n",
    "plt.hist(queens_price, range=(0, 10000), bins=20, edgecolor='black')\n",
    "plt.title('Queens 1 Bedroom Price')\n",
    "plt.xlabel('Cost')\n",
    "plt.ylabel('Count')\n",
    "plt.axvline(queens_mean, color='r', linestyle='solid', linewidth=3, label=\"Mean\")\n",
    "plt.axvline(queens_median, color='y', linestyle='dotted', linewidth=3, label=\"Median\")\n",
    "plt.legend()\n",
    "\n",
    "plt.tight_layout()\n",
    "\n",
    "plt.show()"
   ]
  },
  {
   "cell_type": "raw",
   "id": "9fdd0017",
   "metadata": {},
   "source": [
    "note : tabel diatas kurang mode "
   ]
  }
 ],
 "metadata": {
  "kernelspec": {
   "display_name": "Python 3",
   "language": "python",
   "name": "python3"
  },
  "language_info": {
   "codemirror_mode": {
    "name": "ipython",
    "version": 3
   },
   "file_extension": ".py",
   "mimetype": "text/x-python",
   "name": "python",
   "nbconvert_exporter": "python",
   "pygments_lexer": "ipython3",
   "version": "3.8.8"
  }
 },
 "nbformat": 4,
 "nbformat_minor": 5
}
