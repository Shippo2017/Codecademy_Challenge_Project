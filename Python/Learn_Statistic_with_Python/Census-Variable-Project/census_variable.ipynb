{
 "cells": [
  {
   "cell_type": "markdown",
   "id": "2bd24d74",
   "metadata": {},
   "source": [
    "# Census Variables"
   ]
  },
  {
   "cell_type": "markdown",
   "id": "e93f3b4a",
   "metadata": {},
   "source": [
    "You have decided to volunteer for your local community by offering to clean their recently collected census data"
   ]
  },
  {
   "cell_type": "markdown",
   "id": "82983636",
   "metadata": {},
   "source": [
    "### Assessing Variable Types "
   ]
  },
  {
   "cell_type": "code",
   "execution_count": 267,
   "id": "98caa67b",
   "metadata": {},
   "outputs": [],
   "source": [
    "import numpy as np\n",
    "import pandas as pd\n",
    "pd.set_option('display.max_columns', None)"
   ]
  },
  {
   "cell_type": "code",
   "execution_count": 268,
   "id": "f7b5144e",
   "metadata": {},
   "outputs": [
    {
     "data": {
      "text/html": [
       "<div>\n",
       "<style scoped>\n",
       "    .dataframe tbody tr th:only-of-type {\n",
       "        vertical-align: middle;\n",
       "    }\n",
       "\n",
       "    .dataframe tbody tr th {\n",
       "        vertical-align: top;\n",
       "    }\n",
       "\n",
       "    .dataframe thead th {\n",
       "        text-align: right;\n",
       "    }\n",
       "</style>\n",
       "<table border=\"1\" class=\"dataframe\">\n",
       "  <thead>\n",
       "    <tr style=\"text-align: right;\">\n",
       "      <th></th>\n",
       "      <th>Unnamed: 0</th>\n",
       "      <th>first_name</th>\n",
       "      <th>last_name</th>\n",
       "      <th>birth_year</th>\n",
       "      <th>voted</th>\n",
       "      <th>num_children</th>\n",
       "      <th>income_year</th>\n",
       "      <th>higher_tax</th>\n",
       "      <th>marital_status</th>\n",
       "    </tr>\n",
       "  </thead>\n",
       "  <tbody>\n",
       "    <tr>\n",
       "      <th>0</th>\n",
       "      <td>0</td>\n",
       "      <td>Denise</td>\n",
       "      <td>Ratke</td>\n",
       "      <td>2005</td>\n",
       "      <td>False</td>\n",
       "      <td>0</td>\n",
       "      <td>92129.41</td>\n",
       "      <td>disagree</td>\n",
       "      <td>single</td>\n",
       "    </tr>\n",
       "    <tr>\n",
       "      <th>1</th>\n",
       "      <td>1</td>\n",
       "      <td>Hali</td>\n",
       "      <td>Cummerata</td>\n",
       "      <td>1987</td>\n",
       "      <td>False</td>\n",
       "      <td>0</td>\n",
       "      <td>75649.17</td>\n",
       "      <td>neutral</td>\n",
       "      <td>divorced</td>\n",
       "    </tr>\n",
       "    <tr>\n",
       "      <th>2</th>\n",
       "      <td>2</td>\n",
       "      <td>Salomon</td>\n",
       "      <td>Orn</td>\n",
       "      <td>1992</td>\n",
       "      <td>True</td>\n",
       "      <td>2</td>\n",
       "      <td>166313.45</td>\n",
       "      <td>agree</td>\n",
       "      <td>single</td>\n",
       "    </tr>\n",
       "    <tr>\n",
       "      <th>3</th>\n",
       "      <td>3</td>\n",
       "      <td>Sarina</td>\n",
       "      <td>Schiller</td>\n",
       "      <td>1965</td>\n",
       "      <td>False</td>\n",
       "      <td>2</td>\n",
       "      <td>71704.81</td>\n",
       "      <td>strongly agree</td>\n",
       "      <td>married</td>\n",
       "    </tr>\n",
       "    <tr>\n",
       "      <th>4</th>\n",
       "      <td>4</td>\n",
       "      <td>Gust</td>\n",
       "      <td>Abernathy</td>\n",
       "      <td>1945</td>\n",
       "      <td>False</td>\n",
       "      <td>2</td>\n",
       "      <td>143316.08</td>\n",
       "      <td>agree</td>\n",
       "      <td>married</td>\n",
       "    </tr>\n",
       "  </tbody>\n",
       "</table>\n",
       "</div>"
      ],
      "text/plain": [
       "   Unnamed: 0 first_name  last_name birth_year  voted  num_children  \\\n",
       "0           0     Denise      Ratke       2005  False             0   \n",
       "1           1       Hali  Cummerata       1987  False             0   \n",
       "2           2    Salomon        Orn       1992   True             2   \n",
       "3           3     Sarina   Schiller       1965  False             2   \n",
       "4           4       Gust  Abernathy       1945  False             2   \n",
       "\n",
       "   income_year      higher_tax marital_status  \n",
       "0     92129.41        disagree         single  \n",
       "1     75649.17         neutral       divorced  \n",
       "2    166313.45           agree         single  \n",
       "3     71704.81  strongly agree        married  \n",
       "4    143316.08           agree        married  "
      ]
     },
     "execution_count": 268,
     "metadata": {},
     "output_type": "execute_result"
    }
   ],
   "source": [
    "census = pd.read_csv('census_data.csv')\n",
    "census.head()"
   ]
  },
  {
   "cell_type": "code",
   "execution_count": 269,
   "id": "8eae81c6",
   "metadata": {},
   "outputs": [
    {
     "data": {
      "text/plain": [
       "Unnamed: 0          int64\n",
       "first_name         object\n",
       "last_name          object\n",
       "birth_year         object\n",
       "voted                bool\n",
       "num_children        int64\n",
       "income_year       float64\n",
       "higher_tax         object\n",
       "marital_status     object\n",
       "dtype: object"
      ]
     },
     "execution_count": 269,
     "metadata": {},
     "output_type": "execute_result"
    }
   ],
   "source": [
    "census.dtypes"
   ]
  },
  {
   "cell_type": "markdown",
   "id": "132fe5ed",
   "metadata": {},
   "source": [
    "- The manager of the census would like to know the average birth year of the respondents."
   ]
  },
  {
   "cell_type": "markdown",
   "id": "77454d39",
   "metadata": {},
   "source": [
    "### Inspecting Datatypes "
   ]
  },
  {
   "cell_type": "code",
   "execution_count": 270,
   "id": "c1da86fa",
   "metadata": {},
   "outputs": [
    {
     "data": {
      "text/plain": [
       "array(['2005', '1987', '1992', '1965', '1945', '1951', '1963', '1949',\n",
       "       '1950', '1971', '2007', '1944', '1995', '1973', '1946', '1954',\n",
       "       '1994', '1989', '1947', '1993', '1976', '1984', 'missing', '1966',\n",
       "       '1941', '2000', '1953', '1956', '1960', '2001', '1980', '1955',\n",
       "       '1985', '1996', '1968', '1979', '2006', '1962', '1981', '1959',\n",
       "       '1977', '1978', '1983', '1957', '1961', '1982', '2002', '1998',\n",
       "       '1999', '1952', '1940', '1986', '1958'], dtype=object)"
      ]
     },
     "execution_count": 270,
     "metadata": {},
     "output_type": "execute_result"
    }
   ],
   "source": [
    "census['birth_year'].unique()"
   ]
  },
  {
   "cell_type": "markdown",
   "id": "ed4d4db2",
   "metadata": {},
   "source": [
    "### Altering Data"
   ]
  },
  {
   "cell_type": "code",
   "execution_count": 271,
   "id": "62f5188a",
   "metadata": {},
   "outputs": [],
   "source": [
    "census['birth_year'] = census['birth_year'].replace(['missing'], 1967)"
   ]
  },
  {
   "cell_type": "code",
   "execution_count": 272,
   "id": "65d5817a",
   "metadata": {},
   "outputs": [
    {
     "data": {
      "text/plain": [
       "array(['2005', '1987', '1992', '1965', '1945', '1951', '1963', '1949',\n",
       "       '1950', '1971', '2007', '1944', '1995', '1973', '1946', '1954',\n",
       "       '1994', '1989', '1947', '1993', '1976', '1984', 1967, '1966',\n",
       "       '1941', '2000', '1953', '1956', '1960', '2001', '1980', '1955',\n",
       "       '1985', '1996', '1968', '1979', '2006', '1962', '1981', '1959',\n",
       "       '1977', '1978', '1983', '1957', '1961', '1982', '2002', '1998',\n",
       "       '1999', '1952', '1940', '1986', '1958'], dtype=object)"
      ]
     },
     "execution_count": 272,
     "metadata": {},
     "output_type": "execute_result"
    }
   ],
   "source": [
    "census['birth_year'].unique()"
   ]
  },
  {
   "cell_type": "code",
   "execution_count": 273,
   "id": "4a825e80",
   "metadata": {},
   "outputs": [],
   "source": [
    "census['birth_year'] = census['birth_year'].astype('int')"
   ]
  },
  {
   "cell_type": "code",
   "execution_count": 274,
   "id": "53d94d78",
   "metadata": {},
   "outputs": [
    {
     "data": {
      "text/plain": [
       "dtype('int32')"
      ]
     },
     "execution_count": 274,
     "metadata": {},
     "output_type": "execute_result"
    }
   ],
   "source": [
    "census['birth_year'].dtypes"
   ]
  },
  {
   "cell_type": "code",
   "execution_count": 275,
   "id": "8cbb07c3",
   "metadata": {},
   "outputs": [
    {
     "data": {
      "text/plain": [
       "1973.4"
      ]
     },
     "execution_count": 275,
     "metadata": {},
     "output_type": "execute_result"
    }
   ],
   "source": [
    "census['birth_year'].mean()"
   ]
  },
  {
   "cell_type": "markdown",
   "id": "4f1f02cc",
   "metadata": {},
   "source": [
    "- Your manager would like to set an order to the higher_tax variable"
   ]
  },
  {
   "cell_type": "code",
   "execution_count": 276,
   "id": "3713f7ab",
   "metadata": {},
   "outputs": [
    {
     "data": {
      "text/plain": [
       "array(['disagree', 'neutral', 'agree', 'strongly agree',\n",
       "       'strongly disagree'], dtype=object)"
      ]
     },
     "execution_count": 276,
     "metadata": {},
     "output_type": "execute_result"
    }
   ],
   "source": [
    "census['higher_tax'].unique()"
   ]
  },
  {
   "cell_type": "code",
   "execution_count": 277,
   "id": "aae82296",
   "metadata": {},
   "outputs": [],
   "source": [
    "higher_tax_categories = ['strongly disagree', 'disagree', 'neutral', 'agree', 'strongly agree']"
   ]
  },
  {
   "cell_type": "code",
   "execution_count": 278,
   "id": "4eda6e16",
   "metadata": {},
   "outputs": [
    {
     "data": {
      "text/plain": [
       "['disagree', 'neutral', 'agree', 'strongly agree', 'strongly disagree']\n",
       "Categories (5, object): ['strongly disagree' < 'disagree' < 'neutral' < 'agree' < 'strongly agree']"
      ]
     },
     "execution_count": 278,
     "metadata": {},
     "output_type": "execute_result"
    }
   ],
   "source": [
    "census['higher_tax'] = pd.Categorical(census['higher_tax'], higher_tax_categories, ordered=True)\n",
    "census['higher_tax'].unique()"
   ]
  },
  {
   "cell_type": "code",
   "execution_count": 279,
   "id": "06c1709c",
   "metadata": {},
   "outputs": [
    {
     "data": {
      "text/html": [
       "<div>\n",
       "<style scoped>\n",
       "    .dataframe tbody tr th:only-of-type {\n",
       "        vertical-align: middle;\n",
       "    }\n",
       "\n",
       "    .dataframe tbody tr th {\n",
       "        vertical-align: top;\n",
       "    }\n",
       "\n",
       "    .dataframe thead th {\n",
       "        text-align: right;\n",
       "    }\n",
       "</style>\n",
       "<table border=\"1\" class=\"dataframe\">\n",
       "  <thead>\n",
       "    <tr style=\"text-align: right;\">\n",
       "      <th></th>\n",
       "      <th>Unnamed: 0</th>\n",
       "      <th>first_name</th>\n",
       "      <th>last_name</th>\n",
       "      <th>birth_year</th>\n",
       "      <th>voted</th>\n",
       "      <th>num_children</th>\n",
       "      <th>income_year</th>\n",
       "      <th>higher_tax</th>\n",
       "      <th>marital_status</th>\n",
       "      <th>higher_tax_codes</th>\n",
       "    </tr>\n",
       "  </thead>\n",
       "  <tbody>\n",
       "    <tr>\n",
       "      <th>0</th>\n",
       "      <td>0</td>\n",
       "      <td>Denise</td>\n",
       "      <td>Ratke</td>\n",
       "      <td>2005</td>\n",
       "      <td>False</td>\n",
       "      <td>0</td>\n",
       "      <td>92129.41</td>\n",
       "      <td>disagree</td>\n",
       "      <td>single</td>\n",
       "      <td>1</td>\n",
       "    </tr>\n",
       "    <tr>\n",
       "      <th>1</th>\n",
       "      <td>1</td>\n",
       "      <td>Hali</td>\n",
       "      <td>Cummerata</td>\n",
       "      <td>1987</td>\n",
       "      <td>False</td>\n",
       "      <td>0</td>\n",
       "      <td>75649.17</td>\n",
       "      <td>neutral</td>\n",
       "      <td>divorced</td>\n",
       "      <td>2</td>\n",
       "    </tr>\n",
       "    <tr>\n",
       "      <th>2</th>\n",
       "      <td>2</td>\n",
       "      <td>Salomon</td>\n",
       "      <td>Orn</td>\n",
       "      <td>1992</td>\n",
       "      <td>True</td>\n",
       "      <td>2</td>\n",
       "      <td>166313.45</td>\n",
       "      <td>agree</td>\n",
       "      <td>single</td>\n",
       "      <td>3</td>\n",
       "    </tr>\n",
       "    <tr>\n",
       "      <th>3</th>\n",
       "      <td>3</td>\n",
       "      <td>Sarina</td>\n",
       "      <td>Schiller</td>\n",
       "      <td>1965</td>\n",
       "      <td>False</td>\n",
       "      <td>2</td>\n",
       "      <td>71704.81</td>\n",
       "      <td>strongly agree</td>\n",
       "      <td>married</td>\n",
       "      <td>4</td>\n",
       "    </tr>\n",
       "    <tr>\n",
       "      <th>4</th>\n",
       "      <td>4</td>\n",
       "      <td>Gust</td>\n",
       "      <td>Abernathy</td>\n",
       "      <td>1945</td>\n",
       "      <td>False</td>\n",
       "      <td>2</td>\n",
       "      <td>143316.08</td>\n",
       "      <td>agree</td>\n",
       "      <td>married</td>\n",
       "      <td>3</td>\n",
       "    </tr>\n",
       "  </tbody>\n",
       "</table>\n",
       "</div>"
      ],
      "text/plain": [
       "   Unnamed: 0 first_name  last_name  birth_year  voted  num_children  \\\n",
       "0           0     Denise      Ratke        2005  False             0   \n",
       "1           1       Hali  Cummerata        1987  False             0   \n",
       "2           2    Salomon        Orn        1992   True             2   \n",
       "3           3     Sarina   Schiller        1965  False             2   \n",
       "4           4       Gust  Abernathy        1945  False             2   \n",
       "\n",
       "   income_year      higher_tax marital_status  higher_tax_codes  \n",
       "0     92129.41        disagree         single                 1  \n",
       "1     75649.17         neutral       divorced                 2  \n",
       "2    166313.45           agree         single                 3  \n",
       "3     71704.81  strongly agree        married                 4  \n",
       "4    143316.08           agree        married                 3  "
      ]
     },
     "execution_count": 279,
     "metadata": {},
     "output_type": "execute_result"
    }
   ],
   "source": [
    "census['higher_tax_codes'] = census['higher_tax'].cat.codes\n",
    "census.head()"
   ]
  },
  {
   "cell_type": "markdown",
   "id": "ff36984f",
   "metadata": {},
   "source": [
    "- Your manager would also like to know the median sentiment of the respondents on the issue of higher taxes for the wealthy"
   ]
  },
  {
   "cell_type": "code",
   "execution_count": 280,
   "id": "2b2fa800",
   "metadata": {},
   "outputs": [
    {
     "data": {
      "text/plain": [
       "2.0"
      ]
     },
     "execution_count": 280,
     "metadata": {},
     "output_type": "execute_result"
    }
   ],
   "source": [
    "median_index = np.median(census['higher_tax_codes'])\n",
    "median_index"
   ]
  },
  {
   "cell_type": "code",
   "execution_count": 281,
   "id": "ea554805",
   "metadata": {},
   "outputs": [
    {
     "data": {
      "text/plain": [
       "'neutral'"
      ]
     },
     "execution_count": 281,
     "metadata": {},
     "output_type": "execute_result"
    }
   ],
   "source": [
    "median_index_status = census_categories[int(median_index)]\n",
    "median_index_status"
   ]
  },
  {
   "cell_type": "markdown",
   "id": "b44cf836",
   "metadata": {},
   "source": [
    "- Create a new variable called marital_codes by Label Encoding the marital_status variable. This could help the Census team use machine learning to predict if a respondent thinks the wealthy should pay higher taxes based on their marital status."
   ]
  },
  {
   "cell_type": "code",
   "execution_count": 282,
   "id": "650ee0be",
   "metadata": {},
   "outputs": [
    {
     "data": {
      "text/plain": [
       "array(['single', 'divorced', 'married', 'widowed'], dtype=object)"
      ]
     },
     "execution_count": 282,
     "metadata": {},
     "output_type": "execute_result"
    }
   ],
   "source": [
    "census['marital_status'].unique()"
   ]
  },
  {
   "cell_type": "code",
   "execution_count": 283,
   "id": "8acf4fd0",
   "metadata": {},
   "outputs": [
    {
     "data": {
      "text/plain": [
       "['single', 'divorced', 'married', 'widowed']\n",
       "Categories (4, object): ['single' < 'married' < 'divorced' < 'widowed']"
      ]
     },
     "execution_count": 283,
     "metadata": {},
     "output_type": "execute_result"
    }
   ],
   "source": [
    "marital_status_categories = ['single', 'married', 'divorced', 'widowed']\n",
    "census['marital_status'] = pd.Categorical(census['marital_status'], marital_status_categories, ordered=True)\n",
    "census['marital_status'].unique()"
   ]
  },
  {
   "cell_type": "code",
   "execution_count": 284,
   "id": "95516f0d",
   "metadata": {},
   "outputs": [
    {
     "data": {
      "text/html": [
       "<div>\n",
       "<style scoped>\n",
       "    .dataframe tbody tr th:only-of-type {\n",
       "        vertical-align: middle;\n",
       "    }\n",
       "\n",
       "    .dataframe tbody tr th {\n",
       "        vertical-align: top;\n",
       "    }\n",
       "\n",
       "    .dataframe thead th {\n",
       "        text-align: right;\n",
       "    }\n",
       "</style>\n",
       "<table border=\"1\" class=\"dataframe\">\n",
       "  <thead>\n",
       "    <tr style=\"text-align: right;\">\n",
       "      <th></th>\n",
       "      <th>Unnamed: 0</th>\n",
       "      <th>first_name</th>\n",
       "      <th>last_name</th>\n",
       "      <th>birth_year</th>\n",
       "      <th>voted</th>\n",
       "      <th>num_children</th>\n",
       "      <th>income_year</th>\n",
       "      <th>higher_tax</th>\n",
       "      <th>marital_status</th>\n",
       "      <th>higher_tax_codes</th>\n",
       "      <th>marital_codes</th>\n",
       "    </tr>\n",
       "  </thead>\n",
       "  <tbody>\n",
       "    <tr>\n",
       "      <th>0</th>\n",
       "      <td>0</td>\n",
       "      <td>Denise</td>\n",
       "      <td>Ratke</td>\n",
       "      <td>2005</td>\n",
       "      <td>False</td>\n",
       "      <td>0</td>\n",
       "      <td>92129.41</td>\n",
       "      <td>disagree</td>\n",
       "      <td>single</td>\n",
       "      <td>1</td>\n",
       "      <td>0</td>\n",
       "    </tr>\n",
       "    <tr>\n",
       "      <th>1</th>\n",
       "      <td>1</td>\n",
       "      <td>Hali</td>\n",
       "      <td>Cummerata</td>\n",
       "      <td>1987</td>\n",
       "      <td>False</td>\n",
       "      <td>0</td>\n",
       "      <td>75649.17</td>\n",
       "      <td>neutral</td>\n",
       "      <td>divorced</td>\n",
       "      <td>2</td>\n",
       "      <td>2</td>\n",
       "    </tr>\n",
       "    <tr>\n",
       "      <th>2</th>\n",
       "      <td>2</td>\n",
       "      <td>Salomon</td>\n",
       "      <td>Orn</td>\n",
       "      <td>1992</td>\n",
       "      <td>True</td>\n",
       "      <td>2</td>\n",
       "      <td>166313.45</td>\n",
       "      <td>agree</td>\n",
       "      <td>single</td>\n",
       "      <td>3</td>\n",
       "      <td>0</td>\n",
       "    </tr>\n",
       "    <tr>\n",
       "      <th>3</th>\n",
       "      <td>3</td>\n",
       "      <td>Sarina</td>\n",
       "      <td>Schiller</td>\n",
       "      <td>1965</td>\n",
       "      <td>False</td>\n",
       "      <td>2</td>\n",
       "      <td>71704.81</td>\n",
       "      <td>strongly agree</td>\n",
       "      <td>married</td>\n",
       "      <td>4</td>\n",
       "      <td>1</td>\n",
       "    </tr>\n",
       "    <tr>\n",
       "      <th>4</th>\n",
       "      <td>4</td>\n",
       "      <td>Gust</td>\n",
       "      <td>Abernathy</td>\n",
       "      <td>1945</td>\n",
       "      <td>False</td>\n",
       "      <td>2</td>\n",
       "      <td>143316.08</td>\n",
       "      <td>agree</td>\n",
       "      <td>married</td>\n",
       "      <td>3</td>\n",
       "      <td>1</td>\n",
       "    </tr>\n",
       "  </tbody>\n",
       "</table>\n",
       "</div>"
      ],
      "text/plain": [
       "   Unnamed: 0 first_name  last_name  birth_year  voted  num_children  \\\n",
       "0           0     Denise      Ratke        2005  False             0   \n",
       "1           1       Hali  Cummerata        1987  False             0   \n",
       "2           2    Salomon        Orn        1992   True             2   \n",
       "3           3     Sarina   Schiller        1965  False             2   \n",
       "4           4       Gust  Abernathy        1945  False             2   \n",
       "\n",
       "   income_year      higher_tax marital_status  higher_tax_codes  marital_codes  \n",
       "0     92129.41        disagree         single                 1              0  \n",
       "1     75649.17         neutral       divorced                 2              2  \n",
       "2    166313.45           agree         single                 3              0  \n",
       "3     71704.81  strongly agree        married                 4              1  \n",
       "4    143316.08           agree        married                 3              1  "
      ]
     },
     "execution_count": 284,
     "metadata": {},
     "output_type": "execute_result"
    }
   ],
   "source": [
    "census['marital_codes'] = census['marital_status'].cat.codes\n",
    "census.head()"
   ]
  },
  {
   "cell_type": "code",
   "execution_count": 285,
   "id": "95dd5199",
   "metadata": {},
   "outputs": [
    {
     "data": {
      "text/plain": [
       "1.0"
      ]
     },
     "execution_count": 285,
     "metadata": {},
     "output_type": "execute_result"
    }
   ],
   "source": [
    "marital_codes_median = np.median(census['marital_codes'])\n",
    "marital_codes_median"
   ]
  },
  {
   "cell_type": "code",
   "execution_count": 286,
   "id": "404f291e",
   "metadata": {},
   "outputs": [
    {
     "data": {
      "text/plain": [
       "'married'"
      ]
     },
     "execution_count": 286,
     "metadata": {},
     "output_type": "execute_result"
    }
   ],
   "source": [
    "marital_codes_median_status = marital_status_categories[int(marital_codes_median)]\n",
    "marital_codes_median_status"
   ]
  },
  {
   "cell_type": "markdown",
   "id": "beab7f5d",
   "metadata": {},
   "source": [
    "- Your manager is interested in using machine learning models on the census data in the future. To help, let’s One-Hot Encode marital_status to create binary variables of each category."
   ]
  },
  {
   "cell_type": "code",
   "execution_count": 287,
   "id": "624aa182",
   "metadata": {},
   "outputs": [
    {
     "data": {
      "text/html": [
       "<div>\n",
       "<style scoped>\n",
       "    .dataframe tbody tr th:only-of-type {\n",
       "        vertical-align: middle;\n",
       "    }\n",
       "\n",
       "    .dataframe tbody tr th {\n",
       "        vertical-align: top;\n",
       "    }\n",
       "\n",
       "    .dataframe thead th {\n",
       "        text-align: right;\n",
       "    }\n",
       "</style>\n",
       "<table border=\"1\" class=\"dataframe\">\n",
       "  <thead>\n",
       "    <tr style=\"text-align: right;\">\n",
       "      <th></th>\n",
       "      <th>Unnamed: 0</th>\n",
       "      <th>first_name</th>\n",
       "      <th>last_name</th>\n",
       "      <th>birth_year</th>\n",
       "      <th>voted</th>\n",
       "      <th>num_children</th>\n",
       "      <th>income_year</th>\n",
       "      <th>higher_tax</th>\n",
       "      <th>higher_tax_codes</th>\n",
       "      <th>marital_codes</th>\n",
       "      <th>marital_status_single</th>\n",
       "      <th>marital_status_married</th>\n",
       "      <th>marital_status_divorced</th>\n",
       "      <th>marital_status_widowed</th>\n",
       "    </tr>\n",
       "  </thead>\n",
       "  <tbody>\n",
       "    <tr>\n",
       "      <th>0</th>\n",
       "      <td>0</td>\n",
       "      <td>Denise</td>\n",
       "      <td>Ratke</td>\n",
       "      <td>2005</td>\n",
       "      <td>False</td>\n",
       "      <td>0</td>\n",
       "      <td>92129.41</td>\n",
       "      <td>disagree</td>\n",
       "      <td>1</td>\n",
       "      <td>0</td>\n",
       "      <td>1</td>\n",
       "      <td>0</td>\n",
       "      <td>0</td>\n",
       "      <td>0</td>\n",
       "    </tr>\n",
       "    <tr>\n",
       "      <th>1</th>\n",
       "      <td>1</td>\n",
       "      <td>Hali</td>\n",
       "      <td>Cummerata</td>\n",
       "      <td>1987</td>\n",
       "      <td>False</td>\n",
       "      <td>0</td>\n",
       "      <td>75649.17</td>\n",
       "      <td>neutral</td>\n",
       "      <td>2</td>\n",
       "      <td>2</td>\n",
       "      <td>0</td>\n",
       "      <td>0</td>\n",
       "      <td>1</td>\n",
       "      <td>0</td>\n",
       "    </tr>\n",
       "    <tr>\n",
       "      <th>2</th>\n",
       "      <td>2</td>\n",
       "      <td>Salomon</td>\n",
       "      <td>Orn</td>\n",
       "      <td>1992</td>\n",
       "      <td>True</td>\n",
       "      <td>2</td>\n",
       "      <td>166313.45</td>\n",
       "      <td>agree</td>\n",
       "      <td>3</td>\n",
       "      <td>0</td>\n",
       "      <td>1</td>\n",
       "      <td>0</td>\n",
       "      <td>0</td>\n",
       "      <td>0</td>\n",
       "    </tr>\n",
       "    <tr>\n",
       "      <th>3</th>\n",
       "      <td>3</td>\n",
       "      <td>Sarina</td>\n",
       "      <td>Schiller</td>\n",
       "      <td>1965</td>\n",
       "      <td>False</td>\n",
       "      <td>2</td>\n",
       "      <td>71704.81</td>\n",
       "      <td>strongly agree</td>\n",
       "      <td>4</td>\n",
       "      <td>1</td>\n",
       "      <td>0</td>\n",
       "      <td>1</td>\n",
       "      <td>0</td>\n",
       "      <td>0</td>\n",
       "    </tr>\n",
       "    <tr>\n",
       "      <th>4</th>\n",
       "      <td>4</td>\n",
       "      <td>Gust</td>\n",
       "      <td>Abernathy</td>\n",
       "      <td>1945</td>\n",
       "      <td>False</td>\n",
       "      <td>2</td>\n",
       "      <td>143316.08</td>\n",
       "      <td>agree</td>\n",
       "      <td>3</td>\n",
       "      <td>1</td>\n",
       "      <td>0</td>\n",
       "      <td>1</td>\n",
       "      <td>0</td>\n",
       "      <td>0</td>\n",
       "    </tr>\n",
       "  </tbody>\n",
       "</table>\n",
       "</div>"
      ],
      "text/plain": [
       "   Unnamed: 0 first_name  last_name  birth_year  voted  num_children  \\\n",
       "0           0     Denise      Ratke        2005  False             0   \n",
       "1           1       Hali  Cummerata        1987  False             0   \n",
       "2           2    Salomon        Orn        1992   True             2   \n",
       "3           3     Sarina   Schiller        1965  False             2   \n",
       "4           4       Gust  Abernathy        1945  False             2   \n",
       "\n",
       "   income_year      higher_tax  higher_tax_codes  marital_codes  \\\n",
       "0     92129.41        disagree                 1              0   \n",
       "1     75649.17         neutral                 2              2   \n",
       "2    166313.45           agree                 3              0   \n",
       "3     71704.81  strongly agree                 4              1   \n",
       "4    143316.08           agree                 3              1   \n",
       "\n",
       "   marital_status_single  marital_status_married  marital_status_divorced  \\\n",
       "0                      1                       0                        0   \n",
       "1                      0                       0                        1   \n",
       "2                      1                       0                        0   \n",
       "3                      0                       1                        0   \n",
       "4                      0                       1                        0   \n",
       "\n",
       "   marital_status_widowed  \n",
       "0                       0  \n",
       "1                       0  \n",
       "2                       0  \n",
       "3                       0  \n",
       "4                       0  "
      ]
     },
     "execution_count": 287,
     "metadata": {},
     "output_type": "execute_result"
    }
   ],
   "source": [
    "census = pd.get_dummies(data=census, columns=['marital_status'])\n",
    "census.head()"
   ]
  },
  {
   "cell_type": "markdown",
   "id": "9dde94c8",
   "metadata": {},
   "source": [
    "- Create a new variable called age_group, which groups respondents based on their birth year. The groups should be in five-year increments, e.g., 25-30, 31-35, etc."
   ]
  },
  {
   "cell_type": "code",
   "execution_count": 288,
   "id": "72aebdcb",
   "metadata": {},
   "outputs": [],
   "source": [
    "census['age'] = 2021 - census['birth_year']"
   ]
  },
  {
   "cell_type": "code",
   "execution_count": 289,
   "id": "0fcb31e9",
   "metadata": {},
   "outputs": [],
   "source": [
    "age_bins = np.arange(min(census['age']) - 4, 100, 5)"
   ]
  },
  {
   "cell_type": "code",
   "execution_count": 290,
   "id": "92e7650f",
   "metadata": {},
   "outputs": [],
   "source": [
    "census['age_group'] = pd.cut(census['age'], bins=age_bins)"
   ]
  },
  {
   "cell_type": "code",
   "execution_count": 291,
   "id": "4bf76f61",
   "metadata": {},
   "outputs": [
    {
     "data": {
      "text/html": [
       "<div>\n",
       "<style scoped>\n",
       "    .dataframe tbody tr th:only-of-type {\n",
       "        vertical-align: middle;\n",
       "    }\n",
       "\n",
       "    .dataframe tbody tr th {\n",
       "        vertical-align: top;\n",
       "    }\n",
       "\n",
       "    .dataframe thead th {\n",
       "        text-align: right;\n",
       "    }\n",
       "</style>\n",
       "<table border=\"1\" class=\"dataframe\">\n",
       "  <thead>\n",
       "    <tr style=\"text-align: right;\">\n",
       "      <th></th>\n",
       "      <th>Unnamed: 0</th>\n",
       "      <th>first_name</th>\n",
       "      <th>last_name</th>\n",
       "      <th>birth_year</th>\n",
       "      <th>voted</th>\n",
       "      <th>num_children</th>\n",
       "      <th>income_year</th>\n",
       "      <th>higher_tax</th>\n",
       "      <th>higher_tax_codes</th>\n",
       "      <th>marital_codes</th>\n",
       "      <th>marital_status_single</th>\n",
       "      <th>marital_status_married</th>\n",
       "      <th>marital_status_divorced</th>\n",
       "      <th>marital_status_widowed</th>\n",
       "      <th>age</th>\n",
       "      <th>age_group</th>\n",
       "    </tr>\n",
       "  </thead>\n",
       "  <tbody>\n",
       "    <tr>\n",
       "      <th>0</th>\n",
       "      <td>0</td>\n",
       "      <td>Denise</td>\n",
       "      <td>Ratke</td>\n",
       "      <td>2005</td>\n",
       "      <td>False</td>\n",
       "      <td>0</td>\n",
       "      <td>92129.41</td>\n",
       "      <td>disagree</td>\n",
       "      <td>1</td>\n",
       "      <td>0</td>\n",
       "      <td>1</td>\n",
       "      <td>0</td>\n",
       "      <td>0</td>\n",
       "      <td>0</td>\n",
       "      <td>16</td>\n",
       "      <td>(15, 20]</td>\n",
       "    </tr>\n",
       "    <tr>\n",
       "      <th>1</th>\n",
       "      <td>1</td>\n",
       "      <td>Hali</td>\n",
       "      <td>Cummerata</td>\n",
       "      <td>1987</td>\n",
       "      <td>False</td>\n",
       "      <td>0</td>\n",
       "      <td>75649.17</td>\n",
       "      <td>neutral</td>\n",
       "      <td>2</td>\n",
       "      <td>2</td>\n",
       "      <td>0</td>\n",
       "      <td>0</td>\n",
       "      <td>1</td>\n",
       "      <td>0</td>\n",
       "      <td>34</td>\n",
       "      <td>(30, 35]</td>\n",
       "    </tr>\n",
       "    <tr>\n",
       "      <th>2</th>\n",
       "      <td>2</td>\n",
       "      <td>Salomon</td>\n",
       "      <td>Orn</td>\n",
       "      <td>1992</td>\n",
       "      <td>True</td>\n",
       "      <td>2</td>\n",
       "      <td>166313.45</td>\n",
       "      <td>agree</td>\n",
       "      <td>3</td>\n",
       "      <td>0</td>\n",
       "      <td>1</td>\n",
       "      <td>0</td>\n",
       "      <td>0</td>\n",
       "      <td>0</td>\n",
       "      <td>29</td>\n",
       "      <td>(25, 30]</td>\n",
       "    </tr>\n",
       "    <tr>\n",
       "      <th>3</th>\n",
       "      <td>3</td>\n",
       "      <td>Sarina</td>\n",
       "      <td>Schiller</td>\n",
       "      <td>1965</td>\n",
       "      <td>False</td>\n",
       "      <td>2</td>\n",
       "      <td>71704.81</td>\n",
       "      <td>strongly agree</td>\n",
       "      <td>4</td>\n",
       "      <td>1</td>\n",
       "      <td>0</td>\n",
       "      <td>1</td>\n",
       "      <td>0</td>\n",
       "      <td>0</td>\n",
       "      <td>56</td>\n",
       "      <td>(55, 60]</td>\n",
       "    </tr>\n",
       "    <tr>\n",
       "      <th>4</th>\n",
       "      <td>4</td>\n",
       "      <td>Gust</td>\n",
       "      <td>Abernathy</td>\n",
       "      <td>1945</td>\n",
       "      <td>False</td>\n",
       "      <td>2</td>\n",
       "      <td>143316.08</td>\n",
       "      <td>agree</td>\n",
       "      <td>3</td>\n",
       "      <td>1</td>\n",
       "      <td>0</td>\n",
       "      <td>1</td>\n",
       "      <td>0</td>\n",
       "      <td>0</td>\n",
       "      <td>76</td>\n",
       "      <td>(75, 80]</td>\n",
       "    </tr>\n",
       "  </tbody>\n",
       "</table>\n",
       "</div>"
      ],
      "text/plain": [
       "   Unnamed: 0 first_name  last_name  birth_year  voted  num_children  \\\n",
       "0           0     Denise      Ratke        2005  False             0   \n",
       "1           1       Hali  Cummerata        1987  False             0   \n",
       "2           2    Salomon        Orn        1992   True             2   \n",
       "3           3     Sarina   Schiller        1965  False             2   \n",
       "4           4       Gust  Abernathy        1945  False             2   \n",
       "\n",
       "   income_year      higher_tax  higher_tax_codes  marital_codes  \\\n",
       "0     92129.41        disagree                 1              0   \n",
       "1     75649.17         neutral                 2              2   \n",
       "2    166313.45           agree                 3              0   \n",
       "3     71704.81  strongly agree                 4              1   \n",
       "4    143316.08           agree                 3              1   \n",
       "\n",
       "   marital_status_single  marital_status_married  marital_status_divorced  \\\n",
       "0                      1                       0                        0   \n",
       "1                      0                       0                        1   \n",
       "2                      1                       0                        0   \n",
       "3                      0                       1                        0   \n",
       "4                      0                       1                        0   \n",
       "\n",
       "   marital_status_widowed  age age_group  \n",
       "0                       0   16  (15, 20]  \n",
       "1                       0   34  (30, 35]  \n",
       "2                       0   29  (25, 30]  \n",
       "3                       0   56  (55, 60]  \n",
       "4                       0   76  (75, 80]  "
      ]
     },
     "execution_count": 291,
     "metadata": {},
     "output_type": "execute_result"
    }
   ],
   "source": [
    "census.head()"
   ]
  }
 ],
 "metadata": {
  "kernelspec": {
   "display_name": "Python 3",
   "language": "python",
   "name": "python3"
  },
  "language_info": {
   "codemirror_mode": {
    "name": "ipython",
    "version": 3
   },
   "file_extension": ".py",
   "mimetype": "text/x-python",
   "name": "python",
   "nbconvert_exporter": "python",
   "pygments_lexer": "ipython3",
   "version": "3.8.8"
  }
 },
 "nbformat": 4,
 "nbformat_minor": 5
}
