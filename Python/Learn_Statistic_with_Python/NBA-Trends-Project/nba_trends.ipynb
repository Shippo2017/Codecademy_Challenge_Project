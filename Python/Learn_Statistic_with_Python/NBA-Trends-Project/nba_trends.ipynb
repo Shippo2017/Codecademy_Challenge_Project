{
 "cells": [
  {
   "cell_type": "markdown",
   "id": "9246d552",
   "metadata": {},
   "source": [
    "# NBA Trends"
   ]
  },
  {
   "cell_type": "markdown",
   "id": "b4c9567f",
   "metadata": {},
   "source": [
    "In this project, you’ll analyze data from the NBA (National Basketball Association) and explore possible associations."
   ]
  },
  {
   "cell_type": "code",
   "execution_count": 2,
   "id": "53bd4448",
   "metadata": {},
   "outputs": [],
   "source": [
    "import numpy as np\n",
    "import pandas as pd\n",
    "from scipy.stats import pearsonr, chi2_contingency\n",
    "import matplotlib.pyplot as plt\n",
    "import seaborn as sns"
   ]
  },
  {
   "cell_type": "markdown",
   "id": "c8f0e600",
   "metadata": {},
   "source": [
    "### Analyzing relationships between Quant and Categorical "
   ]
  },
  {
   "cell_type": "code",
   "execution_count": 3,
   "id": "e162b45b",
   "metadata": {},
   "outputs": [
    {
     "data": {
      "text/html": [
       "<div>\n",
       "<style scoped>\n",
       "    .dataframe tbody tr th:only-of-type {\n",
       "        vertical-align: middle;\n",
       "    }\n",
       "\n",
       "    .dataframe tbody tr th {\n",
       "        vertical-align: top;\n",
       "    }\n",
       "\n",
       "    .dataframe thead th {\n",
       "        text-align: right;\n",
       "    }\n",
       "</style>\n",
       "<table border=\"1\" class=\"dataframe\">\n",
       "  <thead>\n",
       "    <tr style=\"text-align: right;\">\n",
       "      <th></th>\n",
       "      <th>game_id</th>\n",
       "      <th>year_id</th>\n",
       "      <th>fran_id</th>\n",
       "      <th>opp_fran</th>\n",
       "      <th>game_location</th>\n",
       "      <th>is_playoffs</th>\n",
       "      <th>pts</th>\n",
       "      <th>opp_pts</th>\n",
       "      <th>game_result</th>\n",
       "      <th>forecast</th>\n",
       "      <th>point_diff</th>\n",
       "    </tr>\n",
       "  </thead>\n",
       "  <tbody>\n",
       "    <tr>\n",
       "      <th>0</th>\n",
       "      <td>194611010TRH</td>\n",
       "      <td>1947</td>\n",
       "      <td>Knicks</td>\n",
       "      <td>Huskies</td>\n",
       "      <td>A</td>\n",
       "      <td>0</td>\n",
       "      <td>68</td>\n",
       "      <td>66</td>\n",
       "      <td>W</td>\n",
       "      <td>0.359935</td>\n",
       "      <td>2</td>\n",
       "    </tr>\n",
       "    <tr>\n",
       "      <th>1</th>\n",
       "      <td>194611020CHS</td>\n",
       "      <td>1947</td>\n",
       "      <td>Knicks</td>\n",
       "      <td>Stags</td>\n",
       "      <td>A</td>\n",
       "      <td>0</td>\n",
       "      <td>47</td>\n",
       "      <td>63</td>\n",
       "      <td>L</td>\n",
       "      <td>0.368899</td>\n",
       "      <td>-16</td>\n",
       "    </tr>\n",
       "    <tr>\n",
       "      <th>2</th>\n",
       "      <td>194611020PRO</td>\n",
       "      <td>1947</td>\n",
       "      <td>Celtics</td>\n",
       "      <td>Steamrollers</td>\n",
       "      <td>A</td>\n",
       "      <td>0</td>\n",
       "      <td>53</td>\n",
       "      <td>59</td>\n",
       "      <td>L</td>\n",
       "      <td>0.359935</td>\n",
       "      <td>-6</td>\n",
       "    </tr>\n",
       "    <tr>\n",
       "      <th>3</th>\n",
       "      <td>194611050BOS</td>\n",
       "      <td>1947</td>\n",
       "      <td>Celtics</td>\n",
       "      <td>Stags</td>\n",
       "      <td>H</td>\n",
       "      <td>0</td>\n",
       "      <td>55</td>\n",
       "      <td>57</td>\n",
       "      <td>L</td>\n",
       "      <td>0.620204</td>\n",
       "      <td>-2</td>\n",
       "    </tr>\n",
       "    <tr>\n",
       "      <th>4</th>\n",
       "      <td>194611070STB</td>\n",
       "      <td>1947</td>\n",
       "      <td>Knicks</td>\n",
       "      <td>Bombers</td>\n",
       "      <td>A</td>\n",
       "      <td>0</td>\n",
       "      <td>68</td>\n",
       "      <td>63</td>\n",
       "      <td>W</td>\n",
       "      <td>0.339290</td>\n",
       "      <td>5</td>\n",
       "    </tr>\n",
       "  </tbody>\n",
       "</table>\n",
       "</div>"
      ],
      "text/plain": [
       "        game_id  year_id  fran_id      opp_fran game_location  is_playoffs  \\\n",
       "0  194611010TRH     1947   Knicks       Huskies             A            0   \n",
       "1  194611020CHS     1947   Knicks         Stags             A            0   \n",
       "2  194611020PRO     1947  Celtics  Steamrollers             A            0   \n",
       "3  194611050BOS     1947  Celtics         Stags             H            0   \n",
       "4  194611070STB     1947   Knicks       Bombers             A            0   \n",
       "\n",
       "   pts  opp_pts game_result  forecast  point_diff  \n",
       "0   68       66           W  0.359935           2  \n",
       "1   47       63           L  0.368899         -16  \n",
       "2   53       59           L  0.359935          -6  \n",
       "3   55       57           L  0.620204          -2  \n",
       "4   68       63           W  0.339290           5  "
      ]
     },
     "execution_count": 3,
     "metadata": {},
     "output_type": "execute_result"
    }
   ],
   "source": [
    "nba = pd.read_csv('nba_games.csv')\n",
    "nba.head()"
   ]
  },
  {
   "cell_type": "markdown",
   "id": "c583e3be",
   "metadata": {},
   "source": [
    "(point_diff, the difference between pts and opp_pts)"
   ]
  },
  {
   "cell_type": "code",
   "execution_count": 84,
   "id": "fbcd624b",
   "metadata": {},
   "outputs": [
    {
     "data": {
      "text/plain": [
       "game_id          24359\n",
       "year_id          24359\n",
       "fran_id          24359\n",
       "opp_fran         24359\n",
       "game_location    24359\n",
       "is_playoffs      24359\n",
       "pts              24359\n",
       "opp_pts          24359\n",
       "game_result      24359\n",
       "forecast         24359\n",
       "point_diff       24359\n",
       "dtype: int64"
      ]
     },
     "execution_count": 84,
     "metadata": {},
     "output_type": "execute_result"
    }
   ],
   "source": [
    "nba.count()"
   ]
  },
  {
   "cell_type": "code",
   "execution_count": 7,
   "id": "0c301a66",
   "metadata": {},
   "outputs": [
    {
     "data": {
      "text/plain": [
       "game_id           object\n",
       "year_id            int64\n",
       "fran_id           object\n",
       "opp_fran          object\n",
       "game_location     object\n",
       "is_playoffs        int64\n",
       "pts                int64\n",
       "opp_pts            int64\n",
       "game_result       object\n",
       "forecast         float64\n",
       "point_diff         int64\n",
       "dtype: object"
      ]
     },
     "execution_count": 7,
     "metadata": {},
     "output_type": "execute_result"
    }
   ],
   "source": [
    "nba.dtypes"
   ]
  },
  {
   "cell_type": "code",
   "execution_count": 4,
   "id": "257f87d0",
   "metadata": {},
   "outputs": [
    {
     "data": {
      "text/plain": [
       "array([1947, 1948, 1949, 1950, 1951, 1952, 1953, 1954, 1955, 1956, 1957,\n",
       "       1958, 1959, 1960, 1961, 1962, 1963, 1964, 1965, 1966, 1967, 1968,\n",
       "       1969, 1970, 1971, 1972, 1973, 1974, 1975, 1976, 1977, 1978, 1979,\n",
       "       1980, 1981, 1982, 1983, 1984, 1985, 1986, 1987, 1988, 1989, 1990,\n",
       "       1991, 1992, 1993, 1994, 1995, 1996, 1997, 1998, 1999, 2000, 2001,\n",
       "       2002, 2003, 2004, 2005, 2006, 2007, 2008, 2009, 2010, 2011, 2012,\n",
       "       2013, 2014, 2015], dtype=int64)"
      ]
     },
     "execution_count": 4,
     "metadata": {},
     "output_type": "execute_result"
    }
   ],
   "source": [
    "nba['year_id'].unique()"
   ]
  },
  {
   "cell_type": "markdown",
   "id": "02d674ca",
   "metadata": {},
   "source": [
    "#### The data has been subsetted for you into two smaller datasets: games from 2010 (named nba_2010) and games from 2014 (named nba_2014)"
   ]
  },
  {
   "cell_type": "markdown",
   "id": "6f398ec6",
   "metadata": {},
   "source": [
    "##### 2010 (Knicks Vs Nets)"
   ]
  },
  {
   "cell_type": "code",
   "execution_count": 6,
   "id": "2bdc133c",
   "metadata": {},
   "outputs": [
    {
     "data": {
      "text/html": [
       "<div>\n",
       "<style scoped>\n",
       "    .dataframe tbody tr th:only-of-type {\n",
       "        vertical-align: middle;\n",
       "    }\n",
       "\n",
       "    .dataframe tbody tr th {\n",
       "        vertical-align: top;\n",
       "    }\n",
       "\n",
       "    .dataframe thead th {\n",
       "        text-align: right;\n",
       "    }\n",
       "</style>\n",
       "<table border=\"1\" class=\"dataframe\">\n",
       "  <thead>\n",
       "    <tr style=\"text-align: right;\">\n",
       "      <th></th>\n",
       "      <th>game_id</th>\n",
       "      <th>year_id</th>\n",
       "      <th>fran_id</th>\n",
       "      <th>opp_fran</th>\n",
       "      <th>game_location</th>\n",
       "      <th>is_playoffs</th>\n",
       "      <th>pts</th>\n",
       "      <th>opp_pts</th>\n",
       "      <th>game_result</th>\n",
       "      <th>forecast</th>\n",
       "      <th>point_diff</th>\n",
       "    </tr>\n",
       "  </thead>\n",
       "  <tbody>\n",
       "    <tr>\n",
       "      <th>21717</th>\n",
       "      <td>200910270CLE</td>\n",
       "      <td>2010</td>\n",
       "      <td>Celtics</td>\n",
       "      <td>Cavaliers</td>\n",
       "      <td>A</td>\n",
       "      <td>0</td>\n",
       "      <td>95</td>\n",
       "      <td>89</td>\n",
       "      <td>W</td>\n",
       "      <td>0.277472</td>\n",
       "      <td>6</td>\n",
       "    </tr>\n",
       "    <tr>\n",
       "      <th>21718</th>\n",
       "      <td>200910280BOS</td>\n",
       "      <td>2010</td>\n",
       "      <td>Celtics</td>\n",
       "      <td>Hornets</td>\n",
       "      <td>H</td>\n",
       "      <td>0</td>\n",
       "      <td>92</td>\n",
       "      <td>59</td>\n",
       "      <td>W</td>\n",
       "      <td>0.814619</td>\n",
       "      <td>33</td>\n",
       "    </tr>\n",
       "    <tr>\n",
       "      <th>21719</th>\n",
       "      <td>200910280MIA</td>\n",
       "      <td>2010</td>\n",
       "      <td>Knicks</td>\n",
       "      <td>Heat</td>\n",
       "      <td>A</td>\n",
       "      <td>0</td>\n",
       "      <td>93</td>\n",
       "      <td>115</td>\n",
       "      <td>L</td>\n",
       "      <td>0.258755</td>\n",
       "      <td>-22</td>\n",
       "    </tr>\n",
       "    <tr>\n",
       "      <th>21720</th>\n",
       "      <td>200910280MIN</td>\n",
       "      <td>2010</td>\n",
       "      <td>Nets</td>\n",
       "      <td>Timberwolves</td>\n",
       "      <td>A</td>\n",
       "      <td>0</td>\n",
       "      <td>93</td>\n",
       "      <td>95</td>\n",
       "      <td>L</td>\n",
       "      <td>0.475155</td>\n",
       "      <td>-2</td>\n",
       "    </tr>\n",
       "    <tr>\n",
       "      <th>21721</th>\n",
       "      <td>200910280OKC</td>\n",
       "      <td>2010</td>\n",
       "      <td>Thunder</td>\n",
       "      <td>Kings</td>\n",
       "      <td>H</td>\n",
       "      <td>0</td>\n",
       "      <td>102</td>\n",
       "      <td>89</td>\n",
       "      <td>W</td>\n",
       "      <td>0.716764</td>\n",
       "      <td>13</td>\n",
       "    </tr>\n",
       "  </tbody>\n",
       "</table>\n",
       "</div>"
      ],
      "text/plain": [
       "            game_id  year_id  fran_id      opp_fran game_location  \\\n",
       "21717  200910270CLE     2010  Celtics     Cavaliers             A   \n",
       "21718  200910280BOS     2010  Celtics       Hornets             H   \n",
       "21719  200910280MIA     2010   Knicks          Heat             A   \n",
       "21720  200910280MIN     2010     Nets  Timberwolves             A   \n",
       "21721  200910280OKC     2010  Thunder         Kings             H   \n",
       "\n",
       "       is_playoffs  pts  opp_pts game_result  forecast  point_diff  \n",
       "21717            0   95       89           W  0.277472           6  \n",
       "21718            0   92       59           W  0.814619          33  \n",
       "21719            0   93      115           L  0.258755         -22  \n",
       "21720            0   93       95           L  0.475155          -2  \n",
       "21721            0  102       89           W  0.716764          13  "
      ]
     },
     "execution_count": 6,
     "metadata": {},
     "output_type": "execute_result"
    }
   ],
   "source": [
    "nba_2010 = nba[nba['year_id'] == 2010]\n",
    "nba_2010.head()"
   ]
  },
  {
   "cell_type": "code",
   "execution_count": 9,
   "id": "0cdb62eb",
   "metadata": {},
   "outputs": [
    {
     "data": {
      "text/plain": [
       "array(['Celtics', 'Knicks', 'Nets', 'Thunder', 'Spurs'], dtype=object)"
      ]
     },
     "execution_count": 9,
     "metadata": {},
     "output_type": "execute_result"
    }
   ],
   "source": [
    "nba_2010['fran_id'].unique()"
   ]
  },
  {
   "cell_type": "markdown",
   "id": "e4a27893",
   "metadata": {},
   "source": [
    "- represent the points each team has scored in their games"
   ]
  },
  {
   "cell_type": "code",
   "execution_count": 23,
   "id": "02cffb1c",
   "metadata": {},
   "outputs": [],
   "source": [
    "knicks_pts = nba_2010.pts[nba_2010['fran_id'] == 'Knicks']\n",
    "# knicks_pts"
   ]
  },
  {
   "cell_type": "code",
   "execution_count": 22,
   "id": "d7f05689",
   "metadata": {},
   "outputs": [],
   "source": [
    "nets_pts = nba_2010.pts[nba_2010['fran_id'] == 'Nets']\n",
    "# nets_pts"
   ]
  },
  {
   "cell_type": "markdown",
   "id": "fc892f8a",
   "metadata": {},
   "source": [
    "- Calculate the difference between the two teams’ average points scored"
   ]
  },
  {
   "cell_type": "code",
   "execution_count": 26,
   "id": "04fb77e2",
   "metadata": {},
   "outputs": [
    {
     "data": {
      "text/plain": [
       "102.10975609756098"
      ]
     },
     "execution_count": 26,
     "metadata": {},
     "output_type": "execute_result"
    }
   ],
   "source": [
    "knicks_pts_mean = np.mean(knicks_pts)\n",
    "knicks_pts_mean"
   ]
  },
  {
   "cell_type": "code",
   "execution_count": 28,
   "id": "61f3cca7",
   "metadata": {},
   "outputs": [
    {
     "data": {
      "text/plain": [
       "92.3780487804878"
      ]
     },
     "execution_count": 28,
     "metadata": {},
     "output_type": "execute_result"
    }
   ],
   "source": [
    "nets_pts_mean = np.mean(nets_pts)\n",
    "nets_pts_mean"
   ]
  },
  {
   "cell_type": "code",
   "execution_count": 29,
   "id": "ce656e09",
   "metadata": {},
   "outputs": [
    {
     "data": {
      "text/plain": [
       "9.731707317073173"
      ]
     },
     "execution_count": 29,
     "metadata": {},
     "output_type": "execute_result"
    }
   ],
   "source": [
    "diff_mean_2010 = knicks_pts_mean - nets_pts_mean\n",
    "diff_mean_2010"
   ]
  },
  {
   "cell_type": "markdown",
   "id": "995fdd2d",
   "metadata": {},
   "source": [
    "Based on this value highly associated variables tend to have a large mean difference."
   ]
  },
  {
   "cell_type": "markdown",
   "id": "84df8aa5",
   "metadata": {},
   "source": [
    "- Create a set of overlapping histograms that can be used to compare the points scored for the Knicks compared to the Nets"
   ]
  },
  {
   "cell_type": "code",
   "execution_count": 61,
   "id": "e8c6285a",
   "metadata": {},
   "outputs": [
    {
     "data": {
      "image/png": "[encoded data removed]",
      "text/plain": [
       "<Figure size 720x360 with 1 Axes>"
      ]
     },
     "metadata": {
      "needs_background": "light"
     },
     "output_type": "display_data"
    },
    {
     "data": {
      "text/plain": [
       "<Figure size 432x288 with 0 Axes>"
      ]
     },
     "metadata": {},
     "output_type": "display_data"
    }
   ],
   "source": [
    "plt.figure(figsize=(10,5))\n",
    "plt.hist(knicks_pts, color='blue', label='Knicks', density=True, alpha=0.5)\n",
    "plt.hist(nets_pts, color='red', label='Nets', density=True, alpha=0.5)\n",
    "plt.xlabel('Points each team')\n",
    "plt.ylabel('Frequency')\n",
    "plt.title('Knicks Vs Nets (NBA 2010)', fontsize=20)\n",
    "plt.show()\n",
    "plt.clf()"
   ]
  },
  {
   "cell_type": "markdown",
   "id": "1fa2dbd2",
   "metadata": {},
   "source": [
    "There is still a lot of overlap between the scores, suggesting that the association is relatively weak."
   ]
  },
  {
   "cell_type": "markdown",
   "id": "1e63f7e6",
   "metadata": {},
   "source": [
    "- let’s compare the 2010 games to 2014. Replicate the steps from the previous three exercises using nba_2014"
   ]
  },
  {
   "cell_type": "markdown",
   "id": "e14ad942",
   "metadata": {},
   "source": [
    "##### 2014 (Knicks Vs Nets) "
   ]
  },
  {
   "cell_type": "code",
   "execution_count": 38,
   "id": "d3fa676c",
   "metadata": {},
   "outputs": [
    {
     "data": {
      "text/html": [
       "<div>\n",
       "<style scoped>\n",
       "    .dataframe tbody tr th:only-of-type {\n",
       "        vertical-align: middle;\n",
       "    }\n",
       "\n",
       "    .dataframe tbody tr th {\n",
       "        vertical-align: top;\n",
       "    }\n",
       "\n",
       "    .dataframe thead th {\n",
       "        text-align: right;\n",
       "    }\n",
       "</style>\n",
       "<table border=\"1\" class=\"dataframe\">\n",
       "  <thead>\n",
       "    <tr style=\"text-align: right;\">\n",
       "      <th></th>\n",
       "      <th>game_id</th>\n",
       "      <th>year_id</th>\n",
       "      <th>fran_id</th>\n",
       "      <th>opp_fran</th>\n",
       "      <th>game_location</th>\n",
       "      <th>is_playoffs</th>\n",
       "      <th>pts</th>\n",
       "      <th>opp_pts</th>\n",
       "      <th>game_result</th>\n",
       "      <th>forecast</th>\n",
       "      <th>point_diff</th>\n",
       "    </tr>\n",
       "  </thead>\n",
       "  <tbody>\n",
       "    <tr>\n",
       "      <th>23468</th>\n",
       "      <td>201310300CLE</td>\n",
       "      <td>2014</td>\n",
       "      <td>Nets</td>\n",
       "      <td>Cavaliers</td>\n",
       "      <td>A</td>\n",
       "      <td>0</td>\n",
       "      <td>94</td>\n",
       "      <td>98</td>\n",
       "      <td>L</td>\n",
       "      <td>0.611981</td>\n",
       "      <td>-4</td>\n",
       "    </tr>\n",
       "    <tr>\n",
       "      <th>23469</th>\n",
       "      <td>201310300NYK</td>\n",
       "      <td>2014</td>\n",
       "      <td>Knicks</td>\n",
       "      <td>Bucks</td>\n",
       "      <td>H</td>\n",
       "      <td>0</td>\n",
       "      <td>90</td>\n",
       "      <td>83</td>\n",
       "      <td>W</td>\n",
       "      <td>0.793150</td>\n",
       "      <td>7</td>\n",
       "    </tr>\n",
       "    <tr>\n",
       "      <th>23470</th>\n",
       "      <td>201310300SAS</td>\n",
       "      <td>2014</td>\n",
       "      <td>Spurs</td>\n",
       "      <td>Grizzlies</td>\n",
       "      <td>H</td>\n",
       "      <td>0</td>\n",
       "      <td>101</td>\n",
       "      <td>94</td>\n",
       "      <td>W</td>\n",
       "      <td>0.692980</td>\n",
       "      <td>7</td>\n",
       "    </tr>\n",
       "    <tr>\n",
       "      <th>23471</th>\n",
       "      <td>201310300TOR</td>\n",
       "      <td>2014</td>\n",
       "      <td>Celtics</td>\n",
       "      <td>Raptors</td>\n",
       "      <td>A</td>\n",
       "      <td>0</td>\n",
       "      <td>87</td>\n",
       "      <td>93</td>\n",
       "      <td>L</td>\n",
       "      <td>0.361233</td>\n",
       "      <td>-6</td>\n",
       "    </tr>\n",
       "    <tr>\n",
       "      <th>23472</th>\n",
       "      <td>201310300UTA</td>\n",
       "      <td>2014</td>\n",
       "      <td>Thunder</td>\n",
       "      <td>Jazz</td>\n",
       "      <td>A</td>\n",
       "      <td>0</td>\n",
       "      <td>101</td>\n",
       "      <td>98</td>\n",
       "      <td>W</td>\n",
       "      <td>0.526056</td>\n",
       "      <td>3</td>\n",
       "    </tr>\n",
       "  </tbody>\n",
       "</table>\n",
       "</div>"
      ],
      "text/plain": [
       "            game_id  year_id  fran_id   opp_fran game_location  is_playoffs  \\\n",
       "23468  201310300CLE     2014     Nets  Cavaliers             A            0   \n",
       "23469  201310300NYK     2014   Knicks      Bucks             H            0   \n",
       "23470  201310300SAS     2014    Spurs  Grizzlies             H            0   \n",
       "23471  201310300TOR     2014  Celtics    Raptors             A            0   \n",
       "23472  201310300UTA     2014  Thunder       Jazz             A            0   \n",
       "\n",
       "       pts  opp_pts game_result  forecast  point_diff  \n",
       "23468   94       98           L  0.611981          -4  \n",
       "23469   90       83           W  0.793150           7  \n",
       "23470  101       94           W  0.692980           7  \n",
       "23471   87       93           L  0.361233          -6  \n",
       "23472  101       98           W  0.526056           3  "
      ]
     },
     "execution_count": 38,
     "metadata": {},
     "output_type": "execute_result"
    }
   ],
   "source": [
    "nba_2014 = nba[nba['year_id'] == 2014]\n",
    "nba_2014.head()"
   ]
  },
  {
   "cell_type": "code",
   "execution_count": 48,
   "id": "3f71aa8c",
   "metadata": {},
   "outputs": [
    {
     "data": {
      "text/plain": [
       "array(['Nets', 'Knicks', 'Spurs', 'Celtics', 'Thunder'], dtype=object)"
      ]
     },
     "execution_count": 48,
     "metadata": {},
     "output_type": "execute_result"
    }
   ],
   "source": [
    "nba_2014['fran_id'].unique()"
   ]
  },
  {
   "cell_type": "code",
   "execution_count": 45,
   "id": "bdac55cd",
   "metadata": {},
   "outputs": [],
   "source": [
    "knicks_pts14 = nba_2014.pts[nba_2014['fran_id'] == 'Knicks']\n",
    "# knicks_pts14\n",
    "nets_pts14 = nba_2014.pts[nba_2014['fran_id'] == 'Nets']\n",
    "# nets_pts14"
   ]
  },
  {
   "cell_type": "code",
   "execution_count": 46,
   "id": "246f13f9",
   "metadata": {},
   "outputs": [
    {
     "data": {
      "text/plain": [
       "98.58536585365853"
      ]
     },
     "execution_count": 46,
     "metadata": {},
     "output_type": "execute_result"
    }
   ],
   "source": [
    "knicks_pts14_mean = np.mean(knicks_pts14)\n",
    "knicks_pts14_mean"
   ]
  },
  {
   "cell_type": "code",
   "execution_count": 47,
   "id": "f580cf9e",
   "metadata": {},
   "outputs": [
    {
     "data": {
      "text/plain": [
       "98.13829787234043"
      ]
     },
     "execution_count": 47,
     "metadata": {},
     "output_type": "execute_result"
    }
   ],
   "source": [
    "nets_pts14_mean = np.mean(nets_pts14)\n",
    "nets_pts14_mean"
   ]
  },
  {
   "cell_type": "code",
   "execution_count": 49,
   "id": "a93cf539",
   "metadata": {},
   "outputs": [
    {
     "data": {
      "text/plain": [
       "0.44706798131809933"
      ]
     },
     "execution_count": 49,
     "metadata": {},
     "output_type": "execute_result"
    }
   ],
   "source": [
    "diff_mean_2014 = knicks_pts14_mean - nets_pts14_mean\n",
    "diff_mean_2014"
   ]
  },
  {
   "cell_type": "markdown",
   "id": "0311883f",
   "metadata": {},
   "source": [
    "the difference in points get smaller in 2014"
   ]
  },
  {
   "cell_type": "code",
   "execution_count": 58,
   "id": "9e920f26",
   "metadata": {},
   "outputs": [
    {
     "data": {
      "image/png": "[encoded data removed]",
      "text/plain": [
       "<Figure size 720x360 with 1 Axes>"
      ]
     },
     "metadata": {
      "needs_background": "light"
     },
     "output_type": "display_data"
    },
    {
     "data": {
      "text/plain": [
       "<Figure size 432x288 with 0 Axes>"
      ]
     },
     "metadata": {},
     "output_type": "display_data"
    }
   ],
   "source": [
    "plt.figure(figsize=(10, 5))\n",
    "plt.hist(knicks_pts14, color='blue', label='Knicks', density=True, alpha=0.5)\n",
    "plt.hist(nets_pts14, color='red', label='Nets', density=True, alpha=0.5)\n",
    "plt.xlabel('Point each team')\n",
    "plt.ylabel('Frequency')\n",
    "plt.title('Knicks Vs Nets (NBA 2014)', fontsize=20)\n",
    "plt.show()\n",
    "plt.clf()"
   ]
  },
  {
   "cell_type": "markdown",
   "id": "40087815",
   "metadata": {},
   "source": [
    "The mean difference that have been calculated doesn't make sense, because there is still a lot of overlap between the scores, suggesting that the association is relatively weak."
   ]
  },
  {
   "cell_type": "markdown",
   "id": "32e5c0e6",
   "metadata": {},
   "source": [
    "##### Let’s now include all teams in the dataset and investigate the relationship between franchise and points scored per game "
   ]
  },
  {
   "cell_type": "markdown",
   "id": "b72ec1b8",
   "metadata": {},
   "source": [
    "- For the remainder of this project, we’ll focus on data from 2010"
   ]
  },
  {
   "cell_type": "code",
   "execution_count": 73,
   "id": "78e954ea",
   "metadata": {},
   "outputs": [
    {
     "data": {
      "image/png": "[encoded data removed]",
      "text/plain": [
       "<Figure size 864x360 with 1 Axes>"
      ]
     },
     "metadata": {
      "needs_background": "light"
     },
     "output_type": "display_data"
    },
    {
     "data": {
      "text/plain": [
       "<Figure size 432x288 with 0 Axes>"
      ]
     },
     "metadata": {},
     "output_type": "display_data"
    }
   ],
   "source": [
    "plt.figure(figsize=(12, 5))\n",
    "sns.boxplot(data=nba_2010, x=nba_2010['fran_id'], y=nba_2010['pts'])\n",
    "plt.title('Franchise Vs Points Score per Game (NBA Team 2010)', fontsize=20)\n",
    "plt.show()\n",
    "plt.clf()"
   ]
  },
  {
   "cell_type": "markdown",
   "id": "45189878",
   "metadata": {},
   "source": [
    "Looking at the plot, we can clearly see that there are a lot of overlap between the boxes (i.e from the beginning of pts (70 pts)). Therefore, there are not much associated between fran_id (franchise) and pts (point score per game). The teams have different average per score game Celtics and Nets. "
   ]
  },
  {
   "cell_type": "markdown",
   "id": "67cba5d0",
   "metadata": {},
   "source": [
    "### Analyzing relationships between Categorical variables "
   ]
  },
  {
   "cell_type": "markdown",
   "id": "6d7c7398",
   "metadata": {},
   "source": [
    "- calculate a contingency table of frequencies (2010)"
   ]
  },
  {
   "cell_type": "code",
   "execution_count": 75,
   "id": "209a8d52",
   "metadata": {},
   "outputs": [
    {
     "data": {
      "text/html": [
       "<div>\n",
       "<style scoped>\n",
       "    .dataframe tbody tr th:only-of-type {\n",
       "        vertical-align: middle;\n",
       "    }\n",
       "\n",
       "    .dataframe tbody tr th {\n",
       "        vertical-align: top;\n",
       "    }\n",
       "\n",
       "    .dataframe thead th {\n",
       "        text-align: right;\n",
       "    }\n",
       "</style>\n",
       "<table border=\"1\" class=\"dataframe\">\n",
       "  <thead>\n",
       "    <tr style=\"text-align: right;\">\n",
       "      <th>game_location</th>\n",
       "      <th>A</th>\n",
       "      <th>H</th>\n",
       "    </tr>\n",
       "    <tr>\n",
       "      <th>game_result</th>\n",
       "      <th></th>\n",
       "      <th></th>\n",
       "    </tr>\n",
       "  </thead>\n",
       "  <tbody>\n",
       "    <tr>\n",
       "      <th>L</th>\n",
       "      <td>133</td>\n",
       "      <td>105</td>\n",
       "    </tr>\n",
       "    <tr>\n",
       "      <th>W</th>\n",
       "      <td>92</td>\n",
       "      <td>120</td>\n",
       "    </tr>\n",
       "  </tbody>\n",
       "</table>\n",
       "</div>"
      ],
      "text/plain": [
       "game_location    A    H\n",
       "game_result            \n",
       "L              133  105\n",
       "W               92  120"
      ]
     },
     "execution_count": 75,
     "metadata": {},
     "output_type": "execute_result"
    }
   ],
   "source": [
    "location_result_freq = pd.crosstab(nba_2010['game_result'], nba_2010['game_location'])\n",
    "location_result_freq"
   ]
  },
  {
   "cell_type": "markdown",
   "id": "9bf5eccd",
   "metadata": {},
   "source": [
    "This suggests that the variables are not associated, because we can see while they play away and lose is 133, they play at home and lose is 105, they play away and win is 92, they play home and win 120 (less than play away and lose)"
   ]
  },
  {
   "cell_type": "code",
   "execution_count": 77,
   "id": "0e767343",
   "metadata": {},
   "outputs": [
    {
     "data": {
      "text/html": [
       "<div>\n",
       "<style scoped>\n",
       "    .dataframe tbody tr th:only-of-type {\n",
       "        vertical-align: middle;\n",
       "    }\n",
       "\n",
       "    .dataframe tbody tr th {\n",
       "        vertical-align: top;\n",
       "    }\n",
       "\n",
       "    .dataframe thead th {\n",
       "        text-align: right;\n",
       "    }\n",
       "</style>\n",
       "<table border=\"1\" class=\"dataframe\">\n",
       "  <thead>\n",
       "    <tr style=\"text-align: right;\">\n",
       "      <th>game_location</th>\n",
       "      <th>A</th>\n",
       "      <th>H</th>\n",
       "    </tr>\n",
       "    <tr>\n",
       "      <th>game_result</th>\n",
       "      <th></th>\n",
       "      <th></th>\n",
       "    </tr>\n",
       "  </thead>\n",
       "  <tbody>\n",
       "    <tr>\n",
       "      <th>L</th>\n",
       "      <td>0.295556</td>\n",
       "      <td>0.233333</td>\n",
       "    </tr>\n",
       "    <tr>\n",
       "      <th>W</th>\n",
       "      <td>0.204444</td>\n",
       "      <td>0.266667</td>\n",
       "    </tr>\n",
       "  </tbody>\n",
       "</table>\n",
       "</div>"
      ],
      "text/plain": [
       "game_location         A         H\n",
       "game_result                      \n",
       "L              0.295556  0.233333\n",
       "W              0.204444  0.266667"
      ]
     },
     "execution_count": 77,
     "metadata": {},
     "output_type": "execute_result"
    }
   ],
   "source": [
    "location_result_prop = location_result_freq / len(nba_2010)\n",
    "location_result_prop"
   ]
  },
  {
   "cell_type": "markdown",
   "id": "28dc033f",
   "metadata": {},
   "source": [
    "- Using the contingency table, calculate the expected contingency table (if there were no association) and the Chi-Square statistic "
   ]
  },
  {
   "cell_type": "code",
   "execution_count": 79,
   "id": "32cd5bee",
   "metadata": {},
   "outputs": [
    {
     "data": {
      "text/plain": [
       "array([[119., 119.],\n",
       "       [106., 106.]])"
      ]
     },
     "execution_count": 79,
     "metadata": {},
     "output_type": "execute_result"
    }
   ],
   "source": [
    "chi2, pval, dov, expected = chi2_contingency(location_result_freq)\n",
    "expected"
   ]
  },
  {
   "cell_type": "code",
   "execution_count": 80,
   "id": "a8842e88",
   "metadata": {},
   "outputs": [
    {
     "data": {
      "text/plain": [
       "6.501704455367053"
      ]
     },
     "execution_count": 80,
     "metadata": {},
     "output_type": "execute_result"
    }
   ],
   "source": [
    "chi2"
   ]
  },
  {
   "cell_type": "markdown",
   "id": "04461beb",
   "metadata": {},
   "source": [
    "The actual contingency table look different to the expected table. Based on this output, there is an association between these variables, because if there were no association between the game_location and game_result we would expect 119 people to answer no both (133 in the observed table compared to 119 in the expected table). This provides additional evidence that these variables are associated."
   ]
  },
  {
   "cell_type": "markdown",
   "id": "597870cd",
   "metadata": {},
   "source": [
    "### Analyzing Relationships Between Quantitative Variables "
   ]
  },
  {
   "cell_type": "markdown",
   "id": "cd06d10f",
   "metadata": {},
   "source": [
    "- calculate the covariance between forecast (538’s projected win probability) and point_diff (the margin of victory/defeat) in the dataset (2010)"
   ]
  },
  {
   "cell_type": "code",
   "execution_count": 85,
   "id": "7c74e6de",
   "metadata": {},
   "outputs": [
    {
     "data": {
      "text/plain": [
       "array([[5.22668307e-02, 1.37461257e+00],\n",
       "       [1.37461257e+00, 1.86559287e+02]])"
      ]
     },
     "execution_count": 85,
     "metadata": {},
     "output_type": "execute_result"
    }
   ],
   "source": [
    "cov_forecast_point = np.cov(nba_2010['forecast'], nba_2010['point_diff'])\n",
    "cov_forecast_point"
   ]
  },
  {
   "cell_type": "markdown",
   "id": "ca3a6fa8",
   "metadata": {},
   "source": [
    "the covariance between these two variables is 1.37 (A positive covariance)"
   ]
  },
  {
   "cell_type": "markdown",
   "id": "3b371dc3",
   "metadata": {},
   "source": [
    "- Calculate the correlation between forecast and point_diff (2010)"
   ]
  },
  {
   "cell_type": "code",
   "execution_count": 86,
   "id": "28bfc0ed",
   "metadata": {},
   "outputs": [
    {
     "data": {
      "text/plain": [
       "0.44020887084680815"
      ]
     },
     "execution_count": 86,
     "metadata": {},
     "output_type": "execute_result"
    }
   ],
   "source": [
    "corr_forecast_point, p = pearsonr(nba_2010['forecast'], nba_2010['point_diff']) \n",
    "corr_forecast_point"
   ]
  },
  {
   "cell_type": "markdown",
   "id": "936278ed",
   "metadata": {},
   "source": [
    "This variables do not have a linear association (the value close to 0)"
   ]
  },
  {
   "cell_type": "markdown",
   "id": "3b968d37",
   "metadata": {},
   "source": [
    "- Generate a scatter plot of forecast (on the x-axis) and point_diff (on the y-axis)"
   ]
  },
  {
   "cell_type": "code",
   "execution_count": 93,
   "id": "78e3e287",
   "metadata": {},
   "outputs": [
    {
     "data": {
      "image/png": "[encoded data removed]",
      "text/plain": [
       "<Figure size 720x360 with 1 Axes>"
      ]
     },
     "metadata": {
      "needs_background": "light"
     },
     "output_type": "display_data"
    }
   ],
   "source": [
    "plt.figure(figsize=(10, 5))\n",
    "plt.scatter(x=nba['forecast'], y=nba['point_diff'])\n",
    "plt.xlabel('Forecasted Win Probability')\n",
    "plt.ylabel('Point Dofferential')\n",
    "plt.show()"
   ]
  },
  {
   "cell_type": "markdown",
   "id": "8f6a4113",
   "metadata": {},
   "source": [
    "Does the correlation value make sense?"
   ]
  }
 ],
 "metadata": {
  "kernelspec": {
   "display_name": "Python 3",
   "language": "python",
   "name": "python3"
  },
  "language_info": {
   "codemirror_mode": {
    "name": "ipython",
    "version": 3
   },
   "file_extension": ".py",
   "mimetype": "text/x-python",
   "name": "python",
   "nbconvert_exporter": "python",
   "pygments_lexer": "ipython3",
   "version": "3.8.8"
  }
 },
 "nbformat": 4,
 "nbformat_minor": 5
}
