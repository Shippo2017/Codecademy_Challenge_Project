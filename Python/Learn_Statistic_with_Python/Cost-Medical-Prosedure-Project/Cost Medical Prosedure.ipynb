{
 "cells": [
  {
   "cell_type": "markdown",
   "id": "dc8c90dc",
   "metadata": {},
   "source": [
    "# Compare the cost of the same medical procedure at over 2,000 hospitals across the country in US"
   ]
  },
  {
   "cell_type": "markdown",
   "id": "11288053",
   "metadata": {},
   "source": [
    "The histogram to the right displays the average cost of chest pain treatment for over 2,000 hospitals across the United States. As you work your way through this lesson, you will fill in the blanks for the following statement about this histogram:\n",
    "\n",
    "This histogram displays the distribution of chest pain cost for over 2,000 hospitals across the United States. The average and median costs are $?????????? and $??????????, respectively. Given that the data is ??????????modal, with one local maximum and a ??????????-skew, the fact that the average is ?????????? than the median, matches our expectation.\n",
    "\n",
    "The range of costs is very large, $??????????, with the smallest cost equal to $?????????? and the largest cost equal to $??????????. There is one hospital, ??????????, that charges far more than the rest at $??????????\n"
   ]
  },
  {
   "cell_type": "code",
   "execution_count": 174,
   "id": "c60a297d",
   "metadata": {},
   "outputs": [],
   "source": [
    "import pandas as pd\n",
    "import numpy as np\n",
    "import matplotlib.pyplot as plt\n",
    "from scipy import stats"
   ]
  },
  {
   "cell_type": "code",
   "execution_count": 175,
   "id": "7f7adb72",
   "metadata": {},
   "outputs": [],
   "source": [
    "cp = pd.read_csv('cp.csv')"
   ]
  },
  {
   "cell_type": "code",
   "execution_count": 176,
   "id": "eb3b215b",
   "metadata": {},
   "outputs": [
    {
     "data": {
      "text/plain": [
       "(2230, 13)"
      ]
     },
     "execution_count": 176,
     "metadata": {},
     "output_type": "execute_result"
    }
   ],
   "source": [
    "cp.shape"
   ]
  },
  {
   "cell_type": "code",
   "execution_count": 177,
   "id": "60ede301",
   "metadata": {},
   "outputs": [],
   "source": [
    "pd.set_option('display.max_colwidth', 20)\n",
    "pd.set_option('display.max_rows', None)"
   ]
  },
  {
   "cell_type": "code",
   "execution_count": 178,
   "id": "e8900564",
   "metadata": {},
   "outputs": [
    {
     "data": {
      "text/html": [
       "<div>\n",
       "<style scoped>\n",
       "    .dataframe tbody tr th:only-of-type {\n",
       "        vertical-align: middle;\n",
       "    }\n",
       "\n",
       "    .dataframe tbody tr th {\n",
       "        vertical-align: top;\n",
       "    }\n",
       "\n",
       "    .dataframe thead th {\n",
       "        text-align: right;\n",
       "    }\n",
       "</style>\n",
       "<table border=\"1\" class=\"dataframe\">\n",
       "  <thead>\n",
       "    <tr style=\"text-align: right;\">\n",
       "      <th></th>\n",
       "      <th>Unnamed: 0</th>\n",
       "      <th>DRG Definition</th>\n",
       "      <th>Provider Id</th>\n",
       "      <th>Provider Name</th>\n",
       "      <th>Provider Street Address</th>\n",
       "      <th>Provider City</th>\n",
       "      <th>Provider State</th>\n",
       "      <th>Provider Zip Code</th>\n",
       "      <th>Hospital Referral Region Description</th>\n",
       "      <th>Total Discharges</th>\n",
       "      <th>Average Covered Charges</th>\n",
       "      <th>Average Total Payments</th>\n",
       "      <th>Average Medicare Payments</th>\n",
       "    </tr>\n",
       "  </thead>\n",
       "  <tbody>\n",
       "    <tr>\n",
       "      <th>0</th>\n",
       "      <td>80531</td>\n",
       "      <td>313 - CHEST PAIN</td>\n",
       "      <td>220108</td>\n",
       "      <td>MILTON HOSPITAL INC</td>\n",
       "      <td>199 REEDSDALE ROAD</td>\n",
       "      <td>MILTON</td>\n",
       "      <td>MA</td>\n",
       "      <td>2186</td>\n",
       "      <td>MA - Boston</td>\n",
       "      <td>43</td>\n",
       "      <td>6760.53</td>\n",
       "      <td>3547.00</td>\n",
       "      <td>2633.04</td>\n",
       "    </tr>\n",
       "    <tr>\n",
       "      <th>1</th>\n",
       "      <td>82205</td>\n",
       "      <td>313 - CHEST PAIN</td>\n",
       "      <td>10001</td>\n",
       "      <td>SOUTHEAST ALABAM...</td>\n",
       "      <td>1108 ROSS CLARK ...</td>\n",
       "      <td>DOTHAN</td>\n",
       "      <td>AL</td>\n",
       "      <td>36301</td>\n",
       "      <td>AL - Dothan</td>\n",
       "      <td>36</td>\n",
       "      <td>19540.55</td>\n",
       "      <td>3428.58</td>\n",
       "      <td>2093.38</td>\n",
       "    </tr>\n",
       "    <tr>\n",
       "      <th>2</th>\n",
       "      <td>82206</td>\n",
       "      <td>313 - CHEST PAIN</td>\n",
       "      <td>10006</td>\n",
       "      <td>ELIZA COFFEE MEM...</td>\n",
       "      <td>205 MARENGO STREET</td>\n",
       "      <td>FLORENCE</td>\n",
       "      <td>AL</td>\n",
       "      <td>35631</td>\n",
       "      <td>AL - Birmingham</td>\n",
       "      <td>13</td>\n",
       "      <td>20241.84</td>\n",
       "      <td>3849.76</td>\n",
       "      <td>1704.53</td>\n",
       "    </tr>\n",
       "    <tr>\n",
       "      <th>3</th>\n",
       "      <td>82207</td>\n",
       "      <td>313 - CHEST PAIN</td>\n",
       "      <td>10007</td>\n",
       "      <td>MIZELL MEMORIAL ...</td>\n",
       "      <td>702 N MAIN ST</td>\n",
       "      <td>OPP</td>\n",
       "      <td>AL</td>\n",
       "      <td>36467</td>\n",
       "      <td>AL - Dothan</td>\n",
       "      <td>34</td>\n",
       "      <td>6417.20</td>\n",
       "      <td>2808.08</td>\n",
       "      <td>1872.38</td>\n",
       "    </tr>\n",
       "    <tr>\n",
       "      <th>4</th>\n",
       "      <td>82208</td>\n",
       "      <td>313 - CHEST PAIN</td>\n",
       "      <td>10011</td>\n",
       "      <td>ST VINCENT'S EAST</td>\n",
       "      <td>50 MEDICAL PARK ...</td>\n",
       "      <td>BIRMINGHAM</td>\n",
       "      <td>AL</td>\n",
       "      <td>35235</td>\n",
       "      <td>AL - Birmingham</td>\n",
       "      <td>33</td>\n",
       "      <td>13311.78</td>\n",
       "      <td>2997.00</td>\n",
       "      <td>2113.84</td>\n",
       "    </tr>\n",
       "  </tbody>\n",
       "</table>\n",
       "</div>"
      ],
      "text/plain": [
       "   Unnamed: 0    DRG Definition  Provider Id        Provider Name  \\\n",
       "0       80531  313 - CHEST PAIN       220108  MILTON HOSPITAL INC   \n",
       "1       82205  313 - CHEST PAIN        10001  SOUTHEAST ALABAM...   \n",
       "2       82206  313 - CHEST PAIN        10006  ELIZA COFFEE MEM...   \n",
       "3       82207  313 - CHEST PAIN        10007  MIZELL MEMORIAL ...   \n",
       "4       82208  313 - CHEST PAIN        10011    ST VINCENT'S EAST   \n",
       "\n",
       "  Provider Street Address Provider City Provider State  Provider Zip Code  \\\n",
       "0   199 REEDSDALE ROAD           MILTON             MA               2186   \n",
       "1  1108 ROSS CLARK ...           DOTHAN             AL              36301   \n",
       "2   205 MARENGO STREET         FLORENCE             AL              35631   \n",
       "3        702 N MAIN ST              OPP             AL              36467   \n",
       "4  50 MEDICAL PARK ...       BIRMINGHAM             AL              35235   \n",
       "\n",
       "  Hospital Referral Region Description   Total Discharges   \\\n",
       "0          MA - Boston                                  43   \n",
       "1          AL - Dothan                                  36   \n",
       "2      AL - Birmingham                                  13   \n",
       "3          AL - Dothan                                  34   \n",
       "4      AL - Birmingham                                  33   \n",
       "\n",
       "    Average Covered Charges    Average Total Payments   \\\n",
       "0              6760.53                    3547.00        \n",
       "1             19540.55                    3428.58        \n",
       "2             20241.84                    3849.76        \n",
       "3              6417.20                    2808.08        \n",
       "4             13311.78                    2997.00        \n",
       "\n",
       "   Average Medicare Payments  \n",
       "0              2633.04        \n",
       "1              2093.38        \n",
       "2              1704.53        \n",
       "3              1872.38        \n",
       "4              2113.84        "
      ]
     },
     "execution_count": 178,
     "metadata": {},
     "output_type": "execute_result"
    }
   ],
   "source": [
    "cp.head()"
   ]
  },
  {
   "cell_type": "code",
   "execution_count": 179,
   "id": "be33892d",
   "metadata": {},
   "outputs": [
    {
     "name": "stdout",
     "output_type": "stream",
     "text": [
      "<class 'pandas.core.frame.DataFrame'>\n",
      "RangeIndex: 2230 entries, 0 to 2229\n",
      "Data columns (total 13 columns):\n",
      " #   Column                                Non-Null Count  Dtype  \n",
      "---  ------                                --------------  -----  \n",
      " 0   Unnamed: 0                            2230 non-null   int64  \n",
      " 1   DRG Definition                        2230 non-null   object \n",
      " 2   Provider Id                           2230 non-null   int64  \n",
      " 3   Provider Name                         2230 non-null   object \n",
      " 4   Provider Street Address               2230 non-null   object \n",
      " 5   Provider City                         2230 non-null   object \n",
      " 6   Provider State                        2230 non-null   object \n",
      " 7   Provider Zip Code                     2230 non-null   int64  \n",
      " 8   Hospital Referral Region Description  2230 non-null   object \n",
      " 9    Total Discharges                     2230 non-null   int64  \n",
      " 10   Average Covered Charges              2230 non-null   float64\n",
      " 11   Average Total Payments               2230 non-null   float64\n",
      " 12  Average Medicare Payments             2230 non-null   float64\n",
      "dtypes: float64(3), int64(4), object(6)\n",
      "memory usage: 226.6+ KB\n"
     ]
    }
   ],
   "source": [
    "cp.info()"
   ]
  },
  {
   "cell_type": "code",
   "execution_count": 180,
   "id": "8aa71b76",
   "metadata": {},
   "outputs": [
    {
     "data": {
      "text/plain": [
       "2230"
      ]
     },
     "execution_count": 180,
     "metadata": {},
     "output_type": "execute_result"
    }
   ],
   "source": [
    "len(cp)"
   ]
  },
  {
   "cell_type": "code",
   "execution_count": 181,
   "id": "3c9619b5",
   "metadata": {},
   "outputs": [
    {
     "data": {
      "text/plain": [
       "0     199 REEDSDALE ROAD\n",
       "1    1108 ROSS CLARK ...\n",
       "2     205 MARENGO STREET\n",
       "3          702 N MAIN ST\n",
       "4    50 MEDICAL PARK ...\n",
       "Name: Provider Street Address, dtype: object"
      ]
     },
     "execution_count": 181,
     "metadata": {},
     "output_type": "execute_result"
    }
   ],
   "source": [
    " cp['Provider Street Address'].head()"
   ]
  },
  {
   "cell_type": "code",
   "execution_count": 182,
   "id": "b8f76ead",
   "metadata": {},
   "outputs": [
    {
     "data": {
      "text/plain": [
       "Index(['Unnamed: 0', 'DRG Definition', 'Provider Id', 'Provider Name',\n",
       "       'Provider Street Address', 'Provider City', 'Provider State',\n",
       "       'Provider Zip Code', 'Hospital Referral Region Description',\n",
       "       ' Total Discharges ', ' Average Covered Charges ',\n",
       "       ' Average Total Payments ', 'Average Medicare Payments'],\n",
       "      dtype='object')"
      ]
     },
     "execution_count": 182,
     "metadata": {},
     "output_type": "execute_result"
    }
   ],
   "source": [
    "cp.columns"
   ]
  },
  {
   "cell_type": "code",
   "execution_count": 163,
   "id": "02694a7b",
   "metadata": {},
   "outputs": [],
   "source": [
    "avg_cover_charge = cp[' Average Covered Charges ']"
   ]
  },
  {
   "cell_type": "code",
   "execution_count": 164,
   "id": "2c7f6e1a",
   "metadata": {},
   "outputs": [
    {
     "data": {
      "text/plain": [
       "0     6760.53\n",
       "1    19540.55\n",
       "2    20241.84\n",
       "3     6417.20\n",
       "4    13311.78\n",
       "Name:  Average Covered Charges , dtype: float64"
      ]
     },
     "execution_count": 164,
     "metadata": {},
     "output_type": "execute_result"
    }
   ],
   "source": [
    "avg_cover_charge.head()"
   ]
  },
  {
   "cell_type": "code",
   "execution_count": 165,
   "id": "5169dc20",
   "metadata": {},
   "outputs": [
    {
     "data": {
      "text/plain": [
       "16948.320991031364"
      ]
     },
     "execution_count": 165,
     "metadata": {},
     "output_type": "execute_result"
    }
   ],
   "source": [
    "mean_cp = np.mean(avg_cover_charge)\n",
    "mean_cp"
   ]
  },
  {
   "cell_type": "code",
   "execution_count": 166,
   "id": "9e946e7e",
   "metadata": {},
   "outputs": [
    {
     "data": {
      "text/plain": [
       "14659.6"
      ]
     },
     "execution_count": 166,
     "metadata": {},
     "output_type": "execute_result"
    }
   ],
   "source": [
    "median_cp = np.median(avg_cover_charge)\n",
    "median_cp"
   ]
  },
  {
   "cell_type": "code",
   "execution_count": 167,
   "id": "6c9014ff",
   "metadata": {},
   "outputs": [
    {
     "data": {
      "text/plain": [
       "2459.4"
      ]
     },
     "execution_count": 167,
     "metadata": {},
     "output_type": "execute_result"
    }
   ],
   "source": [
    "cp_min = np.min(avg_cover_charge)\n",
    "cp_min"
   ]
  },
  {
   "cell_type": "code",
   "execution_count": 168,
   "id": "abbd0f9d",
   "metadata": {},
   "outputs": [
    {
     "data": {
      "text/plain": [
       "81083.0"
      ]
     },
     "execution_count": 168,
     "metadata": {},
     "output_type": "execute_result"
    }
   ],
   "source": [
    "cp_max = np.max(avg_cover_charge)\n",
    "cp_max"
   ]
  },
  {
   "cell_type": "code",
   "execution_count": 169,
   "id": "51cccbb0",
   "metadata": {},
   "outputs": [
    {
     "data": {
      "text/html": [
       "<div>\n",
       "<style scoped>\n",
       "    .dataframe tbody tr th:only-of-type {\n",
       "        vertical-align: middle;\n",
       "    }\n",
       "\n",
       "    .dataframe tbody tr th {\n",
       "        vertical-align: top;\n",
       "    }\n",
       "\n",
       "    .dataframe thead th {\n",
       "        text-align: right;\n",
       "    }\n",
       "</style>\n",
       "<table border=\"1\" class=\"dataframe\">\n",
       "  <thead>\n",
       "    <tr style=\"text-align: right;\">\n",
       "      <th></th>\n",
       "      <th>Unnamed: 0</th>\n",
       "      <th>DRG Definition</th>\n",
       "      <th>Provider Id</th>\n",
       "      <th>Provider Name</th>\n",
       "      <th>Provider Street Address</th>\n",
       "      <th>Provider City</th>\n",
       "      <th>Provider State</th>\n",
       "      <th>Provider Zip Code</th>\n",
       "      <th>Hospital Referral Region Description</th>\n",
       "      <th>Total Discharges</th>\n",
       "      <th>Average Covered Charges</th>\n",
       "      <th>Average Total Payments</th>\n",
       "      <th>Average Medicare Payments</th>\n",
       "    </tr>\n",
       "  </thead>\n",
       "  <tbody>\n",
       "    <tr>\n",
       "      <th>1272</th>\n",
       "      <td>83476</td>\n",
       "      <td>313 - CHEST PAIN</td>\n",
       "      <td>310025</td>\n",
       "      <td>BAYONNE HOSPITAL...</td>\n",
       "      <td>29 EAST 29TH ST</td>\n",
       "      <td>BAYONNE</td>\n",
       "      <td>NJ</td>\n",
       "      <td>7002</td>\n",
       "      <td>NJ - Newark</td>\n",
       "      <td>15</td>\n",
       "      <td>81083.0</td>\n",
       "      <td>3817.8</td>\n",
       "      <td>2823.6</td>\n",
       "    </tr>\n",
       "  </tbody>\n",
       "</table>\n",
       "</div>"
      ],
      "text/plain": [
       "      Unnamed: 0    DRG Definition  Provider Id        Provider Name  \\\n",
       "1272       83476  313 - CHEST PAIN       310025  BAYONNE HOSPITAL...   \n",
       "\n",
       "     Provider Street Address Provider City Provider State  Provider Zip Code  \\\n",
       "1272      29 EAST 29TH ST          BAYONNE             NJ               7002   \n",
       "\n",
       "     Hospital Referral Region Description   Total Discharges   \\\n",
       "1272          NJ - Newark                                  15   \n",
       "\n",
       "       Average Covered Charges    Average Total Payments   \\\n",
       "1272              81083.0                     3817.8        \n",
       "\n",
       "      Average Medicare Payments  \n",
       "1272               2823.6        "
      ]
     },
     "execution_count": 169,
     "metadata": {},
     "output_type": "execute_result"
    }
   ],
   "source": [
    "hospital_cost_max = cp[cp[' Average Covered Charges '] == 81083.0]\n",
    "hospital_cost_max"
   ]
  },
  {
   "cell_type": "code",
   "execution_count": 170,
   "id": "8b75d1a8",
   "metadata": {},
   "outputs": [
    {
     "data": {
      "text/plain": [
       "78623.6"
      ]
     },
     "execution_count": 170,
     "metadata": {},
     "output_type": "execute_result"
    }
   ],
   "source": [
    "range = cp_max - cp_min\n",
    "range"
   ]
  },
  {
   "cell_type": "code",
   "execution_count": 171,
   "id": "80d2e4ae",
   "metadata": {},
   "outputs": [
    {
     "data": {
      "text/plain": [
       "ModeResult(mode=array([7282.72]), count=array([2]))"
      ]
     },
     "execution_count": 171,
     "metadata": {},
     "output_type": "execute_result"
    }
   ],
   "source": [
    "mode_cp = stats.mode(avg_cover_charge)\n",
    "mode_cp"
   ]
  },
  {
   "cell_type": "code",
   "execution_count": 172,
   "id": "9410b004",
   "metadata": {},
   "outputs": [
    {
     "data": {
      "text/plain": [
       "array([7282.72])"
      ]
     },
     "execution_count": 172,
     "metadata": {},
     "output_type": "execute_result"
    }
   ],
   "source": [
    "mode_cp[0]"
   ]
  },
  {
   "cell_type": "code",
   "execution_count": 173,
   "id": "b7573395",
   "metadata": {},
   "outputs": [
    {
     "data": {
      "text/plain": [
       "9058.048244830108"
      ]
     },
     "execution_count": 173,
     "metadata": {},
     "output_type": "execute_result"
    }
   ],
   "source": [
    "np.std(avg_cover_charge)"
   ]
  },
  {
   "cell_type": "raw",
   "id": "47062b29",
   "metadata": {},
   "source": [
    "Histogram"
   ]
  },
  {
   "cell_type": "code",
   "execution_count": 133,
   "id": "b7fd2803",
   "metadata": {},
   "outputs": [
    {
     "data": {
      "image/png": "[encoded data removed]",
      "text/plain": [
       "<Figure size 1080x720 with 1 Axes>"
      ]
     },
     "metadata": {
      "needs_background": "light"
     },
     "output_type": "display_data"
    }
   ],
   "source": [
    "plt.figure(figsize=(15, 10))\n",
    "plt.hist(avg_cover_charge, range=(2000, 85000), bins=100, edgecolor='black')\n",
    "plt.title('Distribution of Chest Paint Treatment Cost by Hospital', fontsize=16)\n",
    "plt.xlabel('cost ($)', fontsize=16)\n",
    "plt.ylabel('Count', fontsize=16)\n",
    "plt.axvline(mean_cp, color='r', linestyle='solid', label='Mean')\n",
    "plt.axvline(median_cp, color='y', linestyle='--', label='Median')\n",
    "plt.legend()\n",
    "plt.show()"
   ]
  },
  {
   "cell_type": "markdown",
   "id": "c3aa3787",
   "metadata": {},
   "source": [
    "The histogram displays the average cost of chest pain treatment for over 2,000 hospitals across the United States. \n",
    "\n",
    "This histogram displays the distribution of chest pain cost for over 2,000 hospitals across the United States. \n",
    "The average and median costs are $16,948 and $14,659, respectively. \n",
    "Given that the data is unimodal, with one local maximum and a right-skew, the fact that the average is greater than the median, matches our expectation.\n",
    "\n",
    "The range of costs is very large, $78,623, with the smallest cost equal to $2,459 and the largest cost equal to $81,083. \n",
    "There is one hospital, Bayonne Hospital Center, that charges far more than the rest at $81,083"
   ]
  },
  {
   "cell_type": "code",
   "execution_count": null,
   "id": "100f17c7",
   "metadata": {},
   "outputs": [],
   "source": []
  }
 ],
 "metadata": {
  "kernelspec": {
   "display_name": "Python 3",
   "language": "python",
   "name": "python3"
  },
  "language_info": {
   "codemirror_mode": {
    "name": "ipython",
    "version": 3
   },
   "file_extension": ".py",
   "mimetype": "text/x-python",
   "name": "python",
   "nbconvert_exporter": "python",
   "pygments_lexer": "ipython3",
   "version": "3.8.8"
  }
 },
 "nbformat": 4,
 "nbformat_minor": 5
}
