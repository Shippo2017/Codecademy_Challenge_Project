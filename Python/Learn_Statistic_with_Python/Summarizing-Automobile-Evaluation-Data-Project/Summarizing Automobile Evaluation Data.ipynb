{
 "cells": [
  {
   "cell_type": "markdown",
   "id": "db9c0903",
   "metadata": {},
   "source": [
    "# Summarizing Automobile Evaluation Data"
   ]
  },
  {
   "cell_type": "markdown",
   "id": "2eb1d255",
   "metadata": {},
   "source": [
    "In the following project you’ll use what you’ve learned about summarizing categorical data to analyze a sample from a popular open source dataset. This dataset contains information on the cost and physical attributes of several thousand cars. Originally, this dataset was used for to train a classification model that assigned an acceptability score/category to cars based on these attributes."
   ]
  },
  {
   "cell_type": "code",
   "execution_count": 60,
   "id": "c98e4951",
   "metadata": {},
   "outputs": [],
   "source": [
    "import numpy as np\n",
    "import pandas as pd\n",
    "pd.set_option('display.max_colwidth', None)\n",
    "pd.set_option('display.max_rows', None)"
   ]
  },
  {
   "cell_type": "code",
   "execution_count": 61,
   "id": "727644c2",
   "metadata": {},
   "outputs": [
    {
     "data": {
      "text/html": [
       "<div>\n",
       "<style scoped>\n",
       "    .dataframe tbody tr th:only-of-type {\n",
       "        vertical-align: middle;\n",
       "    }\n",
       "\n",
       "    .dataframe tbody tr th {\n",
       "        vertical-align: top;\n",
       "    }\n",
       "\n",
       "    .dataframe thead th {\n",
       "        text-align: right;\n",
       "    }\n",
       "</style>\n",
       "<table border=\"1\" class=\"dataframe\">\n",
       "  <thead>\n",
       "    <tr style=\"text-align: right;\">\n",
       "      <th></th>\n",
       "      <th>buying_cost</th>\n",
       "      <th>maintenance_cost</th>\n",
       "      <th>doors</th>\n",
       "      <th>capacity</th>\n",
       "      <th>luggage</th>\n",
       "      <th>safety</th>\n",
       "      <th>acceptability</th>\n",
       "      <th>manufacturer_country</th>\n",
       "    </tr>\n",
       "  </thead>\n",
       "  <tbody>\n",
       "    <tr>\n",
       "      <th>0</th>\n",
       "      <td>vhigh</td>\n",
       "      <td>low</td>\n",
       "      <td>4</td>\n",
       "      <td>4</td>\n",
       "      <td>small</td>\n",
       "      <td>med</td>\n",
       "      <td>unacc</td>\n",
       "      <td>China</td>\n",
       "    </tr>\n",
       "    <tr>\n",
       "      <th>1</th>\n",
       "      <td>vhigh</td>\n",
       "      <td>med</td>\n",
       "      <td>3</td>\n",
       "      <td>4</td>\n",
       "      <td>small</td>\n",
       "      <td>high</td>\n",
       "      <td>acc</td>\n",
       "      <td>France</td>\n",
       "    </tr>\n",
       "    <tr>\n",
       "      <th>2</th>\n",
       "      <td>med</td>\n",
       "      <td>high</td>\n",
       "      <td>3</td>\n",
       "      <td>2</td>\n",
       "      <td>med</td>\n",
       "      <td>high</td>\n",
       "      <td>unacc</td>\n",
       "      <td>United States</td>\n",
       "    </tr>\n",
       "    <tr>\n",
       "      <th>3</th>\n",
       "      <td>low</td>\n",
       "      <td>med</td>\n",
       "      <td>4</td>\n",
       "      <td>more</td>\n",
       "      <td>big</td>\n",
       "      <td>low</td>\n",
       "      <td>unacc</td>\n",
       "      <td>United States</td>\n",
       "    </tr>\n",
       "    <tr>\n",
       "      <th>4</th>\n",
       "      <td>low</td>\n",
       "      <td>high</td>\n",
       "      <td>2</td>\n",
       "      <td>more</td>\n",
       "      <td>med</td>\n",
       "      <td>high</td>\n",
       "      <td>acc</td>\n",
       "      <td>South Korea</td>\n",
       "    </tr>\n",
       "  </tbody>\n",
       "</table>\n",
       "</div>"
      ],
      "text/plain": [
       "  buying_cost maintenance_cost doors capacity luggage safety acceptability  \\\n",
       "0       vhigh              low     4        4   small    med         unacc   \n",
       "1       vhigh              med     3        4   small   high           acc   \n",
       "2         med             high     3        2     med   high         unacc   \n",
       "3         low              med     4     more     big    low         unacc   \n",
       "4         low             high     2     more     med   high           acc   \n",
       "\n",
       "  manufacturer_country  \n",
       "0                China  \n",
       "1               France  \n",
       "2        United States  \n",
       "3        United States  \n",
       "4          South Korea  "
      ]
     },
     "execution_count": 61,
     "metadata": {},
     "output_type": "execute_result"
    }
   ],
   "source": [
    "car_eval = pd.read_csv('car-eval-dataset.csv')\n",
    "car_eval.head()"
   ]
  },
  {
   "cell_type": "markdown",
   "id": "037a0f53",
   "metadata": {},
   "source": [
    "### Summarizing Manufacturing Country"
   ]
  },
  {
   "cell_type": "markdown",
   "id": "5376da3f",
   "metadata": {},
   "source": [
    "1.\n",
    "manufacturer_country is a nominal categorical variable that indicates the country of the manufacturer of each car reviewed. Create a table of frequencies of all the cars reviewed by manufacturer_country. What is the modal category? Which country appears 4th most frequently? Print out your results."
   ]
  },
  {
   "cell_type": "code",
   "execution_count": 62,
   "id": "6c640cbd",
   "metadata": {},
   "outputs": [
    {
     "data": {
      "text/plain": [
       "Japan            228\n",
       "Germany          218\n",
       "South Korea      159\n",
       "United States    138\n",
       "Italy             97\n",
       "France            87\n",
       "China             73\n",
       "Name: manufacturer_country, dtype: int64"
      ]
     },
     "execution_count": 62,
     "metadata": {},
     "output_type": "execute_result"
    }
   ],
   "source": [
    "car_frequency = car_eval['manufacturer_country'].value_counts()\n",
    "car_frequency"
   ]
  },
  {
   "cell_type": "code",
   "execution_count": 63,
   "id": "41bd4618",
   "metadata": {},
   "outputs": [
    {
     "data": {
      "text/plain": [
       "'United States'"
      ]
     },
     "execution_count": 63,
     "metadata": {},
     "output_type": "execute_result"
    }
   ],
   "source": [
    "car_frequency.index[3]"
   ]
  },
  {
   "cell_type": "markdown",
   "id": "5b9ea81a",
   "metadata": {},
   "source": [
    "2.\n",
    "Calculate a table of proportions for countries that appear in manufacturer_country in the dataset. What percentage of cars were manufactured in Japan?"
   ]
  },
  {
   "cell_type": "code",
   "execution_count": 64,
   "id": "3b536d26",
   "metadata": {},
   "outputs": [
    {
     "data": {
      "text/plain": [
       "array(['China', 'France', 'United States', 'South Korea', 'Italy',\n",
       "       'Japan', 'Germany'], dtype=object)"
      ]
     },
     "execution_count": 64,
     "metadata": {},
     "output_type": "execute_result"
    }
   ],
   "source": [
    "car_eval['manufacturer_country'].unique()"
   ]
  },
  {
   "cell_type": "code",
   "execution_count": 65,
   "id": "6a7918c6",
   "metadata": {},
   "outputs": [
    {
     "data": {
      "text/plain": [
       "Japan            0.228\n",
       "Germany          0.218\n",
       "South Korea      0.159\n",
       "United States    0.138\n",
       "Italy            0.097\n",
       "France           0.087\n",
       "China            0.073\n",
       "Name: manufacturer_country, dtype: float64"
      ]
     },
     "execution_count": 65,
     "metadata": {},
     "output_type": "execute_result"
    }
   ],
   "source": [
    "car_proportion = car_eval['manufacturer_country'].value_counts(normalize=True, dropna=False)\n",
    "car_proportion"
   ]
  },
  {
   "cell_type": "markdown",
   "id": "1d885772",
   "metadata": {},
   "source": [
    "The cars were manufactures in Japan is 22.8%"
   ]
  },
  {
   "cell_type": "markdown",
   "id": "01003c17",
   "metadata": {},
   "source": [
    "### Summarizing Buying Costs"
   ]
  },
  {
   "cell_type": "markdown",
   "id": "a56b888f",
   "metadata": {},
   "source": [
    "3.\n",
    "buying_cost is a categorical variable which describes the cost of buying any car in the dataset. Print out a list of the possible values for this variable."
   ]
  },
  {
   "cell_type": "code",
   "execution_count": 83,
   "id": "f08eeedc",
   "metadata": {},
   "outputs": [
    {
     "data": {
      "text/plain": [
       "['vhigh', 'med', 'low', 'high']\n",
       "Categories (4, object): ['low' < 'med' < 'high' < 'vhigh']"
      ]
     },
     "execution_count": 83,
     "metadata": {},
     "output_type": "execute_result"
    }
   ],
   "source": [
    "car_eval['buying_cost'].unique()"
   ]
  },
  {
   "cell_type": "markdown",
   "id": "328ce947",
   "metadata": {},
   "source": [
    "4.\n",
    "buying_cost is an ordinal categorical variable, which means we can create an order associated with the values in the data and perform additional numeric operations on the variable. Create a new list, buying_cost_categories, that contains the unique values in buying_cost, ordered from lowest to highest."
   ]
  },
  {
   "cell_type": "code",
   "execution_count": 84,
   "id": "86b80cd7",
   "metadata": {},
   "outputs": [],
   "source": [
    "buying_cost_categories = ['low', 'med', 'high', 'vhigh']"
   ]
  },
  {
   "cell_type": "markdown",
   "id": "c1b68e13",
   "metadata": {},
   "source": [
    "5.\n",
    "Convert buying_cost to type 'category' using the list you created in the previous exercise."
   ]
  },
  {
   "cell_type": "code",
   "execution_count": 85,
   "id": "03fa36f3",
   "metadata": {},
   "outputs": [
    {
     "data": {
      "text/plain": [
       "['vhigh', 'med', 'low', 'high']\n",
       "Categories (4, object): ['low' < 'med' < 'high' < 'vhigh']"
      ]
     },
     "execution_count": 85,
     "metadata": {},
     "output_type": "execute_result"
    }
   ],
   "source": [
    "car_eval['buying_cost'] = pd.Categorical(car_eval['buying_cost'], buying_cost_categories, ordered=True)\n",
    "car_eval['buying_cost'].unique()"
   ]
  },
  {
   "cell_type": "markdown",
   "id": "2156bb5d",
   "metadata": {},
   "source": [
    ".\n",
    "Calculate the median category of the buying_cost variable and print the result."
   ]
  },
  {
   "cell_type": "code",
   "execution_count": 86,
   "id": "4b9bd39f",
   "metadata": {},
   "outputs": [
    {
     "data": {
      "text/plain": [
       "1.0"
      ]
     },
     "execution_count": 86,
     "metadata": {},
     "output_type": "execute_result"
    }
   ],
   "source": [
    "median_index = np.median(car_eval['buying_cost'].cat.codes)\n",
    "median_index"
   ]
  },
  {
   "cell_type": "code",
   "execution_count": 87,
   "id": "f40f0ba7",
   "metadata": {},
   "outputs": [
    {
     "data": {
      "text/plain": [
       "'med'"
      ]
     },
     "execution_count": 87,
     "metadata": {},
     "output_type": "execute_result"
    }
   ],
   "source": [
    "median_car_status = buying_cost_categories[int(median_index)]\n",
    "median_car_status"
   ]
  },
  {
   "cell_type": "markdown",
   "id": "22b67167",
   "metadata": {},
   "source": [
    "### Summarizing Luggage Capacity"
   ]
  },
  {
   "cell_type": "markdown",
   "id": "c89cae06",
   "metadata": {},
   "source": [
    "7.\n",
    "luggage is a categorical variable in the car evaluations dataset that records the luggage capacity for each reviewed car. Calculate a table of proportions for this variable and print the result."
   ]
  },
  {
   "cell_type": "code",
   "execution_count": 88,
   "id": "ee6c7497",
   "metadata": {},
   "outputs": [
    {
     "data": {
      "text/plain": [
       "small    0.339\n",
       "med      0.333\n",
       "big      0.328\n",
       "Name: luggage, dtype: float64"
      ]
     },
     "execution_count": 88,
     "metadata": {},
     "output_type": "execute_result"
    }
   ],
   "source": [
    "car_eval['luggage'].value_counts(normalize=True)"
   ]
  },
  {
   "cell_type": "markdown",
   "id": "902c8eb6",
   "metadata": {},
   "source": [
    "8.\n",
    "Are there any missing values in this column? Replicate the table of proportions from the previous exercise, but do not drop any missing values from the count. Print your result."
   ]
  },
  {
   "cell_type": "code",
   "execution_count": 89,
   "id": "97b02f62",
   "metadata": {},
   "outputs": [
    {
     "data": {
      "text/plain": [
       "small    0.339\n",
       "med      0.333\n",
       "big      0.328\n",
       "Name: luggage, dtype: float64"
      ]
     },
     "execution_count": 89,
     "metadata": {},
     "output_type": "execute_result"
    }
   ],
   "source": [
    "car_eval['luggage'].value_counts(dropna=False, normalize=True)"
   ]
  },
  {
   "cell_type": "markdown",
   "id": "5caa9fc2",
   "metadata": {},
   "source": [
    "9.\n",
    "Without passing normalize = True to .value_counts(), can you replicate the result you got in the previous exercises"
   ]
  },
  {
   "cell_type": "code",
   "execution_count": 90,
   "id": "04233eb3",
   "metadata": {},
   "outputs": [
    {
     "data": {
      "text/plain": [
       "small    0.339\n",
       "med      0.333\n",
       "big      0.328\n",
       "Name: luggage, dtype: float64"
      ]
     },
     "execution_count": 90,
     "metadata": {},
     "output_type": "execute_result"
    }
   ],
   "source": [
    "car_eval['luggage'].value_counts()/len(car_eval['luggage'])"
   ]
  },
  {
   "cell_type": "markdown",
   "id": "77d7ed08",
   "metadata": {},
   "source": [
    "### Summarizing Passenger Capacity "
   ]
  },
  {
   "cell_type": "markdown",
   "id": "4745040a",
   "metadata": {},
   "source": [
    "10.\n",
    "doors is a categorical variable in the car evaluations dataset that records the count of doors for each reviewed car. Find the count of cars that have 5 or more doors. You can identify cars with 5+ doors by looking for cars that have a value of '5more' in the doors column. Print your result."
   ]
  },
  {
   "cell_type": "code",
   "execution_count": 93,
   "id": "d513050d",
   "metadata": {},
   "outputs": [
    {
     "data": {
      "text/plain": [
       "array(['4', '3', '2', '5more'], dtype=object)"
      ]
     },
     "execution_count": 93,
     "metadata": {},
     "output_type": "execute_result"
    }
   ],
   "source": [
    "car_eval['doors'].unique()"
   ]
  },
  {
   "cell_type": "code",
   "execution_count": 91,
   "id": "a9fab708",
   "metadata": {},
   "outputs": [
    {
     "data": {
      "text/plain": [
       "246"
      ]
     },
     "execution_count": 91,
     "metadata": {},
     "output_type": "execute_result"
    }
   ],
   "source": [
    "more_five_doors = np.sum(car_eval['doors'] >= '5more')\n",
    "more_five_doors"
   ]
  },
  {
   "cell_type": "markdown",
   "id": "9931b792",
   "metadata": {},
   "source": [
    "11.\n",
    "Find the proportion of cars that have 5+ doors and print the result."
   ]
  },
  {
   "cell_type": "code",
   "execution_count": 94,
   "id": "85b0b65f",
   "metadata": {},
   "outputs": [
    {
     "data": {
      "text/plain": [
       "0.246"
      ]
     },
     "execution_count": 94,
     "metadata": {},
     "output_type": "execute_result"
    }
   ],
   "source": [
    "five_car_proportion = (car_eval['doors'] == '5more').mean()\n",
    "five_car_proportion"
   ]
  },
  {
   "cell_type": "code",
   "execution_count": 95,
   "id": "075abee7",
   "metadata": {},
   "outputs": [
    {
     "data": {
      "text/plain": [
       "4        0.263\n",
       "3        0.252\n",
       "5more    0.246\n",
       "2        0.239\n",
       "Name: doors, dtype: float64"
      ]
     },
     "execution_count": 95,
     "metadata": {},
     "output_type": "execute_result"
    }
   ],
   "source": [
    "car_eval['doors'].value_counts(normalize=True, dropna=False)"
   ]
  },
  {
   "cell_type": "code",
   "execution_count": null,
   "id": "e9065939",
   "metadata": {},
   "outputs": [],
   "source": []
  }
 ],
 "metadata": {
  "kernelspec": {
   "display_name": "Python 3",
   "language": "python",
   "name": "python3"
  },
  "language_info": {
   "codemirror_mode": {
    "name": "ipython",
    "version": 3
   },
   "file_extension": ".py",
   "mimetype": "text/x-python",
   "name": "python",
   "nbconvert_exporter": "python",
   "pygments_lexer": "ipython3",
   "version": "3.8.8"
  }
 },
 "nbformat": 4,
 "nbformat_minor": 5
}
