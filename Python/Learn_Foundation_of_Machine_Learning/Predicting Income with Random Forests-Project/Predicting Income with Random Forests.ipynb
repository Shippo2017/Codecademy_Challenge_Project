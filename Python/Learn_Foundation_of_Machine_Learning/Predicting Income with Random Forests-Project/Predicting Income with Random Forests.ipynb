{
 "cells": [
  {
   "cell_type": "markdown",
   "id": "8d6d2bb9",
   "metadata": {},
   "source": [
    "# Predicting Income with Random Forests\n",
    "In this project, we will be using a dataset containing census information from [UCI’s Machine Learning Repository](https://archive.ics.uci.edu/ml/datasets/census%20income).\n",
    "\n",
    "By using this census data with a random forest, we will try to predict whether or not a person makes more than $50,000."
   ]
  },
  {
   "cell_type": "code",
   "execution_count": 1,
   "id": "2e9e8098",
   "metadata": {},
   "outputs": [],
   "source": [
    "def warn(*args, **kwargs):\n",
    "    pass\n",
    "import warnings\n",
    "warnings.warn = warn\n",
    "\n",
    "import pandas as pd\n",
    "from sklearn.model_selection import train_test_split\n",
    "from sklearn import tree\n",
    "from sklearn.ensemble import RandomForestClassifier"
   ]
  },
  {
   "cell_type": "code",
   "execution_count": 2,
   "id": "81274a11",
   "metadata": {},
   "outputs": [],
   "source": [
    "income_data = pd.read_csv('income.csv', header=0, delimiter=\", \", engine='python')"
   ]
  },
  {
   "cell_type": "code",
   "execution_count": 3,
   "id": "2e13a990",
   "metadata": {},
   "outputs": [
    {
     "data": {
      "text/html": [
       "<div>\n",
       "<style scoped>\n",
       "    .dataframe tbody tr th:only-of-type {\n",
       "        vertical-align: middle;\n",
       "    }\n",
       "\n",
       "    .dataframe tbody tr th {\n",
       "        vertical-align: top;\n",
       "    }\n",
       "\n",
       "    .dataframe thead th {\n",
       "        text-align: right;\n",
       "    }\n",
       "</style>\n",
       "<table border=\"1\" class=\"dataframe\">\n",
       "  <thead>\n",
       "    <tr style=\"text-align: right;\">\n",
       "      <th></th>\n",
       "      <th>age</th>\n",
       "      <th>workclass</th>\n",
       "      <th>fnlwgt</th>\n",
       "      <th>education</th>\n",
       "      <th>education-num</th>\n",
       "      <th>marital-status</th>\n",
       "      <th>occupation</th>\n",
       "      <th>relationship</th>\n",
       "      <th>race</th>\n",
       "      <th>sex</th>\n",
       "      <th>capital-gain</th>\n",
       "      <th>capital-loss</th>\n",
       "      <th>hours-per-week</th>\n",
       "      <th>native-country</th>\n",
       "      <th>income</th>\n",
       "    </tr>\n",
       "  </thead>\n",
       "  <tbody>\n",
       "    <tr>\n",
       "      <th>0</th>\n",
       "      <td>39</td>\n",
       "      <td>State-gov</td>\n",
       "      <td>77516</td>\n",
       "      <td>Bachelors</td>\n",
       "      <td>13</td>\n",
       "      <td>Never-married</td>\n",
       "      <td>Adm-clerical</td>\n",
       "      <td>Not-in-family</td>\n",
       "      <td>White</td>\n",
       "      <td>Male</td>\n",
       "      <td>2174</td>\n",
       "      <td>0</td>\n",
       "      <td>40</td>\n",
       "      <td>United-States</td>\n",
       "      <td>&lt;=50K</td>\n",
       "    </tr>\n",
       "    <tr>\n",
       "      <th>1</th>\n",
       "      <td>50</td>\n",
       "      <td>Self-emp-not-inc</td>\n",
       "      <td>83311</td>\n",
       "      <td>Bachelors</td>\n",
       "      <td>13</td>\n",
       "      <td>Married-civ-spouse</td>\n",
       "      <td>Exec-managerial</td>\n",
       "      <td>Husband</td>\n",
       "      <td>White</td>\n",
       "      <td>Male</td>\n",
       "      <td>0</td>\n",
       "      <td>0</td>\n",
       "      <td>13</td>\n",
       "      <td>United-States</td>\n",
       "      <td>&lt;=50K</td>\n",
       "    </tr>\n",
       "    <tr>\n",
       "      <th>2</th>\n",
       "      <td>38</td>\n",
       "      <td>Private</td>\n",
       "      <td>215646</td>\n",
       "      <td>HS-grad</td>\n",
       "      <td>9</td>\n",
       "      <td>Divorced</td>\n",
       "      <td>Handlers-cleaners</td>\n",
       "      <td>Not-in-family</td>\n",
       "      <td>White</td>\n",
       "      <td>Male</td>\n",
       "      <td>0</td>\n",
       "      <td>0</td>\n",
       "      <td>40</td>\n",
       "      <td>United-States</td>\n",
       "      <td>&lt;=50K</td>\n",
       "    </tr>\n",
       "    <tr>\n",
       "      <th>3</th>\n",
       "      <td>53</td>\n",
       "      <td>Private</td>\n",
       "      <td>234721</td>\n",
       "      <td>11th</td>\n",
       "      <td>7</td>\n",
       "      <td>Married-civ-spouse</td>\n",
       "      <td>Handlers-cleaners</td>\n",
       "      <td>Husband</td>\n",
       "      <td>Black</td>\n",
       "      <td>Male</td>\n",
       "      <td>0</td>\n",
       "      <td>0</td>\n",
       "      <td>40</td>\n",
       "      <td>United-States</td>\n",
       "      <td>&lt;=50K</td>\n",
       "    </tr>\n",
       "    <tr>\n",
       "      <th>4</th>\n",
       "      <td>28</td>\n",
       "      <td>Private</td>\n",
       "      <td>338409</td>\n",
       "      <td>Bachelors</td>\n",
       "      <td>13</td>\n",
       "      <td>Married-civ-spouse</td>\n",
       "      <td>Prof-specialty</td>\n",
       "      <td>Wife</td>\n",
       "      <td>Black</td>\n",
       "      <td>Female</td>\n",
       "      <td>0</td>\n",
       "      <td>0</td>\n",
       "      <td>40</td>\n",
       "      <td>Cuba</td>\n",
       "      <td>&lt;=50K</td>\n",
       "    </tr>\n",
       "  </tbody>\n",
       "</table>\n",
       "</div>"
      ],
      "text/plain": [
       "   age         workclass  fnlwgt  education  education-num  \\\n",
       "0   39         State-gov   77516  Bachelors             13   \n",
       "1   50  Self-emp-not-inc   83311  Bachelors             13   \n",
       "2   38           Private  215646    HS-grad              9   \n",
       "3   53           Private  234721       11th              7   \n",
       "4   28           Private  338409  Bachelors             13   \n",
       "\n",
       "       marital-status         occupation   relationship   race     sex  \\\n",
       "0       Never-married       Adm-clerical  Not-in-family  White    Male   \n",
       "1  Married-civ-spouse    Exec-managerial        Husband  White    Male   \n",
       "2            Divorced  Handlers-cleaners  Not-in-family  White    Male   \n",
       "3  Married-civ-spouse  Handlers-cleaners        Husband  Black    Male   \n",
       "4  Married-civ-spouse     Prof-specialty           Wife  Black  Female   \n",
       "\n",
       "   capital-gain  capital-loss  hours-per-week native-country income  \n",
       "0          2174             0              40  United-States  <=50K  \n",
       "1             0             0              13  United-States  <=50K  \n",
       "2             0             0              40  United-States  <=50K  \n",
       "3             0             0              40  United-States  <=50K  \n",
       "4             0             0              40           Cuba  <=50K  "
      ]
     },
     "execution_count": 3,
     "metadata": {},
     "output_type": "execute_result"
    }
   ],
   "source": [
    "income_data.head()"
   ]
  },
  {
   "cell_type": "code",
   "execution_count": 4,
   "id": "331a570e",
   "metadata": {},
   "outputs": [
    {
     "data": {
      "text/plain": [
       "age                          39\n",
       "workclass             State-gov\n",
       "fnlwgt                    77516\n",
       "education             Bachelors\n",
       "education-num                13\n",
       "marital-status    Never-married\n",
       "occupation         Adm-clerical\n",
       "relationship      Not-in-family\n",
       "race                      White\n",
       "sex                        Male\n",
       "capital-gain               2174\n",
       "capital-loss                  0\n",
       "hours-per-week               40\n",
       "native-country    United-States\n",
       "income                    <=50K\n",
       "Name: 0, dtype: object"
      ]
     },
     "execution_count": 4,
     "metadata": {},
     "output_type": "execute_result"
    }
   ],
   "source": [
    "income_data.iloc[0]"
   ]
  },
  {
   "cell_type": "code",
   "execution_count": 5,
   "id": "5b605e93",
   "metadata": {},
   "outputs": [
    {
     "name": "stdout",
     "output_type": "stream",
     "text": [
      "<class 'pandas.core.frame.DataFrame'>\n",
      "RangeIndex: 32561 entries, 0 to 32560\n",
      "Data columns (total 15 columns):\n",
      " #   Column          Non-Null Count  Dtype \n",
      "---  ------          --------------  ----- \n",
      " 0   age             32561 non-null  int64 \n",
      " 1   workclass       32561 non-null  object\n",
      " 2   fnlwgt          32561 non-null  int64 \n",
      " 3   education       32561 non-null  object\n",
      " 4   education-num   32561 non-null  int64 \n",
      " 5   marital-status  32561 non-null  object\n",
      " 6   occupation      32561 non-null  object\n",
      " 7   relationship    32561 non-null  object\n",
      " 8   race            32561 non-null  object\n",
      " 9   sex             32561 non-null  object\n",
      " 10  capital-gain    32561 non-null  int64 \n",
      " 11  capital-loss    32561 non-null  int64 \n",
      " 12  hours-per-week  32561 non-null  int64 \n",
      " 13  native-country  32561 non-null  object\n",
      " 14  income          32561 non-null  object\n",
      "dtypes: int64(6), object(9)\n",
      "memory usage: 3.7+ MB\n"
     ]
    }
   ],
   "source": [
    "income_data.info()"
   ]
  },
  {
   "cell_type": "code",
   "execution_count": 6,
   "id": "2075cb0e",
   "metadata": {},
   "outputs": [
    {
     "data": {
      "text/plain": [
       "Index(['age', 'workclass', 'fnlwgt', 'education', 'education-num',\n",
       "       'marital-status', 'occupation', 'relationship', 'race', 'sex',\n",
       "       'capital-gain', 'capital-loss', 'hours-per-week', 'native-country',\n",
       "       'income'],\n",
       "      dtype='object')"
      ]
     },
     "execution_count": 6,
     "metadata": {},
     "output_type": "execute_result"
    }
   ],
   "source": [
    "income_data.columns"
   ]
  },
  {
   "cell_type": "markdown",
   "id": "e2ab537b",
   "metadata": {},
   "source": [
    "## Clean data"
   ]
  },
  {
   "cell_type": "code",
   "execution_count": 7,
   "id": "24fbc86d",
   "metadata": {},
   "outputs": [],
   "source": [
    "income_data['sex-int'] = income_data['sex'].map({'Male':1, 'Female':0})"
   ]
  },
  {
   "cell_type": "code",
   "execution_count": 8,
   "id": "1c29f903",
   "metadata": {},
   "outputs": [
    {
     "name": "stdout",
     "output_type": "stream",
     "text": [
      "[1 2 3 ... 1 1 2]\n"
     ]
    }
   ],
   "source": [
    "def factorize(column):\n",
    "    return pd.factorize(column)[0]+1\n",
    "\n",
    "print(factorize(income_data['occupation']))"
   ]
  },
  {
   "cell_type": "code",
   "execution_count": 9,
   "id": "265efe7f",
   "metadata": {},
   "outputs": [
    {
     "data": {
      "text/plain": [
       "Prof-specialty       4140\n",
       "Craft-repair         4099\n",
       "Exec-managerial      4066\n",
       "Adm-clerical         3770\n",
       "Sales                3650\n",
       "Other-service        3295\n",
       "Machine-op-inspct    2002\n",
       "?                    1843\n",
       "Transport-moving     1597\n",
       "Handlers-cleaners    1370\n",
       "Farming-fishing       994\n",
       "Tech-support          928\n",
       "Protective-serv       649\n",
       "Priv-house-serv       149\n",
       "Armed-Forces            9\n",
       "Name: occupation, dtype: int64"
      ]
     },
     "execution_count": 9,
     "metadata": {},
     "output_type": "execute_result"
    }
   ],
   "source": [
    "income_data['occupation'].value_counts()"
   ]
  },
  {
   "cell_type": "code",
   "execution_count": 10,
   "id": "bec13dd0",
   "metadata": {},
   "outputs": [
    {
     "data": {
      "text/plain": [
       "United-States                 29170\n",
       "Mexico                          643\n",
       "?                               583\n",
       "Philippines                     198\n",
       "Germany                         137\n",
       "Canada                          121\n",
       "Puerto-Rico                     114\n",
       "El-Salvador                     106\n",
       "India                           100\n",
       "Cuba                             95\n",
       "England                          90\n",
       "Jamaica                          81\n",
       "South                            80\n",
       "China                            75\n",
       "Italy                            73\n",
       "Dominican-Republic               70\n",
       "Vietnam                          67\n",
       "Guatemala                        64\n",
       "Japan                            62\n",
       "Poland                           60\n",
       "Columbia                         59\n",
       "Taiwan                           51\n",
       "Haiti                            44\n",
       "Iran                             43\n",
       "Portugal                         37\n",
       "Nicaragua                        34\n",
       "Peru                             31\n",
       "France                           29\n",
       "Greece                           29\n",
       "Ecuador                          28\n",
       "Ireland                          24\n",
       "Hong                             20\n",
       "Trinadad&Tobago                  19\n",
       "Cambodia                         19\n",
       "Thailand                         18\n",
       "Laos                             18\n",
       "Yugoslavia                       16\n",
       "Outlying-US(Guam-USVI-etc)       14\n",
       "Honduras                         13\n",
       "Hungary                          13\n",
       "Scotland                         12\n",
       "Holand-Netherlands                1\n",
       "Name: native-country, dtype: int64"
      ]
     },
     "execution_count": 10,
     "metadata": {},
     "output_type": "execute_result"
    }
   ],
   "source": [
    "income_data['native-country'].value_counts()"
   ]
  },
  {
   "cell_type": "code",
   "execution_count": 11,
   "id": "fec43dcb",
   "metadata": {},
   "outputs": [
    {
     "data": {
      "text/plain": [
       "Private             22696\n",
       "Self-emp-not-inc     2541\n",
       "Local-gov            2093\n",
       "?                    1836\n",
       "State-gov            1298\n",
       "Self-emp-inc         1116\n",
       "Federal-gov           960\n",
       "Without-pay            14\n",
       "Never-worked            7\n",
       "Name: workclass, dtype: int64"
      ]
     },
     "execution_count": 11,
     "metadata": {},
     "output_type": "execute_result"
    }
   ],
   "source": [
    "income_data['workclass'].value_counts()"
   ]
  },
  {
   "cell_type": "code",
   "execution_count": 12,
   "id": "bbce07e8",
   "metadata": {},
   "outputs": [
    {
     "data": {
      "text/plain": [
       "HS-grad         10501\n",
       "Some-college     7291\n",
       "Bachelors        5355\n",
       "Masters          1723\n",
       "Assoc-voc        1382\n",
       "11th             1175\n",
       "Assoc-acdm       1067\n",
       "10th              933\n",
       "7th-8th           646\n",
       "Prof-school       576\n",
       "9th               514\n",
       "12th              433\n",
       "Doctorate         413\n",
       "5th-6th           333\n",
       "1st-4th           168\n",
       "Preschool          51\n",
       "Name: education, dtype: int64"
      ]
     },
     "execution_count": 12,
     "metadata": {},
     "output_type": "execute_result"
    }
   ],
   "source": [
    "income_data['education'].value_counts()"
   ]
  },
  {
   "cell_type": "code",
   "execution_count": 13,
   "id": "8390dbc6",
   "metadata": {},
   "outputs": [
    {
     "data": {
      "text/plain": [
       "Married-civ-spouse       14976\n",
       "Never-married            10683\n",
       "Divorced                  4443\n",
       "Separated                 1025\n",
       "Widowed                    993\n",
       "Married-spouse-absent      418\n",
       "Married-AF-spouse           23\n",
       "Name: marital-status, dtype: int64"
      ]
     },
     "execution_count": 13,
     "metadata": {},
     "output_type": "execute_result"
    }
   ],
   "source": [
    "income_data['marital-status'].value_counts()"
   ]
  },
  {
   "cell_type": "code",
   "execution_count": 14,
   "id": "f8e3355a",
   "metadata": {},
   "outputs": [],
   "source": [
    "def string_to_01(data, column, string):\n",
    "    return data[column].apply(lambda x: 0 if x == string else 1)\n",
    "\n",
    "income_data['native-int'] = string_to_01(income_data, 'native-country', 'United-States')\n",
    "income_data['workclass-int'] = string_to_01(income_data, 'workclass', 'private')\n",
    "income_data['occupation-int'] = factorize(income_data['occupation'])\n",
    "income_data['education-int'] = factorize(income_data['education'])\n",
    "income_data['marital-status-int'] = factorize(income_data['marital-status'])"
   ]
  },
  {
   "cell_type": "markdown",
   "id": "b020a259",
   "metadata": {},
   "source": [
    "## Format The Data For Scikit-learn"
   ]
  },
  {
   "cell_type": "code",
   "execution_count": 15,
   "id": "9e93272d",
   "metadata": {},
   "outputs": [],
   "source": [
    "labels = income_data['income']\n",
    "many_data = income_data[[\"age\", \"capital-gain\", \"capital-loss\", \"hours-per-week\"]]\n",
    "\n",
    "train_data, test_data, train_labels, test_labels = train_test_split(many_data, labels, random_state=1)"
   ]
  },
  {
   "cell_type": "markdown",
   "id": "01a06d60",
   "metadata": {},
   "source": [
    "## Create The Random Forest"
   ]
  },
  {
   "cell_type": "code",
   "execution_count": 16,
   "id": "a93c6c67",
   "metadata": {},
   "outputs": [
    {
     "name": "stdout",
     "output_type": "stream",
     "text": [
      "0.8222577078982926\n"
     ]
    }
   ],
   "source": [
    "forest = RandomForestClassifier(random_state=1)\n",
    "forest.fit(train_data, train_labels)\n",
    "score = forest.score(test_data, test_labels)\n",
    "print(score)"
   ]
  },
  {
   "cell_type": "code",
   "execution_count": 17,
   "id": "ef306f73",
   "metadata": {},
   "outputs": [
    {
     "data": {
      "text/plain": [
       "[('age', 0.2899902941678581),\n",
       " ('capital-gain', 0.35559953754473134),\n",
       " ('capital-loss', 0.14510085058672306),\n",
       " ('hours-per-week', 0.2093093177006875)]"
      ]
     },
     "execution_count": 17,
     "metadata": {},
     "output_type": "execute_result"
    }
   ],
   "source": [
    "list(zip([\"age\", \"capital-gain\", \"capital-loss\", \"hours-per-week\"],forest.feature_importances_))"
   ]
  },
  {
   "cell_type": "code",
   "execution_count": 18,
   "id": "f486962c",
   "metadata": {},
   "outputs": [
    {
     "name": "stdout",
     "output_type": "stream",
     "text": [
      "0.8777791426114728\n",
      "[('age', 0.3567466687648515), ('capital-gain', 0.26051378101374656), ('capital-loss', 0.10547162079308159), ('hours-per-week', 0.21412400088101088), ('sex', 0.06314392854730949)]\n"
     ]
    }
   ],
   "source": [
    "# add sex-int\n",
    "\n",
    "labels = income_data['income']\n",
    "many_data = income_data[[\"age\", \"capital-gain\", \"capital-loss\", \"hours-per-week\", \"sex-int\"]]\n",
    "\n",
    "train_data, test_data, train_labels, test_labels = train_test_split(many_data, labels, random_state=1)\n",
    "\n",
    "# Create The Random Forest\n",
    "forest = RandomForestClassifier(random_state=1)\n",
    "forest.fit(test_data, test_labels)\n",
    "score = forest.score(test_data, test_labels)\n",
    "\n",
    "print(score)\n",
    "print(list(zip([\"age\", \"capital-gain\", \"capital-loss\", \"hours-per-week\", \"sex\"],forest.feature_importances_)))"
   ]
  },
  {
   "cell_type": "code",
   "execution_count": 20,
   "id": "0cca7c42",
   "metadata": {},
   "outputs": [
    {
     "name": "stdout",
     "output_type": "stream",
     "text": [
      "0.8831838840437293\n",
      "[('age', 0.36810265849433305), ('capital-gain', 0.24551815314306222), ('capital-loss', 0.09803541590672699), ('hours-per-week', 0.21421150906431205), ('sex', 0.06354219573424456)]\n"
     ]
    }
   ],
   "source": [
    "# add native-country \n",
    "\n",
    "labels = income_data['income']\n",
    "many_data = income_data[[\"age\", \"capital-gain\", \"capital-loss\", \"hours-per-week\", \"sex-int\", \"native-int\"]]\n",
    "\n",
    "train_data, test_data, train_labels, test_labels = train_test_split(many_data, labels, random_state=1)\n",
    "\n",
    "# Create The Random Forest\n",
    "forest = RandomForestClassifier(random_state=1)\n",
    "forest.fit(test_data, test_labels)\n",
    "score = forest.score(test_data, test_labels)\n",
    "print(score)\n",
    "print(list(zip([\"age\", \"capital-gain\", \"capital-loss\", \"hours-per-week\", \"sex\"],forest.feature_importances_)))\n"
   ]
  },
  {
   "cell_type": "markdown",
   "id": "7b458d2b",
   "metadata": {},
   "source": [
    "## Explore On Your Own"
   ]
  },
  {
   "cell_type": "code",
   "execution_count": 21,
   "id": "ce2259e4",
   "metadata": {},
   "outputs": [
    {
     "name": "stdout",
     "output_type": "stream",
     "text": [
      "0.8484569322892677\n"
     ]
    },
    {
     "data": {
      "text/plain": [
       "[('age', 0.2484423946970997),\n",
       " ('capital-gain', 0.15457577071511933),\n",
       " ('capital-loss', 0.052094246428671304),\n",
       " ('hours-per-week', 0.12432737532346944),\n",
       " ('sex-int', 0.02800263369225799),\n",
       " ('native-int', 0.013422610650784065),\n",
       " ('workclass-int', 0.0),\n",
       " ('occupation-int', 0.11678639214042627),\n",
       " ('education-int', 0.10343861031626786),\n",
       " ('marital-status-int', 0.15890996603590413)]"
      ]
     },
     "execution_count": 21,
     "metadata": {},
     "output_type": "execute_result"
    }
   ],
   "source": [
    "# Random Forest\n",
    "\n",
    "labels_2 = income_data['income']\n",
    "many_data_2 = income_data[[\"age\", \"capital-gain\", \"capital-loss\", \"hours-per-week\",\"sex-int\", \"native-int\",\n",
    "                        \"workclass-int\", \"occupation-int\", \"education-int\", \"marital-status-int\"]]\n",
    "\n",
    "train_data, test_data, train_labels, test_labels = train_test_split(many_data_2, labels_2, test_size=0.2, random_state=1)\n",
    "\n",
    "forest = RandomForestClassifier(random_state=1)\n",
    "forest.fit(train_data, train_labels)\n",
    "score = forest.score(test_data, test_labels)\n",
    "print(score)\n",
    "list(zip([\"age\", \"capital-gain\", \"capital-loss\", \"hours-per-week\",\"sex-int\", \"native-int\",\"workclass-int\", \n",
    "          \"occupation-int\", \"education-int\", \"marital-status-int\"], forest.feature_importances_))"
   ]
  },
  {
   "cell_type": "markdown",
   "id": "92dbb98d",
   "metadata": {},
   "source": [
    "- Which features tend to be more relevant? capital-loss, sex, age, capital-gain, the rest of data shared close number around 10%, while workclass was 0%. "
   ]
  },
  {
   "cell_type": "code",
   "execution_count": 22,
   "id": "136d2817",
   "metadata": {},
   "outputs": [
    {
     "name": "stdout",
     "output_type": "stream",
     "text": [
      "0.8226623675725472\n"
     ]
    },
    {
     "data": {
      "text/plain": [
       "[('age', 0.20223783546788687),\n",
       " ('capital-gain', 0.1897618957019309),\n",
       " ('capital-loss', 0.054188247571789104),\n",
       " ('hours-per-week', 0.12437844306211633),\n",
       " ('sex-int', 0.019687006042570013),\n",
       " ('native-int', 0.019908724666832068),\n",
       " ('workclass-int', 0.0),\n",
       " ('occupation-int', 0.11838657844176449),\n",
       " ('education-int', 0.08356634224159795),\n",
       " ('marital-status-int', 0.18788492680351232)]"
      ]
     },
     "execution_count": 22,
     "metadata": {},
     "output_type": "execute_result"
    }
   ],
   "source": [
    "# Decision tree\n",
    "\n",
    "labels_2 = income_data['income']\n",
    "many_data_2 = income_data[[\"age\", \"capital-gain\", \"capital-loss\", \"hours-per-week\",\"sex-int\", \"native-int\",\n",
    "                        \"workclass-int\", \"occupation-int\", \"education-int\", \"marital-status-int\"]]\n",
    "\n",
    "train_data, test_data, train_labels, test_labels = train_test_split(many_data_2, labels_2, test_size=0.2, random_state=1)\n",
    "\n",
    "classifier = tree.DecisionTreeClassifier(random_state=1)\n",
    "classifier.fit(train_data, train_labels)\n",
    "score = classifier.score(test_data, test_labels)\n",
    "\n",
    "print(score)\n",
    "list(zip([\"age\", \"capital-gain\", \"capital-loss\", \"hours-per-week\",\"sex-int\", \"native-int\",\"workclass-int\", \n",
    "          \"occupation-int\", \"education-int\", \"marital-status-int\"], classifier.feature_importances_))"
   ]
  },
  {
   "cell_type": "markdown",
   "id": "d5391be6",
   "metadata": {},
   "source": [
    "- When does the random forest do better than the single tree? \n",
    "- When does a single tree do just as well as the forest?"
   ]
  }
 ],
 "metadata": {
  "kernelspec": {
   "display_name": "Python 3",
   "language": "python",
   "name": "python3"
  },
  "language_info": {
   "codemirror_mode": {
    "name": "ipython",
    "version": 3
   },
   "file_extension": ".py",
   "mimetype": "text/x-python",
   "name": "python",
   "nbconvert_exporter": "python",
   "pygments_lexer": "ipython3",
   "version": "3.8.8"
  }
 },
 "nbformat": 4,
 "nbformat_minor": 5
}
