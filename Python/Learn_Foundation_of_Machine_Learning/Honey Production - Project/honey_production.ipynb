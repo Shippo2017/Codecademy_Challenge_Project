{
 "cells": [
  {
   "cell_type": "markdown",
   "id": "12b089f8",
   "metadata": {},
   "source": [
    "## Honey Production\n",
    "Now that you have learned how linear regression works, let’s try it on an example of real-world data.\n",
    "\n",
    "As you may have already heard, the honeybees are in a precarious state right now. You may have seen articles about the decline of the honeybee population for various reasons. You want to investigate this decline and how the trends of the past predict the future for the honeybees."
   ]
  },
  {
   "cell_type": "markdown",
   "id": "43ee6b13",
   "metadata": {},
   "source": [
    "### Check out the Data"
   ]
  },
  {
   "cell_type": "code",
   "execution_count": 1,
   "id": "7955c2c2",
   "metadata": {},
   "outputs": [],
   "source": [
    "from IPython.core.interactiveshell import InteractiveShell\n",
    "InteractiveShell.ast_node_interactivity = \"all\""
   ]
  },
  {
   "cell_type": "code",
   "execution_count": 2,
   "id": "8d741860",
   "metadata": {},
   "outputs": [],
   "source": [
    "import pandas as pd\n",
    "import numpy as np\n",
    "import matplotlib.pyplot as plt\n",
    "from sklearn import linear_model"
   ]
  },
  {
   "cell_type": "code",
   "execution_count": 3,
   "id": "2fb1899c",
   "metadata": {},
   "outputs": [
    {
     "data": {
      "text/html": [
       "<div>\n",
       "<style scoped>\n",
       "    .dataframe tbody tr th:only-of-type {\n",
       "        vertical-align: middle;\n",
       "    }\n",
       "\n",
       "    .dataframe tbody tr th {\n",
       "        vertical-align: top;\n",
       "    }\n",
       "\n",
       "    .dataframe thead th {\n",
       "        text-align: right;\n",
       "    }\n",
       "</style>\n",
       "<table border=\"1\" class=\"dataframe\">\n",
       "  <thead>\n",
       "    <tr style=\"text-align: right;\">\n",
       "      <th></th>\n",
       "      <th>state</th>\n",
       "      <th>numcol</th>\n",
       "      <th>yieldpercol</th>\n",
       "      <th>totalprod</th>\n",
       "      <th>stocks</th>\n",
       "      <th>priceperlb</th>\n",
       "      <th>prodvalue</th>\n",
       "      <th>year</th>\n",
       "    </tr>\n",
       "  </thead>\n",
       "  <tbody>\n",
       "    <tr>\n",
       "      <th>0</th>\n",
       "      <td>AL</td>\n",
       "      <td>16000.0</td>\n",
       "      <td>71</td>\n",
       "      <td>1136000.0</td>\n",
       "      <td>159000.0</td>\n",
       "      <td>0.72</td>\n",
       "      <td>818000.0</td>\n",
       "      <td>1998</td>\n",
       "    </tr>\n",
       "    <tr>\n",
       "      <th>1</th>\n",
       "      <td>AZ</td>\n",
       "      <td>55000.0</td>\n",
       "      <td>60</td>\n",
       "      <td>3300000.0</td>\n",
       "      <td>1485000.0</td>\n",
       "      <td>0.64</td>\n",
       "      <td>2112000.0</td>\n",
       "      <td>1998</td>\n",
       "    </tr>\n",
       "    <tr>\n",
       "      <th>2</th>\n",
       "      <td>AR</td>\n",
       "      <td>53000.0</td>\n",
       "      <td>65</td>\n",
       "      <td>3445000.0</td>\n",
       "      <td>1688000.0</td>\n",
       "      <td>0.59</td>\n",
       "      <td>2033000.0</td>\n",
       "      <td>1998</td>\n",
       "    </tr>\n",
       "  </tbody>\n",
       "</table>\n",
       "</div>"
      ],
      "text/plain": [
       "  state   numcol  yieldpercol  totalprod     stocks  priceperlb  prodvalue  \\\n",
       "0    AL  16000.0           71  1136000.0   159000.0        0.72   818000.0   \n",
       "1    AZ  55000.0           60  3300000.0  1485000.0        0.64  2112000.0   \n",
       "2    AR  53000.0           65  3445000.0  1688000.0        0.59  2033000.0   \n",
       "\n",
       "   year  \n",
       "0  1998  \n",
       "1  1998  \n",
       "2  1998  "
      ]
     },
     "execution_count": 3,
     "metadata": {},
     "output_type": "execute_result"
    }
   ],
   "source": [
    "df = pd. read_csv('honeyproduction.csv')\n",
    "df.head(3)"
   ]
  },
  {
   "cell_type": "raw",
   "id": "b8ffd246",
   "metadata": {},
   "source": [
    "state       : State name abbreviation\n",
    "numcol      : Number of honey producing colonies\n",
    "yieldpercol : Yield per colony (lbs)\n",
    "totalprod   : Total production (numcol*yieldpercol), (lbs)\n",
    "stocks      : Stocks held by producers on Dec 15 (lbs)\n",
    "priceperlb  : Average price per pound ($)\n",
    "prodvalue   : Value of production (totalprod*prodvalue), ($)\n",
    "year        : Year the data pertains to"
   ]
  },
  {
   "cell_type": "code",
   "execution_count": 4,
   "id": "00102f40",
   "metadata": {},
   "outputs": [
    {
     "data": {
      "text/html": [
       "<div>\n",
       "<style scoped>\n",
       "    .dataframe tbody tr th:only-of-type {\n",
       "        vertical-align: middle;\n",
       "    }\n",
       "\n",
       "    .dataframe tbody tr th {\n",
       "        vertical-align: top;\n",
       "    }\n",
       "\n",
       "    .dataframe thead th {\n",
       "        text-align: right;\n",
       "    }\n",
       "</style>\n",
       "<table border=\"1\" class=\"dataframe\">\n",
       "  <thead>\n",
       "    <tr style=\"text-align: right;\">\n",
       "      <th></th>\n",
       "      <th>numcol</th>\n",
       "      <th>yieldpercol</th>\n",
       "      <th>totalprod</th>\n",
       "      <th>stocks</th>\n",
       "      <th>priceperlb</th>\n",
       "      <th>prodvalue</th>\n",
       "      <th>year</th>\n",
       "    </tr>\n",
       "  </thead>\n",
       "  <tbody>\n",
       "    <tr>\n",
       "      <th>count</th>\n",
       "      <td>626.000000</td>\n",
       "      <td>626.000000</td>\n",
       "      <td>6.260000e+02</td>\n",
       "      <td>6.260000e+02</td>\n",
       "      <td>626.000000</td>\n",
       "      <td>6.260000e+02</td>\n",
       "      <td>626.000000</td>\n",
       "    </tr>\n",
       "    <tr>\n",
       "      <th>mean</th>\n",
       "      <td>60284.345048</td>\n",
       "      <td>62.009585</td>\n",
       "      <td>4.169086e+06</td>\n",
       "      <td>1.318859e+06</td>\n",
       "      <td>1.409569</td>\n",
       "      <td>4.715741e+06</td>\n",
       "      <td>2004.864217</td>\n",
       "    </tr>\n",
       "    <tr>\n",
       "      <th>std</th>\n",
       "      <td>91077.087231</td>\n",
       "      <td>19.458754</td>\n",
       "      <td>6.883847e+06</td>\n",
       "      <td>2.272964e+06</td>\n",
       "      <td>0.638599</td>\n",
       "      <td>7.976110e+06</td>\n",
       "      <td>4.317306</td>\n",
       "    </tr>\n",
       "    <tr>\n",
       "      <th>min</th>\n",
       "      <td>2000.000000</td>\n",
       "      <td>19.000000</td>\n",
       "      <td>8.400000e+04</td>\n",
       "      <td>8.000000e+03</td>\n",
       "      <td>0.490000</td>\n",
       "      <td>1.620000e+05</td>\n",
       "      <td>1998.000000</td>\n",
       "    </tr>\n",
       "    <tr>\n",
       "      <th>25%</th>\n",
       "      <td>9000.000000</td>\n",
       "      <td>48.000000</td>\n",
       "      <td>4.750000e+05</td>\n",
       "      <td>1.430000e+05</td>\n",
       "      <td>0.932500</td>\n",
       "      <td>7.592500e+05</td>\n",
       "      <td>2001.000000</td>\n",
       "    </tr>\n",
       "    <tr>\n",
       "      <th>50%</th>\n",
       "      <td>26000.000000</td>\n",
       "      <td>60.000000</td>\n",
       "      <td>1.533000e+06</td>\n",
       "      <td>4.395000e+05</td>\n",
       "      <td>1.360000</td>\n",
       "      <td>1.841500e+06</td>\n",
       "      <td>2005.000000</td>\n",
       "    </tr>\n",
       "    <tr>\n",
       "      <th>75%</th>\n",
       "      <td>63750.000000</td>\n",
       "      <td>74.000000</td>\n",
       "      <td>4.175250e+06</td>\n",
       "      <td>1.489500e+06</td>\n",
       "      <td>1.680000</td>\n",
       "      <td>4.703250e+06</td>\n",
       "      <td>2009.000000</td>\n",
       "    </tr>\n",
       "    <tr>\n",
       "      <th>max</th>\n",
       "      <td>510000.000000</td>\n",
       "      <td>136.000000</td>\n",
       "      <td>4.641000e+07</td>\n",
       "      <td>1.380000e+07</td>\n",
       "      <td>4.150000</td>\n",
       "      <td>6.961500e+07</td>\n",
       "      <td>2012.000000</td>\n",
       "    </tr>\n",
       "  </tbody>\n",
       "</table>\n",
       "</div>"
      ],
      "text/plain": [
       "              numcol  yieldpercol     totalprod        stocks  priceperlb  \\\n",
       "count     626.000000   626.000000  6.260000e+02  6.260000e+02  626.000000   \n",
       "mean    60284.345048    62.009585  4.169086e+06  1.318859e+06    1.409569   \n",
       "std     91077.087231    19.458754  6.883847e+06  2.272964e+06    0.638599   \n",
       "min      2000.000000    19.000000  8.400000e+04  8.000000e+03    0.490000   \n",
       "25%      9000.000000    48.000000  4.750000e+05  1.430000e+05    0.932500   \n",
       "50%     26000.000000    60.000000  1.533000e+06  4.395000e+05    1.360000   \n",
       "75%     63750.000000    74.000000  4.175250e+06  1.489500e+06    1.680000   \n",
       "max    510000.000000   136.000000  4.641000e+07  1.380000e+07    4.150000   \n",
       "\n",
       "          prodvalue         year  \n",
       "count  6.260000e+02   626.000000  \n",
       "mean   4.715741e+06  2004.864217  \n",
       "std    7.976110e+06     4.317306  \n",
       "min    1.620000e+05  1998.000000  \n",
       "25%    7.592500e+05  2001.000000  \n",
       "50%    1.841500e+06  2005.000000  \n",
       "75%    4.703250e+06  2009.000000  \n",
       "max    6.961500e+07  2012.000000  "
      ]
     },
     "execution_count": 4,
     "metadata": {},
     "output_type": "execute_result"
    }
   ],
   "source": [
    "df.describe()"
   ]
  },
  {
   "cell_type": "markdown",
   "id": "52c5304f",
   "metadata": {},
   "source": [
    "####  the total production of honey per year"
   ]
  },
  {
   "cell_type": "code",
   "execution_count": 6,
   "id": "c239e29d",
   "metadata": {},
   "outputs": [
    {
     "data": {
      "text/html": [
       "<div>\n",
       "<style scoped>\n",
       "    .dataframe tbody tr th:only-of-type {\n",
       "        vertical-align: middle;\n",
       "    }\n",
       "\n",
       "    .dataframe tbody tr th {\n",
       "        vertical-align: top;\n",
       "    }\n",
       "\n",
       "    .dataframe thead th {\n",
       "        text-align: right;\n",
       "    }\n",
       "</style>\n",
       "<table border=\"1\" class=\"dataframe\">\n",
       "  <thead>\n",
       "    <tr style=\"text-align: right;\">\n",
       "      <th></th>\n",
       "      <th>year</th>\n",
       "      <th>totalprod</th>\n",
       "    </tr>\n",
       "  </thead>\n",
       "  <tbody>\n",
       "    <tr>\n",
       "      <th>0</th>\n",
       "      <td>1998</td>\n",
       "      <td>5.105093e+06</td>\n",
       "    </tr>\n",
       "    <tr>\n",
       "      <th>1</th>\n",
       "      <td>1999</td>\n",
       "      <td>4.706674e+06</td>\n",
       "    </tr>\n",
       "    <tr>\n",
       "      <th>2</th>\n",
       "      <td>2000</td>\n",
       "      <td>5.106000e+06</td>\n",
       "    </tr>\n",
       "    <tr>\n",
       "      <th>3</th>\n",
       "      <td>2001</td>\n",
       "      <td>4.221545e+06</td>\n",
       "    </tr>\n",
       "    <tr>\n",
       "      <th>4</th>\n",
       "      <td>2002</td>\n",
       "      <td>3.892386e+06</td>\n",
       "    </tr>\n",
       "    <tr>\n",
       "      <th>5</th>\n",
       "      <td>2003</td>\n",
       "      <td>4.122091e+06</td>\n",
       "    </tr>\n",
       "    <tr>\n",
       "      <th>6</th>\n",
       "      <td>2004</td>\n",
       "      <td>4.456805e+06</td>\n",
       "    </tr>\n",
       "    <tr>\n",
       "      <th>7</th>\n",
       "      <td>2005</td>\n",
       "      <td>4.243146e+06</td>\n",
       "    </tr>\n",
       "    <tr>\n",
       "      <th>8</th>\n",
       "      <td>2006</td>\n",
       "      <td>3.761902e+06</td>\n",
       "    </tr>\n",
       "    <tr>\n",
       "      <th>9</th>\n",
       "      <td>2007</td>\n",
       "      <td>3.600512e+06</td>\n",
       "    </tr>\n",
       "    <tr>\n",
       "      <th>10</th>\n",
       "      <td>2008</td>\n",
       "      <td>3.974927e+06</td>\n",
       "    </tr>\n",
       "    <tr>\n",
       "      <th>11</th>\n",
       "      <td>2009</td>\n",
       "      <td>3.626700e+06</td>\n",
       "    </tr>\n",
       "    <tr>\n",
       "      <th>12</th>\n",
       "      <td>2010</td>\n",
       "      <td>4.382350e+06</td>\n",
       "    </tr>\n",
       "    <tr>\n",
       "      <th>13</th>\n",
       "      <td>2011</td>\n",
       "      <td>3.680025e+06</td>\n",
       "    </tr>\n",
       "    <tr>\n",
       "      <th>14</th>\n",
       "      <td>2012</td>\n",
       "      <td>3.522675e+06</td>\n",
       "    </tr>\n",
       "  </tbody>\n",
       "</table>\n",
       "</div>"
      ],
      "text/plain": [
       "    year     totalprod\n",
       "0   1998  5.105093e+06\n",
       "1   1999  4.706674e+06\n",
       "2   2000  5.106000e+06\n",
       "3   2001  4.221545e+06\n",
       "4   2002  3.892386e+06\n",
       "5   2003  4.122091e+06\n",
       "6   2004  4.456805e+06\n",
       "7   2005  4.243146e+06\n",
       "8   2006  3.761902e+06\n",
       "9   2007  3.600512e+06\n",
       "10  2008  3.974927e+06\n",
       "11  2009  3.626700e+06\n",
       "12  2010  4.382350e+06\n",
       "13  2011  3.680025e+06\n",
       "14  2012  3.522675e+06"
      ]
     },
     "execution_count": 6,
     "metadata": {},
     "output_type": "execute_result"
    }
   ],
   "source": [
    "prod_per_year = df.groupby('year').totalprod.mean().reset_index()\n",
    "prod_per_year = df.groupby('year').totalprod.mean().reset_index()\n",
    "prod_per_year"
   ]
  },
  {
   "cell_type": "code",
   "execution_count": 7,
   "id": "95293a6d",
   "metadata": {},
   "outputs": [],
   "source": [
    "# set the X-value\n",
    "X = prod_per_year[['year']]\n",
    "X = X.values.reshape(-1, 1)\n",
    "# y_value\n",
    "y = prod_per_year.totalprod"
   ]
  },
  {
   "cell_type": "markdown",
   "id": "ff71df71",
   "metadata": {},
   "source": [
    "### Create and Fit a Linear Regression Model"
   ]
  },
  {
   "cell_type": "code",
   "execution_count": 8,
   "id": "e6900dc1",
   "metadata": {},
   "outputs": [
    {
     "data": {
      "text/plain": [
       "LinearRegression()"
      ]
     },
     "execution_count": 8,
     "metadata": {},
     "output_type": "execute_result"
    }
   ],
   "source": [
    "regr = linear_model.LinearRegression()\n",
    "regr.fit(X, y)\n",
    "y_predict = regr.predict(X)"
   ]
  },
  {
   "cell_type": "code",
   "execution_count": 9,
   "id": "f4d02476",
   "metadata": {},
   "outputs": [
    {
     "name": "stdout",
     "output_type": "stream",
     "text": [
      "coeff value : -88303.18915238194\n",
      "intercept of line : 181208083.1073298\n"
     ]
    }
   ],
   "source": [
    "print(f\"coeff value : {regr.coef_[0]}\")\n",
    "print(f\"intercept of line : {regr.intercept_}\")"
   ]
  },
  {
   "cell_type": "code",
   "execution_count": 10,
   "id": "28f6dae0",
   "metadata": {},
   "outputs": [
    {
     "data": {
      "text/plain": [
       "<Figure size 720x360 with 0 Axes>"
      ]
     },
     "execution_count": 10,
     "metadata": {},
     "output_type": "execute_result"
    },
    {
     "data": {
      "text/plain": [
       "[<matplotlib.lines.Line2D at 0x201e0cea8b0>]"
      ]
     },
     "execution_count": 10,
     "metadata": {},
     "output_type": "execute_result"
    },
    {
     "data": {
      "text/plain": [
       "<matplotlib.collections.PathCollection at 0x201e0cead60>"
      ]
     },
     "execution_count": 10,
     "metadata": {},
     "output_type": "execute_result"
    },
    {
     "data": {
      "text/plain": [
       "Text(0.5, 1.0, 'Total production of honey per year')"
      ]
     },
     "execution_count": 10,
     "metadata": {},
     "output_type": "execute_result"
    },
    {
     "data": {
      "text/plain": [
       "Text(0.5, 0, 'year')"
      ]
     },
     "execution_count": 10,
     "metadata": {},
     "output_type": "execute_result"
    },
    {
     "data": {
      "text/plain": [
       "Text(0, 0.5, 'Total Production')"
      ]
     },
     "execution_count": 10,
     "metadata": {},
     "output_type": "execute_result"
    },
    {
     "data": {
      "image/png": "[encoded data removed]",
      "text/plain": [
       "<Figure size 720x360 with 1 Axes>"
      ]
     },
     "metadata": {
      "needs_background": "light"
     },
     "output_type": "display_data"
    }
   ],
   "source": [
    "# scatter plot\n",
    "plt.figure(figsize=(10,5))\n",
    "# plot linear regression\n",
    "plt.plot(X, y_predict, color='gold')\n",
    "plt.scatter(X, y)\n",
    "plt.title('Total production of honey per year', fontsize=20)\n",
    "plt.xlabel('year')\n",
    "plt.ylabel('Total Production')"
   ]
  },
  {
   "cell_type": "markdown",
   "id": "59a02f60",
   "metadata": {},
   "source": [
    "### Predict the Honey Decline"
   ]
  },
  {
   "cell_type": "markdown",
   "id": "67188e7c",
   "metadata": {},
   "source": [
    "So, it looks like the production of honey has been in decline, according to this linear model. Let’s predict what the year 2050 may look like in terms of honey production."
   ]
  },
  {
   "cell_type": "code",
   "execution_count": 11,
   "id": "c390766f",
   "metadata": {},
   "outputs": [],
   "source": [
    "X_future = np.array(range(2013, 2050))\n",
    "X_future = X_future.reshape(-1, 1)\n",
    "future_predict = regr.predict(X_future)\n",
    "\n",
    "X_future = np.array(range(2013, 2050))\n",
    "X_future = X_future.reshape(-1, 1)\n",
    "future_predict = regr.predict(X_future)"
   ]
  },
  {
   "cell_type": "code",
   "execution_count": 12,
   "id": "c9e71871",
   "metadata": {},
   "outputs": [
    {
     "data": {
      "text/plain": [
       "<Figure size 720x360 with 0 Axes>"
      ]
     },
     "execution_count": 12,
     "metadata": {},
     "output_type": "execute_result"
    },
    {
     "data": {
      "text/plain": [
       "<matplotlib.collections.PathCollection at 0x201e0de4e50>"
      ]
     },
     "execution_count": 12,
     "metadata": {},
     "output_type": "execute_result"
    },
    {
     "data": {
      "text/plain": [
       "[<matplotlib.lines.Line2D at 0x201e0df3490>]"
      ]
     },
     "execution_count": 12,
     "metadata": {},
     "output_type": "execute_result"
    },
    {
     "data": {
      "text/plain": [
       "Text(0.5, 1.0, 'Total production of honey per year')"
      ]
     },
     "execution_count": 12,
     "metadata": {},
     "output_type": "execute_result"
    },
    {
     "data": {
      "text/plain": [
       "Text(0.5, 0, 'year')"
      ]
     },
     "execution_count": 12,
     "metadata": {},
     "output_type": "execute_result"
    },
    {
     "data": {
      "text/plain": [
       "Text(0, 0.5, 'Total Production')"
      ]
     },
     "execution_count": 12,
     "metadata": {},
     "output_type": "execute_result"
    },
    {
     "data": {
      "image/png": "[encoded data removed]",
      "text/plain": [
       "<Figure size 720x360 with 1 Axes>"
      ]
     },
     "metadata": {
      "needs_background": "light"
     },
     "output_type": "display_data"
    }
   ],
   "source": [
    "plt.figure(figsize=(10, 5))\n",
    "\n",
    "plt.scatter(X, y)\n",
    "plt.plot(X_future, future_predict, color='gold')\n",
    "\n",
    "plt.title('Total production of honey per year', fontsize=20)\n",
    "plt.xlabel('year')\n",
    "plt.ylabel('Total Production')"
   ]
  }
 ],
 "metadata": {
  "kernelspec": {
   "display_name": "Python 3",
   "language": "python",
   "name": "python3"
  },
  "language_info": {
   "codemirror_mode": {
    "name": "ipython",
    "version": 3
   },
   "file_extension": ".py",
   "mimetype": "text/x-python",
   "name": "python",
   "nbconvert_exporter": "python",
   "pygments_lexer": "ipython3",
   "version": "3.8.8"
  }
 },
 "nbformat": 4,
 "nbformat_minor": 5
}
