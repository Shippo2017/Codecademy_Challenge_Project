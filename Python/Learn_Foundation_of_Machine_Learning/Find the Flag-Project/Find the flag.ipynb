{
 "cells": [
  {
   "cell_type": "markdown",
   "id": "8e127c34",
   "metadata": {},
   "source": [
    "# Find the Flag\n",
    "Can you guess which continent this flag comes from?\n",
    "<img src=\"reunion.png\" alt=\"Drawing\" style=\"width: 300px;\"/>\n",
    "\n",
    "- What are some of the features that would clue you in? Maybe some of the colors are good indicators. \n",
    "- The presence or absence of certain shapes could give you a hint. \n",
    "\n",
    "#### Project Goal\n",
    "In this project, we’ll use decision trees to try to predict the continent of flags based on several of these features.\n",
    "\n",
    "We’ll explore which features are the best to use and the best way to create your decision tree."
   ]
  },
  {
   "cell_type": "code",
   "execution_count": 1,
   "id": "4631c3f4",
   "metadata": {},
   "outputs": [],
   "source": [
    "import pandas as pd\n",
    "import numpy as np\n",
    "import matplotlib.pyplot as plt\n",
    "\n",
    "pd.set_option('display.max_columns', None)"
   ]
  },
  {
   "cell_type": "markdown",
   "id": "aaf3846a",
   "metadata": {},
   "source": [
    "## Investigate the Data"
   ]
  },
  {
   "cell_type": "code",
   "execution_count": 2,
   "id": "7dfbd02f",
   "metadata": {},
   "outputs": [
    {
     "data": {
      "text/html": [
       "<div>\n",
       "<style scoped>\n",
       "    .dataframe tbody tr th:only-of-type {\n",
       "        vertical-align: middle;\n",
       "    }\n",
       "\n",
       "    .dataframe tbody tr th {\n",
       "        vertical-align: top;\n",
       "    }\n",
       "\n",
       "    .dataframe thead th {\n",
       "        text-align: right;\n",
       "    }\n",
       "</style>\n",
       "<table border=\"1\" class=\"dataframe\">\n",
       "  <thead>\n",
       "    <tr style=\"text-align: right;\">\n",
       "      <th></th>\n",
       "      <th>Name</th>\n",
       "      <th>Landmass</th>\n",
       "      <th>Zone</th>\n",
       "      <th>Area</th>\n",
       "      <th>Population</th>\n",
       "      <th>Language</th>\n",
       "      <th>Religion</th>\n",
       "      <th>Bars</th>\n",
       "      <th>Stripes</th>\n",
       "      <th>Colors</th>\n",
       "      <th>Red</th>\n",
       "      <th>Green</th>\n",
       "      <th>Blue</th>\n",
       "      <th>Gold</th>\n",
       "      <th>White</th>\n",
       "      <th>Black</th>\n",
       "      <th>Orange</th>\n",
       "      <th>Mainhue</th>\n",
       "      <th>Circles</th>\n",
       "      <th>Crosses</th>\n",
       "      <th>Saltires</th>\n",
       "      <th>Quarters</th>\n",
       "      <th>Sunstars</th>\n",
       "      <th>Crescent</th>\n",
       "      <th>Triangle</th>\n",
       "      <th>Icon</th>\n",
       "      <th>Animate</th>\n",
       "      <th>Text</th>\n",
       "      <th>Topleft</th>\n",
       "      <th>Botright</th>\n",
       "    </tr>\n",
       "  </thead>\n",
       "  <tbody>\n",
       "    <tr>\n",
       "      <th>0</th>\n",
       "      <td>Afghanistan</td>\n",
       "      <td>5</td>\n",
       "      <td>1</td>\n",
       "      <td>648</td>\n",
       "      <td>16</td>\n",
       "      <td>10</td>\n",
       "      <td>2</td>\n",
       "      <td>0</td>\n",
       "      <td>3</td>\n",
       "      <td>5</td>\n",
       "      <td>1</td>\n",
       "      <td>1</td>\n",
       "      <td>0</td>\n",
       "      <td>1</td>\n",
       "      <td>1</td>\n",
       "      <td>1</td>\n",
       "      <td>0</td>\n",
       "      <td>green</td>\n",
       "      <td>0</td>\n",
       "      <td>0</td>\n",
       "      <td>0</td>\n",
       "      <td>0</td>\n",
       "      <td>1</td>\n",
       "      <td>0</td>\n",
       "      <td>0</td>\n",
       "      <td>1</td>\n",
       "      <td>0</td>\n",
       "      <td>0</td>\n",
       "      <td>black</td>\n",
       "      <td>green</td>\n",
       "    </tr>\n",
       "    <tr>\n",
       "      <th>1</th>\n",
       "      <td>Albania</td>\n",
       "      <td>3</td>\n",
       "      <td>1</td>\n",
       "      <td>29</td>\n",
       "      <td>3</td>\n",
       "      <td>6</td>\n",
       "      <td>6</td>\n",
       "      <td>0</td>\n",
       "      <td>0</td>\n",
       "      <td>3</td>\n",
       "      <td>1</td>\n",
       "      <td>0</td>\n",
       "      <td>0</td>\n",
       "      <td>1</td>\n",
       "      <td>0</td>\n",
       "      <td>1</td>\n",
       "      <td>0</td>\n",
       "      <td>red</td>\n",
       "      <td>0</td>\n",
       "      <td>0</td>\n",
       "      <td>0</td>\n",
       "      <td>0</td>\n",
       "      <td>1</td>\n",
       "      <td>0</td>\n",
       "      <td>0</td>\n",
       "      <td>0</td>\n",
       "      <td>1</td>\n",
       "      <td>0</td>\n",
       "      <td>red</td>\n",
       "      <td>red</td>\n",
       "    </tr>\n",
       "    <tr>\n",
       "      <th>2</th>\n",
       "      <td>Algeria</td>\n",
       "      <td>4</td>\n",
       "      <td>1</td>\n",
       "      <td>2388</td>\n",
       "      <td>20</td>\n",
       "      <td>8</td>\n",
       "      <td>2</td>\n",
       "      <td>2</td>\n",
       "      <td>0</td>\n",
       "      <td>3</td>\n",
       "      <td>1</td>\n",
       "      <td>1</td>\n",
       "      <td>0</td>\n",
       "      <td>0</td>\n",
       "      <td>1</td>\n",
       "      <td>0</td>\n",
       "      <td>0</td>\n",
       "      <td>green</td>\n",
       "      <td>0</td>\n",
       "      <td>0</td>\n",
       "      <td>0</td>\n",
       "      <td>0</td>\n",
       "      <td>1</td>\n",
       "      <td>1</td>\n",
       "      <td>0</td>\n",
       "      <td>0</td>\n",
       "      <td>0</td>\n",
       "      <td>0</td>\n",
       "      <td>green</td>\n",
       "      <td>white</td>\n",
       "    </tr>\n",
       "    <tr>\n",
       "      <th>3</th>\n",
       "      <td>American-Samoa</td>\n",
       "      <td>6</td>\n",
       "      <td>3</td>\n",
       "      <td>0</td>\n",
       "      <td>0</td>\n",
       "      <td>1</td>\n",
       "      <td>1</td>\n",
       "      <td>0</td>\n",
       "      <td>0</td>\n",
       "      <td>5</td>\n",
       "      <td>1</td>\n",
       "      <td>0</td>\n",
       "      <td>1</td>\n",
       "      <td>1</td>\n",
       "      <td>1</td>\n",
       "      <td>0</td>\n",
       "      <td>1</td>\n",
       "      <td>blue</td>\n",
       "      <td>0</td>\n",
       "      <td>0</td>\n",
       "      <td>0</td>\n",
       "      <td>0</td>\n",
       "      <td>0</td>\n",
       "      <td>0</td>\n",
       "      <td>1</td>\n",
       "      <td>1</td>\n",
       "      <td>1</td>\n",
       "      <td>0</td>\n",
       "      <td>blue</td>\n",
       "      <td>red</td>\n",
       "    </tr>\n",
       "    <tr>\n",
       "      <th>4</th>\n",
       "      <td>Andorra</td>\n",
       "      <td>3</td>\n",
       "      <td>1</td>\n",
       "      <td>0</td>\n",
       "      <td>0</td>\n",
       "      <td>6</td>\n",
       "      <td>0</td>\n",
       "      <td>3</td>\n",
       "      <td>0</td>\n",
       "      <td>3</td>\n",
       "      <td>1</td>\n",
       "      <td>0</td>\n",
       "      <td>1</td>\n",
       "      <td>1</td>\n",
       "      <td>0</td>\n",
       "      <td>0</td>\n",
       "      <td>0</td>\n",
       "      <td>gold</td>\n",
       "      <td>0</td>\n",
       "      <td>0</td>\n",
       "      <td>0</td>\n",
       "      <td>0</td>\n",
       "      <td>0</td>\n",
       "      <td>0</td>\n",
       "      <td>0</td>\n",
       "      <td>0</td>\n",
       "      <td>0</td>\n",
       "      <td>0</td>\n",
       "      <td>blue</td>\n",
       "      <td>red</td>\n",
       "    </tr>\n",
       "  </tbody>\n",
       "</table>\n",
       "</div>"
      ],
      "text/plain": [
       "             Name  Landmass  Zone  Area  Population  Language  Religion  Bars  \\\n",
       "0     Afghanistan         5     1   648          16        10         2     0   \n",
       "1         Albania         3     1    29           3         6         6     0   \n",
       "2         Algeria         4     1  2388          20         8         2     2   \n",
       "3  American-Samoa         6     3     0           0         1         1     0   \n",
       "4         Andorra         3     1     0           0         6         0     3   \n",
       "\n",
       "   Stripes  Colors  Red  Green  Blue  Gold  White  Black  Orange Mainhue  \\\n",
       "0        3       5    1      1     0     1      1      1       0   green   \n",
       "1        0       3    1      0     0     1      0      1       0     red   \n",
       "2        0       3    1      1     0     0      1      0       0   green   \n",
       "3        0       5    1      0     1     1      1      0       1    blue   \n",
       "4        0       3    1      0     1     1      0      0       0    gold   \n",
       "\n",
       "   Circles  Crosses  Saltires  Quarters  Sunstars  Crescent  Triangle  Icon  \\\n",
       "0        0        0         0         0         1         0         0     1   \n",
       "1        0        0         0         0         1         0         0     0   \n",
       "2        0        0         0         0         1         1         0     0   \n",
       "3        0        0         0         0         0         0         1     1   \n",
       "4        0        0         0         0         0         0         0     0   \n",
       "\n",
       "   Animate  Text Topleft Botright  \n",
       "0        0     0   black    green  \n",
       "1        1     0     red      red  \n",
       "2        0     0   green    white  \n",
       "3        1     0    blue      red  \n",
       "4        0     0    blue      red  "
      ]
     },
     "execution_count": 2,
     "metadata": {},
     "output_type": "execute_result"
    }
   ],
   "source": [
    "flags = pd.read_csv('flags.csv', header=0)\n",
    "flags.head()"
   ]
  },
  {
   "cell_type": "code",
   "execution_count": 3,
   "id": "5ee03a35",
   "metadata": {},
   "outputs": [
    {
     "name": "stdout",
     "output_type": "stream",
     "text": [
      "Index(['Name', 'Landmass', 'Zone', 'Area', 'Population', 'Language',\n",
      "       'Religion', 'Bars', 'Stripes', 'Colors', 'Red', 'Green', 'Blue', 'Gold',\n",
      "       'White', 'Black', 'Orange', 'Mainhue', 'Circles', 'Crosses', 'Saltires',\n",
      "       'Quarters', 'Sunstars', 'Crescent', 'Triangle', 'Icon', 'Animate',\n",
      "       'Text', 'Topleft', 'Botright'],\n",
      "      dtype='object')\n"
     ]
    }
   ],
   "source": [
    "print(flags.columns)"
   ]
  },
  {
   "cell_type": "markdown",
   "id": "949d864d",
   "metadata": {},
   "source": [
    "Take a look at the Attribute Information for this dataset from [UCI’s Machine Learning Repository](http://archive.ics.uci.edu/ml/datasets/Flags).\n",
    "\n",
    "Attribute Information:\n",
    "\n",
    "1. name: Name of the country concerned\n",
    "2. landmass: 1=N.America, 2=S.America, 3=Europe, 4=Africa, 4=Asia, 6=Oceania\n",
    "3. zone: Geographic quadrant, based on Greenwich and the Equator; 1=NE, 2=SE, 3=SW, 4=NW\n",
    "4. area: in thousands of square km\n",
    "5. population: in round millions\n",
    "6. language: 1=English, 2=Spanish, 3=French, 4=German, 5=Slavic, 6=Other Indo-European, 7=Chinese, 8=Arabic, 9=Japanese/Turkish/Finnish/Magyar, 10=Others\n",
    "7. religion: 0=Catholic, 1=Other Christian, 2=Muslim, 3=Buddhist, 4=Hindu, 5=Ethnic, 6=Marxist, 7=Others\n",
    "8. bars: Number of vertical bars in the flag\n",
    "9. stripes: Number of horizontal stripes in the flag\n",
    "10. colours: Number of different colours in the flag\n",
    "11. red: 0 if red absent, 1 if red present in the flag\n",
    "12. green: same for green\n",
    "13. blue: same for blue\n",
    "14. gold: same for gold (also yellow)\n",
    "15. white: same for white\n",
    "16. black: same for black\n",
    "17. orange: same for orange (also brown)\n",
    "18. mainhue: predominant colour in the flag (tie-breaks decided by taking the topmost hue, if that fails then the most central hue, and if that fails the leftmost hue)\n",
    "19. circles: Number of circles in the flag\n",
    "20. crosses: Number of (upright) crosses\n",
    "21. saltires: Number of diagonal crosses\n",
    "22. quarters: Number of quartered sections\n",
    "23. sunstars: Number of sun or star symbols\n",
    "24. crescent: 1 if a crescent moon symbol present, else 0\n",
    "25. triangle: 1 if any triangles present, 0 otherwise\n",
    "26. icon: 1 if an inanimate image present (e.g., a boat), otherwise 0\n",
    "27. animate: 1 if an animate image (e.g., an eagle, a tree, a human hand) present, 0 otherwise\n",
    "28. text: 1 if any letters or writing on the flag (e.g., a motto or slogan), 0 otherwise\n",
    "29. topleft: colour in the top-left corner (moving right to decide tie-breaks)\n",
    "30. botright: Colour in the bottom-left corner (moving left to decide tie-breaks)\n",
    "\n"
   ]
  },
  {
   "cell_type": "code",
   "execution_count": 4,
   "id": "498b0397",
   "metadata": {},
   "outputs": [
    {
     "name": "stdout",
     "output_type": "stream",
     "text": [
      "<class 'pandas.core.frame.DataFrame'>\n",
      "RangeIndex: 194 entries, 0 to 193\n",
      "Data columns (total 30 columns):\n",
      " #   Column      Non-Null Count  Dtype \n",
      "---  ------      --------------  ----- \n",
      " 0   Name        194 non-null    object\n",
      " 1   Landmass    194 non-null    int64 \n",
      " 2   Zone        194 non-null    int64 \n",
      " 3   Area        194 non-null    int64 \n",
      " 4   Population  194 non-null    int64 \n",
      " 5   Language    194 non-null    int64 \n",
      " 6   Religion    194 non-null    int64 \n",
      " 7   Bars        194 non-null    int64 \n",
      " 8   Stripes     194 non-null    int64 \n",
      " 9   Colors      194 non-null    int64 \n",
      " 10  Red         194 non-null    int64 \n",
      " 11  Green       194 non-null    int64 \n",
      " 12  Blue        194 non-null    int64 \n",
      " 13  Gold        194 non-null    int64 \n",
      " 14  White       194 non-null    int64 \n",
      " 15  Black       194 non-null    int64 \n",
      " 16  Orange      194 non-null    int64 \n",
      " 17  Mainhue     194 non-null    object\n",
      " 18  Circles     194 non-null    int64 \n",
      " 19  Crosses     194 non-null    int64 \n",
      " 20  Saltires    194 non-null    int64 \n",
      " 21  Quarters    194 non-null    int64 \n",
      " 22  Sunstars    194 non-null    int64 \n",
      " 23  Crescent    194 non-null    int64 \n",
      " 24  Triangle    194 non-null    int64 \n",
      " 25  Icon        194 non-null    int64 \n",
      " 26  Animate     194 non-null    int64 \n",
      " 27  Text        194 non-null    int64 \n",
      " 28  Topleft     194 non-null    object\n",
      " 29  Botright    194 non-null    object\n",
      "dtypes: int64(26), object(4)\n",
      "memory usage: 45.6+ KB\n"
     ]
    }
   ],
   "source": [
    "flags.info()"
   ]
  },
  {
   "cell_type": "markdown",
   "id": "1cf95caf",
   "metadata": {},
   "source": [
    "## Creating Your Data and Labels"
   ]
  },
  {
   "cell_type": "code",
   "execution_count": 5,
   "id": "555713b0",
   "metadata": {},
   "outputs": [],
   "source": [
    "labels = flags['Landmass']\n",
    "data = flags[['Red', 'Green', 'Blue', 'Gold','White', 'Black', 'Orange', 'Circles', 'Crosses', 'Saltires',\n",
    "               'Quarters', 'Sunstars', 'Crescent', 'Triangle']]"
   ]
  },
  {
   "cell_type": "code",
   "execution_count": 6,
   "id": "9e65671d",
   "metadata": {},
   "outputs": [],
   "source": [
    "# Split the data\n",
    "from sklearn.model_selection import train_test_split\n",
    "\n",
    "train_data, test_data, train_labels, test_labels = train_test_split(data, labels, random_state=1)"
   ]
  },
  {
   "cell_type": "markdown",
   "id": "51f927fe",
   "metadata": {},
   "source": [
    "## Make and Test the Model"
   ]
  },
  {
   "cell_type": "code",
   "execution_count": 7,
   "id": "ad0bc73b",
   "metadata": {},
   "outputs": [
    {
     "data": {
      "text/plain": [
       "0.4489795918367347"
      ]
     },
     "execution_count": 7,
     "metadata": {},
     "output_type": "execute_result"
    }
   ],
   "source": [
    "from sklearn.tree import DecisionTreeClassifier\n",
    "\n",
    "tree = DecisionTreeClassifier(random_state=1)\n",
    "tree.fit(train_data, train_labels)\n",
    "score = tree.score(test_data, test_labels)\n",
    "\n",
    "score"
   ]
  },
  {
   "cell_type": "markdown",
   "id": "74a2c634",
   "metadata": {},
   "source": [
    "## Tuning the Model"
   ]
  },
  {
   "cell_type": "code",
   "execution_count": 8,
   "id": "e3a40471",
   "metadata": {},
   "outputs": [
    {
     "name": "stdout",
     "output_type": "stream",
     "text": [
      "1 0.3469387755102041\n",
      "2 0.3877551020408163\n",
      "3 0.5102040816326531\n",
      "4 0.5510204081632653\n",
      "5 0.5510204081632653\n",
      "6 0.5102040816326531\n",
      "7 0.42857142857142855\n",
      "8 0.4489795918367347\n",
      "9 0.4489795918367347\n",
      "10 0.4489795918367347\n",
      "11 0.4489795918367347\n",
      "12 0.4489795918367347\n",
      "13 0.4489795918367347\n",
      "14 0.4489795918367347\n",
      "15 0.4489795918367347\n",
      "16 0.4489795918367347\n",
      "17 0.4489795918367347\n",
      "18 0.4489795918367347\n",
      "19 0.4489795918367347\n",
      "20 0.4489795918367347\n"
     ]
    }
   ],
   "source": [
    "scores = []\n",
    "for i in range(1,21):\n",
    "    tree = DecisionTreeClassifier(random_state=1, max_depth=i)\n",
    "    tree.fit(train_data, train_labels)\n",
    "    score = tree.score(test_data, test_labels)\n",
    "    scores.append(score)\n",
    "    print(i, score)"
   ]
  },
  {
   "cell_type": "code",
   "execution_count": 9,
   "id": "abfb2847",
   "metadata": {},
   "outputs": [
    {
     "data": {
      "text/plain": [
       "Text(0, 0.5, '%')"
      ]
     },
     "execution_count": 9,
     "metadata": {},
     "output_type": "execute_result"
    },
    {
     "data": {
      "image/png": "[encoded data removed]",
      "text/plain": [
       "<Figure size 432x288 with 1 Axes>"
      ]
     },
     "metadata": {
      "needs_background": "light"
     },
     "output_type": "display_data"
    }
   ],
   "source": [
    "# plot the model\n",
    "plt.plot(range(1,21), scores)\n",
    "plt.xlabel('Depth')\n",
    "plt.ylabel('%')"
   ]
  },
  {
   "cell_type": "markdown",
   "id": "b7371253",
   "metadata": {},
   "source": [
    "## Explore on Your Own"
   ]
  },
  {
   "cell_type": "markdown",
   "id": "670e6df0",
   "metadata": {},
   "source": [
    "- Try to classify something else! Rather than predicting the \"Landmass\" feature, could predict something like the \"Language\"?\n",
    "- Find a subset of features that work better than what we’re currently using. An important note is that a feature that has categorical data won’t work very well as a feature. For example, we don’t want a decision node to split nodes based on whether the value for \"Language\" is above or below 5."
   ]
  },
  {
   "cell_type": "code",
   "execution_count": 10,
   "id": "4888fff3",
   "metadata": {},
   "outputs": [
    {
     "name": "stdout",
     "output_type": "stream",
     "text": [
      "[0.42857142857142855, 0.5102040816326531, 0.4897959183673469, 0.5102040816326531, 0.5306122448979592, 0.4897959183673469, 0.4897959183673469, 0.46938775510204084, 0.4897959183673469, 0.5102040816326531]\n"
     ]
    },
    {
     "data": {
      "text/plain": [
       "Text(0, 0.5, '%')"
      ]
     },
     "execution_count": 10,
     "metadata": {},
     "output_type": "execute_result"
    },
    {
     "data": {
      "image/png": "[encoded data removed]",
      "text/plain": [
       "<Figure size 432x288 with 1 Axes>"
      ]
     },
     "metadata": {
      "needs_background": "light"
     },
     "output_type": "display_data"
    }
   ],
   "source": [
    "labels = flags['Language']\n",
    "data = flags[['Landmass', 'Zone', 'Area', 'Population']]\n",
    "\n",
    "train_data, test_data, train_labels, test_labels = train_test_split(data, labels, random_state=1)\n",
    "\n",
    "scores = []\n",
    "for i in range(1,11):\n",
    "    tree = DecisionTreeClassifier(random_state=1, max_depth=i)\n",
    "    tree.fit(train_data, train_labels)\n",
    "    score = tree.score(test_data, test_labels)\n",
    "    scores.append(score)\n",
    "print(scores)\n",
    "    \n",
    "plt.plot(range(1,11), scores)\n",
    "plt.xlabel('Depth')\n",
    "plt.xticks(range(1,11))\n",
    "plt.ylabel('%')"
   ]
  },
  {
   "cell_type": "markdown",
   "id": "e94b6695",
   "metadata": {},
   "source": [
    "- Tune more parameters of the model. You can find a description of all the parameters you can tune in the Decision Tree Classifier documentation. For example, see what happens if you tune max_leaf_nodes. Think about whether you would be overfitting or underfitting the data based on how many leaf nodes you allow."
   ]
  },
  {
   "cell_type": "code",
   "execution_count": 11,
   "id": "3a083736",
   "metadata": {},
   "outputs": [
    {
     "name": "stdout",
     "output_type": "stream",
     "text": [
      "[0.42857142857142855, 0.5102040816326531, 0.4897959183673469, 0.5102040816326531, 0.4897959183673469, 0.4897959183673469, 0.4897959183673469, 0.4897959183673469, 0.4897959183673469, 0.4897959183673469]\n"
     ]
    },
    {
     "data": {
      "text/plain": [
       "Text(0, 0.5, '%')"
      ]
     },
     "execution_count": 11,
     "metadata": {},
     "output_type": "execute_result"
    },
    {
     "data": {
      "image/png": "[encoded data removed]",
      "text/plain": [
       "<Figure size 432x288 with 1 Axes>"
      ]
     },
     "metadata": {
      "needs_background": "light"
     },
     "output_type": "display_data"
    }
   ],
   "source": [
    "abels = flags['Language']\n",
    "data = flags[['Landmass', 'Zone', 'Area', 'Population']]\n",
    "\n",
    "train_data, test_data, train_labels, test_labels = train_test_split(data, labels, random_state=1)\n",
    "\n",
    "scores = []\n",
    "for i in range(1,11):\n",
    "    tree = DecisionTreeClassifier(random_state=1, max_depth=i, max_leaf_nodes=10) # add max_leaf_nodes\n",
    "    tree.fit(train_data, train_labels)\n",
    "    score = tree.score(test_data, test_labels)\n",
    "    scores.append(score)\n",
    "print(scores)\n",
    "    \n",
    "plt.plot(range(1,11), scores)\n",
    "plt.xticks(range(1,11))\n",
    "plt.xlabel('Depth')\n",
    "plt.ylabel('%')"
   ]
  },
  {
   "cell_type": "markdown",
   "id": "4b0fe453",
   "metadata": {},
   "source": [
    "the data was overfitting."
   ]
  }
 ],
 "metadata": {
  "kernelspec": {
   "display_name": "Python 3",
   "language": "python",
   "name": "python3"
  },
  "language_info": {
   "codemirror_mode": {
    "name": "ipython",
    "version": 3
   },
   "file_extension": ".py",
   "mimetype": "text/x-python",
   "name": "python",
   "nbconvert_exporter": "python",
   "pygments_lexer": "ipython3",
   "version": "3.8.8"
  }
 },
 "nbformat": 4,
 "nbformat_minor": 5
}
