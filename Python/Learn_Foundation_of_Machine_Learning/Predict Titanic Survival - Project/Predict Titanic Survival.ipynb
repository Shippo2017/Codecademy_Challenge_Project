{
 "cells": [
  {
   "cell_type": "markdown",
   "id": "fa7b277f",
   "metadata": {},
   "source": [
    "## Predict Titanic Survival\n",
    "The RMS Titanic set sail on its maiden voyage in 1912, crossing the Atlantic from Southampton, England to New York City. The ship never completed the voyage, sinking to the bottom of the Atlantic Ocean after hitting an iceberg, bringing down 1,502 of 2,224 passengers onboard.\n",
    "\n",
    "In this project you will create a Logistic Regression model that predicts which passengers survived the sinking of the Titanic, based on features like age and class.\n",
    "\n",
    "The data we will be using for training our model is provided by Kaggle. Feel free to make the model better on your own and submit it to the [Kaggle Titanic competition!](https://www.kaggle.com/c/titanic)"
   ]
  },
  {
   "cell_type": "code",
   "execution_count": 92,
   "id": "0e09051f",
   "metadata": {},
   "outputs": [],
   "source": [
    "import pandas as pd\n",
    "import numpy as np\n",
    "import matplotlib.pyplot as plt\n",
    "from sklearn.linear_model import LogisticRegression\n",
    "from sklearn.model_selection import train_test_split\n",
    "from sklearn.preprocessing import StandardScaler\n",
    "from IPython.display import display, HTML\n",
    "%matplotlib inline"
   ]
  },
  {
   "cell_type": "markdown",
   "id": "13c67994",
   "metadata": {},
   "source": [
    "### Load the Data"
   ]
  },
  {
   "cell_type": "code",
   "execution_count": 93,
   "id": "6fe69d92",
   "metadata": {},
   "outputs": [
    {
     "data": {
      "text/html": [
       "<div>\n",
       "<style scoped>\n",
       "    .dataframe tbody tr th:only-of-type {\n",
       "        vertical-align: middle;\n",
       "    }\n",
       "\n",
       "    .dataframe tbody tr th {\n",
       "        vertical-align: top;\n",
       "    }\n",
       "\n",
       "    .dataframe thead th {\n",
       "        text-align: right;\n",
       "    }\n",
       "</style>\n",
       "<table border=\"1\" class=\"dataframe\">\n",
       "  <thead>\n",
       "    <tr style=\"text-align: right;\">\n",
       "      <th></th>\n",
       "      <th>PassengerId</th>\n",
       "      <th>Survived</th>\n",
       "      <th>Pclass</th>\n",
       "      <th>Name</th>\n",
       "      <th>Sex</th>\n",
       "      <th>Age</th>\n",
       "      <th>SibSp</th>\n",
       "      <th>Parch</th>\n",
       "      <th>Ticket</th>\n",
       "      <th>Fare</th>\n",
       "      <th>Cabin</th>\n",
       "      <th>Embarked</th>\n",
       "    </tr>\n",
       "  </thead>\n",
       "  <tbody>\n",
       "    <tr>\n",
       "      <th>0</th>\n",
       "      <td>1</td>\n",
       "      <td>0</td>\n",
       "      <td>3</td>\n",
       "      <td>Braund, Mr. Owen Harris</td>\n",
       "      <td>male</td>\n",
       "      <td>22.0</td>\n",
       "      <td>1</td>\n",
       "      <td>0</td>\n",
       "      <td>A/5 21171</td>\n",
       "      <td>7.2500</td>\n",
       "      <td>NaN</td>\n",
       "      <td>S</td>\n",
       "    </tr>\n",
       "    <tr>\n",
       "      <th>1</th>\n",
       "      <td>2</td>\n",
       "      <td>1</td>\n",
       "      <td>1</td>\n",
       "      <td>Cumings, Mrs. John Bradley (Florence Briggs Th...</td>\n",
       "      <td>female</td>\n",
       "      <td>38.0</td>\n",
       "      <td>1</td>\n",
       "      <td>0</td>\n",
       "      <td>PC 17599</td>\n",
       "      <td>71.2833</td>\n",
       "      <td>C85</td>\n",
       "      <td>C</td>\n",
       "    </tr>\n",
       "    <tr>\n",
       "      <th>2</th>\n",
       "      <td>3</td>\n",
       "      <td>1</td>\n",
       "      <td>3</td>\n",
       "      <td>Heikkinen, Miss. Laina</td>\n",
       "      <td>female</td>\n",
       "      <td>26.0</td>\n",
       "      <td>0</td>\n",
       "      <td>0</td>\n",
       "      <td>STON/O2. 3101282</td>\n",
       "      <td>7.9250</td>\n",
       "      <td>NaN</td>\n",
       "      <td>S</td>\n",
       "    </tr>\n",
       "    <tr>\n",
       "      <th>3</th>\n",
       "      <td>4</td>\n",
       "      <td>1</td>\n",
       "      <td>1</td>\n",
       "      <td>Futrelle, Mrs. Jacques Heath (Lily May Peel)</td>\n",
       "      <td>female</td>\n",
       "      <td>35.0</td>\n",
       "      <td>1</td>\n",
       "      <td>0</td>\n",
       "      <td>113803</td>\n",
       "      <td>53.1000</td>\n",
       "      <td>C123</td>\n",
       "      <td>S</td>\n",
       "    </tr>\n",
       "    <tr>\n",
       "      <th>4</th>\n",
       "      <td>5</td>\n",
       "      <td>0</td>\n",
       "      <td>3</td>\n",
       "      <td>Allen, Mr. William Henry</td>\n",
       "      <td>male</td>\n",
       "      <td>35.0</td>\n",
       "      <td>0</td>\n",
       "      <td>0</td>\n",
       "      <td>373450</td>\n",
       "      <td>8.0500</td>\n",
       "      <td>NaN</td>\n",
       "      <td>S</td>\n",
       "    </tr>\n",
       "  </tbody>\n",
       "</table>\n",
       "</div>"
      ],
      "text/plain": [
       "   PassengerId  Survived  Pclass  \\\n",
       "0            1         0       3   \n",
       "1            2         1       1   \n",
       "2            3         1       3   \n",
       "3            4         1       1   \n",
       "4            5         0       3   \n",
       "\n",
       "                                                Name     Sex   Age  SibSp  \\\n",
       "0                            Braund, Mr. Owen Harris    male  22.0      1   \n",
       "1  Cumings, Mrs. John Bradley (Florence Briggs Th...  female  38.0      1   \n",
       "2                             Heikkinen, Miss. Laina  female  26.0      0   \n",
       "3       Futrelle, Mrs. Jacques Heath (Lily May Peel)  female  35.0      1   \n",
       "4                           Allen, Mr. William Henry    male  35.0      0   \n",
       "\n",
       "   Parch            Ticket     Fare Cabin Embarked  \n",
       "0      0         A/5 21171   7.2500   NaN        S  \n",
       "1      0          PC 17599  71.2833   C85        C  \n",
       "2      0  STON/O2. 3101282   7.9250   NaN        S  \n",
       "3      0            113803  53.1000  C123        S  \n",
       "4      0            373450   8.0500   NaN        S  "
      ]
     },
     "execution_count": 93,
     "metadata": {},
     "output_type": "execute_result"
    }
   ],
   "source": [
    "passengers = pd.read_csv('passengers.csv')\n",
    "passengers.head()"
   ]
  },
  {
   "cell_type": "code",
   "execution_count": 94,
   "id": "4b84ced7",
   "metadata": {},
   "outputs": [
    {
     "data": {
      "text/plain": [
       "Index(['PassengerId', 'Survived', 'Pclass', 'Name', 'Sex', 'Age', 'SibSp',\n",
       "       'Parch', 'Ticket', 'Fare', 'Cabin', 'Embarked'],\n",
       "      dtype='object')"
      ]
     },
     "execution_count": 94,
     "metadata": {},
     "output_type": "execute_result"
    }
   ],
   "source": [
    "passengers.columns"
   ]
  },
  {
   "cell_type": "code",
   "execution_count": 95,
   "id": "1ea9f672",
   "metadata": {},
   "outputs": [
    {
     "data": {
      "text/html": [
       "<div>\n",
       "<style scoped>\n",
       "    .dataframe tbody tr th:only-of-type {\n",
       "        vertical-align: middle;\n",
       "    }\n",
       "\n",
       "    .dataframe tbody tr th {\n",
       "        vertical-align: top;\n",
       "    }\n",
       "\n",
       "    .dataframe thead th {\n",
       "        text-align: right;\n",
       "    }\n",
       "</style>\n",
       "<table border=\"1\" class=\"dataframe\">\n",
       "  <thead>\n",
       "    <tr style=\"text-align: right;\">\n",
       "      <th></th>\n",
       "      <th>PassengerId</th>\n",
       "      <th>Survived</th>\n",
       "      <th>Pclass</th>\n",
       "      <th>Age</th>\n",
       "      <th>SibSp</th>\n",
       "      <th>Parch</th>\n",
       "      <th>Fare</th>\n",
       "    </tr>\n",
       "  </thead>\n",
       "  <tbody>\n",
       "    <tr>\n",
       "      <th>count</th>\n",
       "      <td>891.000000</td>\n",
       "      <td>891.000000</td>\n",
       "      <td>891.000000</td>\n",
       "      <td>714.000000</td>\n",
       "      <td>891.000000</td>\n",
       "      <td>891.000000</td>\n",
       "      <td>891.000000</td>\n",
       "    </tr>\n",
       "    <tr>\n",
       "      <th>mean</th>\n",
       "      <td>446.000000</td>\n",
       "      <td>0.383838</td>\n",
       "      <td>2.308642</td>\n",
       "      <td>29.699118</td>\n",
       "      <td>0.523008</td>\n",
       "      <td>0.381594</td>\n",
       "      <td>32.204208</td>\n",
       "    </tr>\n",
       "    <tr>\n",
       "      <th>std</th>\n",
       "      <td>257.353842</td>\n",
       "      <td>0.486592</td>\n",
       "      <td>0.836071</td>\n",
       "      <td>14.526497</td>\n",
       "      <td>1.102743</td>\n",
       "      <td>0.806057</td>\n",
       "      <td>49.693429</td>\n",
       "    </tr>\n",
       "    <tr>\n",
       "      <th>min</th>\n",
       "      <td>1.000000</td>\n",
       "      <td>0.000000</td>\n",
       "      <td>1.000000</td>\n",
       "      <td>0.420000</td>\n",
       "      <td>0.000000</td>\n",
       "      <td>0.000000</td>\n",
       "      <td>0.000000</td>\n",
       "    </tr>\n",
       "    <tr>\n",
       "      <th>25%</th>\n",
       "      <td>223.500000</td>\n",
       "      <td>0.000000</td>\n",
       "      <td>2.000000</td>\n",
       "      <td>20.125000</td>\n",
       "      <td>0.000000</td>\n",
       "      <td>0.000000</td>\n",
       "      <td>7.910400</td>\n",
       "    </tr>\n",
       "    <tr>\n",
       "      <th>50%</th>\n",
       "      <td>446.000000</td>\n",
       "      <td>0.000000</td>\n",
       "      <td>3.000000</td>\n",
       "      <td>28.000000</td>\n",
       "      <td>0.000000</td>\n",
       "      <td>0.000000</td>\n",
       "      <td>14.454200</td>\n",
       "    </tr>\n",
       "    <tr>\n",
       "      <th>75%</th>\n",
       "      <td>668.500000</td>\n",
       "      <td>1.000000</td>\n",
       "      <td>3.000000</td>\n",
       "      <td>38.000000</td>\n",
       "      <td>1.000000</td>\n",
       "      <td>0.000000</td>\n",
       "      <td>31.000000</td>\n",
       "    </tr>\n",
       "    <tr>\n",
       "      <th>max</th>\n",
       "      <td>891.000000</td>\n",
       "      <td>1.000000</td>\n",
       "      <td>3.000000</td>\n",
       "      <td>80.000000</td>\n",
       "      <td>8.000000</td>\n",
       "      <td>6.000000</td>\n",
       "      <td>512.329200</td>\n",
       "    </tr>\n",
       "  </tbody>\n",
       "</table>\n",
       "</div>"
      ],
      "text/plain": [
       "       PassengerId    Survived      Pclass         Age       SibSp  \\\n",
       "count   891.000000  891.000000  891.000000  714.000000  891.000000   \n",
       "mean    446.000000    0.383838    2.308642   29.699118    0.523008   \n",
       "std     257.353842    0.486592    0.836071   14.526497    1.102743   \n",
       "min       1.000000    0.000000    1.000000    0.420000    0.000000   \n",
       "25%     223.500000    0.000000    2.000000   20.125000    0.000000   \n",
       "50%     446.000000    0.000000    3.000000   28.000000    0.000000   \n",
       "75%     668.500000    1.000000    3.000000   38.000000    1.000000   \n",
       "max     891.000000    1.000000    3.000000   80.000000    8.000000   \n",
       "\n",
       "            Parch        Fare  \n",
       "count  891.000000  891.000000  \n",
       "mean     0.381594   32.204208  \n",
       "std      0.806057   49.693429  \n",
       "min      0.000000    0.000000  \n",
       "25%      0.000000    7.910400  \n",
       "50%      0.000000   14.454200  \n",
       "75%      0.000000   31.000000  \n",
       "max      6.000000  512.329200  "
      ]
     },
     "execution_count": 95,
     "metadata": {},
     "output_type": "execute_result"
    }
   ],
   "source": [
    "passengers.describe()"
   ]
  },
  {
   "cell_type": "code",
   "execution_count": 96,
   "id": "142f9db5",
   "metadata": {},
   "outputs": [
    {
     "name": "stdout",
     "output_type": "stream",
     "text": [
      "<class 'pandas.core.frame.DataFrame'>\n",
      "RangeIndex: 891 entries, 0 to 890\n",
      "Data columns (total 12 columns):\n",
      " #   Column       Non-Null Count  Dtype  \n",
      "---  ------       --------------  -----  \n",
      " 0   PassengerId  891 non-null    int64  \n",
      " 1   Survived     891 non-null    int64  \n",
      " 2   Pclass       891 non-null    int64  \n",
      " 3   Name         891 non-null    object \n",
      " 4   Sex          891 non-null    object \n",
      " 5   Age          714 non-null    float64\n",
      " 6   SibSp        891 non-null    int64  \n",
      " 7   Parch        891 non-null    int64  \n",
      " 8   Ticket       891 non-null    object \n",
      " 9   Fare         891 non-null    float64\n",
      " 10  Cabin        204 non-null    object \n",
      " 11  Embarked     889 non-null    object \n",
      "dtypes: float64(2), int64(5), object(5)\n",
      "memory usage: 83.7+ KB\n"
     ]
    }
   ],
   "source": [
    "passengers.info()"
   ]
  },
  {
   "cell_type": "markdown",
   "id": "3f0b2676",
   "metadata": {},
   "source": [
    "### Clean Data\n",
    "<b>\"women and children first\"</b>"
   ]
  },
  {
   "cell_type": "code",
   "execution_count": 97,
   "id": "3d156769",
   "metadata": {},
   "outputs": [
    {
     "data": {
      "text/html": [
       "<div>\n",
       "<style scoped>\n",
       "    .dataframe tbody tr th:only-of-type {\n",
       "        vertical-align: middle;\n",
       "    }\n",
       "\n",
       "    .dataframe tbody tr th {\n",
       "        vertical-align: top;\n",
       "    }\n",
       "\n",
       "    .dataframe thead th {\n",
       "        text-align: right;\n",
       "    }\n",
       "</style>\n",
       "<table border=\"1\" class=\"dataframe\">\n",
       "  <thead>\n",
       "    <tr style=\"text-align: right;\">\n",
       "      <th></th>\n",
       "      <th>PassengerId</th>\n",
       "      <th>Survived</th>\n",
       "      <th>Pclass</th>\n",
       "      <th>Name</th>\n",
       "      <th>Sex</th>\n",
       "      <th>Age</th>\n",
       "      <th>SibSp</th>\n",
       "      <th>Parch</th>\n",
       "      <th>Ticket</th>\n",
       "      <th>Fare</th>\n",
       "      <th>Cabin</th>\n",
       "      <th>Embarked</th>\n",
       "    </tr>\n",
       "  </thead>\n",
       "  <tbody>\n",
       "    <tr>\n",
       "      <th>0</th>\n",
       "      <td>1</td>\n",
       "      <td>0</td>\n",
       "      <td>3</td>\n",
       "      <td>Braund, Mr. Owen Harris</td>\n",
       "      <td>0</td>\n",
       "      <td>22.0</td>\n",
       "      <td>1</td>\n",
       "      <td>0</td>\n",
       "      <td>A/5 21171</td>\n",
       "      <td>7.2500</td>\n",
       "      <td>NaN</td>\n",
       "      <td>S</td>\n",
       "    </tr>\n",
       "    <tr>\n",
       "      <th>1</th>\n",
       "      <td>2</td>\n",
       "      <td>1</td>\n",
       "      <td>1</td>\n",
       "      <td>Cumings, Mrs. John Bradley (Florence Briggs Th...</td>\n",
       "      <td>1</td>\n",
       "      <td>38.0</td>\n",
       "      <td>1</td>\n",
       "      <td>0</td>\n",
       "      <td>PC 17599</td>\n",
       "      <td>71.2833</td>\n",
       "      <td>C85</td>\n",
       "      <td>C</td>\n",
       "    </tr>\n",
       "    <tr>\n",
       "      <th>2</th>\n",
       "      <td>3</td>\n",
       "      <td>1</td>\n",
       "      <td>3</td>\n",
       "      <td>Heikkinen, Miss. Laina</td>\n",
       "      <td>1</td>\n",
       "      <td>26.0</td>\n",
       "      <td>0</td>\n",
       "      <td>0</td>\n",
       "      <td>STON/O2. 3101282</td>\n",
       "      <td>7.9250</td>\n",
       "      <td>NaN</td>\n",
       "      <td>S</td>\n",
       "    </tr>\n",
       "  </tbody>\n",
       "</table>\n",
       "</div>"
      ],
      "text/plain": [
       "   PassengerId  Survived  Pclass  \\\n",
       "0            1         0       3   \n",
       "1            2         1       1   \n",
       "2            3         1       3   \n",
       "\n",
       "                                                Name  Sex   Age  SibSp  Parch  \\\n",
       "0                            Braund, Mr. Owen Harris    0  22.0      1      0   \n",
       "1  Cumings, Mrs. John Bradley (Florence Briggs Th...    1  38.0      1      0   \n",
       "2                             Heikkinen, Miss. Laina    1  26.0      0      0   \n",
       "\n",
       "             Ticket     Fare Cabin Embarked  \n",
       "0         A/5 21171   7.2500   NaN        S  \n",
       "1          PC 17599  71.2833   C85        C  \n",
       "2  STON/O2. 3101282   7.9250   NaN        S  "
      ]
     },
     "execution_count": 97,
     "metadata": {},
     "output_type": "execute_result"
    }
   ],
   "source": [
    "# update sex columns to numerical (female=1, male=0)\n",
    "passengers['Sex'] = passengers['Sex'].map({'female':1, 'male':0})\n",
    "passengers.head(3)"
   ]
  },
  {
   "cell_type": "code",
   "execution_count": 98,
   "id": "78e70ee2",
   "metadata": {},
   "outputs": [
    {
     "data": {
      "text/plain": [
       "PassengerId      0\n",
       "Survived         0\n",
       "Pclass           0\n",
       "Name             0\n",
       "Sex              0\n",
       "Age            177\n",
       "SibSp            0\n",
       "Parch            0\n",
       "Ticket           0\n",
       "Fare             0\n",
       "Cabin          687\n",
       "Embarked         2\n",
       "dtype: int64"
      ]
     },
     "execution_count": 98,
     "metadata": {},
     "output_type": "execute_result"
    }
   ],
   "source": [
    "passengers.isnull().sum()"
   ]
  },
  {
   "cell_type": "code",
   "execution_count": 99,
   "id": "b363205e",
   "metadata": {},
   "outputs": [],
   "source": [
    "# fill the nan values in age columns\n",
    "passengers['Age'].fillna(inplace=True, value=round(passengers['Age'].mean()))"
   ]
  },
  {
   "cell_type": "code",
   "execution_count": 100,
   "id": "0edba225",
   "metadata": {},
   "outputs": [
    {
     "data": {
      "text/plain": [
       "PassengerId      0\n",
       "Survived         0\n",
       "Pclass           0\n",
       "Name             0\n",
       "Sex              0\n",
       "Age              0\n",
       "SibSp            0\n",
       "Parch            0\n",
       "Ticket           0\n",
       "Fare             0\n",
       "Cabin          687\n",
       "Embarked         2\n",
       "dtype: int64"
      ]
     },
     "execution_count": 100,
     "metadata": {},
     "output_type": "execute_result"
    }
   ],
   "source": [
    "passengers.isnull().sum()"
   ]
  },
  {
   "cell_type": "code",
   "execution_count": 101,
   "id": "ea7679fe",
   "metadata": {},
   "outputs": [
    {
     "data": {
      "text/plain": [
       "array([3, 1, 2], dtype=int64)"
      ]
     },
     "execution_count": 101,
     "metadata": {},
     "output_type": "execute_result"
    }
   ],
   "source": [
    "passengers['Pclass'].unique()"
   ]
  },
  {
   "cell_type": "code",
   "execution_count": 102,
   "id": "634a4bde",
   "metadata": {},
   "outputs": [
    {
     "data": {
      "text/html": [
       "<div>\n",
       "<style scoped>\n",
       "    .dataframe tbody tr th:only-of-type {\n",
       "        vertical-align: middle;\n",
       "    }\n",
       "\n",
       "    .dataframe tbody tr th {\n",
       "        vertical-align: top;\n",
       "    }\n",
       "\n",
       "    .dataframe thead th {\n",
       "        text-align: right;\n",
       "    }\n",
       "</style>\n",
       "<table border=\"1\" class=\"dataframe\">\n",
       "  <thead>\n",
       "    <tr style=\"text-align: right;\">\n",
       "      <th></th>\n",
       "      <th>PassengerId</th>\n",
       "      <th>Survived</th>\n",
       "      <th>Pclass</th>\n",
       "      <th>Name</th>\n",
       "      <th>Sex</th>\n",
       "      <th>Age</th>\n",
       "      <th>SibSp</th>\n",
       "      <th>Parch</th>\n",
       "      <th>Ticket</th>\n",
       "      <th>Fare</th>\n",
       "      <th>Cabin</th>\n",
       "      <th>Embarked</th>\n",
       "      <th>FirstClass</th>\n",
       "    </tr>\n",
       "  </thead>\n",
       "  <tbody>\n",
       "    <tr>\n",
       "      <th>0</th>\n",
       "      <td>1</td>\n",
       "      <td>0</td>\n",
       "      <td>3</td>\n",
       "      <td>Braund, Mr. Owen Harris</td>\n",
       "      <td>0</td>\n",
       "      <td>22.0</td>\n",
       "      <td>1</td>\n",
       "      <td>0</td>\n",
       "      <td>A/5 21171</td>\n",
       "      <td>7.2500</td>\n",
       "      <td>NaN</td>\n",
       "      <td>S</td>\n",
       "      <td>0</td>\n",
       "    </tr>\n",
       "    <tr>\n",
       "      <th>1</th>\n",
       "      <td>2</td>\n",
       "      <td>1</td>\n",
       "      <td>1</td>\n",
       "      <td>Cumings, Mrs. John Bradley (Florence Briggs Th...</td>\n",
       "      <td>1</td>\n",
       "      <td>38.0</td>\n",
       "      <td>1</td>\n",
       "      <td>0</td>\n",
       "      <td>PC 17599</td>\n",
       "      <td>71.2833</td>\n",
       "      <td>C85</td>\n",
       "      <td>C</td>\n",
       "      <td>1</td>\n",
       "    </tr>\n",
       "  </tbody>\n",
       "</table>\n",
       "</div>"
      ],
      "text/plain": [
       "   PassengerId  Survived  Pclass  \\\n",
       "0            1         0       3   \n",
       "1            2         1       1   \n",
       "\n",
       "                                                Name  Sex   Age  SibSp  Parch  \\\n",
       "0                            Braund, Mr. Owen Harris    0  22.0      1      0   \n",
       "1  Cumings, Mrs. John Bradley (Florence Briggs Th...    1  38.0      1      0   \n",
       "\n",
       "      Ticket     Fare Cabin Embarked  FirstClass  \n",
       "0  A/5 21171   7.2500   NaN        S           0  \n",
       "1   PC 17599  71.2833   C85        C           1  "
      ]
     },
     "execution_count": 102,
     "metadata": {},
     "output_type": "execute_result"
    }
   ],
   "source": [
    "# create a first class column 1=1 (firstclass) and 0=other\n",
    "passengers['FirstClass'] = passengers['Pclass'].apply(lambda x: 1 if x == 1 else 0)\n",
    "passengers.head(2)"
   ]
  },
  {
   "cell_type": "code",
   "execution_count": 103,
   "id": "625d2f04",
   "metadata": {},
   "outputs": [
    {
     "data": {
      "text/html": [
       "<div>\n",
       "<style scoped>\n",
       "    .dataframe tbody tr th:only-of-type {\n",
       "        vertical-align: middle;\n",
       "    }\n",
       "\n",
       "    .dataframe tbody tr th {\n",
       "        vertical-align: top;\n",
       "    }\n",
       "\n",
       "    .dataframe thead th {\n",
       "        text-align: right;\n",
       "    }\n",
       "</style>\n",
       "<table border=\"1\" class=\"dataframe\">\n",
       "  <thead>\n",
       "    <tr style=\"text-align: right;\">\n",
       "      <th></th>\n",
       "      <th>PassengerId</th>\n",
       "      <th>Survived</th>\n",
       "      <th>Pclass</th>\n",
       "      <th>Name</th>\n",
       "      <th>Sex</th>\n",
       "      <th>Age</th>\n",
       "      <th>SibSp</th>\n",
       "      <th>Parch</th>\n",
       "      <th>Ticket</th>\n",
       "      <th>Fare</th>\n",
       "      <th>Cabin</th>\n",
       "      <th>Embarked</th>\n",
       "      <th>FirstClass</th>\n",
       "      <th>SecondClass</th>\n",
       "    </tr>\n",
       "  </thead>\n",
       "  <tbody>\n",
       "    <tr>\n",
       "      <th>0</th>\n",
       "      <td>1</td>\n",
       "      <td>0</td>\n",
       "      <td>3</td>\n",
       "      <td>Braund, Mr. Owen Harris</td>\n",
       "      <td>0</td>\n",
       "      <td>22.0</td>\n",
       "      <td>1</td>\n",
       "      <td>0</td>\n",
       "      <td>A/5 21171</td>\n",
       "      <td>7.25</td>\n",
       "      <td>NaN</td>\n",
       "      <td>S</td>\n",
       "      <td>0</td>\n",
       "      <td>0</td>\n",
       "    </tr>\n",
       "  </tbody>\n",
       "</table>\n",
       "</div>"
      ],
      "text/plain": [
       "   PassengerId  Survived  Pclass                     Name  Sex   Age  SibSp  \\\n",
       "0            1         0       3  Braund, Mr. Owen Harris    0  22.0      1   \n",
       "\n",
       "   Parch     Ticket  Fare Cabin Embarked  FirstClass  SecondClass  \n",
       "0      0  A/5 21171  7.25   NaN        S           0            0  "
      ]
     },
     "execution_count": 103,
     "metadata": {},
     "output_type": "execute_result"
    }
   ],
   "source": [
    "# create a second class column 1=2 (second class) and 0=other\n",
    "passengers['SecondClass'] = passengers['Pclass'].apply(lambda x: 1 if x == 2 else 0)\n",
    "passengers.head(1)"
   ]
  },
  {
   "cell_type": "markdown",
   "id": "8dc3fe31",
   "metadata": {},
   "source": [
    "### Select and Split the Data"
   ]
  },
  {
   "cell_type": "code",
   "execution_count": 104,
   "id": "5fd6ec0d",
   "metadata": {},
   "outputs": [],
   "source": [
    "features = passengers[['Sex', 'Age', 'FirstClass', 'SecondClass']]\n",
    "survival = passengers['Survived']"
   ]
  },
  {
   "cell_type": "code",
   "execution_count": 133,
   "id": "8b70b159",
   "metadata": {},
   "outputs": [],
   "source": [
    "# perform train test and split\n",
    "X_train, X_test, y_train, y_test = train_test_split(\n",
    "    features, \n",
    "    survival, \n",
    "    test_size=0.2,\n",
    "    random_state = 1\n",
    ")"
   ]
  },
  {
   "cell_type": "code",
   "execution_count": 134,
   "id": "c355c61c",
   "metadata": {},
   "outputs": [
    {
     "data": {
      "text/html": [
       "<div>\n",
       "<style scoped>\n",
       "    .dataframe tbody tr th:only-of-type {\n",
       "        vertical-align: middle;\n",
       "    }\n",
       "\n",
       "    .dataframe tbody tr th {\n",
       "        vertical-align: top;\n",
       "    }\n",
       "\n",
       "    .dataframe thead th {\n",
       "        text-align: right;\n",
       "    }\n",
       "</style>\n",
       "<table border=\"1\" class=\"dataframe\">\n",
       "  <thead>\n",
       "    <tr style=\"text-align: right;\">\n",
       "      <th></th>\n",
       "      <th>Sex</th>\n",
       "      <th>Age</th>\n",
       "      <th>FirstClass</th>\n",
       "      <th>SecondClass</th>\n",
       "    </tr>\n",
       "  </thead>\n",
       "  <tbody>\n",
       "    <tr>\n",
       "      <th>301</th>\n",
       "      <td>0</td>\n",
       "      <td>30.0</td>\n",
       "      <td>0</td>\n",
       "      <td>0</td>\n",
       "    </tr>\n",
       "    <tr>\n",
       "      <th>309</th>\n",
       "      <td>1</td>\n",
       "      <td>30.0</td>\n",
       "      <td>1</td>\n",
       "      <td>0</td>\n",
       "    </tr>\n",
       "    <tr>\n",
       "      <th>516</th>\n",
       "      <td>1</td>\n",
       "      <td>34.0</td>\n",
       "      <td>0</td>\n",
       "      <td>1</td>\n",
       "    </tr>\n",
       "    <tr>\n",
       "      <th>120</th>\n",
       "      <td>0</td>\n",
       "      <td>21.0</td>\n",
       "      <td>0</td>\n",
       "      <td>1</td>\n",
       "    </tr>\n",
       "    <tr>\n",
       "      <th>570</th>\n",
       "      <td>0</td>\n",
       "      <td>62.0</td>\n",
       "      <td>0</td>\n",
       "      <td>1</td>\n",
       "    </tr>\n",
       "    <tr>\n",
       "      <th>...</th>\n",
       "      <td>...</td>\n",
       "      <td>...</td>\n",
       "      <td>...</td>\n",
       "      <td>...</td>\n",
       "    </tr>\n",
       "    <tr>\n",
       "      <th>715</th>\n",
       "      <td>0</td>\n",
       "      <td>19.0</td>\n",
       "      <td>0</td>\n",
       "      <td>0</td>\n",
       "    </tr>\n",
       "    <tr>\n",
       "      <th>767</th>\n",
       "      <td>1</td>\n",
       "      <td>30.5</td>\n",
       "      <td>0</td>\n",
       "      <td>0</td>\n",
       "    </tr>\n",
       "    <tr>\n",
       "      <th>72</th>\n",
       "      <td>0</td>\n",
       "      <td>21.0</td>\n",
       "      <td>0</td>\n",
       "      <td>1</td>\n",
       "    </tr>\n",
       "    <tr>\n",
       "      <th>235</th>\n",
       "      <td>1</td>\n",
       "      <td>30.0</td>\n",
       "      <td>0</td>\n",
       "      <td>0</td>\n",
       "    </tr>\n",
       "    <tr>\n",
       "      <th>37</th>\n",
       "      <td>0</td>\n",
       "      <td>21.0</td>\n",
       "      <td>0</td>\n",
       "      <td>0</td>\n",
       "    </tr>\n",
       "  </tbody>\n",
       "</table>\n",
       "<p>712 rows × 4 columns</p>\n",
       "</div>"
      ],
      "text/plain": [
       "     Sex   Age  FirstClass  SecondClass\n",
       "301    0  30.0           0            0\n",
       "309    1  30.0           1            0\n",
       "516    1  34.0           0            1\n",
       "120    0  21.0           0            1\n",
       "570    0  62.0           0            1\n",
       "..   ...   ...         ...          ...\n",
       "715    0  19.0           0            0\n",
       "767    1  30.5           0            0\n",
       "72     0  21.0           0            1\n",
       "235    1  30.0           0            0\n",
       "37     0  21.0           0            0\n",
       "\n",
       "[712 rows x 4 columns]"
      ]
     },
     "execution_count": 134,
     "metadata": {},
     "output_type": "execute_result"
    }
   ],
   "source": [
    "X_train"
   ]
  },
  {
   "cell_type": "code",
   "execution_count": 135,
   "id": "09932bed",
   "metadata": {},
   "outputs": [
    {
     "data": {
      "text/html": [
       "<div>\n",
       "<style scoped>\n",
       "    .dataframe tbody tr th:only-of-type {\n",
       "        vertical-align: middle;\n",
       "    }\n",
       "\n",
       "    .dataframe tbody tr th {\n",
       "        vertical-align: top;\n",
       "    }\n",
       "\n",
       "    .dataframe thead th {\n",
       "        text-align: right;\n",
       "    }\n",
       "</style>\n",
       "<table border=\"1\" class=\"dataframe\">\n",
       "  <thead>\n",
       "    <tr style=\"text-align: right;\">\n",
       "      <th></th>\n",
       "      <th>Sex</th>\n",
       "      <th>Age</th>\n",
       "      <th>FirstClass</th>\n",
       "      <th>SecondClass</th>\n",
       "    </tr>\n",
       "  </thead>\n",
       "  <tbody>\n",
       "    <tr>\n",
       "      <th>862</th>\n",
       "      <td>1</td>\n",
       "      <td>48.0</td>\n",
       "      <td>1</td>\n",
       "      <td>0</td>\n",
       "    </tr>\n",
       "    <tr>\n",
       "      <th>223</th>\n",
       "      <td>0</td>\n",
       "      <td>30.0</td>\n",
       "      <td>0</td>\n",
       "      <td>0</td>\n",
       "    </tr>\n",
       "    <tr>\n",
       "      <th>84</th>\n",
       "      <td>1</td>\n",
       "      <td>17.0</td>\n",
       "      <td>0</td>\n",
       "      <td>1</td>\n",
       "    </tr>\n",
       "    <tr>\n",
       "      <th>680</th>\n",
       "      <td>1</td>\n",
       "      <td>30.0</td>\n",
       "      <td>0</td>\n",
       "      <td>0</td>\n",
       "    </tr>\n",
       "    <tr>\n",
       "      <th>535</th>\n",
       "      <td>1</td>\n",
       "      <td>7.0</td>\n",
       "      <td>0</td>\n",
       "      <td>1</td>\n",
       "    </tr>\n",
       "    <tr>\n",
       "      <th>...</th>\n",
       "      <td>...</td>\n",
       "      <td>...</td>\n",
       "      <td>...</td>\n",
       "      <td>...</td>\n",
       "    </tr>\n",
       "    <tr>\n",
       "      <th>796</th>\n",
       "      <td>1</td>\n",
       "      <td>49.0</td>\n",
       "      <td>1</td>\n",
       "      <td>0</td>\n",
       "    </tr>\n",
       "    <tr>\n",
       "      <th>815</th>\n",
       "      <td>0</td>\n",
       "      <td>30.0</td>\n",
       "      <td>1</td>\n",
       "      <td>0</td>\n",
       "    </tr>\n",
       "    <tr>\n",
       "      <th>629</th>\n",
       "      <td>0</td>\n",
       "      <td>30.0</td>\n",
       "      <td>0</td>\n",
       "      <td>0</td>\n",
       "    </tr>\n",
       "    <tr>\n",
       "      <th>421</th>\n",
       "      <td>0</td>\n",
       "      <td>21.0</td>\n",
       "      <td>0</td>\n",
       "      <td>0</td>\n",
       "    </tr>\n",
       "    <tr>\n",
       "      <th>448</th>\n",
       "      <td>1</td>\n",
       "      <td>5.0</td>\n",
       "      <td>0</td>\n",
       "      <td>0</td>\n",
       "    </tr>\n",
       "  </tbody>\n",
       "</table>\n",
       "<p>179 rows × 4 columns</p>\n",
       "</div>"
      ],
      "text/plain": [
       "     Sex   Age  FirstClass  SecondClass\n",
       "862    1  48.0           1            0\n",
       "223    0  30.0           0            0\n",
       "84     1  17.0           0            1\n",
       "680    1  30.0           0            0\n",
       "535    1   7.0           0            1\n",
       "..   ...   ...         ...          ...\n",
       "796    1  49.0           1            0\n",
       "815    0  30.0           1            0\n",
       "629    0  30.0           0            0\n",
       "421    0  21.0           0            0\n",
       "448    1   5.0           0            0\n",
       "\n",
       "[179 rows x 4 columns]"
      ]
     },
     "execution_count": 135,
     "metadata": {},
     "output_type": "execute_result"
    }
   ],
   "source": [
    "X_test"
   ]
  },
  {
   "cell_type": "code",
   "execution_count": 136,
   "id": "1f55b631",
   "metadata": {},
   "outputs": [
    {
     "data": {
      "text/plain": [
       "301    1\n",
       "309    1\n",
       "516    1\n",
       "120    0\n",
       "570    1\n",
       "      ..\n",
       "715    0\n",
       "767    0\n",
       "72     0\n",
       "235    0\n",
       "37     0\n",
       "Name: Survived, Length: 712, dtype: int64"
      ]
     },
     "execution_count": 136,
     "metadata": {},
     "output_type": "execute_result"
    }
   ],
   "source": [
    "y_train"
   ]
  },
  {
   "cell_type": "code",
   "execution_count": 137,
   "id": "ad6e6e62",
   "metadata": {},
   "outputs": [
    {
     "data": {
      "text/plain": [
       "862    1\n",
       "223    0\n",
       "84     1\n",
       "680    0\n",
       "535    1\n",
       "      ..\n",
       "796    1\n",
       "815    0\n",
       "629    0\n",
       "421    0\n",
       "448    1\n",
       "Name: Survived, Length: 179, dtype: int64"
      ]
     },
     "execution_count": 137,
     "metadata": {},
     "output_type": "execute_result"
    }
   ],
   "source": [
    "y_test"
   ]
  },
  {
   "cell_type": "markdown",
   "id": "653301b0",
   "metadata": {},
   "source": [
    "### Normalize the data"
   ]
  },
  {
   "cell_type": "code",
   "execution_count": 149,
   "id": "6b6600d3",
   "metadata": {},
   "outputs": [],
   "source": [
    "# scaler the feature data so it has mean=0 and standart deviation=1\n",
    "scaler = StandardScaler()\n",
    "X_train_features = scaler.fit_transform(X_train)\n",
    "X_test_features = scaler.transform(X_test)"
   ]
  },
  {
   "cell_type": "code",
   "execution_count": 150,
   "id": "aa8142ee",
   "metadata": {},
   "outputs": [
    {
     "data": {
      "text/plain": [
       "array([[-0.73334642, -0.01000261, -0.56870034, -0.51662744],\n",
       "       [ 1.36361202, -0.01000261,  1.7583953 , -0.51662744],\n",
       "       [ 1.36361202,  0.2917072 , -0.56870034,  1.93563082],\n",
       "       ...,\n",
       "       [-0.73334642, -0.68884969, -0.56870034,  1.93563082],\n",
       "       [ 1.36361202, -0.01000261, -0.56870034, -0.51662744],\n",
       "       [-0.73334642, -0.68884969, -0.56870034, -0.51662744]])"
      ]
     },
     "execution_count": 150,
     "metadata": {},
     "output_type": "execute_result"
    }
   ],
   "source": [
    "X_train_features"
   ]
  },
  {
   "cell_type": "code",
   "execution_count": 151,
   "id": "5b2fa734",
   "metadata": {},
   "outputs": [
    {
     "data": {
      "text/plain": [
       "array([[ 1.36361202,  1.34769155,  1.7583953 , -0.51662744],\n",
       "       [-0.73334642, -0.01000261, -0.56870034, -0.51662744],\n",
       "       [ 1.36361202, -0.9905595 , -0.56870034,  1.93563082],\n",
       "       [ 1.36361202, -0.01000261, -0.56870034, -0.51662744],\n",
       "       [ 1.36361202, -1.74483404, -0.56870034,  1.93563082],\n",
       "       [-0.73334642, -0.68884969, -0.56870034, -0.51662744],\n",
       "       [-0.73334642,  0.48027583, -0.56870034,  1.93563082],\n",
       "       [ 1.36361202,  0.36713465,  1.7583953 , -0.51662744],\n",
       "       [-0.73334642, -0.16085752,  1.7583953 , -0.51662744],\n",
       "       [ 1.36361202, -0.01000261, -0.56870034, -0.51662744],\n",
       "       [-0.73334642, -0.38713988, -0.56870034, -0.51662744],\n",
       "       [ 1.36361202, -0.31171243, -0.56870034, -0.51662744],\n",
       "       [-0.73334642,  1.80025626,  1.7583953 , -0.51662744],\n",
       "       [-0.73334642, -0.01000261, -0.56870034,  1.93563082],\n",
       "       [ 1.36361202, -0.01000261, -0.56870034, -0.51662744],\n",
       "       [-0.73334642, -0.16085752,  1.7583953 , -0.51662744],\n",
       "       [-0.73334642, -1.51855168, -0.56870034, -0.51662744],\n",
       "       [-0.73334642, -0.46256733, -0.56870034, -0.51662744],\n",
       "       [-0.73334642,  0.44256211, -0.56870034, -0.51662744],\n",
       "       [ 1.36361202, -0.46256733, -0.56870034,  1.93563082],\n",
       "       [-0.73334642,  0.14085229, -0.56870034, -0.51662744],\n",
       "       [-0.73334642, -0.31171243, -0.56870034, -0.51662744],\n",
       "       [ 1.36361202, -0.46256733,  1.7583953 , -0.51662744],\n",
       "       [-0.73334642, -0.91513205, -0.56870034,  1.93563082],\n",
       "       [ 1.36361202, -1.17912814, -0.56870034, -0.51662744],\n",
       "       [-0.73334642, -0.23628497, -0.56870034, -0.51662744],\n",
       "       [ 1.36361202, -0.68884969,  1.7583953 , -0.51662744],\n",
       "       [ 1.36361202,  0.89512683, -0.56870034,  1.93563082],\n",
       "       [-0.73334642, -0.31171243, -0.56870034,  1.93563082],\n",
       "       [ 1.36361202, -0.61342224,  1.7583953 , -0.51662744],\n",
       "       [ 1.36361202, -0.61342224, -0.56870034, -0.51662744],\n",
       "       [-0.73334642, -0.01000261,  1.7583953 , -0.51662744],\n",
       "       [ 1.36361202,  0.66884447, -0.56870034, -0.51662744],\n",
       "       [ 1.36361202, -0.38713988, -0.56870034, -0.51662744],\n",
       "       [-0.73334642,  0.78198565, -0.56870034, -0.51662744],\n",
       "       [ 1.36361202, -1.89568894, -0.56870034, -0.51662744],\n",
       "       [-0.73334642,  0.44256211,  1.7583953 , -0.51662744],\n",
       "       [-0.73334642, -0.01000261, -0.56870034, -0.51662744],\n",
       "       [-0.73334642, -0.38713988,  1.7583953 , -0.51662744],\n",
       "       [-0.73334642, -0.76427714, -0.56870034, -0.51662744],\n",
       "       [ 1.36361202, -0.23628497, -0.56870034, -0.51662744],\n",
       "       [ 1.36361202, -0.23628497, -0.56870034, -0.51662744],\n",
       "       [ 1.36361202,  1.27226409,  1.7583953 , -0.51662744],\n",
       "       [-0.73334642,  1.15912291,  1.7583953 , -0.51662744],\n",
       "       [-0.73334642, -2.19739876, -0.56870034,  1.93563082],\n",
       "       [-0.73334642,  0.36713465, -0.56870034, -0.51662744],\n",
       "       [-0.73334642, -1.44312422, -0.56870034, -0.51662744],\n",
       "       [-0.73334642,  0.66884447, -0.56870034,  1.93563082],\n",
       "       [-0.73334642,  0.36713465,  1.7583953 , -0.51662744],\n",
       "       [-0.73334642, -1.06598696, -0.56870034,  1.93563082],\n",
       "       [-0.73334642, -0.01000261, -0.56870034,  1.93563082],\n",
       "       [ 1.36361202, -0.68884969, -0.56870034,  1.93563082],\n",
       "       [-0.73334642, -0.8397046 , -0.56870034,  1.93563082],\n",
       "       [-0.73334642,  0.44256211, -0.56870034,  1.93563082],\n",
       "       [-0.73334642, -0.08543007, -0.56870034, -0.51662744],\n",
       "       [ 1.36361202, -0.46256733, -0.56870034, -0.51662744],\n",
       "       [-0.73334642, -0.08543007, -0.56870034,  1.93563082],\n",
       "       [-0.73334642,  2.32824844,  1.7583953 , -0.51662744],\n",
       "       [-0.73334642,  0.66884447, -0.56870034, -0.51662744],\n",
       "       [ 1.36361202, -0.76427714, -0.56870034, -0.51662744],\n",
       "       [ 1.36361202, -0.01000261, -0.56870034, -0.51662744],\n",
       "       [-0.73334642, -0.01000261, -0.56870034, -0.51662744],\n",
       "       [-0.73334642, -0.16085752, -0.56870034,  1.93563082],\n",
       "       [-0.73334642,  1.12140919,  1.7583953 , -0.51662744],\n",
       "       [-0.73334642, -0.23628497,  1.7583953 , -0.51662744],\n",
       "       [ 1.36361202, -0.08543007, -0.56870034, -0.51662744],\n",
       "       [-0.73334642, -0.76427714, -0.56870034, -0.51662744],\n",
       "       [-0.73334642, -0.31171243, -0.56870034, -0.51662744],\n",
       "       [ 1.36361202, -2.1219713 , -0.56870034, -0.51662744],\n",
       "       [-0.73334642,  0.97055428, -0.56870034,  1.93563082],\n",
       "       [-0.73334642, -0.46256733, -0.56870034, -0.51662744],\n",
       "       [-0.73334642, -1.21684186, -0.56870034, -0.51662744],\n",
       "       [-0.73334642,  1.19683664,  1.7583953 , -0.51662744],\n",
       "       [-0.73334642, -0.01000261, -0.56870034, -0.51662744],\n",
       "       [ 1.36361202,  2.02653862, -0.56870034,  1.93563082],\n",
       "       [-0.73334642,  0.06542484, -0.56870034,  1.93563082],\n",
       "       [ 1.36361202,  0.36713465,  1.7583953 , -0.51662744],\n",
       "       [-0.73334642, -0.01000261, -0.56870034, -0.51662744],\n",
       "       [-0.73334642,  2.10196608,  1.7583953 , -0.51662744],\n",
       "       [ 1.36361202, -1.06598696,  1.7583953 , -0.51662744],\n",
       "       [-0.73334642, -0.31171243, -0.56870034, -0.51662744],\n",
       "       [-0.73334642, -0.01000261, -0.56870034, -0.51662744],\n",
       "       [-0.73334642, -0.01000261, -0.56870034, -0.51662744],\n",
       "       [-0.73334642,  0.2917072 , -0.56870034, -0.51662744],\n",
       "       [ 1.36361202, -0.53799479, -0.56870034,  1.93563082],\n",
       "       [-0.73334642, -0.08543007, -0.56870034, -0.51662744],\n",
       "       [-0.73334642, -0.01000261, -0.56870034, -0.51662744],\n",
       "       [-0.73334642, -0.01000261, -0.56870034, -0.51662744],\n",
       "       [ 1.36361202, -1.82026149, -0.56870034, -0.51662744],\n",
       "       [ 1.36361202, -0.01000261, -0.56870034,  1.93563082],\n",
       "       [-0.73334642,  1.27226409,  1.7583953 , -0.51662744],\n",
       "       [-0.73334642, -0.01000261, -0.56870034, -0.51662744],\n",
       "       [-0.73334642, -0.38713988, -0.56870034, -0.51662744],\n",
       "       [ 1.36361202, -0.01000261, -0.56870034, -0.51662744],\n",
       "       [-0.73334642, -0.01000261, -0.56870034, -0.51662744],\n",
       "       [-0.73334642, -0.01000261,  1.7583953 , -0.51662744],\n",
       "       [-0.73334642,  2.17739353, -0.56870034, -0.51662744],\n",
       "       [ 1.36361202, -0.01000261, -0.56870034, -0.51662744],\n",
       "       [-0.73334642, -0.8397046 , -0.56870034, -0.51662744],\n",
       "       [-0.73334642, -0.01000261, -0.56870034, -0.51662744],\n",
       "       [-0.73334642, -0.01000261,  1.7583953 , -0.51662744],\n",
       "       [-0.73334642,  0.59341701,  1.7583953 , -0.51662744],\n",
       "       [-0.73334642, -0.01000261, -0.56870034, -0.51662744],\n",
       "       [ 1.36361202, -0.91513205, -0.56870034, -0.51662744],\n",
       "       [ 1.36361202, -1.06598696,  1.7583953 , -0.51662744],\n",
       "       [-0.73334642, -0.53799479, -0.56870034, -0.51662744],\n",
       "       [-0.73334642, -0.08543007, -0.56870034, -0.51662744],\n",
       "       [-0.73334642, -0.08543007, -0.56870034, -0.51662744],\n",
       "       [-0.73334642, -1.74483404, -0.56870034, -0.51662744],\n",
       "       [-0.73334642,  0.89512683, -0.56870034, -0.51662744],\n",
       "       [-0.73334642,  1.423119  ,  1.7583953 , -0.51662744],\n",
       "       [-0.73334642, -0.61342224, -0.56870034, -0.51662744],\n",
       "       [-0.73334642,  1.34769155, -0.56870034,  1.93563082],\n",
       "       [-0.73334642, -0.38713988, -0.56870034, -0.51662744],\n",
       "       [-0.73334642, -0.53799479, -0.56870034,  1.93563082],\n",
       "       [-0.73334642,  0.21627975, -0.56870034, -0.51662744],\n",
       "       [-0.73334642, -0.08543007, -0.56870034,  1.93563082],\n",
       "       [-0.73334642,  0.06542484,  1.7583953 , -0.51662744],\n",
       "       [ 1.36361202,  0.44256211, -0.56870034,  1.93563082],\n",
       "       [ 1.36361202,  0.06542484, -0.56870034, -0.51662744],\n",
       "       [ 1.36361202, -0.16085752, -0.56870034,  1.93563082],\n",
       "       [-0.73334642,  1.64940136,  1.7583953 , -0.51662744],\n",
       "       [-0.73334642, -0.01000261, -0.56870034, -0.51662744],\n",
       "       [-0.73334642, -0.91513205, -0.56870034,  1.93563082],\n",
       "       [ 1.36361202,  0.06542484,  1.7583953 , -0.51662744],\n",
       "       [ 1.36361202, -0.8397046 ,  1.7583953 , -0.51662744],\n",
       "       [ 1.36361202, -0.16085752, -0.56870034,  1.93563082],\n",
       "       [ 1.36361202, -0.61342224, -0.56870034, -0.51662744],\n",
       "       [-0.73334642, -0.01000261, -0.56870034, -0.51662744],\n",
       "       [-0.73334642, -0.01000261, -0.56870034, -0.51662744],\n",
       "       [-0.73334642, -0.46256733, -0.56870034, -0.51662744],\n",
       "       [-0.73334642,  1.04598173, -0.56870034, -0.51662744],\n",
       "       [ 1.36361202, -2.21625562, -0.56870034, -0.51662744],\n",
       "       [-0.73334642, -0.23628497,  1.7583953 , -0.51662744],\n",
       "       [ 1.36361202,  0.21627975, -0.56870034, -0.51662744],\n",
       "       [ 1.36361202,  2.10196608,  1.7583953 , -0.51662744],\n",
       "       [ 1.36361202, -0.91513205,  1.7583953 , -0.51662744],\n",
       "       [-0.73334642, -2.19739876, -0.56870034, -0.51662744],\n",
       "       [-0.73334642, -0.91513205, -0.56870034, -0.51662744],\n",
       "       [ 1.36361202, -0.53799479, -0.56870034, -0.51662744],\n",
       "       [ 1.36361202, -0.38713988,  1.7583953 , -0.51662744],\n",
       "       [-0.73334642,  0.66884447, -0.56870034, -0.51662744],\n",
       "       [ 1.36361202, -1.21684186,  1.7583953 , -0.51662744],\n",
       "       [ 1.36361202, -0.01000261, -0.56870034, -0.51662744],\n",
       "       [-0.73334642, -0.01000261, -0.56870034, -0.51662744],\n",
       "       [ 1.36361202, -0.91513205, -0.56870034, -0.51662744],\n",
       "       [-0.73334642,  0.06542484, -0.56870034,  1.93563082],\n",
       "       [-0.73334642, -0.01000261, -0.56870034, -0.51662744],\n",
       "       [ 1.36361202,  0.66884447, -0.56870034, -0.51662744],\n",
       "       [-0.73334642, -0.61342224, -0.56870034, -0.51662744],\n",
       "       [ 1.36361202, -2.1219713 , -0.56870034, -0.51662744],\n",
       "       [-0.73334642,  1.423119  , -0.56870034, -0.51662744],\n",
       "       [-0.73334642, -2.1219713 , -0.56870034, -0.51662744],\n",
       "       [ 1.36361202, -0.61342224, -0.56870034, -0.51662744],\n",
       "       [-0.73334642, -0.01000261, -0.56870034, -0.51662744],\n",
       "       [-0.73334642,  0.14085229, -0.56870034, -0.51662744],\n",
       "       [-0.73334642, -0.61342224, -0.56870034, -0.51662744],\n",
       "       [-0.73334642,  0.89512683, -0.56870034, -0.51662744],\n",
       "       [ 1.36361202, -0.23628497, -0.56870034,  1.93563082],\n",
       "       [-0.73334642, -0.53799479, -0.56870034,  1.93563082],\n",
       "       [-0.73334642,  0.51798956, -0.56870034,  1.93563082],\n",
       "       [-0.73334642, -0.16085752, -0.56870034, -0.51662744],\n",
       "       [ 1.36361202, -0.68884969, -0.56870034, -0.51662744],\n",
       "       [-0.73334642, -0.16085752,  1.7583953 , -0.51662744],\n",
       "       [-0.73334642, -0.31171243, -0.56870034, -0.51662744],\n",
       "       [ 1.36361202, -1.14141441, -0.56870034, -0.51662744],\n",
       "       [ 1.36361202, -0.46256733, -0.56870034,  1.93563082],\n",
       "       [-0.73334642, -0.01000261, -0.56870034, -0.51662744],\n",
       "       [-0.73334642, -1.06598696, -0.56870034, -0.51662744],\n",
       "       [-0.73334642,  2.10196608,  1.7583953 , -0.51662744],\n",
       "       [ 1.36361202,  0.36713465,  1.7583953 , -0.51662744],\n",
       "       [ 1.36361202, -2.1219713 , -0.56870034, -0.51662744],\n",
       "       [ 1.36361202, -0.01000261,  1.7583953 , -0.51662744],\n",
       "       [-0.73334642, -0.91513205, -0.56870034, -0.51662744],\n",
       "       [ 1.36361202,  1.423119  ,  1.7583953 , -0.51662744],\n",
       "       [-0.73334642, -0.01000261,  1.7583953 , -0.51662744],\n",
       "       [-0.73334642, -0.01000261, -0.56870034, -0.51662744],\n",
       "       [-0.73334642, -0.68884969, -0.56870034, -0.51662744],\n",
       "       [ 1.36361202, -1.89568894, -0.56870034, -0.51662744]])"
      ]
     },
     "execution_count": 151,
     "metadata": {},
     "output_type": "execute_result"
    }
   ],
   "source": [
    "X_test_features"
   ]
  },
  {
   "cell_type": "markdown",
   "id": "b6b6ab6a",
   "metadata": {},
   "source": [
    "## Create and Evaluate the Model"
   ]
  },
  {
   "cell_type": "code",
   "execution_count": 152,
   "id": "2fca0024",
   "metadata": {},
   "outputs": [
    {
     "data": {
      "text/plain": [
       "LogisticRegression()"
      ]
     },
     "execution_count": 152,
     "metadata": {},
     "output_type": "execute_result"
    }
   ],
   "source": [
    "# Create and train model\n",
    "model = LogisticRegression()\n",
    "model.fit(X_train_features, y_train)"
   ]
  },
  {
   "cell_type": "code",
   "execution_count": 153,
   "id": "59b0f50c",
   "metadata": {},
   "outputs": [
    {
     "data": {
      "text/plain": [
       "0.797752808988764"
      ]
     },
     "execution_count": 153,
     "metadata": {},
     "output_type": "execute_result"
    }
   ],
   "source": [
    "# score the model on train data\n",
    "model.score(X_train_features, y_train)"
   ]
  },
  {
   "cell_type": "markdown",
   "id": "a8574126",
   "metadata": {},
   "source": [
    "The score of correct classifications, or the accuracy is 79%."
   ]
  },
  {
   "cell_type": "code",
   "execution_count": 154,
   "id": "2a625600",
   "metadata": {},
   "outputs": [
    {
     "data": {
      "text/plain": [
       "0.8044692737430168"
      ]
     },
     "execution_count": 154,
     "metadata": {},
     "output_type": "execute_result"
    }
   ],
   "source": [
    "# score the model on test data\n",
    "model.score(X_test_features, y_test)"
   ]
  },
  {
   "cell_type": "markdown",
   "id": "3cbfb196",
   "metadata": {},
   "source": [
    "The model is perform pretty good, the resul is 80% (random_state = 1. when random_state is not defined, the model return 73%)"
   ]
  },
  {
   "cell_type": "code",
   "execution_count": 155,
   "id": "b34f8cd3",
   "metadata": {},
   "outputs": [
    {
     "name": "stdout",
     "output_type": "stream",
     "text": [
      "[('Sex', 1.250754825947456), ('Age', -0.4574609183871818), ('FirstClass', 1.0279337564210598), ('SecondClass', 0.5513094353122898)]\n"
     ]
    }
   ],
   "source": [
    "# feature coefficients determined by model\n",
    "print(list(zip(['Sex', 'Age', 'FirstClass', 'SecondClass'], model.coef_[0])))"
   ]
  },
  {
   "cell_type": "markdown",
   "id": "9840754e",
   "metadata": {},
   "source": [
    "Sex features is the most important in predicting survival on the shinking of Titanic."
   ]
  },
  {
   "cell_type": "markdown",
   "id": "46753502",
   "metadata": {},
   "source": [
    "### Predicted the Model"
   ]
  },
  {
   "cell_type": "markdown",
   "id": "48a77c71",
   "metadata": {},
   "source": [
    "Let’s use our model to make predictions on the survival of a few fateful passengers. Provided in the code editor is information for 3rd class passenger Jack and 1st class passenger Rose, stored in NumPy arrays. The arrays store 4 feature values, in the following order:\n",
    "- Sex, represented by a 0 for male and 1 for female\n",
    "- Age, represented as an integer in years\n",
    "- FirstClass, with a 1 indicating the passenger is in first class\n",
    "- SecondClass, with a 1 indicating the passenger is in second class\n",
    "\n",
    "A third array, You, is also provided in the code editor with empty feature values. Uncomment the line containing You and update the array with your information, or the information for some fictitious passenger. Make sure to enter all values as <b>floats</b> with a .!"
   ]
  },
  {
   "cell_type": "code",
   "execution_count": 156,
   "id": "b446db98",
   "metadata": {},
   "outputs": [],
   "source": [
    "# sample passanger features\n",
    "Jack = np.array([0.0,20.0,0.0,0.0])\n",
    "Rose = np.array([1.0,17.0,1.0,0.0])\n",
    "You = np.array([1.0,34.0,0.0,1.0])"
   ]
  },
  {
   "cell_type": "code",
   "execution_count": 157,
   "id": "ad18f6ae",
   "metadata": {},
   "outputs": [],
   "source": [
    "# combine passengers array\n",
    "sample_passengers = np.array([Jack, Rose, You])"
   ]
  },
  {
   "cell_type": "code",
   "execution_count": 158,
   "id": "260aaab7",
   "metadata": {},
   "outputs": [
    {
     "data": {
      "text/plain": [
       "array([[-0.73334642, -0.76427714, -0.56870034, -0.51662744],\n",
       "       [ 1.36361202, -0.9905595 ,  1.7583953 , -0.51662744],\n",
       "       [ 1.36361202,  0.2917072 , -0.56870034,  1.93563082]])"
      ]
     },
     "execution_count": 158,
     "metadata": {},
     "output_type": "execute_result"
    }
   ],
   "source": [
    "# scale the sample passengers features\n",
    "sample_passengers = scaler.transform(sample_passengers)\n",
    "sample_passengers"
   ]
  },
  {
   "cell_type": "markdown",
   "id": "89ba28c0",
   "metadata": {},
   "source": [
    "the sequences are <b>'Sex', 'Age', 'FirstClass', 'SecondClass'</b> respectively"
   ]
  },
  {
   "cell_type": "code",
   "execution_count": 159,
   "id": "374f12d7",
   "metadata": {},
   "outputs": [
    {
     "name": "stdout",
     "output_type": "stream",
     "text": [
      "Jack, Rose, You : [0 1 1]\n"
     ]
    }
   ],
   "source": [
    "# Make survival prediction\n",
    "print('Jack, Rose, You :', model.predict(sample_passengers))"
   ]
  },
  {
   "cell_type": "markdown",
   "id": "2937eac7",
   "metadata": {},
   "source": [
    "Jack is passed, Rose and Me are survived. Sex is the most important playing for these role which is <b>'women and chindren first'</b> to be a priority."
   ]
  },
  {
   "cell_type": "code",
   "execution_count": 168,
   "id": "fd37d1c3",
   "metadata": {},
   "outputs": [
    {
     "name": "stdout",
     "output_type": "stream",
     "text": [
      "[[0.8944327  0.1055673 ]\n",
      " [0.04826613 0.95173387]\n",
      " [0.20508324 0.79491676]]\n"
     ]
    }
   ],
   "source": [
    "# probablities that led to those predictions\n",
    "probabilities = model.predict_proba(sample_passengers)\n",
    "print(probabilities)"
   ]
  },
  {
   "cell_type": "markdown",
   "id": "ad675756",
   "metadata": {},
   "source": [
    "- the first column is the probability of a passenger perishing on the titanic.\n",
    "- the second column is the probability of a passenger survaving the sinking.\n",
    "\n",
    "Based on calculated by the model to make final decision, probability Jack is death is 89% (survive 10%), while for Rose the probability to survive is 95% (death 4%), and for me probability to survive is 79% (death 20%)"
   ]
  },
  {
   "cell_type": "code",
   "execution_count": 167,
   "id": "79b8246c",
   "metadata": {},
   "outputs": [
    {
     "data": {
      "text/plain": [
       "Text(0.5, 1.0, 'Chance to survive the titanic')"
      ]
     },
     "execution_count": 167,
     "metadata": {},
     "output_type": "execute_result"
    },
    {
     "data": {
      "image/png": "[encoded data removed]",
      "text/plain": [
       "<Figure size 432x288 with 1 Axes>"
      ]
     },
     "metadata": {
      "needs_background": "light"
     },
     "output_type": "display_data"
    }
   ],
   "source": [
    "# plot\n",
    "x = range(len(sample_passengers))\n",
    "y = probabilities[:,1]\n",
    "plt.bar(\n",
    "    x, \n",
    "    y * 100\n",
    ")\n",
    "plt.xticks(np.arange(3), ('Jack', 'Rose', 'You'))\n",
    "plt.yticks(np.arange(0, 101, 25), ('0%', '25%', '50%', '75%', '100%'))\n",
    "plt.title('Chance to survive the titanic', weight='bold', fontsize=15)"
   ]
  }
 ],
 "metadata": {
  "kernelspec": {
   "display_name": "Python 3",
   "language": "python",
   "name": "python3"
  },
  "language_info": {
   "codemirror_mode": {
    "name": "ipython",
    "version": 3
   },
   "file_extension": ".py",
   "mimetype": "text/x-python",
   "name": "python",
   "nbconvert_exporter": "python",
   "pygments_lexer": "ipython3",
   "version": "3.8.8"
  }
 },
 "nbformat": 4,
 "nbformat_minor": 5
}
