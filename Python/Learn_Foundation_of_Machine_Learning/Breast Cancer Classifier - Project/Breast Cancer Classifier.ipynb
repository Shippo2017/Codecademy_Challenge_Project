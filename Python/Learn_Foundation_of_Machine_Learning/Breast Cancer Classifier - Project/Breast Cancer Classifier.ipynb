{
 "cells": [
  {
   "cell_type": "markdown",
   "id": "0847cb33",
   "metadata": {},
   "source": [
    "## Breast Cancer Classifier\n",
    "In this project, we will be using several Python libraries to make a K-Nearest Neighbor classifier that is trained to predict whether a patient has breast cancer."
   ]
  },
  {
   "cell_type": "code",
   "execution_count": 1,
   "id": "98ffba05",
   "metadata": {},
   "outputs": [],
   "source": [
    "from sklearn.datasets import load_breast_cancer\n",
    "from sklearn.model_selection import train_test_split\n",
    "from sklearn.neighbors import KNeighborsClassifier\n",
    "import matplotlib.pyplot as plt\n",
    "%matplotlib inline"
   ]
  },
  {
   "cell_type": "markdown",
   "id": "dff25018",
   "metadata": {},
   "source": [
    "### Load data"
   ]
  },
  {
   "cell_type": "code",
   "execution_count": 7,
   "id": "1395b2e3",
   "metadata": {},
   "outputs": [],
   "source": [
    "breast_cancer_data = load_breast_cancer()"
   ]
  },
  {
   "cell_type": "code",
   "execution_count": 8,
   "id": "74be70d0",
   "metadata": {},
   "outputs": [
    {
     "name": "stdout",
     "output_type": "stream",
     "text": [
      "[1.799e+01 1.038e+01 1.228e+02 1.001e+03 1.184e-01 2.776e-01 3.001e-01\n",
      " 1.471e-01 2.419e-01 7.871e-02 1.095e+00 9.053e-01 8.589e+00 1.534e+02\n",
      " 6.399e-03 4.904e-02 5.373e-02 1.587e-02 3.003e-02 6.193e-03 2.538e+01\n",
      " 1.733e+01 1.846e+02 2.019e+03 1.622e-01 6.656e-01 7.119e-01 2.654e-01\n",
      " 4.601e-01 1.189e-01]\n",
      "['mean radius' 'mean texture' 'mean perimeter' 'mean area'\n",
      " 'mean smoothness' 'mean compactness' 'mean concavity'\n",
      " 'mean concave points' 'mean symmetry' 'mean fractal dimension'\n",
      " 'radius error' 'texture error' 'perimeter error' 'area error'\n",
      " 'smoothness error' 'compactness error' 'concavity error'\n",
      " 'concave points error' 'symmetry error' 'fractal dimension error'\n",
      " 'worst radius' 'worst texture' 'worst perimeter' 'worst area'\n",
      " 'worst smoothness' 'worst compactness' 'worst concavity'\n",
      " 'worst concave points' 'worst symmetry' 'worst fractal dimension']\n"
     ]
    }
   ],
   "source": [
    "#print data and columns\n",
    "print(breast_cancer_data.data[0])\n",
    "print(breast_cancer_data.feature_names)"
   ]
  },
  {
   "cell_type": "code",
   "execution_count": 9,
   "id": "a3cf1890",
   "metadata": {},
   "outputs": [
    {
     "name": "stdout",
     "output_type": "stream",
     "text": [
      "rows :  569\n",
      "columns :  30\n"
     ]
    }
   ],
   "source": [
    "# length rows and columns\n",
    "print(\"rows : \", len(breast_cancer_data.data))\n",
    "print(\"columns : \", len(breast_cancer_data.feature_names))"
   ]
  },
  {
   "cell_type": "code",
   "execution_count": 10,
   "id": "116cd542",
   "metadata": {},
   "outputs": [
    {
     "name": "stdout",
     "output_type": "stream",
     "text": [
      "[0 0 0 0 0 0 0 0 0 0 0 0 0 0 0 0 0 0 0 1 1 1 0 0 0 0 0 0 0 0 0 0 0 0 0 0 0\n",
      " 1 0 0 0 0 0 0 0 0 1 0 1 1 1 1 1 0 0 1 0 0 1 1 1 1 0 1 0 0 1 1 1 1 0 1 0 0\n",
      " 1 0 1 0 0 1 1 1 0 0 1 0 0 0 1 1 1 0 1 1 0 0 1 1 1 0 0 1 1 1 1 0 1 1 0 1 1\n",
      " 1 1 1 1 1 1 0 0 0 1 0 0 1 1 1 0 0 1 0 1 0 0 1 0 0 1 1 0 1 1 0 1 1 1 1 0 1\n",
      " 1 1 1 1 1 1 1 1 0 1 1 1 1 0 0 1 0 1 1 0 0 1 1 0 0 1 1 1 1 0 1 1 0 0 0 1 0\n",
      " 1 0 1 1 1 0 1 1 0 0 1 0 0 0 0 1 0 0 0 1 0 1 0 1 1 0 1 0 0 0 0 1 1 0 0 1 1\n",
      " 1 0 1 1 1 1 1 0 0 1 1 0 1 1 0 0 1 0 1 1 1 1 0 1 1 1 1 1 0 1 0 0 0 0 0 0 0\n",
      " 0 0 0 0 0 0 0 1 1 1 1 1 1 0 1 0 1 1 0 1 1 0 1 0 0 1 1 1 1 1 1 1 1 1 1 1 1\n",
      " 1 0 1 1 0 1 0 1 1 1 1 1 1 1 1 1 1 1 1 1 1 0 1 1 1 0 1 0 1 1 1 1 0 0 0 1 1\n",
      " 1 1 0 1 0 1 0 1 1 1 0 1 1 1 1 1 1 1 0 0 0 1 1 1 1 1 1 1 1 1 1 1 0 0 1 0 0\n",
      " 0 1 0 0 1 1 1 1 1 0 1 1 1 1 1 0 1 1 1 0 1 1 0 0 1 1 1 1 1 1 0 1 1 1 1 1 1\n",
      " 1 0 1 1 1 1 1 0 1 1 0 1 1 1 1 1 1 1 1 1 1 1 1 0 1 0 0 1 0 1 1 1 1 1 0 1 1\n",
      " 0 1 0 1 1 0 1 0 1 1 1 1 1 1 1 1 0 0 1 1 1 1 1 1 0 1 1 1 1 1 1 1 1 1 1 0 1\n",
      " 1 1 1 1 1 1 0 1 0 1 1 0 1 1 1 1 1 0 0 1 0 1 0 1 1 1 1 1 0 1 1 0 1 0 1 0 0\n",
      " 1 1 1 0 1 1 1 1 1 1 1 1 1 1 1 0 1 0 0 1 1 1 1 1 1 1 1 1 1 1 1 1 1 1 1 1 1\n",
      " 1 1 1 1 1 1 1 0 0 0 0 0 0 1]\n",
      "['malignant' 'benign']\n"
     ]
    }
   ],
   "source": [
    "# see what we classify\n",
    "print(breast_cancer_data.target)\n",
    "print(breast_cancer_data.target_names)"
   ]
  },
  {
   "cell_type": "markdown",
   "id": "ceeef751",
   "metadata": {},
   "source": [
    "this data works respectively.\n",
    "- 0 : malignant\n",
    "- 1 : benign"
   ]
  },
  {
   "cell_type": "markdown",
   "id": "dfdb1f88",
   "metadata": {},
   "source": [
    "### Spliting The Data Into Training and Validation Sets"
   ]
  },
  {
   "cell_type": "code",
   "execution_count": 12,
   "id": "566fbe49",
   "metadata": {},
   "outputs": [
    {
     "name": "stdout",
     "output_type": "stream",
     "text": [
      "455\n",
      "455\n"
     ]
    }
   ],
   "source": [
    "training_data, validation_data, training_labels, validation_labels = train_test_split(\n",
    "    breast_cancer_data.data,\n",
    "    breast_cancer_data.target,\n",
    "    test_size = 0.2,\n",
    "    random_state = 100\n",
    ")\n",
    "\n",
    "# confirm that worked correctly\n",
    "print(len(training_data))\n",
    "print(len(training_labels))"
   ]
  },
  {
   "cell_type": "markdown",
   "id": "ad0614f6",
   "metadata": {},
   "source": [
    "### Running The Classifier"
   ]
  },
  {
   "cell_type": "code",
   "execution_count": 13,
   "id": "65937151",
   "metadata": {},
   "outputs": [
    {
     "name": "stdout",
     "output_type": "stream",
     "text": [
      "0.9473684210526315\n"
     ]
    }
   ],
   "source": [
    "classifier = KNeighborsClassifier(n_neighbors=3)\n",
    "classifier.fit(training_data, training_labels)\n",
    "print(classifier.score(validation_data, validation_labels))"
   ]
  },
  {
   "cell_type": "markdown",
   "id": "f2f1fb78",
   "metadata": {},
   "source": [
    "The classifier does pretty well when k=3 (the validation is 94%). Maybe there is a better k!"
   ]
  },
  {
   "cell_type": "code",
   "execution_count": 16,
   "id": "dde2a54b",
   "metadata": {},
   "outputs": [
    {
     "name": "stdout",
     "output_type": "stream",
     "text": [
      "0.9298245614035088\n",
      "0.9385964912280702\n",
      "0.9473684210526315\n",
      "0.9473684210526315\n",
      "0.9473684210526315\n",
      "0.9473684210526315\n",
      "0.9473684210526315\n",
      "0.9473684210526315\n",
      "0.956140350877193\n",
      "0.956140350877193\n",
      "0.956140350877193\n",
      "0.956140350877193\n",
      "0.956140350877193\n",
      "0.956140350877193\n",
      "0.956140350877193\n",
      "0.956140350877193\n",
      "0.956140350877193\n",
      "0.956140350877193\n",
      "0.956140350877193\n",
      "0.956140350877193\n",
      "0.956140350877193\n",
      "0.956140350877193\n",
      "0.9649122807017544\n",
      "0.9649122807017544\n",
      "0.956140350877193\n",
      "0.956140350877193\n",
      "0.956140350877193\n",
      "0.956140350877193\n",
      "0.9473684210526315\n",
      "0.9473684210526315\n",
      "0.9473684210526315\n",
      "0.9473684210526315\n",
      "0.9473684210526315\n",
      "0.9473684210526315\n",
      "0.9473684210526315\n",
      "0.9473684210526315\n",
      "0.956140350877193\n",
      "0.956140350877193\n",
      "0.956140350877193\n",
      "0.956140350877193\n",
      "0.956140350877193\n",
      "0.956140350877193\n",
      "0.956140350877193\n",
      "0.9473684210526315\n",
      "0.956140350877193\n",
      "0.9473684210526315\n",
      "0.956140350877193\n",
      "0.956140350877193\n",
      "0.956140350877193\n",
      "0.956140350877193\n",
      "0.9473684210526315\n",
      "0.9473684210526315\n",
      "0.9473684210526315\n",
      "0.956140350877193\n",
      "0.956140350877193\n",
      "0.9649122807017544\n",
      "0.9473684210526315\n",
      "0.9473684210526315\n",
      "0.9385964912280702\n",
      "0.9298245614035088\n",
      "0.9298245614035088\n",
      "0.9385964912280702\n",
      "0.9473684210526315\n",
      "0.9385964912280702\n",
      "0.9385964912280702\n",
      "0.9385964912280702\n",
      "0.9385964912280702\n",
      "0.9385964912280702\n",
      "0.9385964912280702\n",
      "0.9385964912280702\n",
      "0.9385964912280702\n",
      "0.9385964912280702\n",
      "0.9385964912280702\n",
      "0.9385964912280702\n",
      "0.9385964912280702\n",
      "0.9385964912280702\n",
      "0.9298245614035088\n",
      "0.9298245614035088\n",
      "0.9298245614035088\n",
      "0.9298245614035088\n",
      "0.9210526315789473\n",
      "0.9298245614035088\n",
      "0.9210526315789473\n",
      "0.9385964912280702\n",
      "0.9298245614035088\n",
      "0.9385964912280702\n",
      "0.9385964912280702\n",
      "0.9385964912280702\n",
      "0.9298245614035088\n",
      "0.9298245614035088\n",
      "0.9210526315789473\n",
      "0.9385964912280702\n",
      "0.9210526315789473\n",
      "0.9298245614035088\n",
      "0.9298245614035088\n",
      "0.9385964912280702\n",
      "0.9298245614035088\n",
      "0.9385964912280702\n",
      "0.9298245614035088\n",
      "0.9298245614035088\n"
     ]
    }
   ],
   "source": [
    "# loop for k 1 through 100\n",
    "for k in range(1, 101):\n",
    "    classifier = KNeighborsClassifier(n_neighbors=k)\n",
    "    classifier.fit(training_data, training_labels)\n",
    "    print(classifier.score(validation_data, validation_labels))"
   ]
  },
  {
   "cell_type": "markdown",
   "id": "5f0e5d2d",
   "metadata": {},
   "source": [
    "### Graphing The Results"
   ]
  },
  {
   "cell_type": "code",
   "execution_count": 27,
   "id": "4be6d111",
   "metadata": {},
   "outputs": [
    {
     "data": {
      "image/png": "[encoded data removed]",
      "text/plain": [
       "<Figure size 720x360 with 1 Axes>"
      ]
     },
     "metadata": {
      "needs_background": "light"
     },
     "output_type": "display_data"
    }
   ],
   "source": [
    "# x-axis values\n",
    "k_list = range(1, 101)\n",
    "\n",
    "# y-axis values\n",
    "accuracies = []\n",
    "for k in range(1, 101):\n",
    "    classifier = KNeighborsClassifier(n_neighbors=k)\n",
    "    classifier.fit(training_data, training_labels)\n",
    "    accuracies.append(classifier.score(validation_data, validation_labels))\n",
    "\n",
    "# print(accuracies)\n",
    "\n",
    "plt.figure(figsize=(10,5))\n",
    "plt.plot(k_list, accuracies)\n",
    "plt.title('Breast Cancer Accuracy Classifier', weight='bold')\n",
    "plt.xlabel(\"k\")\n",
    "plt.ylabel('Validation Accuracy')\n",
    "plt.savefig('breast_cancer.png')"
   ]
  }
 ],
 "metadata": {
  "kernelspec": {
   "display_name": "Python 3",
   "language": "python",
   "name": "python3"
  },
  "language_info": {
   "codemirror_mode": {
    "name": "ipython",
    "version": 3
   },
   "file_extension": ".py",
   "mimetype": "text/x-python",
   "name": "python",
   "nbconvert_exporter": "python",
   "pygments_lexer": "ipython3",
   "version": "3.8.8"
  }
 },
 "nbformat": 4,
 "nbformat_minor": 5
}
