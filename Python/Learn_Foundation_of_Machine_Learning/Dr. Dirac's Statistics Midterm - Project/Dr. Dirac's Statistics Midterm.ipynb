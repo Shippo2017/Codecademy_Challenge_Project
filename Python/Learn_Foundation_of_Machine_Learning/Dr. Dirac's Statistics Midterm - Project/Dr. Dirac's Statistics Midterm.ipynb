{
 "cells": [
  {
   "cell_type": "markdown",
   "id": "3eedc6d0",
   "metadata": {},
   "source": [
    "## Dr. Dirac's Statistics Midterm\n",
    "Grading a multiple choice exam is easy. But how much do multiple choice exams tell us about what a student really knows? Dr. Dirac is administering a statistics midterm exam and wants to use Bayes’ Theorem to help him understand the following:\n",
    "\n",
    "Given that a student answered a question correctly, what is the probability that she really knows the material?\n",
    "\n",
    "Dr. Dirac knows the following probabilities based on many years of teaching:\n",
    "- There is a question on the exam that 60% of students know the correct answer to.\n",
    "- Given that a student knows the correct answer, there is still a 15% chance that the student picked the wrong answer.\n",
    "- Given that a student does not know the answer, there is still a 20% chance that the student picks the correct answer by guessing.\n",
    "\n",
    "Using these probabilities, we can answer the question."
   ]
  },
  {
   "cell_type": "markdown",
   "id": "785a0d2d",
   "metadata": {},
   "source": [
    "<b>1.In order to use Bayes Theorem, we need to phrase our question as P(A|B).</b>\n",
    "\n",
    "<b>What is A and B in this case?</b>"
   ]
  },
  {
   "cell_type": "code",
   "execution_count": 6,
   "id": "d97cfafb",
   "metadata": {},
   "outputs": [],
   "source": [
    "# P(A|B) = P(knows the matterial | answer correctly)"
   ]
  },
  {
   "cell_type": "markdown",
   "id": "f2b73a47",
   "metadata": {},
   "source": [
    "<b>2. What is the probability that the student knows the material?</b>"
   ]
  },
  {
   "cell_type": "code",
   "execution_count": 7,
   "id": "005366fe",
   "metadata": {},
   "outputs": [],
   "source": [
    "# P(A) = P(knows the material) = 60%\n",
    "p_knows_the_material = 0.6"
   ]
  },
  {
   "cell_type": "markdown",
   "id": "d8d8fd88",
   "metadata": {},
   "source": [
    "<b>3. Given that the student knows the material, what is the probability that she answers correctly?</b>"
   ]
  },
  {
   "cell_type": "code",
   "execution_count": 8,
   "id": "3e9f769c",
   "metadata": {},
   "outputs": [
    {
     "data": {
      "text/plain": [
       "0.85"
      ]
     },
     "execution_count": 8,
     "metadata": {},
     "output_type": "execute_result"
    }
   ],
   "source": [
    "# P(B|A) = P(answer correctly | knows the material) = 1-0.15\n",
    "p_answer_correctly_knows_the_material = 1-0.15\n",
    "p_answer_correctly_knows_the_material"
   ]
  },
  {
   "cell_type": "markdown",
   "id": "f2847f7d",
   "metadata": {},
   "source": [
    "<b>4. What is the probability of any student answering correctly?</b>"
   ]
  },
  {
   "cell_type": "code",
   "execution_count": 9,
   "id": "b448728d",
   "metadata": {},
   "outputs": [],
   "source": [
    "p_not_know_the_material = 0.4\n",
    "p_answer_correctly_not_know_the_material = 0.2"
   ]
  },
  {
   "cell_type": "code",
   "execution_count": 10,
   "id": "5fce04c4",
   "metadata": {},
   "outputs": [
    {
     "data": {
      "text/plain": [
       "0.5900000000000001"
      ]
     },
     "execution_count": 10,
     "metadata": {},
     "output_type": "execute_result"
    }
   ],
   "source": [
    "# P(B) = P(answer correctly)\n",
    "p_answer_correctly = (p_answer_correctly_knows_the_material * p_knows_the_material) +\\\n",
    "                    (p_answer_correctly_not_know_the_material * p_not_know_the_material)\n",
    "p_answer_correctly"
   ]
  },
  {
   "cell_type": "markdown",
   "id": "a63caf41",
   "metadata": {},
   "source": [
    "<b>5. Using the three probabilities and Bayes’ Theorem, calculate P(knows material | answers correctly).</b>"
   ]
  },
  {
   "cell_type": "code",
   "execution_count": 11,
   "id": "f9c8f622",
   "metadata": {},
   "outputs": [
    {
     "data": {
      "text/plain": [
       "0.8644067796610169"
      ]
     },
     "execution_count": 11,
     "metadata": {},
     "output_type": "execute_result"
    }
   ],
   "source": [
    "# P(A|B) = P(B|A) * P(A) / P(B)\n",
    "p_knows_the_material_answer_correctly = (p_answer_correctly_knows_the_material * p_knows_the_material) / (p_answer_correctly)\n",
    "p_knows_the_material_answer_correctly"
   ]
  },
  {
   "cell_type": "markdown",
   "id": "cf4a7071",
   "metadata": {},
   "source": [
    "The probability she knows the answer 86%, given the correct answer."
   ]
  }
 ],
 "metadata": {
  "kernelspec": {
   "display_name": "Python 3",
   "language": "python",
   "name": "python3"
  },
  "language_info": {
   "codemirror_mode": {
    "name": "ipython",
    "version": 3
   },
   "file_extension": ".py",
   "mimetype": "text/x-python",
   "name": "python",
   "nbconvert_exporter": "python",
   "pygments_lexer": "ipython3",
   "version": "3.8.8"
  }
 },
 "nbformat": 4,
 "nbformat_minor": 5
}
