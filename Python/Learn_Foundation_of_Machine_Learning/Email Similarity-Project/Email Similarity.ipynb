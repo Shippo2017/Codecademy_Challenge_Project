{
 "cells": [
  {
   "cell_type": "markdown",
   "id": "30f98d03",
   "metadata": {},
   "source": [
    "# Email Similarity\n",
    "\n",
    "In this project, you will use scikit-learn’s Naive Bayes implementation on several different datasets. \n",
    "By reporting the accuracy of the classifier, we can find which datasets are harder to distinguish. \n",
    "\n",
    "For example, \n",
    "- how difficult do you think it is to distinguish the difference between emails about hockey and emails about soccer? \n",
    "- How hard is it to tell the difference between emails about hockey and emails about tech? \n",
    "\n",
    "In this project, we’ll find out exactly how difficult those two tasks are."
   ]
  },
  {
   "cell_type": "code",
   "execution_count": 1,
   "id": "ac1212d0",
   "metadata": {},
   "outputs": [],
   "source": [
    "from sklearn.datasets import fetch_20newsgroups\n",
    "from sklearn.naive_bayes import MultinomialNB\n",
    "from sklearn.feature_extraction.text import CountVectorizer"
   ]
  },
  {
   "cell_type": "markdown",
   "id": "29b56eb1",
   "metadata": {},
   "source": [
    "### Load the Data"
   ]
  },
  {
   "cell_type": "code",
   "execution_count": 2,
   "id": "5018ac63",
   "metadata": {},
   "outputs": [],
   "source": [
    "emails = fetch_20newsgroups()"
   ]
  },
  {
   "cell_type": "code",
   "execution_count": 3,
   "id": "1954e439",
   "metadata": {},
   "outputs": [
    {
     "name": "stdout",
     "output_type": "stream",
     "text": [
      "['alt.atheism', 'comp.graphics', 'comp.os.ms-windows.misc', 'comp.sys.ibm.pc.hardware', 'comp.sys.mac.hardware', 'comp.windows.x', 'misc.forsale', 'rec.autos', 'rec.motorcycles', 'rec.sport.baseball', 'rec.sport.hockey', 'sci.crypt', 'sci.electronics', 'sci.med', 'sci.space', 'soc.religion.christian', 'talk.politics.guns', 'talk.politics.mideast', 'talk.politics.misc', 'talk.religion.misc']\n"
     ]
    }
   ],
   "source": [
    "# cotegories\n",
    "print(emails.target_names)"
   ]
  },
  {
   "cell_type": "markdown",
   "id": "72d99c83",
   "metadata": {},
   "source": [
    "### Exploring the Data\n",
    "\n",
    "We’re interested in seeing how effective our Naive Bayes classifier is at telling the difference between <b>a baseball email and a hockey email</b>."
   ]
  },
  {
   "cell_type": "code",
   "execution_count": 4,
   "id": "5b591772",
   "metadata": {},
   "outputs": [
    {
     "name": "stdout",
     "output_type": "stream",
     "text": [
      "['rec.sport.baseball', 'rec.sport.hockey']\n"
     ]
    }
   ],
   "source": [
    "emails = fetch_20newsgroups(categories = ['rec.sport.baseball', 'rec.sport.hockey'])\n",
    "print(emails.target_names)"
   ]
  },
  {
   "cell_type": "code",
   "execution_count": 5,
   "id": "b3ce7bc2",
   "metadata": {},
   "outputs": [
    {
     "name": "stdout",
     "output_type": "stream",
     "text": [
      "From: mmb@lamar.ColoState.EDU (Michael Burger)\n",
      "Subject: More TV Info\n",
      "Distribution: na\n",
      "Nntp-Posting-Host: lamar.acns.colostate.edu\n",
      "Organization: Colorado State University, Fort Collins, CO  80523\n",
      "Lines: 36\n",
      "\n",
      "United States Coverage:\n",
      "Sunday April 18\n",
      "  N.J./N.Y.I. at Pittsburgh - 1:00 EDT to Eastern Time Zone\n",
      "  ABC - Gary Thorne and Bill Clement\n",
      "\n",
      "  St. Louis at Chicago - 12:00 CDT and 11:00 MDT - to Central/Mountain Zones\n",
      "  ABC - Mike Emerick and Jim Schoenfeld\n",
      "\n",
      "  Los Angeles at Calgary - 12:00 PDT and 11:00 ADT - to Pacific/Alaskan Zones\n",
      "  ABC - Al Michaels and John Davidson\n",
      "\n",
      "Tuesday, April 20\n",
      "  N.J./N.Y.I. at Pittsburgh - 7:30 EDT Nationwide\n",
      "  ESPN - Gary Thorne and Bill Clement\n",
      "\n",
      "Thursday, April 22 and Saturday April 24\n",
      "  To Be Announced - 7:30 EDT Nationwide\n",
      "  ESPN - To Be Announced\n",
      "\n",
      "\n",
      "Canadian Coverage:\n",
      "\n",
      "Sunday, April 18\n",
      "  Buffalo at Boston - 7:30 EDT Nationwide\n",
      "  TSN - ???\n",
      "\n",
      "Tuesday, April 20\n",
      "  N.J.D./N.Y. at Pittsburgh - 7:30 EDT Nationwide\n",
      "  TSN - ???\n",
      "\n",
      "Wednesday, April 21\n",
      "  St. Louis at Chicago - 8:30 EDT Nationwide\n",
      "  TSN - ???\n",
      "\n",
      "\n",
      "\n",
      "\n"
     ]
    }
   ],
   "source": [
    "# the email at index 5 in the list.\n",
    "print(emails.data[5])"
   ]
  },
  {
   "cell_type": "code",
   "execution_count": 6,
   "id": "0dd70406",
   "metadata": {},
   "outputs": [
    {
     "name": "stdout",
     "output_type": "stream",
     "text": [
      "1\n"
     ]
    }
   ],
   "source": [
    "# the label of the email at index 5\n",
    "print(emails.target[5])"
   ]
  },
  {
   "cell_type": "markdown",
   "id": "83a17b65",
   "metadata": {},
   "source": [
    "It means emails.data[5] is belong about <b>hockey</b>. <i>which is the target names sequence ['rec.sport.baseball', 'rec.sport.hockey'] [0,1]</i>"
   ]
  },
  {
   "cell_type": "markdown",
   "id": "ed674837",
   "metadata": {},
   "source": [
    "### Making the Training and Test Sets"
   ]
  },
  {
   "cell_type": "code",
   "execution_count": 7,
   "id": "06b59898",
   "metadata": {},
   "outputs": [],
   "source": [
    "# Change the name of your variable from emails to train_emails\n",
    "train_emails = fetch_20newsgroups(\n",
    "    categories = ['rec.sport.baseball', 'rec.sport.hockey'], \n",
    "    subset = 'train',\n",
    "    shuffle = True,\n",
    "    random_state=108\n",
    ")"
   ]
  },
  {
   "cell_type": "code",
   "execution_count": 8,
   "id": "4e4ab063",
   "metadata": {},
   "outputs": [],
   "source": [
    "# Create another variable named test_emails\n",
    "test_emails = fetch_20newsgroups(\n",
    "    categories = ['rec.sport.baseball', 'rec.sport.hockey'], \n",
    "    subset = 'test',\n",
    "    shuffle = True,\n",
    "    random_state=108\n",
    ")"
   ]
  },
  {
   "cell_type": "code",
   "execution_count": 9,
   "id": "0efa827a",
   "metadata": {},
   "outputs": [
    {
     "name": "stdout",
     "output_type": "stream",
     "text": [
      "[1 1 0 ... 1 1 0]\n"
     ]
    }
   ],
   "source": [
    "print(train_emails.target)"
   ]
  },
  {
   "cell_type": "code",
   "execution_count": 10,
   "id": "19f403eb",
   "metadata": {},
   "outputs": [
    {
     "name": "stdout",
     "output_type": "stream",
     "text": [
      "[1 0 0 1 1 0 1 1 1 1 0 0 0 1 0 1 1 1 1 0 0 0 0 1 0 1 0 1 0 1 1 0 0 0 1 0 1\n",
      " 1 1 1 0 0 1 1 0 1 1 1 0 1 0 0 0 1 1 1 0 0 0 0 0 0 1 1 0 0 1 0 0 0 1 1 1 1\n",
      " 0 1 1 0 0 0 0 0 0 1 1 0 1 1 1 0 0 1 0 1 1 1 0 0 0 1 0 0 0 1 0 0 0 1 0 0 0\n",
      " 0 0 1 1 1 1 0 0 0 1 1 0 0 1 0 0 0 1 1 1 0 0 1 1 0 0 0 0 0 0 0 1 1 0 1 0 1\n",
      " 1 0 0 1 1 0 1 0 1 1 1 0 1 0 0 1 1 1 1 1 1 1 1 1 0 0 1 0 1 0 0 1 1 1 1 1 0\n",
      " 0 0 1 1 0 0 0 1 0 1 0 1 1 1 0 0 0 1 1 1 1 1 1 0 0 1 1 0 0 1 1 1 0 0 0 1 0\n",
      " 0 1 0 1 0 1 1 0 1 0 1 1 0 0 0 1 1 1 0 1 1 0 0 0 0 1 0 1 1 1 1 0 0 0 0 0 0\n",
      " 0 0 0 1 1 0 1 1 0 1 1 1 1 0 1 1 0 1 0 1 0 1 0 1 1 0 1 1 0 0 1 1 0 0 0 0 0\n",
      " 1 0 0 1 1 0 1 0 1 0 1 0 0 0 1 1 0 1 1 0 0 0 0 0 0 1 0 1 0 0 1 0 0 0 0 0 1\n",
      " 1 0 0 0 0 1 1 1 1 1 1 1 1 1 0 0 0 0 0 1 0 1 0 1 0 1 1 1 1 1 0 0 0 0 0 0 0\n",
      " 1 1 0 0 0 1 1 1 1 0 1 1 0 0 1 1 1 1 0 0 0 1 0 1 0 0 1 1 1 1 1 1 0 0 1 0 0\n",
      " 1 0 0 0 1 0 1 0 1 0 0 0 1 1 1 1 1 0 1 0 0 1 1 1 1 0 1 0 1 1 1 1 0 1 0 1 0\n",
      " 0 0 0 1 1 1 1 0 0 0 1 1 1 1 1 1 1 1 1 0 0 0 0 0 1 1 0 1 1 0 0 1 1 1 1 1 1\n",
      " 1 0 1 0 1 1 0 0 0 0 1 0 0 0 1 1 1 0 0 0 0 1 0 1 0 1 0 1 1 0 0 1 0 0 1 0 1\n",
      " 1 1 1 1 0 0 1 1 0 0 1 0 0 0 0 1 1 0 0 0 0 0 0 0 1 0 1 0 0 1 0 1 0 0 0 1 1\n",
      " 1 1 0 0 1 0 1 0 1 1 0 1 1 1 0 0 1 0 1 0 1 1 1 0 1 1 0 1 1 1 1 0 1 0 0 1 0\n",
      " 1 0 0 0 1 0 0 1 1 0 1 1 0 0 1 1 0 1 0 0 1 1 0 0 0 0 1 0 0 1 0 0 0 1 0 0 0\n",
      " 0 1 0 1 0 0 1 0 0 1 0 1 1 1 0 1 0 1 1 1 0 0 0 1 0 0 1 1 1 0 0 0 0 0 1 1 1\n",
      " 1 1 1 0 1 0 0 1 1 1 0 0 0 1 0 0 1 0 1 1 1 0 1 0 0 0 0 1 0 0 1 1 0 0 1 1 1\n",
      " 1 0 1 1 0 1 0 0 1 0 1 1 0 0 1 1 0 0 1 0 1 0 0 0 1 0 1 0 1 1 1 1 0 0 1 1 1\n",
      " 1 1 1 1 1 0 0 1 1 0 1 0 0 1 0 1 1 1 1 0 1 0 1 0 0 1 0 1 0 0 1 1 1 1 1 1 0\n",
      " 1 0 0 0 1 0 0 1 1 0 1 0 1 0 1 0 0 1 0]\n"
     ]
    }
   ],
   "source": [
    "print(test_emails.target)"
   ]
  },
  {
   "cell_type": "markdown",
   "id": "e24af7af",
   "metadata": {},
   "source": [
    "## Counting Words"
   ]
  },
  {
   "cell_type": "code",
   "execution_count": 11,
   "id": "a208de13",
   "metadata": {},
   "outputs": [],
   "source": [
    "counter = CountVectorizer()\n",
    "counter.fit(test_emails.data + train_emails.data)\n",
    "\n",
    "train_counts = counter.transform(train_emails.data)\n",
    "test_counts = counter.transform(test_emails.data)"
   ]
  },
  {
   "cell_type": "code",
   "execution_count": 12,
   "id": "810790b8",
   "metadata": {},
   "outputs": [
    {
     "name": "stdout",
     "output_type": "stream",
     "text": [
      "  (0, 833)\t1\n",
      "  (0, 949)\t1\n",
      "  (0, 1029)\t1\n",
      "  (0, 1417)\t1\n",
      "  (0, 1573)\t1\n",
      "  (0, 2137)\t1\n",
      "  (0, 2322)\t1\n",
      "  (0, 2501)\t1\n",
      "  (0, 3521)\t1\n",
      "  (0, 3910)\t3\n",
      "  (0, 3982)\t1\n",
      "  (0, 4071)\t2\n",
      "  (0, 4103)\t2\n",
      "  (0, 4187)\t1\n",
      "  (0, 4309)\t5\n",
      "  (0, 4396)\t1\n",
      "  (0, 4400)\t1\n",
      "  (0, 4945)\t1\n",
      "  (0, 5512)\t2\n",
      "  (0, 5896)\t1\n",
      "  (0, 6104)\t2\n",
      "  (0, 6473)\t1\n",
      "  (0, 6588)\t4\n",
      "  (0, 6988)\t1\n",
      "  (0, 7081)\t1\n",
      "  :\t:\n",
      "  (1196, 18104)\t1\n",
      "  (1196, 19058)\t1\n",
      "  (1196, 19376)\t1\n",
      "  (1196, 19764)\t1\n",
      "  (1196, 20289)\t1\n",
      "  (1196, 20487)\t2\n",
      "  (1196, 20595)\t1\n",
      "  (1196, 20880)\t1\n",
      "  (1196, 20929)\t34\n",
      "  (1196, 21481)\t2\n",
      "  (1196, 21484)\t1\n",
      "  (1196, 21541)\t2\n",
      "  (1196, 21733)\t2\n",
      "  (1196, 21745)\t1\n",
      "  (1196, 22121)\t1\n",
      "  (1196, 22173)\t1\n",
      "  (1196, 22174)\t1\n",
      "  (1196, 22351)\t1\n",
      "  (1196, 22656)\t1\n",
      "  (1196, 22911)\t1\n",
      "  (1196, 23044)\t1\n",
      "  (1196, 23134)\t1\n",
      "  (1196, 23144)\t1\n",
      "  (1196, 23186)\t1\n",
      "  (1196, 23579)\t1\n"
     ]
    }
   ],
   "source": [
    "print(train_counts)"
   ]
  },
  {
   "cell_type": "code",
   "execution_count": 13,
   "id": "987ffc30",
   "metadata": {},
   "outputs": [
    {
     "name": "stdout",
     "output_type": "stream",
     "text": [
      "  (0, 3514)\t1\n",
      "  (0, 3778)\t1\n",
      "  (0, 4071)\t1\n",
      "  (0, 4309)\t1\n",
      "  (0, 4458)\t1\n",
      "  (0, 4496)\t1\n",
      "  (0, 4982)\t1\n",
      "  (0, 5611)\t1\n",
      "  (0, 5896)\t1\n",
      "  (0, 7549)\t1\n",
      "  (0, 9016)\t1\n",
      "  (0, 9052)\t2\n",
      "  (0, 10005)\t1\n",
      "  (0, 10220)\t1\n",
      "  (0, 10306)\t1\n",
      "  (0, 10396)\t1\n",
      "  (0, 10745)\t1\n",
      "  (0, 10802)\t1\n",
      "  (0, 10808)\t1\n",
      "  (0, 11348)\t1\n",
      "  (0, 11974)\t2\n",
      "  (0, 12139)\t1\n",
      "  (0, 12167)\t1\n",
      "  (0, 12220)\t1\n",
      "  (0, 13206)\t1\n",
      "  :\t:\n",
      "  (795, 21530)\t3\n",
      "  (795, 21561)\t1\n",
      "  (795, 21662)\t1\n",
      "  (795, 21733)\t1\n",
      "  (795, 21801)\t1\n",
      "  (795, 22236)\t1\n",
      "  (795, 22284)\t2\n",
      "  (795, 22290)\t1\n",
      "  (795, 22351)\t1\n",
      "  (795, 22357)\t1\n",
      "  (795, 22499)\t1\n",
      "  (795, 22655)\t1\n",
      "  (795, 22773)\t3\n",
      "  (795, 22941)\t1\n",
      "  (795, 23092)\t1\n",
      "  (795, 23142)\t1\n",
      "  (795, 23198)\t3\n",
      "  (795, 23303)\t2\n",
      "  (795, 23409)\t1\n",
      "  (795, 23445)\t1\n",
      "  (795, 23454)\t1\n",
      "  (795, 23550)\t1\n",
      "  (795, 23615)\t4\n",
      "  (795, 23619)\t1\n",
      "  (795, 23625)\t1\n"
     ]
    }
   ],
   "source": [
    "print(test_counts)"
   ]
  },
  {
   "cell_type": "markdown",
   "id": "0998f598",
   "metadata": {},
   "source": [
    "## Making Naive Bayes Classfifier"
   ]
  },
  {
   "cell_type": "code",
   "execution_count": 14,
   "id": "7c93d697",
   "metadata": {},
   "outputs": [
    {
     "name": "stdout",
     "output_type": "stream",
     "text": [
      "0.9723618090452262\n"
     ]
    }
   ],
   "source": [
    "classifier = MultinomialNB()\n",
    "classifier.fit(train_counts, train_emails.target)\n",
    "\n",
    "print(classifier.score(test_counts, test_emails.target))"
   ]
  },
  {
   "cell_type": "markdown",
   "id": "9fc28aa6",
   "metadata": {},
   "source": [
    "The accuracy of classify all the emails in the test set and compare the classification of each email to its actual label is 97%."
   ]
  },
  {
   "cell_type": "markdown",
   "id": "f69749fd",
   "metadata": {},
   "source": [
    "### Testing Other Datasets\n",
    "\n",
    "Our classifier does a pretty good job distinguishing between soccer emails and hockey emails. But let’s see how it does with emails about really different topics."
   ]
  },
  {
   "cell_type": "code",
   "execution_count": 15,
   "id": "793067c3",
   "metadata": {},
   "outputs": [
    {
     "name": "stdout",
     "output_type": "stream",
     "text": [
      "0.9974715549936789\n"
     ]
    }
   ],
   "source": [
    "train_emails = fetch_20newsgroups(\n",
    "    categories = ['comp.sys.ibm.pc.hardware','rec.sport.hockey'], \n",
    "    subset = 'train',\n",
    "    shuffle = True,\n",
    "    random_state=108\n",
    ")\n",
    "\n",
    "test_emails = fetch_20newsgroups(\n",
    "    categories = ['comp.sys.ibm.pc.hardware','rec.sport.hockey'], \n",
    "    subset = 'test',\n",
    "    shuffle = True,\n",
    "    random_state=108\n",
    ")\n",
    "\n",
    "# counting words\n",
    "counter = CountVectorizer()\n",
    "counter.fit(test_emails.data + train_emails.data)\n",
    "\n",
    "train_counts = counter.transform(train_emails.data)\n",
    "test_counts = counter.transform(test_emails.data)\n",
    "\n",
    "# Bayes Classification\n",
    "classifier = MultinomialNB()\n",
    "classifier.fit(train_counts, train_emails.target)\n",
    "\n",
    "print(classifier.score(test_counts, test_emails.target))"
   ]
  },
  {
   "cell_type": "markdown",
   "id": "46bb75cf",
   "metadata": {},
   "source": [
    "The classification was 99% accurate when trying to classify hockey and tech emails.\n",
    "\n",
    "This is better than when was trying to classify hockey and baseball emails. This makes sense emails about sports probably share more words in common."
   ]
  },
  {
   "cell_type": "markdown",
   "id": "bb2f5772",
   "metadata": {},
   "source": [
    "### Extra\n",
    "Play around with different sets of data. Can you find a set that’s incredibly accurate or incredibly inaccurate?\n",
    "\n",
    "Your classifier can work even when there are more than two labels. Try setting categories equal to a list of three or four of the categories."
   ]
  },
  {
   "cell_type": "raw",
   "id": "83a318bd",
   "metadata": {},
   "source": [
    "The possible categories are listed below.\n",
    "\n",
    "['alt.atheism', 'comp.graphics', 'comp.os.ms-windows.misc', 'comp.sys.ibm.pc.hardware', 'comp.sys.mac.hardware', 'comp.windows.x', 'misc.forsale', 'rec.autos', 'rec.motorcycles', 'rec.sport.baseball', 'rec.sport.hockey', 'sci.crypt', 'sci.electronics', 'sci.med', 'sci.space', 'soc.religion.christian', 'talk.politics.guns', 'talk.politics.mideast', 'talk.politics.misc', 'talk.religion.misc']"
   ]
  },
  {
   "cell_type": "code",
   "execution_count": 29,
   "id": "b2feb9f0",
   "metadata": {},
   "outputs": [
    {
     "name": "stdout",
     "output_type": "stream",
     "text": [
      "11314\n"
     ]
    }
   ],
   "source": [
    "email_trial = fetch_20newsgroups()\n",
    "print(len(email_trial.data))"
   ]
  },
  {
   "cell_type": "code",
   "execution_count": 24,
   "id": "335409be",
   "metadata": {},
   "outputs": [
    {
     "name": "stdout",
     "output_type": "stream",
     "text": [
      "0.9609800362976406\n"
     ]
    }
   ],
   "source": [
    "train_emails = fetch_20newsgroups(\n",
    "    categories = ['soc.religion.christian', 'talk.politics.misc', 'sci.space'], \n",
    "    subset = 'train',\n",
    "    shuffle = True,\n",
    "    random_state=108\n",
    ")\n",
    "\n",
    "test_emails = fetch_20newsgroups(\n",
    "    categories = ['soc.religion.christian', 'talk.politics.misc', 'sci.space'], \n",
    "    subset = 'test',\n",
    "    shuffle = True,\n",
    "    random_state=108\n",
    ")\n",
    "\n",
    "# counting words\n",
    "counter = CountVectorizer()\n",
    "counter.fit(test_emails.data + train_emails.data)\n",
    "\n",
    "train_counts = counter.transform(train_emails.data)\n",
    "test_counts = counter.transform(test_emails.data)\n",
    "\n",
    "# Bayes Classification\n",
    "classifier = MultinomialNB()\n",
    "classifier.fit(train_counts, train_emails.target)\n",
    "\n",
    "print(classifier.score(test_counts, test_emails.target))"
   ]
  },
  {
   "cell_type": "markdown",
   "id": "e4dd4bdd",
   "metadata": {},
   "source": [
    "the classification was 96% accurate when trying to classify social religion christian, politicsand science space. "
   ]
  },
  {
   "cell_type": "code",
   "execution_count": 25,
   "id": "80d14819",
   "metadata": {},
   "outputs": [
    {
     "name": "stdout",
     "output_type": "stream",
     "text": [
      "0.9106263194933145\n"
     ]
    }
   ],
   "source": [
    "train_emails = fetch_20newsgroups(\n",
    "    categories = ['soc.religion.christian', 'talk.religion.misc', 'talk.politics.mideast', 'sci.med'], \n",
    "    subset = 'train',\n",
    "    shuffle = True,\n",
    "    random_state=108\n",
    ")\n",
    "\n",
    "test_emails = fetch_20newsgroups(\n",
    "    categories = ['soc.religion.christian', 'talk.religion.misc', 'talk.politics.mideast', 'sci.med'], \n",
    "    subset = 'test',\n",
    "    shuffle = True,\n",
    "    random_state=108\n",
    ")\n",
    "\n",
    "# counting words\n",
    "counter = CountVectorizer()\n",
    "counter.fit(test_emails.data + train_emails.data)\n",
    "\n",
    "train_counts = counter.transform(train_emails.data)\n",
    "test_counts = counter.transform(test_emails.data)\n",
    "\n",
    "# Bayes Classification\n",
    "classifier = MultinomialNB()\n",
    "classifier.fit(train_counts, train_emails.target)\n",
    "\n",
    "print(classifier.score(test_counts, test_emails.target))"
   ]
  },
  {
   "cell_type": "markdown",
   "id": "eda7833a",
   "metadata": {},
   "source": [
    "the classifier was 91% accurate when trying to classify social religion christian, talk religion, talk politics middle east and science med.\n",
    "\n",
    "This is lower than when trying to classify social religion christian, talk politik and science space. Because religion christian, talk religion and politic middle east probably share the same words, while science not. "
   ]
  }
 ],
 "metadata": {
  "kernelspec": {
   "display_name": "Python 3",
   "language": "python",
   "name": "python3"
  },
  "language_info": {
   "codemirror_mode": {
    "name": "ipython",
    "version": 3
   },
   "file_extension": ".py",
   "mimetype": "text/x-python",
   "name": "python",
   "nbconvert_exporter": "python",
   "pygments_lexer": "ipython3",
   "version": "3.8.8"
  }
 },
 "nbformat": 4,
 "nbformat_minor": 5
}
