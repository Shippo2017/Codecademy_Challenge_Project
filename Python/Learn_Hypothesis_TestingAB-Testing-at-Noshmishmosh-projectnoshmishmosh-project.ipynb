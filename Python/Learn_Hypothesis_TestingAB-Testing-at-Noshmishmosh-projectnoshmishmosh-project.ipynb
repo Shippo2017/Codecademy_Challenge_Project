{
 "cells": [
  {
   "cell_type": "markdown",
   "id": "931cd250",
   "metadata": {},
   "source": [
    "# A/B Testing at Nosh Mish Mosh"
   ]
  },
  {
   "cell_type": "markdown",
   "id": "974a44ca",
   "metadata": {},
   "source": [
    "The Nosh Mish Mosh is a recipe and ingredient meal delivery service. They ship the raw materials and you get to cook them at your home! They’ve decided to hire a data analyst to help make product and interface decisions. Get started to help them figure out the amount of data they’ll need to make meaningful decisions."
   ]
  },
  {
   "cell_type": "markdown",
   "id": "d08ac049",
   "metadata": {},
   "source": [
    "Nosh Mish Mosh: An Assortment of Edible Aliments"
   ]
  },
  {
   "cell_type": "code",
   "execution_count": 1,
   "id": "ca49a076",
   "metadata": {},
   "outputs": [],
   "source": [
    "import numpy as np\n",
    "import noshmishmosh"
   ]
  },
  {
   "cell_type": "markdown",
   "id": "1ca38998",
   "metadata": {},
   "source": [
    "A/B Testing at Nosh Mish Mosh"
   ]
  },
  {
   "cell_type": "markdown",
   "id": "b03c9c76",
   "metadata": {},
   "source": [
    "Nosh Mish Mosh wants to run an experiment to see if we can convince more people to purchase meal plans if we use a more artisanal-looking vegetable selection. We’ve photographed these modern meals with blush tomatoes and graffiti eggplants, but aren’t sure if this strategy will sell enough units to benefit from establishing a business relationship with a new provider.\n",
    "\n",
    "Before running this experiment, of course, we need to know the sample size that will be required to detect the difference we are hoping for. There are three things we need to know before we can determine that number.\n",
    "\n",
    "the Baseline Conversion Rate, \n",
    "desired Lift (minimum detectable effect), \n",
    "and the Statistical Significance Threshold"
   ]
  },
  {
   "cell_type": "markdown",
   "id": "37040fbe",
   "metadata": {},
   "source": [
    "In order to get our baseline, we need to first know how many users visit the site in a typical week"
   ]
  },
  {
   "cell_type": "code",
   "execution_count": 3,
   "id": "dfcc275e",
   "metadata": {},
   "outputs": [],
   "source": [
    "all_visitors = noshmishmosh.customer_visits\n",
    "# all_visitors"
   ]
  },
  {
   "cell_type": "code",
   "execution_count": 8,
   "id": "436c4ea5",
   "metadata": {},
   "outputs": [
    {
     "data": {
      "text/plain": [
       "500"
      ]
     },
     "execution_count": 8,
     "metadata": {},
     "output_type": "execute_result"
    }
   ],
   "source": [
    "all_visitors_count = len(all_visitors)\n",
    "all_visitors_count"
   ]
  },
  {
   "cell_type": "markdown",
   "id": "98c00328",
   "metadata": {},
   "source": [
    "Next we need to know how many visitors to the site ultimately end up buying a meal or set of meals in a typical week"
   ]
  },
  {
   "cell_type": "code",
   "execution_count": 7,
   "id": "cf65c1c3",
   "metadata": {},
   "outputs": [],
   "source": [
    "paying_visitors = noshmishmosh.purchasing_customers\n",
    "# paying_visitors"
   ]
  },
  {
   "cell_type": "code",
   "execution_count": 10,
   "id": "73a927f9",
   "metadata": {},
   "outputs": [
    {
     "data": {
      "text/plain": [
       "93"
      ]
     },
     "execution_count": 10,
     "metadata": {},
     "output_type": "execute_result"
    }
   ],
   "source": [
    "paying_visitors_count = len(paying_visitors)\n",
    "paying_visitors_count"
   ]
  },
  {
   "cell_type": "code",
   "execution_count": 11,
   "id": "391dacce",
   "metadata": {},
   "outputs": [
    {
     "data": {
      "text/plain": [
       "18.6"
      ]
     },
     "execution_count": 11,
     "metadata": {},
     "output_type": "execute_result"
    }
   ],
   "source": [
    "baseline_percent = 100 * (paying_visitors_count / all_visitors_count)\n",
    "baseline_percent"
   ]
  },
  {
   "cell_type": "markdown",
   "id": "d6b9f4b1",
   "metadata": {},
   "source": [
    "Mish Mosh B'Gosh: the Lift"
   ]
  },
  {
   "cell_type": "markdown",
   "id": "ee0e3ba2",
   "metadata": {},
   "source": [
    "These rainbow fingerling potatoes don’t come cheap. We’d like to know for sure that, with this change, we’ll be pulling in at least $1240 more every week. In order to figure out how many more customers we need, we’ll have to investigate the average revenue generated from a given sale."
   ]
  },
  {
   "cell_type": "code",
   "execution_count": 13,
   "id": "4fe7cb9f",
   "metadata": {},
   "outputs": [],
   "source": [
    "payment_history = noshmishmosh.money_spent\n",
    "# payment_history"
   ]
  },
  {
   "cell_type": "markdown",
   "id": "ad6ba55e",
   "metadata": {},
   "source": [
    "We need to find how many purchases it would take to reach $1240 in additional revenue using our historical data.\n",
    "\n",
    "We want to know how many of these “usual” payments it would take to clear our $1240 mark."
   ]
  },
  {
   "cell_type": "code",
   "execution_count": 14,
   "id": "8a61e750",
   "metadata": {},
   "outputs": [
    {
     "data": {
      "text/plain": [
       "26.543655913978498"
      ]
     },
     "execution_count": 14,
     "metadata": {},
     "output_type": "execute_result"
    }
   ],
   "source": [
    "average_payment = np.mean(payment_history)\n",
    "average_payment"
   ]
  },
  {
   "cell_type": "code",
   "execution_count": 15,
   "id": "55b721e9",
   "metadata": {},
   "outputs": [
    {
     "data": {
      "text/plain": [
       "47.0"
      ]
     },
     "execution_count": 15,
     "metadata": {},
     "output_type": "execute_result"
    }
   ],
   "source": [
    "new_customers_nedeed = np.ceil(1240 / average_payment)\n",
    "new_customers_nedeed"
   ]
  },
  {
   "cell_type": "markdown",
   "id": "db6afd24",
   "metadata": {},
   "source": [
    "Now find the additional percent of weekly visitors who must make a purchase in order to make this change worthwhile."
   ]
  },
  {
   "cell_type": "code",
   "execution_count": 18,
   "id": "5b085268",
   "metadata": {},
   "outputs": [
    {
     "data": {
      "text/plain": [
       "9.4"
      ]
     },
     "execution_count": 18,
     "metadata": {},
     "output_type": "execute_result"
    }
   ],
   "source": [
    "percentage_point_increase = 100 * (new_customers_nedeed / all_visitors_count)\n",
    "percentage_point_increase"
   ]
  },
  {
   "cell_type": "code",
   "execution_count": 19,
   "id": "d9b751a4",
   "metadata": {},
   "outputs": [
    {
     "data": {
      "text/plain": [
       "50.53763440860215"
      ]
     },
     "execution_count": 19,
     "metadata": {},
     "output_type": "execute_result"
    }
   ],
   "source": [
    "lift = 100 * (percentage_point_increase / baseline_percent)\n",
    "lift"
   ]
  },
  {
   "cell_type": "markdown",
   "id": "f9d919cb",
   "metadata": {},
   "source": [
    "Nosh Mish Mosh: Tying It All Together"
   ]
  },
  {
   "cell_type": "markdown",
   "id": "212d0c88",
   "metadata": {},
   "source": [
    "The last thing we need to calculate the sample size for Nosh Mish Mosh’s artisanal rebranding is our statistical significance threshold. We’d like to be fairly certain, but this isn’t going to be a million dollar decision, so let’s go with 10%."
   ]
  },
  {
   "cell_type": "markdown",
   "id": "f32d0929",
   "metadata": {},
   "source": [
    "https://content.codecademy.com/courses/learn-hypothesis-testing/a_b_sample_size/index4.html"
   ]
  },
  {
   "cell_type": "markdown",
   "id": "07e5ec01",
   "metadata": {},
   "source": [
    "Now put it all together! Punch the baseline, the minimum desired lift, and the statistical significance threshold into the calculator and evaluate how many people need to be shown the new assets before we can check if the results are a significant improvement."
   ]
  },
  {
   "cell_type": "code",
   "execution_count": 20,
   "id": "518f06fd",
   "metadata": {},
   "outputs": [],
   "source": [
    "ab_sample_size = 494 #calculation result"
   ]
  },
  {
   "cell_type": "code",
   "execution_count": 28,
   "id": "4c6519cb",
   "metadata": {},
   "outputs": [
    {
     "name": "stdout",
     "output_type": "stream",
     "text": [
      "The new assets is need to be shown to 494 visitors.\n"
     ]
    }
   ],
   "source": [
    "print('The new assets is need to be shown to ' + str(ab_sample_size) + ' visitors.')"
   ]
  },
  {
   "cell_type": "code",
   "execution_count": null,
   "id": "4ab79db6",
   "metadata": {},
   "outputs": [],
   "source": []
  }
 ],
 "metadata": {
  "kernelspec": {
   "display_name": "Python 3",
   "language": "python",
   "name": "python3"
  },
  "language_info": {
   "codemirror_mode": {
    "name": "ipython",
    "version": 3
   },
   "file_extension": ".py",
   "mimetype": "text/x-python",
   "name": "python",
   "nbconvert_exporter": "python",
   "pygments_lexer": "ipython3",
   "version": "3.8.8"
  }
 },
 "nbformat": 4,
 "nbformat_minor": 5
}
