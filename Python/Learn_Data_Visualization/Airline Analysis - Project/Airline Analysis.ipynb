{
 "cells": [
  {
   "cell_type": "markdown",
   "id": "fdce488f",
   "metadata": {},
   "source": [
    "# Airline Analysis"
   ]
  },
  {
   "cell_type": "markdown",
   "id": "e7913e47",
   "metadata": {},
   "source": [
    "In this project, you’ll imagine that you work for a travel agency and need to know the ins and outs of airline prices for your clients. You want to make sure that you can find the best deal for your client and help them to understand how airline prices change based on different factors."
   ]
  },
  {
   "cell_type": "code",
   "execution_count": null,
   "id": "3d5c0ab7",
   "metadata": {},
   "outputs": [],
   "source": [
    "import pandas as pd\n",
    "import numpy as np\n",
    "import matplotlib.pyplot as plt\n",
    "import seaborn as sns\n",
    "import math\n",
    "import statsmodels"
   ]
  },
  {
   "cell_type": "code",
   "execution_count": null,
   "id": "639aba14",
   "metadata": {},
   "outputs": [],
   "source": [
    "flight = pd.read_csv('flights.csv')\n",
    "flight.head(2)"
   ]
  },
  {
   "cell_type": "markdown",
   "id": "5c3c66e7",
   "metadata": {},
   "source": [
    "- miles: miles traveled through the flight\n",
    "- passengers: number of passengers on the flight\n",
    "- delay: take-off delay in minutes\n",
    "- inflight_meal: is there a meal included in the flight?\n",
    "- inflight_entertainment: are there free entertainment systems for each seat?\n",
    "- inflight_wifi: is there complimentary wifi on the flight?\n",
    "- day_of_week: day of the week of the flight\n",
    "- weekend: did this flight take place on a weekend\n",
    "- coach_price: the average price paid for a coach ticket\n",
    "- firstclass_price: the average price paid for first-class seats\n",
    "- hours: how many hours the flight took\n",
    "- redeye: was this flight a redeye (overnight)?"
   ]
  },
  {
   "cell_type": "code",
   "execution_count": null,
   "id": "d30d7d02",
   "metadata": {},
   "outputs": [],
   "source": [
    "flight.describe(include='all')"
   ]
  },
  {
   "cell_type": "markdown",
   "id": "0308bdb2",
   "metadata": {},
   "source": [
    "## Univariate Analysis"
   ]
  },
  {
   "cell_type": "markdown",
   "id": "17209d7d",
   "metadata": {},
   "source": [
    "1. What do coach ticket prices look like? What are the high and low values? What would be considered average? Does $500 seem like a good price for a coach ticket?"
   ]
  },
  {
   "cell_type": "code",
   "execution_count": null,
   "id": "be77c7d7",
   "metadata": {},
   "outputs": [],
   "source": [
    "# One quantitative variable\n",
    "\n",
    "sns.color_palette('Pastel1')\n",
    "sns.set_style('whitegrid')\n",
    "sns.set_context('talk', font_scale=0.8)\n",
    "\n",
    "plt.figure(figsize=(10,5))\n",
    "sns.boxplot(data=flight, x='coach_price')\n",
    "plt.title('Coach Price')\n",
    "plt.savefig('coach_ticket-boxplot.png')"
   ]
  },
  {
   "cell_type": "code",
   "execution_count": null,
   "id": "286a1a54",
   "metadata": {},
   "outputs": [],
   "source": [
    "# the highest price for coach ticket approximetly $600 ($593) and the lowest price under $100 ($44).\n",
    "# For this class the avearge price is between $300 and $400 ($376).\n",
    "# The most coach ticket prices fall within $300 and $400, $500 is consider pricey for economy class (is it far away \n",
    "#   from median (in the tail of the histogram or box plot))."
   ]
  },
  {
   "cell_type": "markdown",
   "id": "2b57107b",
   "metadata": {},
   "source": [
    "2. Now visualize the coach ticket prices for flights that are 8 hours long. What are the high, low, and average prices for 8-hour-long flights? Does a $500 ticket seem more reasonable than before?"
   ]
  },
  {
   "cell_type": "code",
   "execution_count": null,
   "id": "76c043d9",
   "metadata": {},
   "outputs": [],
   "source": [
    "# two quantitative variable\n",
    "\n",
    "sns.color_palette('Pastel2')\n",
    "sns.set_style('darkgrid')\n",
    "sns.set_context('poster', font_scale=0.6)\n",
    "\n",
    "plt.figure(figsize=(10, 5))\n",
    "sns.histplot(flight.coach_price[flight['hours'] >= 8])\n",
    "plt.title('Price for 8 hours flight')\n",
    "plt.savefig('histplot_price_8hrs.png')"
   ]
  },
  {
   "cell_type": "code",
   "execution_count": null,
   "id": "14164f15",
   "metadata": {},
   "outputs": [],
   "source": [
    "print('The lowers price for 8 hours long flights $', (np.min(flight.coach_price[flight['hours'] >= 8])))"
   ]
  },
  {
   "cell_type": "code",
   "execution_count": null,
   "id": "42313468",
   "metadata": {},
   "outputs": [],
   "source": [
    "print('The highest price for 8 hours long flights $', (np.max(flight.coach_price[flight['hours'] >= 8])))"
   ]
  },
  {
   "cell_type": "code",
   "execution_count": null,
   "id": "464f4eba",
   "metadata": {},
   "outputs": [],
   "source": [
    "print('The average price for 8 hours long flights $', (np.mean(flight.coach_price[flight['hours'] >= 8])))"
   ]
  },
  {
   "cell_type": "code",
   "execution_count": null,
   "id": "e89ed7fe",
   "metadata": {},
   "outputs": [],
   "source": [
    "# $500 price is in the middle of summary statistic, it is reasonable price for 8 hour long flights. "
   ]
  },
  {
   "cell_type": "markdown",
   "id": "cafd7a82",
   "metadata": {},
   "source": [
    "3. How are flight delay times distributed? Let’s say there is a short amount of time between two connecting flights, and a flight delay would put the client at risk of missing their connecting flight. You want to better understand how often there are large delays so you can correctly set up connecting flights. What kinds of delays are typical?"
   ]
  },
  {
   "cell_type": "code",
   "execution_count": null,
   "id": "4f2dd894",
   "metadata": {},
   "outputs": [],
   "source": [
    "sns.color_palette('Dark2')\n",
    "sns.set_style('white')\n",
    "sns.set_context('talk', font_scale=0.6)\n",
    "\n",
    "plt.figure(figsize=(10, 5))\n",
    "sns.histplot(flight.delay[flight.delay <= 600]) # 600 mins\n",
    "plt.title('Flight Delay')\n",
    "plt.savefig('delay.png')"
   ]
  },
  {
   "cell_type": "code",
   "execution_count": null,
   "id": "9351e435",
   "metadata": {},
   "outputs": [],
   "source": [
    "# 10 mins delay is commonly fair for this flight."
   ]
  },
  {
   "cell_type": "markdown",
   "id": "00962cd1",
   "metadata": {},
   "source": [
    "## Bivariate Analysis"
   ]
  },
  {
   "cell_type": "markdown",
   "id": "60e29f8f",
   "metadata": {},
   "source": [
    "4. Create a visualization that shows the relationship between coach and first-class prices. What is the relationship between these two prices? Do flights with higher coach prices always have higher first-class prices as well?"
   ]
  },
  {
   "cell_type": "code",
   "execution_count": null,
   "id": "a9831fbe",
   "metadata": {},
   "outputs": [],
   "source": [
    "perc = 0.1\n",
    "flight_sub = flight.sample(n = int(flight.shape[0]*perc))\n",
    "\n",
    "sns.color_palette('Set1')\n",
    "sns.set_style('dark')\n",
    "sns.set_context('poster', font_scale=0.6)\n",
    "\n",
    "plt.figure(figsize=(10, 5))\n",
    "sns.lmplot(data=flight_sub, x='coach_price', y='firstclass_price', line_kws={'color': 'black'},\n",
    "               lowess=True)\n",
    "plt.title('Relationship Between Coach Price and First Class Price')\n",
    "\n",
    "plt.savefig('coach_first_price.png')"
   ]
  },
  {
   "cell_type": "code",
   "execution_count": null,
   "id": "0f669b33",
   "metadata": {},
   "outputs": [],
   "source": [
    "# Higher coach price always have higher first-class price as well."
   ]
  },
  {
   "cell_type": "markdown",
   "id": "3a273e97",
   "metadata": {},
   "source": [
    "5. What is the relationship between coach prices and inflight features— inflight meal, inflight entertainment, and inflight WiFi? Which features are associated with the highest increase in price?"
   ]
  },
  {
   "cell_type": "code",
   "execution_count": null,
   "id": "91217f12",
   "metadata": {},
   "outputs": [],
   "source": [
    "# histogram\n",
    "\n",
    "plt.figure(figsize=(20,8))\n",
    "\n",
    "# inflight meal\n",
    "ax1 = plt.subplot(1,3,1) # 1 line, 3 rows, index nr 1 (first position in the subplot)\n",
    "ax1 = sns.histplot(data=flight, x='coach_price', hue='inflight_meal')\n",
    "ax1.set(title='Inflight Meal', xlabel='Coach Price', ylabel='Count')\n",
    "\n",
    "# inflight entertainment\n",
    "ax1 = plt.subplot(1,3,2) # 1 line, 3 rows, index nr 1 (first position in the subplot)\n",
    "ax1 = sns.histplot(data=flight, x='coach_price', hue='inflight_entertainment')\n",
    "ax1.set(title='Inflight Entertainment', xlabel='Coach Price', ylabel='Count')\n",
    "\n",
    "# inflight wifi\n",
    "ax1 = plt.subplot(1,3,3) # 1 line, 3 rows, index nr 1 (first position in the subplot)\n",
    "ax1 = sns.histplot(data=flight, x='coach_price', hue='inflight_wifi')\n",
    "ax1.set(title='Inflight Wifi', xlabel='Coach Price', ylabel='Count')\n",
    "\n",
    "plt.suptitle('Relation between Coach Price and Inflight Features')\n",
    "plt.subplots_adjust(wspace=0.8, bottom=0.2)\n",
    "plt.tight_layout()\n",
    "\n",
    "plt.savefig('inflight_feature.png')"
   ]
  },
  {
   "cell_type": "markdown",
   "id": "3cbdfb52",
   "metadata": {},
   "source": [
    "Inflight meal is associated with highest increase in price."
   ]
  },
  {
   "cell_type": "markdown",
   "id": "44b4e8b6",
   "metadata": {},
   "source": [
    "6. How does the number of passengers change in relation to the length of flights?"
   ]
  },
  {
   "cell_type": "code",
   "execution_count": null,
   "id": "f86838a6",
   "metadata": {},
   "outputs": [],
   "source": [
    "# scatter plot passangers and hours\n",
    "\n",
    "sns.lmplot(data=flight, y='passengers', x='hours', x_jitter=0.25, scatter_kws={'s':5, 'alpha':0.2}, fit_reg=False)\n",
    "plt.title('Relation between Passengers and The Length of Flights')\n",
    "\n",
    "plt.savefig('passenger_hours.png')"
   ]
  },
  {
   "cell_type": "markdown",
   "id": "893bb72b",
   "metadata": {},
   "source": [
    "## Multivariate Analysis"
   ]
  },
  {
   "cell_type": "markdown",
   "id": "5ebe180c",
   "metadata": {},
   "source": [
    "7. Visualize the relationship between coach and first-class prices on weekends compared to weekdays."
   ]
  },
  {
   "cell_type": "code",
   "execution_count": null,
   "id": "97d22159",
   "metadata": {},
   "outputs": [],
   "source": [
    "flight['day_of_week'].value_counts()"
   ]
  },
  {
   "cell_type": "code",
   "execution_count": null,
   "id": "52ff589d",
   "metadata": {},
   "outputs": [],
   "source": [
    "sns.lmplot(data=flight, x='coach_price', y='firstclass_price', hue='weekend', fit_reg=False)\n",
    "plt.title('Price coach and firstclas on weekends')"
   ]
  },
  {
   "cell_type": "markdown",
   "id": "ddc677a9",
   "metadata": {},
   "source": [
    "(We can see that on average, weekend tickets are more expensive than weekday tickets. However, based on this plot it seems like it’s easier to get a good deal on a first-class ticket on a weekday than on a weekend: the price difference between first-class and coach level tickets is larger on the weekend than on a weekday.)"
   ]
  },
  {
   "cell_type": "markdown",
   "id": "12f98b20",
   "metadata": {},
   "source": [
    "8. How do coach prices differ for redeyes and non-redeyes on each day of the week?"
   ]
  },
  {
   "cell_type": "code",
   "execution_count": 28,
   "id": "adc66577",
   "metadata": {},
   "outputs": [
    {
     "data": {
      "text/plain": [
       "Text(0.5, 1.0, 'Distribution Coach Price for week based flight on redeye (Overnight)')"
      ]
     },
     "execution_count": 28,
     "metadata": {},
     "output_type": "execute_result"
    },
    {
     "data": {
      "image/png": "[encoded data removed]",
      "text/plain": [
       "<Figure size 1080x360 with 1 Axes>"
      ]
     },
     "metadata": {},
     "output_type": "display_data"
    }
   ],
   "source": [
    "sns.set_context('talk', font_scale=0.8)\n",
    "plt.figure(figsize=(15,5))\n",
    "sns.boxplot(data=flight, x='day_of_week', y='coach_price', hue='redeye')\n",
    "plt.title('Distribution Coach Price for week based flight on redeye (Overnight)', fontsize=15)"
   ]
  },
  {
   "cell_type": "markdown",
   "id": "e43ce003",
   "metadata": {},
   "source": [
    "(We can see more clearly that the difference between redeyes and non-redeyes is pretty much the same on any day of the week, though on average weekend flights cost more than weekday flights.)"
   ]
  }
 ],
 "metadata": {
  "kernelspec": {
   "display_name": "Python 3",
   "language": "python",
   "name": "python3"
  },
  "language_info": {
   "codemirror_mode": {
    "name": "ipython",
    "version": 3
   },
   "file_extension": ".py",
   "mimetype": "text/x-python",
   "name": "python",
   "nbconvert_exporter": "python",
   "pygments_lexer": "ipython3",
   "version": "3.8.8"
  }
 },
 "nbformat": 4,
 "nbformat_minor": 5
}
