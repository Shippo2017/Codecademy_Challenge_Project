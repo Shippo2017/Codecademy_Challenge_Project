{
 "cells": [
  {
   "cell_type": "markdown",
   "id": "11dbcc5e",
   "metadata": {},
   "source": [
    "# FetchMaker"
   ]
  },
  {
   "cell_type": "markdown",
   "id": "c9cfdcf4",
   "metadata": {},
   "source": [
    "Congratulations! You’ve just started working at the hottest new tech startup, FetchMaker. FetchMaker’s mission is to match up prospective dog owners with their perfect pet. FetchMaker has been collecting data on their adoptable dogs, and it’s your job to analyze some of that data."
   ]
  },
  {
   "cell_type": "code",
   "execution_count": 51,
   "id": "c2f8db12",
   "metadata": {},
   "outputs": [],
   "source": [
    "import pandas as pd\n",
    "import numpy as np\n",
    "import seaborn as sns\n",
    "import matplotlib.pyplot as plt"
   ]
  },
  {
   "cell_type": "markdown",
   "id": "34411d4f",
   "metadata": {},
   "source": [
    "### Data to the Rescue "
   ]
  },
  {
   "cell_type": "code",
   "execution_count": 52,
   "id": "fcee310e",
   "metadata": {},
   "outputs": [
    {
     "data": {
      "text/html": [
       "<div>\n",
       "<style scoped>\n",
       "    .dataframe tbody tr th:only-of-type {\n",
       "        vertical-align: middle;\n",
       "    }\n",
       "\n",
       "    .dataframe tbody tr th {\n",
       "        vertical-align: top;\n",
       "    }\n",
       "\n",
       "    .dataframe thead th {\n",
       "        text-align: right;\n",
       "    }\n",
       "</style>\n",
       "<table border=\"1\" class=\"dataframe\">\n",
       "  <thead>\n",
       "    <tr style=\"text-align: right;\">\n",
       "      <th></th>\n",
       "      <th>is_rescue</th>\n",
       "      <th>weight</th>\n",
       "      <th>tail_length</th>\n",
       "      <th>age</th>\n",
       "      <th>color</th>\n",
       "      <th>likes_children</th>\n",
       "      <th>is_hypoallergenic</th>\n",
       "      <th>name</th>\n",
       "      <th>breed</th>\n",
       "    </tr>\n",
       "  </thead>\n",
       "  <tbody>\n",
       "    <tr>\n",
       "      <th>0</th>\n",
       "      <td>0</td>\n",
       "      <td>6</td>\n",
       "      <td>2.25</td>\n",
       "      <td>2</td>\n",
       "      <td>black</td>\n",
       "      <td>1</td>\n",
       "      <td>0</td>\n",
       "      <td>Huey</td>\n",
       "      <td>chihuahua</td>\n",
       "    </tr>\n",
       "    <tr>\n",
       "      <th>1</th>\n",
       "      <td>0</td>\n",
       "      <td>4</td>\n",
       "      <td>5.36</td>\n",
       "      <td>4</td>\n",
       "      <td>black</td>\n",
       "      <td>0</td>\n",
       "      <td>0</td>\n",
       "      <td>Cherish</td>\n",
       "      <td>chihuahua</td>\n",
       "    </tr>\n",
       "    <tr>\n",
       "      <th>2</th>\n",
       "      <td>0</td>\n",
       "      <td>7</td>\n",
       "      <td>3.63</td>\n",
       "      <td>3</td>\n",
       "      <td>black</td>\n",
       "      <td>0</td>\n",
       "      <td>1</td>\n",
       "      <td>Becka</td>\n",
       "      <td>chihuahua</td>\n",
       "    </tr>\n",
       "    <tr>\n",
       "      <th>3</th>\n",
       "      <td>0</td>\n",
       "      <td>5</td>\n",
       "      <td>0.19</td>\n",
       "      <td>2</td>\n",
       "      <td>black</td>\n",
       "      <td>0</td>\n",
       "      <td>0</td>\n",
       "      <td>Addie</td>\n",
       "      <td>chihuahua</td>\n",
       "    </tr>\n",
       "    <tr>\n",
       "      <th>4</th>\n",
       "      <td>0</td>\n",
       "      <td>5</td>\n",
       "      <td>0.37</td>\n",
       "      <td>1</td>\n",
       "      <td>black</td>\n",
       "      <td>1</td>\n",
       "      <td>1</td>\n",
       "      <td>Beverlee</td>\n",
       "      <td>chihuahua</td>\n",
       "    </tr>\n",
       "  </tbody>\n",
       "</table>\n",
       "</div>"
      ],
      "text/plain": [
       "   is_rescue  weight  tail_length  age  color  likes_children  \\\n",
       "0          0       6         2.25    2  black               1   \n",
       "1          0       4         5.36    4  black               0   \n",
       "2          0       7         3.63    3  black               0   \n",
       "3          0       5         0.19    2  black               0   \n",
       "4          0       5         0.37    1  black               1   \n",
       "\n",
       "   is_hypoallergenic      name      breed  \n",
       "0                  0      Huey  chihuahua  \n",
       "1                  0   Cherish  chihuahua  \n",
       "2                  1     Becka  chihuahua  \n",
       "3                  0     Addie  chihuahua  \n",
       "4                  1  Beverlee  chihuahua  "
      ]
     },
     "execution_count": 52,
     "metadata": {},
     "output_type": "execute_result"
    }
   ],
   "source": [
    "dogs = pd.read_csv('dog_data.csv')\n",
    "dogs.head()"
   ]
  },
  {
   "cell_type": "markdown",
   "id": "59ecde47",
   "metadata": {},
   "source": [
    "- weight, an integer representing how heavy a dog is in pounds\n",
    "- tail_length, a float representing tail length in inches\n",
    "- age, in years\n",
    "- color, a String such as \"brown\" or \"grey\"\n",
    "- is_rescue, a boolean 0 or 1"
   ]
  },
  {
   "cell_type": "code",
   "execution_count": 53,
   "id": "0a1c1299",
   "metadata": {},
   "outputs": [
    {
     "data": {
      "text/plain": [
       "is_rescue              int64\n",
       "weight                 int64\n",
       "tail_length          float64\n",
       "age                    int64\n",
       "color                 object\n",
       "likes_children         int64\n",
       "is_hypoallergenic      int64\n",
       "name                  object\n",
       "breed                 object\n",
       "dtype: object"
      ]
     },
     "execution_count": 53,
     "metadata": {},
     "output_type": "execute_result"
    }
   ],
   "source": [
    "dogs.dtypes"
   ]
  },
  {
   "cell_type": "code",
   "execution_count": 54,
   "id": "6e9c27f9",
   "metadata": {},
   "outputs": [
    {
     "data": {
      "text/plain": [
       "800"
      ]
     },
     "execution_count": 54,
     "metadata": {},
     "output_type": "execute_result"
    }
   ],
   "source": [
    "len(dogs)"
   ]
  },
  {
   "cell_type": "code",
   "execution_count": 55,
   "id": "7034434d",
   "metadata": {},
   "outputs": [
    {
     "data": {
      "text/plain": [
       "shihtzu       100\n",
       "pitbull       100\n",
       "terrier       100\n",
       "chihuahua     100\n",
       "poodle        100\n",
       "whippet       100\n",
       "rottweiler    100\n",
       "greyhound     100\n",
       "Name: breed, dtype: int64"
      ]
     },
     "execution_count": 55,
     "metadata": {},
     "output_type": "execute_result"
    }
   ],
   "source": [
    "dogs['breed'].value_counts()"
   ]
  },
  {
   "cell_type": "markdown",
   "id": "98fa0794",
   "metadata": {},
   "source": [
    "FetchMaker estimates (based on historical data for all dogs) that 8% of dogs in their system are rescues.\n",
    "\n",
    "They would like to know if whippets are significantly more or less likely than other dogs to be a rescue."
   ]
  },
  {
   "cell_type": "code",
   "execution_count": 56,
   "id": "8092e11e",
   "metadata": {},
   "outputs": [],
   "source": [
    "whippet_rescue = dogs.is_rescue[dogs['breed'] == 'whippet']"
   ]
  },
  {
   "cell_type": "markdown",
   "id": "9e84eb91",
   "metadata": {},
   "source": [
    "How many whippets are rescues?"
   ]
  },
  {
   "cell_type": "code",
   "execution_count": 57,
   "id": "0ac414d2",
   "metadata": {},
   "outputs": [
    {
     "data": {
      "text/plain": [
       "6"
      ]
     },
     "execution_count": 57,
     "metadata": {},
     "output_type": "execute_result"
    }
   ],
   "source": [
    "num_whippet_rescues = np.sum(whippet_rescue == 1)\n",
    "num_whippet_rescues"
   ]
  },
  {
   "cell_type": "code",
   "execution_count": 58,
   "id": "a759948a",
   "metadata": {},
   "outputs": [
    {
     "data": {
      "text/plain": [
       "100"
      ]
     },
     "execution_count": 58,
     "metadata": {},
     "output_type": "execute_result"
    }
   ],
   "source": [
    "num_whippet = len(whippet_rescue)\n",
    "num_whippet"
   ]
  },
  {
   "cell_type": "code",
   "execution_count": 59,
   "id": "e37d3bd9",
   "metadata": {},
   "outputs": [
    {
     "data": {
      "text/plain": [
       "0.06"
      ]
     },
     "execution_count": 59,
     "metadata": {},
     "output_type": "execute_result"
    }
   ],
   "source": [
    "np.mean(whippet_rescue)"
   ]
  },
  {
   "cell_type": "markdown",
   "id": "d7965e61",
   "metadata": {},
   "source": [
    "Use a hypothesis test to test the following null and alternative hypotheses:\n",
    "- Null: 8% of whippets are rescues\n",
    "- Alternative: more or less than 8% of whippets are rescues\n",
    "\n",
    "Save the p-value from this test as pval and print it out. Using a significance threshold of 0.05, Is the proportion of whippets who are rescues significantly different from 8%?"
   ]
  },
  {
   "cell_type": "code",
   "execution_count": 60,
   "id": "cc15d194",
   "metadata": {},
   "outputs": [
    {
     "data": {
      "text/plain": [
       "0.5811780106238098"
      ]
     },
     "execution_count": 60,
     "metadata": {},
     "output_type": "execute_result"
    }
   ],
   "source": [
    "# binom (binary categorical variable, between rescue or not rescue)\n",
    "from scipy.stats import binom_test\n",
    "\n",
    "pval = binom_test(num_whippet_rescues, num_whippet, .08)\n",
    "pval"
   ]
  },
  {
   "cell_type": "markdown",
   "id": "b92a0360",
   "metadata": {},
   "source": [
    "### Mid-Sized Dog Weights "
   ]
  },
  {
   "cell_type": "markdown",
   "id": "c248a323",
   "metadata": {},
   "source": [
    "Three of FetchMaker’s most popular mid-sized dog breeds are 'whippet's, 'terrier's, and 'pitbull's. Is there a significant difference in the average weights of these three dog breeds?"
   ]
  },
  {
   "cell_type": "code",
   "execution_count": 61,
   "id": "6e991189",
   "metadata": {},
   "outputs": [],
   "source": [
    "wt_whippets = dogs.weight[dogs['breed'] == 'whippet']\n",
    "wt_terriers = dogs.weight[dogs['breed'] == 'terrier']\n",
    "wt_pitbulls = dogs.weight[dogs['breed'] == 'pitbull']"
   ]
  },
  {
   "cell_type": "markdown",
   "id": "7851977e",
   "metadata": {},
   "source": [
    "Run a single hypothesis test to address the following null and alternative hypotheses:\n",
    "- Null: whippets, terriers, and pitbulls all weigh the same amount on average\n",
    "- Alternative: whippets, terriers, and pitbulls do not all weigh the same amount on average (at least one pair of breeds has differing average weights)\n",
    "\n",
    "Save the resulting p-value as pval and print it out. Using a significance threshold of 0.05, is there at least one pair of dog breeds that have significantly different average weights?"
   ]
  },
  {
   "cell_type": "code",
   "execution_count": 62,
   "id": "28f1417f",
   "metadata": {},
   "outputs": [
    {
     "data": {
      "text/plain": [
       "3.276415588274815e-17"
      ]
     },
     "execution_count": 62,
     "metadata": {},
     "output_type": "execute_result"
    }
   ],
   "source": [
    "# Anova test \n",
    "#(association between 2 variables, a non binary categorical (breed with 3 possible options), a quantitative var (weight))\n",
    "\n",
    "from scipy.stats import f_oneway\n",
    "\n",
    "stat, pval = f_oneway(wt_whippets, wt_terriers, wt_pitbulls)\n",
    "pval"
   ]
  },
  {
   "cell_type": "markdown",
   "id": "9418d8ee",
   "metadata": {},
   "source": [
    "(p-value (0.0000000000000000327) is much smaller than 0.05, we 'reject the null' conclude there is significant different weight between whippets, terriers and pitbulls.)"
   ]
  },
  {
   "cell_type": "markdown",
   "id": "3b38c6f9",
   "metadata": {},
   "source": [
    "Run another hypothesis test to determine which of those breeds (whippets, terriers, and pitbulls) weigh different amounts on average. Use an overall type I error rate of 0.05 for all three comparisons."
   ]
  },
  {
   "cell_type": "code",
   "execution_count": 63,
   "id": "04284672",
   "metadata": {},
   "outputs": [
    {
     "data": {
      "text/html": [
       "<div>\n",
       "<style scoped>\n",
       "    .dataframe tbody tr th:only-of-type {\n",
       "        vertical-align: middle;\n",
       "    }\n",
       "\n",
       "    .dataframe tbody tr th {\n",
       "        vertical-align: top;\n",
       "    }\n",
       "\n",
       "    .dataframe thead th {\n",
       "        text-align: right;\n",
       "    }\n",
       "</style>\n",
       "<table border=\"1\" class=\"dataframe\">\n",
       "  <thead>\n",
       "    <tr style=\"text-align: right;\">\n",
       "      <th></th>\n",
       "      <th>is_rescue</th>\n",
       "      <th>weight</th>\n",
       "      <th>tail_length</th>\n",
       "      <th>age</th>\n",
       "      <th>color</th>\n",
       "      <th>likes_children</th>\n",
       "      <th>is_hypoallergenic</th>\n",
       "      <th>name</th>\n",
       "      <th>breed</th>\n",
       "    </tr>\n",
       "  </thead>\n",
       "  <tbody>\n",
       "    <tr>\n",
       "      <th>200</th>\n",
       "      <td>0</td>\n",
       "      <td>71</td>\n",
       "      <td>5.74</td>\n",
       "      <td>4</td>\n",
       "      <td>black</td>\n",
       "      <td>0</td>\n",
       "      <td>0</td>\n",
       "      <td>Charlot</td>\n",
       "      <td>pitbull</td>\n",
       "    </tr>\n",
       "    <tr>\n",
       "      <th>201</th>\n",
       "      <td>0</td>\n",
       "      <td>26</td>\n",
       "      <td>11.56</td>\n",
       "      <td>3</td>\n",
       "      <td>black</td>\n",
       "      <td>0</td>\n",
       "      <td>0</td>\n",
       "      <td>Jud</td>\n",
       "      <td>pitbull</td>\n",
       "    </tr>\n",
       "  </tbody>\n",
       "</table>\n",
       "</div>"
      ],
      "text/plain": [
       "     is_rescue  weight  tail_length  age  color  likes_children  \\\n",
       "200          0      71         5.74    4  black               0   \n",
       "201          0      26        11.56    3  black               0   \n",
       "\n",
       "     is_hypoallergenic     name    breed  \n",
       "200                  0  Charlot  pitbull  \n",
       "201                  0      Jud  pitbull  "
      ]
     },
     "execution_count": 63,
     "metadata": {},
     "output_type": "execute_result"
    }
   ],
   "source": [
    "# subsets to just whippet, terrier and pitbulls\n",
    "\n",
    "dogs_wtp = dogs[dogs['breed'].isin(['whippet', 'terrier', 'pitbull'])]\n",
    "dogs_wtp.head(2)"
   ]
  },
  {
   "cell_type": "code",
   "execution_count": 64,
   "id": "4b8534aa",
   "metadata": {},
   "outputs": [
    {
     "data": {
      "text/html": [
       "<table class=\"simpletable\">\n",
       "<caption>Multiple Comparison of Means - Tukey HSD, FWER=0.05</caption>\n",
       "<tr>\n",
       "  <th>group1</th>  <th>group2</th>  <th>meandiff</th>  <th>p-adj</th>  <th>lower</th>   <th>upper</th> <th>reject</th>\n",
       "</tr>\n",
       "<tr>\n",
       "  <td>pitbull</td> <td>terrier</td>  <td>-13.24</td>   <td>0.001</td> <td>-16.728</td> <td>-9.752</td>  <td>True</td> \n",
       "</tr>\n",
       "<tr>\n",
       "  <td>pitbull</td> <td>whippet</td>   <td>-3.34</td>  <td>0.0639</td> <td>-6.828</td>   <td>0.148</td>  <td>False</td>\n",
       "</tr>\n",
       "<tr>\n",
       "  <td>terrier</td> <td>whippet</td>    <td>9.9</td>    <td>0.001</td>  <td>6.412</td>  <td>13.388</td>  <td>True</td> \n",
       "</tr>\n",
       "</table>"
      ],
      "text/plain": [
       "<class 'statsmodels.iolib.table.SimpleTable'>"
      ]
     },
     "execution_count": 64,
     "metadata": {},
     "output_type": "execute_result"
    }
   ],
   "source": [
    "# tukey test\n",
    "\n",
    "from statsmodels.stats.multicomp import pairwise_tukeyhsd\n",
    "\n",
    "tukey = pairwise_tukeyhsd(dogs_wtp['weight'], dogs_wtp['breed'], .05)\n",
    "tukey.summary()"
   ]
  },
  {
   "cell_type": "markdown",
   "id": "b9a42d46",
   "metadata": {},
   "source": [
    "### Poodle and Shihtzu Colors "
   ]
  },
  {
   "cell_type": "markdown",
   "id": "f89b2d43",
   "metadata": {},
   "source": [
    "FetchMaker wants to know if 'poodle's and 'shihtzu's come in different colors."
   ]
  },
  {
   "cell_type": "code",
   "execution_count": 65,
   "id": "c08dc8f4",
   "metadata": {},
   "outputs": [
    {
     "data": {
      "text/html": [
       "<div>\n",
       "<style scoped>\n",
       "    .dataframe tbody tr th:only-of-type {\n",
       "        vertical-align: middle;\n",
       "    }\n",
       "\n",
       "    .dataframe tbody tr th {\n",
       "        vertical-align: top;\n",
       "    }\n",
       "\n",
       "    .dataframe thead th {\n",
       "        text-align: right;\n",
       "    }\n",
       "</style>\n",
       "<table border=\"1\" class=\"dataframe\">\n",
       "  <thead>\n",
       "    <tr style=\"text-align: right;\">\n",
       "      <th></th>\n",
       "      <th>is_rescue</th>\n",
       "      <th>weight</th>\n",
       "      <th>tail_length</th>\n",
       "      <th>age</th>\n",
       "      <th>color</th>\n",
       "      <th>likes_children</th>\n",
       "      <th>is_hypoallergenic</th>\n",
       "      <th>name</th>\n",
       "      <th>breed</th>\n",
       "    </tr>\n",
       "  </thead>\n",
       "  <tbody>\n",
       "    <tr>\n",
       "      <th>300</th>\n",
       "      <td>0</td>\n",
       "      <td>58</td>\n",
       "      <td>8.05</td>\n",
       "      <td>1</td>\n",
       "      <td>black</td>\n",
       "      <td>1</td>\n",
       "      <td>0</td>\n",
       "      <td>Moise</td>\n",
       "      <td>poodle</td>\n",
       "    </tr>\n",
       "    <tr>\n",
       "      <th>301</th>\n",
       "      <td>0</td>\n",
       "      <td>56</td>\n",
       "      <td>9.44</td>\n",
       "      <td>4</td>\n",
       "      <td>black</td>\n",
       "      <td>1</td>\n",
       "      <td>0</td>\n",
       "      <td>Boote</td>\n",
       "      <td>poodle</td>\n",
       "    </tr>\n",
       "  </tbody>\n",
       "</table>\n",
       "</div>"
      ],
      "text/plain": [
       "     is_rescue  weight  tail_length  age  color  likes_children  \\\n",
       "300          0      58         8.05    1  black               1   \n",
       "301          0      56         9.44    4  black               1   \n",
       "\n",
       "     is_hypoallergenic   name   breed  \n",
       "300                  0  Moise  poodle  \n",
       "301                  0  Boote  poodle  "
      ]
     },
     "execution_count": 65,
     "metadata": {},
     "output_type": "execute_result"
    }
   ],
   "source": [
    "dogs_ps = dogs[dogs['breed'].isin(['poodle', 'shihtzu'])]\n",
    "dogs_ps.head(2)"
   ]
  },
  {
   "cell_type": "code",
   "execution_count": 66,
   "id": "da070c79",
   "metadata": {},
   "outputs": [
    {
     "data": {
      "text/html": [
       "<div>\n",
       "<style scoped>\n",
       "    .dataframe tbody tr th:only-of-type {\n",
       "        vertical-align: middle;\n",
       "    }\n",
       "\n",
       "    .dataframe tbody tr th {\n",
       "        vertical-align: top;\n",
       "    }\n",
       "\n",
       "    .dataframe thead th {\n",
       "        text-align: right;\n",
       "    }\n",
       "</style>\n",
       "<table border=\"1\" class=\"dataframe\">\n",
       "  <thead>\n",
       "    <tr style=\"text-align: right;\">\n",
       "      <th>color</th>\n",
       "      <th>black</th>\n",
       "      <th>brown</th>\n",
       "      <th>gold</th>\n",
       "      <th>grey</th>\n",
       "      <th>white</th>\n",
       "    </tr>\n",
       "    <tr>\n",
       "      <th>breed</th>\n",
       "      <th></th>\n",
       "      <th></th>\n",
       "      <th></th>\n",
       "      <th></th>\n",
       "      <th></th>\n",
       "    </tr>\n",
       "  </thead>\n",
       "  <tbody>\n",
       "    <tr>\n",
       "      <th>poodle</th>\n",
       "      <td>17</td>\n",
       "      <td>13</td>\n",
       "      <td>8</td>\n",
       "      <td>52</td>\n",
       "      <td>10</td>\n",
       "    </tr>\n",
       "    <tr>\n",
       "      <th>shihtzu</th>\n",
       "      <td>10</td>\n",
       "      <td>36</td>\n",
       "      <td>6</td>\n",
       "      <td>41</td>\n",
       "      <td>7</td>\n",
       "    </tr>\n",
       "  </tbody>\n",
       "</table>\n",
       "</div>"
      ],
      "text/plain": [
       "color    black  brown  gold  grey  white\n",
       "breed                                   \n",
       "poodle      17     13     8    52     10\n",
       "shihtzu     10     36     6    41      7"
      ]
     },
     "execution_count": 66,
     "metadata": {},
     "output_type": "execute_result"
    }
   ],
   "source": [
    "xtab = pd.crosstab(dogs_ps['breed'], dogs_ps['color'])\n",
    "xtab"
   ]
  },
  {
   "cell_type": "markdown",
   "id": "832b5bbc",
   "metadata": {},
   "source": [
    "Run a hypothesis test for the following null and alternative hypotheses:\n",
    "- Null: There is an association between breed (poodle vs. shihtzu) and color.\n",
    "- Alternative: There is not an association between breed (poodle vs. shihtzu) and color\n",
    "\n",
    "Save the p-value as pval and print it out. Do poodles and shihtzus come in significantly different color combinations? Use a significance threshold of 0.05."
   ]
  },
  {
   "cell_type": "code",
   "execution_count": 67,
   "id": "ed15355d",
   "metadata": {},
   "outputs": [
    {
     "data": {
      "text/plain": [
       "0.005302408293244597"
      ]
     },
     "execution_count": 67,
     "metadata": {},
     "output_type": "execute_result"
    }
   ],
   "source": [
    "# chi square test\n",
    "\n",
    "from scipy.stats import chi2_contingency\n",
    "\n",
    "chi2, pval, dof, expected = chi2_contingency(xtab)\n",
    "pval"
   ]
  },
  {
   "cell_type": "markdown",
   "id": "933f139d",
   "metadata": {},
   "source": [
    "(p-value (0.005) is less than 0.05. we 'reject the null' conclude there is significant association different between breed (poodle vs shitzu) and color.)"
   ]
  },
  {
   "cell_type": "markdown",
   "id": "931652a7",
   "metadata": {},
   "source": [
    "### Good learner! Have a treat! "
   ]
  },
  {
   "cell_type": "code",
   "execution_count": 69,
   "id": "02fa92f7",
   "metadata": {},
   "outputs": [
    {
     "data": {
      "image/png": "[encoded data removed]",
      "text/plain": [
       "<Figure size 720x360 with 1 Axes>"
      ]
     },
     "metadata": {
      "needs_background": "light"
     },
     "output_type": "display_data"
    },
    {
     "data": {
      "text/plain": [
       "<Figure size 432x288 with 0 Axes>"
      ]
     },
     "metadata": {},
     "output_type": "display_data"
    }
   ],
   "source": [
    "plt.figure(figsize=(10,5))\n",
    "\n",
    "sns.boxplot(x=dogs['breed'], y=dogs['weight'])\n",
    "plt.xlabel('Dogs breed')\n",
    "plt.ylabel('weight (pounds)')\n",
    "plt.title('Dogs breed vs weight', fontsize=15)\n",
    "plt.show()\n",
    "plt.clf()"
   ]
  },
  {
   "cell_type": "code",
   "execution_count": 71,
   "id": "8fcd50d1",
   "metadata": {},
   "outputs": [
    {
     "data": {
      "image/png": "[encoded data removed]",
      "text/plain": [
       "<Figure size 720x360 with 1 Axes>"
      ]
     },
     "metadata": {
      "needs_background": "light"
     },
     "output_type": "display_data"
    },
    {
     "data": {
      "text/plain": [
       "<Figure size 432x288 with 0 Axes>"
      ]
     },
     "metadata": {},
     "output_type": "display_data"
    }
   ],
   "source": [
    "plt.figure(figsize=(10,5))\n",
    "\n",
    "sns.boxplot(x=dogs['breed'], y=dogs['age'])\n",
    "plt.xlabel('Dogs breed')\n",
    "plt.ylabel('Age (years)')\n",
    "plt.title('Dogs breed age', fontsize=15)\n",
    "plt.show()\n",
    "plt.clf()"
   ]
  }
 ],
 "metadata": {
  "kernelspec": {
   "display_name": "Python 3",
   "language": "python",
   "name": "python3"
  },
  "language_info": {
   "codemirror_mode": {
    "name": "ipython",
    "version": 3
   },
   "file_extension": ".py",
   "mimetype": "text/x-python",
   "name": "python",
   "nbconvert_exporter": "python",
   "pygments_lexer": "ipython3",
   "version": "3.8.8"
  }
 },
 "nbformat": 4,
 "nbformat_minor": 5
}
