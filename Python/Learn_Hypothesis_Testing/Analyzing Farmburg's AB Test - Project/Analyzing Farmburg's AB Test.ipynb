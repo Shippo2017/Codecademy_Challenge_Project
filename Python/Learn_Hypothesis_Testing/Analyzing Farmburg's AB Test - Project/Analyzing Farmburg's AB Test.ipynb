{
 "cells": [
  {
   "cell_type": "markdown",
   "id": "30da19bc",
   "metadata": {},
   "source": [
    "# Analyzing Farmburg's A/B Test"
   ]
  },
  {
   "cell_type": "markdown",
   "id": "7066fe75",
   "metadata": {},
   "source": [
    "Brian is a Product Manager at FarmBurg, a company that makes a farming simulation social network game. In the FarmBurg game, you can plow, plant, and harvest different crops. ​Brian has been conducting an A/B Test with three different variants, and he wants you to help him analyze the results. Using the Python modules pandas and SciPy, you will help him make some important business decisions!"
   ]
  },
  {
   "cell_type": "code",
   "execution_count": 1,
   "id": "034b0275",
   "metadata": {},
   "outputs": [],
   "source": [
    "import pandas as pd\n",
    "import numpy as np"
   ]
  },
  {
   "cell_type": "markdown",
   "id": "a2ebb237",
   "metadata": {},
   "source": [
    "### Project Requirements "
   ]
  },
  {
   "cell_type": "code",
   "execution_count": 2,
   "id": "77632194",
   "metadata": {},
   "outputs": [
    {
     "data": {
      "text/html": [
       "<div>\n",
       "<style scoped>\n",
       "    .dataframe tbody tr th:only-of-type {\n",
       "        vertical-align: middle;\n",
       "    }\n",
       "\n",
       "    .dataframe tbody tr th {\n",
       "        vertical-align: top;\n",
       "    }\n",
       "\n",
       "    .dataframe thead th {\n",
       "        text-align: right;\n",
       "    }\n",
       "</style>\n",
       "<table border=\"1\" class=\"dataframe\">\n",
       "  <thead>\n",
       "    <tr style=\"text-align: right;\">\n",
       "      <th></th>\n",
       "      <th>user_id</th>\n",
       "      <th>group</th>\n",
       "      <th>is_purchase</th>\n",
       "    </tr>\n",
       "  </thead>\n",
       "  <tbody>\n",
       "    <tr>\n",
       "      <th>0</th>\n",
       "      <td>8e27bf9a</td>\n",
       "      <td>A</td>\n",
       "      <td>No</td>\n",
       "    </tr>\n",
       "    <tr>\n",
       "      <th>1</th>\n",
       "      <td>eb89e6f0</td>\n",
       "      <td>A</td>\n",
       "      <td>No</td>\n",
       "    </tr>\n",
       "    <tr>\n",
       "      <th>2</th>\n",
       "      <td>7119106a</td>\n",
       "      <td>A</td>\n",
       "      <td>No</td>\n",
       "    </tr>\n",
       "    <tr>\n",
       "      <th>3</th>\n",
       "      <td>e53781ff</td>\n",
       "      <td>A</td>\n",
       "      <td>No</td>\n",
       "    </tr>\n",
       "    <tr>\n",
       "      <th>4</th>\n",
       "      <td>02d48cf1</td>\n",
       "      <td>A</td>\n",
       "      <td>Yes</td>\n",
       "    </tr>\n",
       "  </tbody>\n",
       "</table>\n",
       "</div>"
      ],
      "text/plain": [
       "    user_id group is_purchase\n",
       "0  8e27bf9a     A          No\n",
       "1  eb89e6f0     A          No\n",
       "2  7119106a     A          No\n",
       "3  e53781ff     A          No\n",
       "4  02d48cf1     A         Yes"
      ]
     },
     "execution_count": 2,
     "metadata": {},
     "output_type": "execute_result"
    }
   ],
   "source": [
    "df = pd.read_csv('clicks.csv')\n",
    "df.head()"
   ]
  },
  {
   "cell_type": "code",
   "execution_count": 4,
   "id": "8f92fb96",
   "metadata": {},
   "outputs": [
    {
     "data": {
      "text/plain": [
       "user_id        object\n",
       "group          object\n",
       "is_purchase    object\n",
       "dtype: object"
      ]
     },
     "execution_count": 4,
     "metadata": {},
     "output_type": "execute_result"
    }
   ],
   "source": [
    "df.dtypes"
   ]
  },
  {
   "cell_type": "markdown",
   "id": "c66f59c8",
   "metadata": {},
   "source": [
    "We are interested in whether visitors are more likely to make a purchase if they are in any one group compared to the others. Because we want to know if there is an association between two categorical variables."
   ]
  },
  {
   "cell_type": "code",
   "execution_count": 5,
   "id": "b350683d",
   "metadata": {},
   "outputs": [
    {
     "data": {
      "text/html": [
       "<div>\n",
       "<style scoped>\n",
       "    .dataframe tbody tr th:only-of-type {\n",
       "        vertical-align: middle;\n",
       "    }\n",
       "\n",
       "    .dataframe tbody tr th {\n",
       "        vertical-align: top;\n",
       "    }\n",
       "\n",
       "    .dataframe thead th {\n",
       "        text-align: right;\n",
       "    }\n",
       "</style>\n",
       "<table border=\"1\" class=\"dataframe\">\n",
       "  <thead>\n",
       "    <tr style=\"text-align: right;\">\n",
       "      <th>is_purchase</th>\n",
       "      <th>No</th>\n",
       "      <th>Yes</th>\n",
       "    </tr>\n",
       "    <tr>\n",
       "      <th>group</th>\n",
       "      <th></th>\n",
       "      <th></th>\n",
       "    </tr>\n",
       "  </thead>\n",
       "  <tbody>\n",
       "    <tr>\n",
       "      <th>A</th>\n",
       "      <td>1350</td>\n",
       "      <td>316</td>\n",
       "    </tr>\n",
       "    <tr>\n",
       "      <th>B</th>\n",
       "      <td>1483</td>\n",
       "      <td>183</td>\n",
       "    </tr>\n",
       "    <tr>\n",
       "      <th>C</th>\n",
       "      <td>1583</td>\n",
       "      <td>83</td>\n",
       "    </tr>\n",
       "  </tbody>\n",
       "</table>\n",
       "</div>"
      ],
      "text/plain": [
       "is_purchase    No  Yes\n",
       "group                 \n",
       "A            1350  316\n",
       "B            1483  183\n",
       "C            1583   83"
      ]
     },
     "execution_count": 5,
     "metadata": {},
     "output_type": "execute_result"
    }
   ],
   "source": [
    "xtab = pd.crosstab(df['group'], df['is_purchase'])\n",
    "xtab"
   ]
  },
  {
   "cell_type": "code",
   "execution_count": 6,
   "id": "8181bbea",
   "metadata": {},
   "outputs": [
    {
     "data": {
      "text/plain": [
       "2.4126213546684264e-35"
      ]
     },
     "execution_count": 6,
     "metadata": {},
     "output_type": "execute_result"
    }
   ],
   "source": [
    "# Chi square test (2 categorical vars)\n",
    "\n",
    "from scipy.stats import chi2_contingency\n",
    "chi2, pval, dof, expected = chi2_contingency(xtab)\n",
    "pval"
   ]
  },
  {
   "cell_type": "markdown",
   "id": "ac041567",
   "metadata": {},
   "source": [
    "(p-value (0.0000000000000000000000000000000000241) is close to zero. p-value is less than threshold 0.05, we 'reject the null' conlclude there is significant different in the purchase between a group A, B, C.)"
   ]
  },
  {
   "cell_type": "code",
   "execution_count": 7,
   "id": "39269646",
   "metadata": {},
   "outputs": [
    {
     "data": {
      "text/plain": [
       "4998"
      ]
     },
     "execution_count": 7,
     "metadata": {},
     "output_type": "execute_result"
    }
   ],
   "source": [
    "# people visit\n",
    "\n",
    "num_visits = len(df)\n",
    "num_visits"
   ]
  },
  {
   "cell_type": "code",
   "execution_count": 9,
   "id": "10f14a3b",
   "metadata": {},
   "outputs": [
    {
     "data": {
      "text/plain": [
       "1010.1010101010102"
      ]
     },
     "execution_count": 9,
     "metadata": {},
     "output_type": "execute_result"
    }
   ],
   "source": [
    "# visitors should purchase each week\n",
    "\n",
    "num_sales_needed_099 = 1000 / .99\n",
    "num_sales_needed_099"
   ]
  },
  {
   "cell_type": "code",
   "execution_count": 11,
   "id": "ec4cc52a",
   "metadata": {},
   "outputs": [
    {
     "data": {
      "text/plain": [
       "0.20210104243717691"
      ]
     },
     "execution_count": 11,
     "metadata": {},
     "output_type": "execute_result"
    }
   ],
   "source": [
    "# proportion purchase visitors each week\n",
    "\n",
    "p_sales_needed_099 = num_sales_needed_099 / num_visits\n",
    "p_sales_needed_099"
   ]
  },
  {
   "cell_type": "code",
   "execution_count": 13,
   "id": "31c0fe28",
   "metadata": {},
   "outputs": [
    {
     "data": {
      "text/plain": [
       "502.51256281407035"
      ]
     },
     "execution_count": 13,
     "metadata": {},
     "output_type": "execute_result"
    }
   ],
   "source": [
    "# visitors should purchase each week\n",
    "\n",
    "num_sales_needed_199 = 1000 / 1.99\n",
    "num_sales_needed_199"
   ]
  },
  {
   "cell_type": "code",
   "execution_count": 14,
   "id": "b8b7491d",
   "metadata": {},
   "outputs": [
    {
     "data": {
      "text/plain": [
       "0.10054272965467594"
      ]
     },
     "execution_count": 14,
     "metadata": {},
     "output_type": "execute_result"
    }
   ],
   "source": [
    "# proportion purchase visitors each week\n",
    "\n",
    "p_sales_needed_199 = num_sales_needed_199 / num_visits\n",
    "p_sales_needed_199"
   ]
  },
  {
   "cell_type": "code",
   "execution_count": 15,
   "id": "b1143ac5",
   "metadata": {},
   "outputs": [
    {
     "data": {
      "text/plain": [
       "200.40080160320642"
      ]
     },
     "execution_count": 15,
     "metadata": {},
     "output_type": "execute_result"
    }
   ],
   "source": [
    "# visitors should purchase each week\n",
    "\n",
    "num_sales_needed_499 = 1000 / 4.99\n",
    "num_sales_needed_499"
   ]
  },
  {
   "cell_type": "code",
   "execution_count": 16,
   "id": "e7d0aed2",
   "metadata": {},
   "outputs": [
    {
     "data": {
      "text/plain": [
       "0.040096198800161346"
      ]
     },
     "execution_count": 16,
     "metadata": {},
     "output_type": "execute_result"
    }
   ],
   "source": [
    "# proportion purchase visitors each week\n",
    "\n",
    "p_sales_needed_499 = num_sales_needed_499 / num_visits\n",
    "p_sales_needed_499"
   ]
  },
  {
   "cell_type": "raw",
   "id": "7dd3c2c5",
   "metadata": {},
   "source": [
    "we want to know if the percent of Group A (the $0.99 price point) that purchased an upgrade package is significantly greater than p_sales_needed_099 (the percent of visitors who need to buy an upgrade package at $0.99 in order to make our minimum revenue target of $1,000)"
   ]
  },
  {
   "cell_type": "code",
   "execution_count": 17,
   "id": "4fabded3",
   "metadata": {},
   "outputs": [
    {
     "data": {
      "text/plain": [
       "1666"
      ]
     },
     "execution_count": 17,
     "metadata": {},
     "output_type": "execute_result"
    }
   ],
   "source": [
    "# Group A ($0.99)\n",
    "\n",
    "samp_size_099 = np.sum(df['group'] == 'A')\n",
    "samp_size_099"
   ]
  },
  {
   "cell_type": "code",
   "execution_count": 18,
   "id": "00f51e77",
   "metadata": {},
   "outputs": [
    {
     "data": {
      "text/plain": [
       "316"
      ]
     },
     "execution_count": 18,
     "metadata": {},
     "output_type": "execute_result"
    }
   ],
   "source": [
    "# purchase by group A\n",
    "\n",
    "sales_099 = np.sum((df['group'] == 'A') & (df['is_purchase'] == 'Yes'))\n",
    "sales_099"
   ]
  },
  {
   "cell_type": "code",
   "execution_count": 19,
   "id": "46d16169",
   "metadata": {},
   "outputs": [
    {
     "data": {
      "text/plain": [
       "1666"
      ]
     },
     "execution_count": 19,
     "metadata": {},
     "output_type": "execute_result"
    }
   ],
   "source": [
    "# Group B ($1.99)\n",
    "\n",
    "samp_size_199 = np.sum(df['group'] == 'B')\n",
    "samp_size_199"
   ]
  },
  {
   "cell_type": "code",
   "execution_count": 26,
   "id": "28144e71",
   "metadata": {},
   "outputs": [
    {
     "data": {
      "text/plain": [
       "183"
      ]
     },
     "execution_count": 26,
     "metadata": {},
     "output_type": "execute_result"
    }
   ],
   "source": [
    "# Purchase by group B\n",
    "\n",
    "sales_199 = np.sum((df['group'] == 'B') & (df['is_purchase'] == 'Yes'))\n",
    "sales_199"
   ]
  },
  {
   "cell_type": "code",
   "execution_count": 27,
   "id": "492aeda0",
   "metadata": {},
   "outputs": [
    {
     "data": {
      "text/plain": [
       "1666"
      ]
     },
     "execution_count": 27,
     "metadata": {},
     "output_type": "execute_result"
    }
   ],
   "source": [
    "# Group C ($4.99)\n",
    "\n",
    "samp_size_499 = np.sum(df['group'] == 'C')\n",
    "samp_size_499"
   ]
  },
  {
   "cell_type": "code",
   "execution_count": 28,
   "id": "78cdc332",
   "metadata": {},
   "outputs": [
    {
     "data": {
      "text/plain": [
       "83"
      ]
     },
     "execution_count": 28,
     "metadata": {},
     "output_type": "execute_result"
    }
   ],
   "source": [
    "# Purchase by group C\n",
    "\n",
    "sales_499 = np.sum((df['group'] == 'C') & (df['is_purchase'] == 'Yes'))\n",
    "sales_499"
   ]
  },
  {
   "cell_type": "markdown",
   "id": "b18dbb72",
   "metadata": {},
   "source": [
    "Perform a binomial test using binom_test() to see if the observed purchase rate is significantly greater than p_sales_needed_099"
   ]
  },
  {
   "cell_type": "code",
   "execution_count": 29,
   "id": "dc87aebb",
   "metadata": {},
   "outputs": [
    {
     "data": {
      "text/plain": [
       "0.9028081076188985"
      ]
     },
     "execution_count": 29,
     "metadata": {},
     "output_type": "execute_result"
    }
   ],
   "source": [
    "# binom test\n",
    "# Group A\n",
    "\n",
    "from scipy.stats import binom_test\n",
    "\n",
    "pval = binom_test(sales_099, samp_size_099, p_sales_needed_099, alternative='greater')\n",
    "pval"
   ]
  },
  {
   "cell_type": "code",
   "execution_count": 31,
   "id": "89dc5268",
   "metadata": {},
   "outputs": [
    {
     "data": {
      "text/plain": [
       "2.692606807038034e-183"
      ]
     },
     "execution_count": 31,
     "metadata": {},
     "output_type": "execute_result"
    }
   ],
   "source": [
    "# Group B\n",
    "pvalB = binom_test(sales_199, samp_size_199, p_sales_needed_199, alternative='greater')\n",
    "pvalB"
   ]
  },
  {
   "cell_type": "code",
   "execution_count": 32,
   "id": "049ed155",
   "metadata": {},
   "outputs": [
    {
     "data": {
      "text/plain": [
       "0.027944826659907135"
      ]
     },
     "execution_count": 32,
     "metadata": {},
     "output_type": "execute_result"
    }
   ],
   "source": [
    "# Group C\n",
    "pvalC = binom_test(sales_499, samp_size_499, p_sales_needed_499, alternative='greater')\n",
    "pvalC"
   ]
  },
  {
   "cell_type": "markdown",
   "id": "81c0fe86",
   "metadata": {},
   "source": [
    "- Based on the three p-values you calculated for the binomial tests in each group and a significance threshold of 0.05, were there any groups where the purchase rate was significantly higher than the target? \n",
    "- Based on this information, what price should Brian charge for the upgrade package?"
   ]
  },
  {
   "cell_type": "markdown",
   "id": "9b17275a",
   "metadata": {},
   "source": [
    "(Only C value below the treshold 0.05. Therefore, the group C is only group where we conclude that the purchase rate is significant higher than the target needed to reach $1,000 revenue per week.) "
   ]
  },
  {
   "cell_type": "code",
   "execution_count": 33,
   "id": "08c55f3a",
   "metadata": {},
   "outputs": [
    {
     "name": "stdout",
     "output_type": "stream",
     "text": [
      "Brian should charge $4.99 for the upgrade package.\n"
     ]
    }
   ],
   "source": [
    "final_answer = 4.99\n",
    "print('Brian should charge $' + str(final_answer) + ' for the upgrade package.')"
   ]
  }
 ],
 "metadata": {
  "kernelspec": {
   "display_name": "Python 3",
   "language": "python",
   "name": "python3"
  },
  "language_info": {
   "codemirror_mode": {
    "name": "ipython",
    "version": 3
   },
   "file_extension": ".py",
   "mimetype": "text/x-python",
   "name": "python",
   "nbconvert_exporter": "python",
   "pygments_lexer": "ipython3",
   "version": "3.8.8"
  }
 },
 "nbformat": 4,
 "nbformat_minor": 5
}
