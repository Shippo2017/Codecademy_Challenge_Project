{
 "cells": [
  {
   "cell_type": "markdown",
   "id": "61a1570b",
   "metadata": {},
   "source": [
    "# Familiar: A Study In Data Analysis"
   ]
  },
  {
   "cell_type": "markdown",
   "id": "9632b447",
   "metadata": {},
   "source": [
    "Welcome to Familiar, a startup in the new market of blood transfusion! You’ve joined the team because you appreciate the flexible hours and extremely intelligent team, but the overeager doorman welcoming you into the office is a nice way to start your workday (well, work-evening).\n",
    "\n",
    "Familiar has fallen into some tough times lately, so you’re hoping to help them make some insights about their product and help move the needle (so to speak)."
   ]
  },
  {
   "cell_type": "code",
   "execution_count": 1,
   "id": "d65e1caa",
   "metadata": {},
   "outputs": [],
   "source": [
    "import pandas as pd\n",
    "import numpy as np"
   ]
  },
  {
   "cell_type": "markdown",
   "id": "e8ac4cfa",
   "metadata": {},
   "source": [
    "### What Can Familiar Do For You? "
   ]
  },
  {
   "cell_type": "markdown",
   "id": "b50e8264",
   "metadata": {},
   "source": [
    "The Familiar team has provided us with some data on lifespans for subscribers to two different packages, the Vein Pack and the Artery Pack! "
   ]
  },
  {
   "cell_type": "code",
   "execution_count": 2,
   "id": "b27f2d77",
   "metadata": {},
   "outputs": [
    {
     "data": {
      "text/html": [
       "<div>\n",
       "<style scoped>\n",
       "    .dataframe tbody tr th:only-of-type {\n",
       "        vertical-align: middle;\n",
       "    }\n",
       "\n",
       "    .dataframe tbody tr th {\n",
       "        vertical-align: top;\n",
       "    }\n",
       "\n",
       "    .dataframe thead th {\n",
       "        text-align: right;\n",
       "    }\n",
       "</style>\n",
       "<table border=\"1\" class=\"dataframe\">\n",
       "  <thead>\n",
       "    <tr style=\"text-align: right;\">\n",
       "      <th></th>\n",
       "      <th>pack</th>\n",
       "      <th>lifespan</th>\n",
       "    </tr>\n",
       "  </thead>\n",
       "  <tbody>\n",
       "    <tr>\n",
       "      <th>0</th>\n",
       "      <td>vein</td>\n",
       "      <td>76.255090</td>\n",
       "    </tr>\n",
       "    <tr>\n",
       "      <th>1</th>\n",
       "      <td>artery</td>\n",
       "      <td>76.404504</td>\n",
       "    </tr>\n",
       "    <tr>\n",
       "      <th>2</th>\n",
       "      <td>artery</td>\n",
       "      <td>75.952442</td>\n",
       "    </tr>\n",
       "    <tr>\n",
       "      <th>3</th>\n",
       "      <td>artery</td>\n",
       "      <td>76.923082</td>\n",
       "    </tr>\n",
       "    <tr>\n",
       "      <th>4</th>\n",
       "      <td>artery</td>\n",
       "      <td>73.771212</td>\n",
       "    </tr>\n",
       "  </tbody>\n",
       "</table>\n",
       "</div>"
      ],
      "text/plain": [
       "     pack   lifespan\n",
       "0    vein  76.255090\n",
       "1  artery  76.404504\n",
       "2  artery  75.952442\n",
       "3  artery  76.923082\n",
       "4  artery  73.771212"
      ]
     },
     "execution_count": 2,
     "metadata": {},
     "output_type": "execute_result"
    }
   ],
   "source": [
    "lifespans = pd.read_csv('familiar_lifespan.csv')\n",
    "lifespans.head()"
   ]
  },
  {
   "cell_type": "markdown",
   "id": "6e304400",
   "metadata": {},
   "source": [
    "The first thing we want to know is whether Familiar’s most basic package, the Vein Pack, actually has a significant impact on the subscribers."
   ]
  },
  {
   "cell_type": "code",
   "execution_count": 3,
   "id": "b177bf46",
   "metadata": {},
   "outputs": [
    {
     "data": {
      "text/plain": [
       "0    76.255090\n",
       "7    74.502021\n",
       "Name: lifespan, dtype: float64"
      ]
     },
     "execution_count": 3,
     "metadata": {},
     "output_type": "execute_result"
    }
   ],
   "source": [
    "vein_pack_lifespans = lifespans.lifespan[lifespans['pack'] == 'vein']\n",
    "vein_pack_lifespans.head(2)"
   ]
  },
  {
   "cell_type": "code",
   "execution_count": 4,
   "id": "fd9b1697",
   "metadata": {},
   "outputs": [
    {
     "data": {
      "text/plain": [
       "76.16901335636044"
      ]
     },
     "execution_count": 4,
     "metadata": {},
     "output_type": "execute_result"
    }
   ],
   "source": [
    "np.mean(vein_pack_lifespans)"
   ]
  },
  {
   "cell_type": "markdown",
   "id": "33b18bba",
   "metadata": {},
   "source": [
    "We’d like to find out if the average lifespan of a Vein Pack subscriber is significantly different from the average life expectancy of 73 years.\n",
    "\n",
    "We would use to test the following null and alternative hypotheses:\n",
    "\n",
    "- Null: The average lifespan of a Vein Pack subscriber is 73 years.\n",
    "- Alternative: The average lifespan of a Vein Pack subscriber is NOT 73 years."
   ]
  },
  {
   "cell_type": "code",
   "execution_count": 6,
   "id": "2835c0cf",
   "metadata": {},
   "outputs": [
    {
     "name": "stdout",
     "output_type": "stream",
     "text": [
      "p-value for lifespan of vein one-sample t-test :  5.972157921433211e-07\n"
     ]
    }
   ],
   "source": [
    "# one sample t-test\n",
    "from scipy.stats import ttest_1samp\n",
    "\n",
    "tstat, pval = ttest_1samp(vein_pack_lifespans, 73)\n",
    "print('p-value for lifespan of vein one-sample t-test : ', pval)"
   ]
  },
  {
   "cell_type": "markdown",
   "id": "40544518",
   "metadata": {},
   "source": [
    "(p-value (0.00000059) is much smaller than 0.05, so we conclude that average lifespan of Vein Pack subscriber is significantly different from 73 years.) "
   ]
  },
  {
   "cell_type": "markdown",
   "id": "9ac5e96b",
   "metadata": {},
   "source": [
    "### Upselling Familiar: Pumping Life Into The Company "
   ]
  },
  {
   "cell_type": "markdown",
   "id": "b27a9e90",
   "metadata": {},
   "source": [
    "In order to differentiate Familiar’s different product lines, we’d like to compare this lifespan data between our different packages. Our next step up from the Vein Pack is the Artery Pack."
   ]
  },
  {
   "cell_type": "code",
   "execution_count": 7,
   "id": "2ba7007b",
   "metadata": {},
   "outputs": [
    {
     "data": {
      "text/plain": [
       "1    76.404504\n",
       "2    75.952442\n",
       "Name: lifespan, dtype: float64"
      ]
     },
     "execution_count": 7,
     "metadata": {},
     "output_type": "execute_result"
    }
   ],
   "source": [
    "artery_pack_lifespans = lifespans.lifespan[lifespans['pack'] == 'artery']\n",
    "artery_pack_lifespans.head(2)"
   ]
  },
  {
   "cell_type": "code",
   "execution_count": 8,
   "id": "25302e1f",
   "metadata": {},
   "outputs": [
    {
     "data": {
      "text/plain": [
       "74.87366223517039"
      ]
     },
     "execution_count": 8,
     "metadata": {},
     "output_type": "execute_result"
    }
   ],
   "source": [
    "np.mean(artery_pack_lifespans)"
   ]
  },
  {
   "cell_type": "markdown",
   "id": "4a91fd0b",
   "metadata": {},
   "source": [
    "We’d like to find out if the average lifespan of a Vein Pack subscriber is significantly different from the average life expectancy for the Artery Pack.\n",
    "\n",
    "We would use to test the following null and alternative hypotheses:\n",
    "\n",
    "- Null: The average lifespan of a Vein Pack subscriber is equal to the average lifespan of an Artery Pack subscriber.\n",
    "- Alternative: The average lifespan of a Vein Pack subscriber is NOT equal to the average lifespan of an Artery Pack subscriber."
   ]
  },
  {
   "cell_type": "code",
   "execution_count": 9,
   "id": "1020b8c1",
   "metadata": {},
   "outputs": [
    {
     "name": "stdout",
     "output_type": "stream",
     "text": [
      "pvalue for lifespan two-sample t-test :  0.05588883079070819\n"
     ]
    }
   ],
   "source": [
    "# two sample t-test\n",
    "from scipy.stats import ttest_ind\n",
    "\n",
    "tstas, pval = ttest_ind(vein_pack_lifespans, artery_pack_lifespans)\n",
    "print('pvalue for lifespan two-sample t-test : ', pval)"
   ]
  },
  {
   "cell_type": "markdown",
   "id": "e145c609",
   "metadata": {},
   "source": [
    "(p-value (0.055) is larger than 0.05, so we conclude that the average lifespan of Vein Pack subscribers not significantly different from the average lifespan of an Artery pack subriber.)"
   ]
  },
  {
   "cell_type": "markdown",
   "id": "9fcde74e",
   "metadata": {},
   "source": [
    "### Side Effects: A Familiar Problem "
   ]
  },
  {
   "cell_type": "markdown",
   "id": "ec3b6bf4",
   "metadata": {},
   "source": [
    "The Familiar team has provided us with another dataset containing survey data about iron counts for our subscribers. This data has been pre-processed to categorize iron counts as “low”, “normal”, and “high” for each subscriber. "
   ]
  },
  {
   "cell_type": "code",
   "execution_count": 10,
   "id": "d654f5f1",
   "metadata": {},
   "outputs": [
    {
     "data": {
      "text/html": [
       "<div>\n",
       "<style scoped>\n",
       "    .dataframe tbody tr th:only-of-type {\n",
       "        vertical-align: middle;\n",
       "    }\n",
       "\n",
       "    .dataframe tbody tr th {\n",
       "        vertical-align: top;\n",
       "    }\n",
       "\n",
       "    .dataframe thead th {\n",
       "        text-align: right;\n",
       "    }\n",
       "</style>\n",
       "<table border=\"1\" class=\"dataframe\">\n",
       "  <thead>\n",
       "    <tr style=\"text-align: right;\">\n",
       "      <th></th>\n",
       "      <th>pack</th>\n",
       "      <th>iron</th>\n",
       "    </tr>\n",
       "  </thead>\n",
       "  <tbody>\n",
       "    <tr>\n",
       "      <th>0</th>\n",
       "      <td>vein</td>\n",
       "      <td>low</td>\n",
       "    </tr>\n",
       "    <tr>\n",
       "      <th>1</th>\n",
       "      <td>artery</td>\n",
       "      <td>normal</td>\n",
       "    </tr>\n",
       "    <tr>\n",
       "      <th>2</th>\n",
       "      <td>artery</td>\n",
       "      <td>normal</td>\n",
       "    </tr>\n",
       "    <tr>\n",
       "      <th>3</th>\n",
       "      <td>artery</td>\n",
       "      <td>normal</td>\n",
       "    </tr>\n",
       "    <tr>\n",
       "      <th>4</th>\n",
       "      <td>artery</td>\n",
       "      <td>high</td>\n",
       "    </tr>\n",
       "  </tbody>\n",
       "</table>\n",
       "</div>"
      ],
      "text/plain": [
       "     pack    iron\n",
       "0    vein     low\n",
       "1  artery  normal\n",
       "2  artery  normal\n",
       "3  artery  normal\n",
       "4  artery    high"
      ]
     },
     "execution_count": 10,
     "metadata": {},
     "output_type": "execute_result"
    }
   ],
   "source": [
    "iron = pd.read_csv('familiar_iron.csv')\n",
    "iron.head()"
   ]
  },
  {
   "cell_type": "code",
   "execution_count": 11,
   "id": "84243f2e",
   "metadata": {},
   "outputs": [
    {
     "data": {
      "text/html": [
       "<div>\n",
       "<style scoped>\n",
       "    .dataframe tbody tr th:only-of-type {\n",
       "        vertical-align: middle;\n",
       "    }\n",
       "\n",
       "    .dataframe tbody tr th {\n",
       "        vertical-align: top;\n",
       "    }\n",
       "\n",
       "    .dataframe thead th {\n",
       "        text-align: right;\n",
       "    }\n",
       "</style>\n",
       "<table border=\"1\" class=\"dataframe\">\n",
       "  <thead>\n",
       "    <tr style=\"text-align: right;\">\n",
       "      <th>iron</th>\n",
       "      <th>high</th>\n",
       "      <th>low</th>\n",
       "      <th>normal</th>\n",
       "    </tr>\n",
       "    <tr>\n",
       "      <th>pack</th>\n",
       "      <th></th>\n",
       "      <th></th>\n",
       "      <th></th>\n",
       "    </tr>\n",
       "  </thead>\n",
       "  <tbody>\n",
       "    <tr>\n",
       "      <th>artery</th>\n",
       "      <td>87</td>\n",
       "      <td>29</td>\n",
       "      <td>29</td>\n",
       "    </tr>\n",
       "    <tr>\n",
       "      <th>vein</th>\n",
       "      <td>20</td>\n",
       "      <td>140</td>\n",
       "      <td>40</td>\n",
       "    </tr>\n",
       "  </tbody>\n",
       "</table>\n",
       "</div>"
      ],
      "text/plain": [
       "iron    high  low  normal\n",
       "pack                     \n",
       "artery    87   29      29\n",
       "vein      20  140      40"
      ]
     },
     "execution_count": 11,
     "metadata": {},
     "output_type": "execute_result"
    }
   ],
   "source": [
    "xtab = pd.crosstab(iron['pack'], iron['iron'])\n",
    "xtab"
   ]
  },
  {
   "cell_type": "markdown",
   "id": "2f37803b",
   "metadata": {},
   "source": [
    "We’d like to find out if there is a significant association between which pack (Vein vs. Artery) someone subscribes to and their iron level.\n",
    "\n",
    "We would use to test the following null and alternative hypotheses:\n",
    "\n",
    "- Null: There is NOT an association between which pack (Vein vs. Artery) someone subscribes to and their iron level.\n",
    "- Alternative: There is an association between which pack (Vein vs. Artery) someone subscribes to and their iron level."
   ]
  },
  {
   "cell_type": "code",
   "execution_count": 12,
   "id": "a2e2eb69",
   "metadata": {},
   "outputs": [
    {
     "name": "stdout",
     "output_type": "stream",
     "text": [
      "p-value :  9.359749337433008e-25\n"
     ]
    }
   ],
   "source": [
    "# chi square test\n",
    "from scipy.stats import chi2_contingency\n",
    "\n",
    "chi2, pval, dof, expected = chi2_contingency(xtab)\n",
    "print('p-value : ', pval)"
   ]
  },
  {
   "cell_type": "markdown",
   "id": "17823ffc",
   "metadata": {},
   "source": [
    "(p-value (0.000000000000000000000000935) is smaller than 0.05, so we conclude that there is a significant association between pack and iron level.)"
   ]
  }
 ],
 "metadata": {
  "kernelspec": {
   "display_name": "Python 3",
   "language": "python",
   "name": "python3"
  },
  "language_info": {
   "codemirror_mode": {
    "name": "ipython",
    "version": 3
   },
   "file_extension": ".py",
   "mimetype": "text/x-python",
   "name": "python",
   "nbconvert_exporter": "python",
   "pygments_lexer": "ipython3",
   "version": "3.8.8"
  }
 },
 "nbformat": 4,
 "nbformat_minor": 5
}
