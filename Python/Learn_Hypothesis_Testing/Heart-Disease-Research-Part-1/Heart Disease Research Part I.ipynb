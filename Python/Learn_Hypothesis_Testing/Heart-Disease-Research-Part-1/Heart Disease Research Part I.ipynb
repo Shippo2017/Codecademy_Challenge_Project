{
 "cells": [
  {
   "cell_type": "markdown",
   "id": "c9eaa7ba",
   "metadata": {},
   "source": [
    "# Heart Disease Research Part I"
   ]
  },
  {
   "cell_type": "markdown",
   "id": "b4b6723e",
   "metadata": {},
   "source": [
    "In this project, you’ll investigate some data from a sample patients who were evaluated for heart disease at the Cleveland Clinic Foundation"
   ]
  },
  {
   "cell_type": "code",
   "execution_count": 26,
   "id": "aad8cc47",
   "metadata": {},
   "outputs": [],
   "source": [
    "from scipy.stats import ttest_1samp, binom_test\n",
    "import numpy as np\n",
    "import matplotlib.pyplot as plt\n",
    "import seaborn as sns\n",
    "import pandas as pd\n",
    "pd.set_option('display.max_rows', None)\n",
    "pd.set_option('display.max_colwidth', None)"
   ]
  },
  {
   "cell_type": "markdown",
   "id": "5dab8cea",
   "metadata": {},
   "source": [
    "### Cholesterol Analysis "
   ]
  },
  {
   "cell_type": "code",
   "execution_count": 27,
   "id": "9016f118",
   "metadata": {},
   "outputs": [
    {
     "data": {
      "text/html": [
       "<div>\n",
       "<style scoped>\n",
       "    .dataframe tbody tr th:only-of-type {\n",
       "        vertical-align: middle;\n",
       "    }\n",
       "\n",
       "    .dataframe tbody tr th {\n",
       "        vertical-align: top;\n",
       "    }\n",
       "\n",
       "    .dataframe thead th {\n",
       "        text-align: right;\n",
       "    }\n",
       "</style>\n",
       "<table border=\"1\" class=\"dataframe\">\n",
       "  <thead>\n",
       "    <tr style=\"text-align: right;\">\n",
       "      <th></th>\n",
       "      <th>age</th>\n",
       "      <th>sex</th>\n",
       "      <th>trestbps</th>\n",
       "      <th>chol</th>\n",
       "      <th>cp</th>\n",
       "      <th>exang</th>\n",
       "      <th>fbs</th>\n",
       "      <th>thalach</th>\n",
       "      <th>heart_disease</th>\n",
       "    </tr>\n",
       "  </thead>\n",
       "  <tbody>\n",
       "    <tr>\n",
       "      <th>0</th>\n",
       "      <td>63.0</td>\n",
       "      <td>male</td>\n",
       "      <td>145.0</td>\n",
       "      <td>233.0</td>\n",
       "      <td>typical angina</td>\n",
       "      <td>0.0</td>\n",
       "      <td>1.0</td>\n",
       "      <td>150.0</td>\n",
       "      <td>absence</td>\n",
       "    </tr>\n",
       "    <tr>\n",
       "      <th>1</th>\n",
       "      <td>67.0</td>\n",
       "      <td>male</td>\n",
       "      <td>160.0</td>\n",
       "      <td>286.0</td>\n",
       "      <td>asymptomatic</td>\n",
       "      <td>1.0</td>\n",
       "      <td>0.0</td>\n",
       "      <td>108.0</td>\n",
       "      <td>presence</td>\n",
       "    </tr>\n",
       "    <tr>\n",
       "      <th>2</th>\n",
       "      <td>67.0</td>\n",
       "      <td>male</td>\n",
       "      <td>120.0</td>\n",
       "      <td>229.0</td>\n",
       "      <td>asymptomatic</td>\n",
       "      <td>1.0</td>\n",
       "      <td>0.0</td>\n",
       "      <td>129.0</td>\n",
       "      <td>presence</td>\n",
       "    </tr>\n",
       "    <tr>\n",
       "      <th>3</th>\n",
       "      <td>37.0</td>\n",
       "      <td>male</td>\n",
       "      <td>130.0</td>\n",
       "      <td>250.0</td>\n",
       "      <td>non-anginal pain</td>\n",
       "      <td>0.0</td>\n",
       "      <td>0.0</td>\n",
       "      <td>187.0</td>\n",
       "      <td>absence</td>\n",
       "    </tr>\n",
       "    <tr>\n",
       "      <th>4</th>\n",
       "      <td>41.0</td>\n",
       "      <td>female</td>\n",
       "      <td>130.0</td>\n",
       "      <td>204.0</td>\n",
       "      <td>atypical angina</td>\n",
       "      <td>0.0</td>\n",
       "      <td>0.0</td>\n",
       "      <td>172.0</td>\n",
       "      <td>absence</td>\n",
       "    </tr>\n",
       "  </tbody>\n",
       "</table>\n",
       "</div>"
      ],
      "text/plain": [
       "    age     sex  trestbps   chol                cp  exang  fbs  thalach  \\\n",
       "0  63.0    male     145.0  233.0    typical angina    0.0  1.0    150.0   \n",
       "1  67.0    male     160.0  286.0      asymptomatic    1.0  0.0    108.0   \n",
       "2  67.0    male     120.0  229.0      asymptomatic    1.0  0.0    129.0   \n",
       "3  37.0    male     130.0  250.0  non-anginal pain    0.0  0.0    187.0   \n",
       "4  41.0  female     130.0  204.0   atypical angina    0.0  0.0    172.0   \n",
       "\n",
       "  heart_disease  \n",
       "0       absence  \n",
       "1      presence  \n",
       "2      presence  \n",
       "3       absence  \n",
       "4       absence  "
      ]
     },
     "execution_count": 27,
     "metadata": {},
     "output_type": "execute_result"
    }
   ],
   "source": [
    "heart = pd.read_csv('heart_disease.csv')\n",
    "heart.head()"
   ]
  },
  {
   "cell_type": "markdown",
   "id": "ec929093",
   "metadata": {},
   "source": [
    "- chol: serum cholestorol in mg/dl\n",
    "- fbs: An indicator for whether fasting blood sugar is greater than 120 mg/dl (1 = true; 0 = false)"
   ]
  },
  {
   "cell_type": "code",
   "execution_count": 28,
   "id": "af001da9",
   "metadata": {},
   "outputs": [
    {
     "name": "stdout",
     "output_type": "stream",
     "text": [
      "<class 'pandas.core.frame.DataFrame'>\n",
      "RangeIndex: 303 entries, 0 to 302\n",
      "Data columns (total 9 columns):\n",
      " #   Column         Non-Null Count  Dtype  \n",
      "---  ------         --------------  -----  \n",
      " 0   age            303 non-null    float64\n",
      " 1   sex            303 non-null    object \n",
      " 2   trestbps       303 non-null    float64\n",
      " 3   chol           303 non-null    float64\n",
      " 4   cp             303 non-null    object \n",
      " 5   exang          303 non-null    float64\n",
      " 6   fbs            303 non-null    float64\n",
      " 7   thalach        303 non-null    float64\n",
      " 8   heart_disease  303 non-null    object \n",
      "dtypes: float64(6), object(3)\n",
      "memory usage: 21.4+ KB\n"
     ]
    }
   ],
   "source": [
    "heart.info()"
   ]
  },
  {
   "cell_type": "code",
   "execution_count": 29,
   "id": "b9c4f83f",
   "metadata": {},
   "outputs": [
    {
     "data": {
      "text/plain": [
       "array(['absence', 'presence'], dtype=object)"
      ]
     },
     "execution_count": 29,
     "metadata": {},
     "output_type": "execute_result"
    }
   ],
   "source": [
    "heart['heart_disease'].unique()"
   ]
  },
  {
   "cell_type": "code",
   "execution_count": 37,
   "id": "3ccda62c",
   "metadata": {},
   "outputs": [],
   "source": [
    "yes_hd = heart[heart['heart_disease'] == 'presence']\n",
    "no_hd = heart[heart['heart_disease'] == 'absence']"
   ]
  },
  {
   "cell_type": "markdown",
   "id": "139b034d",
   "metadata": {},
   "source": [
    "- To start, we’ll investigate cholesterol levels for patients with heart disease."
   ]
  },
  {
   "cell_type": "code",
   "execution_count": 38,
   "id": "1c8bd15f",
   "metadata": {},
   "outputs": [
    {
     "data": {
      "text/plain": [
       "1    286.0\n",
       "2    229.0\n",
       "6    268.0\n",
       "8    254.0\n",
       "9    203.0\n",
       "Name: chol, dtype: float64"
      ]
     },
     "execution_count": 38,
     "metadata": {},
     "output_type": "execute_result"
    }
   ],
   "source": [
    "chol_hd = yes_hd['chol']\n",
    "chol_hd.head()"
   ]
  },
  {
   "cell_type": "code",
   "execution_count": 39,
   "id": "ffa45bd1",
   "metadata": {},
   "outputs": [
    {
     "data": {
      "text/plain": [
       "251.4748201438849"
      ]
     },
     "execution_count": 39,
     "metadata": {},
     "output_type": "execute_result"
    }
   ],
   "source": [
    "chol_hd_mean = np.mean(chol_hd)\n",
    "chol_hd_mean"
   ]
  },
  {
   "cell_type": "markdown",
   "id": "e3de98c6",
   "metadata": {},
   "source": [
    "It is higher than 240 mg/dl (total cholesterol over 240 mg/dl is considered “high” (and therefore unhealthy))"
   ]
  },
  {
   "cell_type": "markdown",
   "id": "2051c658",
   "metadata": {},
   "source": [
    "#### run a two-sided test"
   ]
  },
  {
   "cell_type": "markdown",
   "id": "c08dda86",
   "metadata": {},
   "source": [
    "Do people with heart disease have high cholesterol levels (greater than or equal to 240 mg/dl) on average? Import the function from scipy.stats that you can use to test the following null and alternative hypotheses:\n",
    "\n",
    "- Null: People with heart disease have an average cholesterol level equal to 240 mg/dl\n",
    "- Alternative: People with heart disease have an average cholesterol level that is greater than 240 mg/dl"
   ]
  },
  {
   "cell_type": "code",
   "execution_count": 40,
   "id": "1fa144d0",
   "metadata": {},
   "outputs": [
    {
     "data": {
      "text/plain": [
       "0.0035411033905155707"
      ]
     },
     "execution_count": 40,
     "metadata": {},
     "output_type": "execute_result"
    }
   ],
   "source": [
    "tsats, pval = ttest_1samp(chol_hd, 240)\n",
    "pval/2"
   ]
  },
  {
   "cell_type": "markdown",
   "id": "a0094d19",
   "metadata": {},
   "source": [
    "p-value (0.0035) less than significant threshold (0.05), suggesting that heart disease patients have an average cholestorel level significantly higher than 240 mg/l"
   ]
  },
  {
   "cell_type": "markdown",
   "id": "579e5747",
   "metadata": {},
   "source": [
    "- run the same hypothesis test, but for patients in the sample who were not diagnosed with heart disease"
   ]
  },
  {
   "cell_type": "code",
   "execution_count": 41,
   "id": "17f03737",
   "metadata": {},
   "outputs": [
    {
     "data": {
      "text/plain": [
       "0    233.0\n",
       "3    250.0\n",
       "4    204.0\n",
       "5    236.0\n",
       "7    354.0\n",
       "Name: chol, dtype: float64"
      ]
     },
     "execution_count": 41,
     "metadata": {},
     "output_type": "execute_result"
    }
   ],
   "source": [
    "chol_no_hd = no_hd['chol']\n",
    "chol_no_hd.head()"
   ]
  },
  {
   "cell_type": "code",
   "execution_count": 42,
   "id": "fbc7a363",
   "metadata": {},
   "outputs": [
    {
     "data": {
      "text/plain": [
       "242.640243902439"
      ]
     },
     "execution_count": 42,
     "metadata": {},
     "output_type": "execute_result"
    }
   ],
   "source": [
    "chol_no_hd_mean = np.mean(chol_no_hd)\n",
    "chol_no_hd_mean"
   ]
  },
  {
   "cell_type": "code",
   "execution_count": 43,
   "id": "e218143c",
   "metadata": {},
   "outputs": [
    {
     "data": {
      "text/plain": [
       "0.26397120232220506"
      ]
     },
     "execution_count": 43,
     "metadata": {},
     "output_type": "execute_result"
    }
   ],
   "source": [
    "tsats, pval = ttest_1samp(chol_no_hd, 240)\n",
    "pval/2"
   ]
  },
  {
   "cell_type": "markdown",
   "id": "b9855b4a",
   "metadata": {},
   "source": [
    "- Cholesterol level is higher than 240 mg/dl (total cholesterol over 240 mg/dl is considered “high” (and therefore unhealthy))\n",
    "- p-value (0.2639) higher than significant threshold (0.05), suggesting that heart disease patients with no cholesterol have an average cholestorel level not significantly higher than 240 mg/l\n",
    "- Type II error (False Positive)"
   ]
  },
  {
   "cell_type": "markdown",
   "id": "a9752562",
   "metadata": {},
   "source": [
    "### Fasting Blood Sugar Analysis "
   ]
  },
  {
   "cell_type": "code",
   "execution_count": 45,
   "id": "2e6e0918",
   "metadata": {},
   "outputs": [
    {
     "data": {
      "text/plain": [
       "303"
      ]
     },
     "execution_count": 45,
     "metadata": {},
     "output_type": "execute_result"
    }
   ],
   "source": [
    "num_patients = len(heart)\n",
    "num_patients"
   ]
  },
  {
   "cell_type": "markdown",
   "id": "84165ce9",
   "metadata": {},
   "source": [
    "Calculate the number of patients with fasting blood sugar greater than 120"
   ]
  },
  {
   "cell_type": "code",
   "execution_count": 46,
   "id": "e84d7e42",
   "metadata": {},
   "outputs": [
    {
     "data": {
      "text/plain": [
       "45"
      ]
     },
     "execution_count": 46,
     "metadata": {},
     "output_type": "execute_result"
    }
   ],
   "source": [
    "num_highfbs_patients = len(heart[heart['fbs'] == 1])\n",
    "num_highfbs_patients"
   ]
  },
  {
   "cell_type": "markdown",
   "id": "654db61c",
   "metadata": {},
   "source": [
    "about 8% of the U.S. population had diabetes (diagnosed or undiagnosed) in 1988 when this data was collected. While there are multiple tests that contribute to a diabetes diagnosis, fasting blood sugar levels greater than 120 mg/dl can be indicative of diabetes (or at least, pre-diabetes). If this sample were representative of the population, approximately how many people would you expect to have diabetes? Calculate and print out this number."
   ]
  },
  {
   "cell_type": "code",
   "execution_count": 48,
   "id": "c131dabc",
   "metadata": {},
   "outputs": [
    {
     "data": {
      "text/plain": [
       "24.240000000000002"
      ]
     },
     "execution_count": 48,
     "metadata": {},
     "output_type": "execute_result"
    }
   ],
   "source": [
    "0.08 * num_patients"
   ]
  },
  {
   "cell_type": "markdown",
   "id": "83031425",
   "metadata": {},
   "source": [
    "this comes out to approximately 24 patients, which is almost half the number with fbs > 120 in the sample (45)"
   ]
  },
  {
   "cell_type": "markdown",
   "id": "58d01032",
   "metadata": {},
   "source": [
    "#### run binomial test "
   ]
  },
  {
   "cell_type": "markdown",
   "id": "86ea109e",
   "metadata": {},
   "source": [
    "Does this sample come from a population in which the rate of fbs > 120 mg/dl is equal to 8%? Import the function from scipy.stats that you can use to test the following null and alternative hypotheses:\n",
    "\n",
    "- Null: This sample was drawn from a population where 8% of people have fasting blood sugar > 120 mg/dl\n",
    "- Alternative: This sample was drawn from a population where more than 8% of people have fasting blood sugar > 120 mg/dl"
   ]
  },
  {
   "cell_type": "code",
   "execution_count": 50,
   "id": "a688cbab",
   "metadata": {},
   "outputs": [
    {
     "data": {
      "text/plain": [
       "4.689471951449078e-05"
      ]
     },
     "execution_count": 50,
     "metadata": {},
     "output_type": "execute_result"
    }
   ],
   "source": [
    "p_value = binom_test(num_highfbs_patients, num_patients, 0.08, alternative = 'greater')\n",
    "p_value"
   ]
  },
  {
   "cell_type": "markdown",
   "id": "b1fc5b00",
   "metadata": {},
   "source": [
    "p-value (0.0000468) less than significant threshold (0.05), indicating that this sample likely comes from a population where more than 8% of people have fbs > 120 mg/dl."
   ]
  }
 ],
 "metadata": {
  "kernelspec": {
   "display_name": "Python 3",
   "language": "python",
   "name": "python3"
  },
  "language_info": {
   "codemirror_mode": {
    "name": "ipython",
    "version": 3
   },
   "file_extension": ".py",
   "mimetype": "text/x-python",
   "name": "python",
   "nbconvert_exporter": "python",
   "pygments_lexer": "ipython3",
   "version": "3.8.8"
  }
 },
 "nbformat": 4,
 "nbformat_minor": 5
}
