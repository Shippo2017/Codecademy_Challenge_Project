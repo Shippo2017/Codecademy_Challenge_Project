{
 "cells": [
  {
   "cell_type": "markdown",
   "id": "6db8be6d",
   "metadata": {},
   "source": [
    "# Heart Disease Research Part II"
   ]
  },
  {
   "cell_type": "markdown",
   "id": "a073c2a3",
   "metadata": {},
   "source": [
    "In this project, you’ll investigate some data from a sample patients who were evaluated for heart disease at the Cleveland Clinic Foundation."
   ]
  },
  {
   "cell_type": "code",
   "execution_count": 87,
   "id": "fa0ba86e",
   "metadata": {},
   "outputs": [],
   "source": [
    "import pandas as pd\n",
    "import numpy as np\n",
    "import matplotlib.pyplot as plt\n",
    "import seaborn as sns\n",
    "from scipy.stats import ttest_ind, f_oneway"
   ]
  },
  {
   "cell_type": "markdown",
   "id": "5bf3c4f2",
   "metadata": {},
   "source": [
    "### Inspect the Data "
   ]
  },
  {
   "cell_type": "code",
   "execution_count": 58,
   "id": "bf5bccf1",
   "metadata": {},
   "outputs": [
    {
     "data": {
      "text/html": [
       "<div>\n",
       "<style scoped>\n",
       "    .dataframe tbody tr th:only-of-type {\n",
       "        vertical-align: middle;\n",
       "    }\n",
       "\n",
       "    .dataframe tbody tr th {\n",
       "        vertical-align: top;\n",
       "    }\n",
       "\n",
       "    .dataframe thead th {\n",
       "        text-align: right;\n",
       "    }\n",
       "</style>\n",
       "<table border=\"1\" class=\"dataframe\">\n",
       "  <thead>\n",
       "    <tr style=\"text-align: right;\">\n",
       "      <th></th>\n",
       "      <th>age</th>\n",
       "      <th>sex</th>\n",
       "      <th>trestbps</th>\n",
       "      <th>chol</th>\n",
       "      <th>cp</th>\n",
       "      <th>exang</th>\n",
       "      <th>fbs</th>\n",
       "      <th>thalach</th>\n",
       "      <th>heart_disease</th>\n",
       "    </tr>\n",
       "  </thead>\n",
       "  <tbody>\n",
       "    <tr>\n",
       "      <th>0</th>\n",
       "      <td>63.0</td>\n",
       "      <td>male</td>\n",
       "      <td>145.0</td>\n",
       "      <td>233.0</td>\n",
       "      <td>typical angina</td>\n",
       "      <td>0.0</td>\n",
       "      <td>1.0</td>\n",
       "      <td>150.0</td>\n",
       "      <td>absence</td>\n",
       "    </tr>\n",
       "    <tr>\n",
       "      <th>1</th>\n",
       "      <td>67.0</td>\n",
       "      <td>male</td>\n",
       "      <td>160.0</td>\n",
       "      <td>286.0</td>\n",
       "      <td>asymptomatic</td>\n",
       "      <td>1.0</td>\n",
       "      <td>0.0</td>\n",
       "      <td>108.0</td>\n",
       "      <td>presence</td>\n",
       "    </tr>\n",
       "    <tr>\n",
       "      <th>2</th>\n",
       "      <td>67.0</td>\n",
       "      <td>male</td>\n",
       "      <td>120.0</td>\n",
       "      <td>229.0</td>\n",
       "      <td>asymptomatic</td>\n",
       "      <td>1.0</td>\n",
       "      <td>0.0</td>\n",
       "      <td>129.0</td>\n",
       "      <td>presence</td>\n",
       "    </tr>\n",
       "    <tr>\n",
       "      <th>3</th>\n",
       "      <td>37.0</td>\n",
       "      <td>male</td>\n",
       "      <td>130.0</td>\n",
       "      <td>250.0</td>\n",
       "      <td>non-anginal pain</td>\n",
       "      <td>0.0</td>\n",
       "      <td>0.0</td>\n",
       "      <td>187.0</td>\n",
       "      <td>absence</td>\n",
       "    </tr>\n",
       "    <tr>\n",
       "      <th>4</th>\n",
       "      <td>41.0</td>\n",
       "      <td>female</td>\n",
       "      <td>130.0</td>\n",
       "      <td>204.0</td>\n",
       "      <td>atypical angina</td>\n",
       "      <td>0.0</td>\n",
       "      <td>0.0</td>\n",
       "      <td>172.0</td>\n",
       "      <td>absence</td>\n",
       "    </tr>\n",
       "  </tbody>\n",
       "</table>\n",
       "</div>"
      ],
      "text/plain": [
       "    age     sex  trestbps   chol                cp  exang  fbs  thalach  \\\n",
       "0  63.0    male     145.0  233.0    typical angina    0.0  1.0    150.0   \n",
       "1  67.0    male     160.0  286.0      asymptomatic    1.0  0.0    108.0   \n",
       "2  67.0    male     120.0  229.0      asymptomatic    1.0  0.0    129.0   \n",
       "3  37.0    male     130.0  250.0  non-anginal pain    0.0  0.0    187.0   \n",
       "4  41.0  female     130.0  204.0   atypical angina    0.0  0.0    172.0   \n",
       "\n",
       "  heart_disease  \n",
       "0       absence  \n",
       "1      presence  \n",
       "2      presence  \n",
       "3       absence  \n",
       "4       absence  "
      ]
     },
     "execution_count": 58,
     "metadata": {},
     "output_type": "execute_result"
    }
   ],
   "source": [
    "heart = pd.read_csv('heart_disease.csv')\n",
    "heart.head()"
   ]
  },
  {
   "cell_type": "markdown",
   "id": "16ed342a",
   "metadata": {},
   "source": [
    "- age: age in years\n",
    "- sex: sex assigned at birth; 'male' or 'female'\n",
    "- trestbps: resting blood pressure in mm Hg\n",
    "- chol: serum cholesterol in mg/dl\n",
    "- cp: chest pain type ('typical angina', 'atypical angina', 'non-anginal pain', or 'asymptomatic')\n",
    "- exang: whether the patient experiences exercise-induced angina (1: yes; 0: no)\n",
    "- fbs: whether the patient’s fasting blood sugar is >120 mg/dl (1: yes; 0: no)\n",
    "- thalach: maximum heart rate achieved in exercise test\n",
    "- heart_disease: whether the patient is found to have heart disease ('presence': diagnosed with heart disease; 'absence': no heart disease)"
   ]
  },
  {
   "cell_type": "markdown",
   "id": "0979b440",
   "metadata": {},
   "source": [
    "### Predictors of Heart Disease "
   ]
  },
  {
   "cell_type": "markdown",
   "id": "fdd1ced8",
   "metadata": {},
   "source": [
    "#### heart_disease vs thalach"
   ]
  },
  {
   "cell_type": "code",
   "execution_count": 59,
   "id": "e142c4cd",
   "metadata": {},
   "outputs": [
    {
     "data": {
      "image/png": "[encoded data removed]",
      "text/plain": [
       "<Figure size 432x288 with 1 Axes>"
      ]
     },
     "metadata": {
      "needs_background": "light"
     },
     "output_type": "display_data"
    },
    {
     "data": {
      "text/plain": [
       "<Figure size 432x288 with 0 Axes>"
      ]
     },
     "metadata": {},
     "output_type": "display_data"
    }
   ],
   "source": [
    "sns.boxplot(x=heart['heart_disease'], y=heart['thalach'])\n",
    "plt.xlabel('Heart disease')\n",
    "plt.ylabel('Max heart rate in exercise test')\n",
    "plt.title('Heart Disease vs thalach', fontsize=15)\n",
    "plt.show()\n",
    "plt.clf()"
   ]
  },
  {
   "cell_type": "code",
   "execution_count": 60,
   "id": "657f37ee",
   "metadata": {},
   "outputs": [
    {
     "data": {
      "text/plain": [
       "1    108.0\n",
       "2    129.0\n",
       "Name: thalach, dtype: float64"
      ]
     },
     "execution_count": 60,
     "metadata": {},
     "output_type": "execute_result"
    }
   ],
   "source": [
    "thalach_hd = heart.thalach[heart['heart_disease'] == 'presence']\n",
    "thalach_hd.head(2)"
   ]
  },
  {
   "cell_type": "code",
   "execution_count": 61,
   "id": "eeb366fa",
   "metadata": {},
   "outputs": [
    {
     "data": {
      "text/plain": [
       "0    150.0\n",
       "3    187.0\n",
       "Name: thalach, dtype: float64"
      ]
     },
     "execution_count": 61,
     "metadata": {},
     "output_type": "execute_result"
    }
   ],
   "source": [
    "thalach_no_hd = heart.thalach[heart['heart_disease'] == 'absence']\n",
    "thalach_no_hd.head(2)"
   ]
  },
  {
   "cell_type": "code",
   "execution_count": 62,
   "id": "0b593001",
   "metadata": {},
   "outputs": [
    {
     "name": "stdout",
     "output_type": "stream",
     "text": [
      "`thalach` mean different:  19.11905597473242\n"
     ]
    }
   ],
   "source": [
    "thalach_mean_diff = np.mean(thalach_no_hd) - np.mean(thalach_hd)\n",
    "print('`thalach` mean different: ', thalach_mean_diff)"
   ]
  },
  {
   "cell_type": "code",
   "execution_count": 63,
   "id": "e12dde30",
   "metadata": {},
   "outputs": [
    {
     "name": "stdout",
     "output_type": "stream",
     "text": [
      "`thalach` median different:  19.0\n"
     ]
    }
   ],
   "source": [
    "thalach_median_diff = np.median(thalach_no_hd) - np.median(thalach_hd)\n",
    "print('`thalach` median different: ', thalach_median_diff)"
   ]
  },
  {
   "cell_type": "markdown",
   "id": "94a3e94e",
   "metadata": {},
   "source": [
    "We’d like to find out if the average thalach of a heart disease patient is significantly different from the average thalach for a person without heart disease.\n",
    "\n",
    "use to test the following null and alternative hypotheses:\n",
    "\n",
    "- Null: The average thalach for a person with heart disease is equal to the average thalach for a person without heart disease.\n",
    "- Alternative: The average thalach for a person with heart disease is NOT equal to the average thalach for a person without heart disease."
   ]
  },
  {
   "cell_type": "code",
   "execution_count": 64,
   "id": "2ce1156b",
   "metadata": {},
   "outputs": [
    {
     "name": "stdout",
     "output_type": "stream",
     "text": [
      "p-value for `thalach` two-sample t-test:  3.456964908430172e-14\n"
     ]
    }
   ],
   "source": [
    "tstat, pval = ttest_ind(thalach_hd, thalach_no_hd)\n",
    "print('p-value for `thalach` two-sample t-test: ', pval)"
   ]
  },
  {
   "cell_type": "markdown",
   "id": "c27d30b6",
   "metadata": {},
   "source": [
    "(p-value (0.0000000000000345) less than significant threshold (0.05), we ‘reject the null hypothesis’  and conclude there is significant difference in thalach for people with heart disease compared to people with no heart disease.) "
   ]
  },
  {
   "cell_type": "markdown",
   "id": "33c15db6",
   "metadata": {},
   "source": [
    "#### heart_disease Vs Age "
   ]
  },
  {
   "cell_type": "code",
   "execution_count": 65,
   "id": "8ba60a3b",
   "metadata": {},
   "outputs": [
    {
     "data": {
      "image/png": "[encoded data removed]",
      "text/plain": [
       "<Figure size 432x288 with 1 Axes>"
      ]
     },
     "metadata": {
      "needs_background": "light"
     },
     "output_type": "display_data"
    },
    {
     "data": {
      "text/plain": [
       "<Figure size 432x288 with 0 Axes>"
      ]
     },
     "metadata": {},
     "output_type": "display_data"
    }
   ],
   "source": [
    "sns.boxplot(x=heart['heart_disease'], y=heart['age'])\n",
    "plt.xlabel('Heart disease')\n",
    "plt.ylabel('age')\n",
    "plt.title('Heart disease vs Age', fontsize=15)\n",
    "plt.show()\n",
    "plt.clf()"
   ]
  },
  {
   "cell_type": "markdown",
   "id": "07bae4c2",
   "metadata": {},
   "source": [
    "(Based on this plot, patient diagnosed with heart disease generally start for age around 50 years old.)"
   ]
  },
  {
   "cell_type": "code",
   "execution_count": 66,
   "id": "d4143e40",
   "metadata": {},
   "outputs": [],
   "source": [
    "age_hd = heart.age[heart['heart_disease'] == 'presence']\n",
    "age_no_hd = heart.age[heart['heart_disease'] == 'absence']"
   ]
  },
  {
   "cell_type": "code",
   "execution_count": 67,
   "id": "19b5458c",
   "metadata": {},
   "outputs": [
    {
     "name": "stdout",
     "output_type": "stream",
     "text": [
      "`age` mean different:  4.040533426917001\n"
     ]
    }
   ],
   "source": [
    "age_mean_diff = np.mean(age_hd) - np.mean(age_no_hd)\n",
    "print('`age` mean different: ', age_mean_diff)"
   ]
  },
  {
   "cell_type": "code",
   "execution_count": 68,
   "id": "68f9accb",
   "metadata": {},
   "outputs": [
    {
     "name": "stdout",
     "output_type": "stream",
     "text": [
      "`age` median different:  6.0\n"
     ]
    }
   ],
   "source": [
    "age_median_diff = np.median(age_hd) - np.median(age_no_hd)\n",
    "print('`age` median different: ', age_median_diff)"
   ]
  },
  {
   "cell_type": "markdown",
   "id": "5aaa9b36",
   "metadata": {},
   "source": [
    "We’d like to find out if the average age of a heart disease patient is significantly different from the average age for a person without heart disease.\n",
    "\n",
    "use to test the following null and alternative hypotheses:\n",
    "\n",
    "- Null: The average age for a person with heart disease is equal to the average age for a person without heart disease.\n",
    "- Alternative: The average age for a person with heart disease is NOT equal to the average age for a person without heart disease."
   ]
  },
  {
   "cell_type": "code",
   "execution_count": 69,
   "id": "4ab62de0",
   "metadata": {},
   "outputs": [
    {
     "name": "stdout",
     "output_type": "stream",
     "text": [
      "p-value for `age` two-sample t-test :  8.955636917529706e-05\n"
     ]
    }
   ],
   "source": [
    "tstat, pval = ttest_ind(age_hd, age_no_hd)\n",
    "print('p-value for `age` two-sample t-test : ', pval)"
   ]
  },
  {
   "cell_type": "markdown",
   "id": "e084f770",
   "metadata": {},
   "source": [
    "(p-value (0.0000895) less than significant threshold (0.05), we ‘reject the null hypothesis’  and conclude there is significant difference in age for people with heart disease compared to people with no heart disease. )"
   ]
  },
  {
   "cell_type": "markdown",
   "id": "bb604b1b",
   "metadata": {},
   "source": [
    "#### heart_disease vs trestbps (resting blood pressure) "
   ]
  },
  {
   "cell_type": "code",
   "execution_count": 70,
   "id": "91546d68",
   "metadata": {},
   "outputs": [
    {
     "data": {
      "image/png": "[encoded data removed]",
      "text/plain": [
       "<Figure size 432x288 with 1 Axes>"
      ]
     },
     "metadata": {
      "needs_background": "light"
     },
     "output_type": "display_data"
    },
    {
     "data": {
      "text/plain": [
       "<Figure size 432x288 with 0 Axes>"
      ]
     },
     "metadata": {},
     "output_type": "display_data"
    }
   ],
   "source": [
    "sns.boxplot(x=heart['heart_disease'], y=heart['trestbps'])\n",
    "plt.xlabel('heart disease')\n",
    "plt.ylabel('resting blood pressure (mm hg)')\n",
    "plt.title('Heart disease vs trestbps (resting blood pressure)', fontsize=15)\n",
    "plt.show()\n",
    "plt.clf()"
   ]
  },
  {
   "cell_type": "markdown",
   "id": "06f39d17",
   "metadata": {},
   "source": [
    "(Based on this plot, patient diagnosed with heart disease and no heart disease generally have the same trestbps median 120-140 mm hg.)"
   ]
  },
  {
   "cell_type": "code",
   "execution_count": 71,
   "id": "36349a59",
   "metadata": {},
   "outputs": [],
   "source": [
    "trestbps_hd = heart.trestbps[heart['heart_disease'] == 'presence']\n",
    "trestbps_no_hd = heart.trestbps[heart['heart_disease'] == 'absence']"
   ]
  },
  {
   "cell_type": "code",
   "execution_count": 72,
   "id": "b2d85ea0",
   "metadata": {},
   "outputs": [
    {
     "name": "stdout",
     "output_type": "stream",
     "text": [
      "`trestbps` mean different :  5.318345323740999\n"
     ]
    }
   ],
   "source": [
    "trestbps_mean_diff = np.mean(trestbps_hd) - np.mean(trestbps_no_hd)\n",
    "print('`trestbps` mean different : ', trestbps_mean_diff)"
   ]
  },
  {
   "cell_type": "code",
   "execution_count": 73,
   "id": "1bbcd1a2",
   "metadata": {},
   "outputs": [
    {
     "name": "stdout",
     "output_type": "stream",
     "text": [
      "`trestbps` median different :  0.0\n"
     ]
    }
   ],
   "source": [
    "trestbps_median_diff = np.median(trestbps_hd) - np.median(trestbps_no_hd)\n",
    "print('`trestbps` median different : ', trestbps_median_diff)"
   ]
  },
  {
   "cell_type": "markdown",
   "id": "0e776984",
   "metadata": {},
   "source": [
    "We’d like to find out if the average thretbps of a heart disease patient is significantly different from the average trestbps for a person without heart disease.\n",
    "\n",
    "use to test the following null and alternative hypotheses:\n",
    "\n",
    "- Null: The average trestbps for a person with heart disease is equal to the average trestbps for a person without heart disease.\n",
    "- Alternative: The average trestbps for a person with heart disease is NOT equal to the average trestbps for a person without heart disease."
   ]
  },
  {
   "cell_type": "code",
   "execution_count": 74,
   "id": "b6cf780a",
   "metadata": {},
   "outputs": [
    {
     "name": "stdout",
     "output_type": "stream",
     "text": [
      "p-value for `trestbps` two-sample t-test :  0.008548268928594928\n"
     ]
    }
   ],
   "source": [
    "tsats, pval = ttest_ind(trestbps_hd, trestbps_no_hd)\n",
    "print('p-value for `trestbps` two-sample t-test : ', pval)"
   ]
  },
  {
   "cell_type": "markdown",
   "id": "f83b9d93",
   "metadata": {},
   "source": [
    "(p-value (0.008) less than significant threshold (0.05), we ‘reject the null hypothesis’  and conclude there is significant difference in trestbps (resting blood pressure) for people with heart disease compared to people with no heart disease.)"
   ]
  },
  {
   "cell_type": "markdown",
   "id": "a3c03274",
   "metadata": {},
   "source": [
    "#### heart_disease vs chol (cholesterol) "
   ]
  },
  {
   "cell_type": "code",
   "execution_count": 75,
   "id": "6a546cb7",
   "metadata": {},
   "outputs": [
    {
     "data": {
      "image/png": "[encoded data removed]",
      "text/plain": [
       "<Figure size 432x288 with 1 Axes>"
      ]
     },
     "metadata": {
      "needs_background": "light"
     },
     "output_type": "display_data"
    },
    {
     "data": {
      "text/plain": [
       "<Figure size 432x288 with 0 Axes>"
      ]
     },
     "metadata": {},
     "output_type": "display_data"
    }
   ],
   "source": [
    "sns.boxplot(x=heart['heart_disease'], y=heart['chol'])\n",
    "plt.xlabel('Heart disease')\n",
    "plt.ylabel('Cholesterol (mg/dl)')\n",
    "plt.title('Heart disease vs cholesterol', fontsize=15)\n",
    "plt.show()\n",
    "plt.clf()"
   ]
  },
  {
   "cell_type": "markdown",
   "id": "1cb11496",
   "metadata": {},
   "source": [
    "(Based on this plot, patient diagnosed with heart disease and no heart disease generally have difference chol median (200-300 mm/dl).)"
   ]
  },
  {
   "cell_type": "code",
   "execution_count": 76,
   "id": "159a604b",
   "metadata": {},
   "outputs": [],
   "source": [
    "chol_hd = heart.chol[heart['heart_disease'] == 'presence']\n",
    "chol_no_hd = heart.chol[heart['heart_disease'] == 'absence']"
   ]
  },
  {
   "cell_type": "code",
   "execution_count": 77,
   "id": "1fe87463",
   "metadata": {},
   "outputs": [
    {
     "name": "stdout",
     "output_type": "stream",
     "text": [
      "`chol` mean different :  8.834576241445887\n"
     ]
    }
   ],
   "source": [
    "chol_mean_diff = np.mean(chol_hd) - np.mean(chol_no_hd)\n",
    "print('`chol` mean different : ', chol_mean_diff)"
   ]
  },
  {
   "cell_type": "code",
   "execution_count": 78,
   "id": "033708d2",
   "metadata": {},
   "outputs": [
    {
     "name": "stdout",
     "output_type": "stream",
     "text": [
      "`chol` median different :  14.5\n"
     ]
    }
   ],
   "source": [
    "chol_median_diff = np.median(chol_hd) - np.median(chol_no_hd)\n",
    "print('`chol` median different : ', chol_median_diff)"
   ]
  },
  {
   "cell_type": "markdown",
   "id": "eff7dc13",
   "metadata": {},
   "source": [
    "We’d like to find out if the average chol of a heart disease patient is significantly different from the average chol for a person without heart disease.\n",
    "\n",
    "use to test the following null and alternative hypotheses:\n",
    "\n",
    "- Null: The average chol for a person with heart disease is equal to the average chol for a person without heart disease.\n",
    "- Alternative: The average chol for a person with heart disease is NOT equal to the average chol for a person without heart disease."
   ]
  },
  {
   "cell_type": "code",
   "execution_count": 79,
   "id": "d4a9d06f",
   "metadata": {},
   "outputs": [
    {
     "name": "stdout",
     "output_type": "stream",
     "text": [
      "p-value for `chol` two-sample t-test :  0.13914167020436527\n"
     ]
    }
   ],
   "source": [
    "tstat, pval = ttest_ind(chol_hd, chol_no_hd)\n",
    "print('p-value for `chol` two-sample t-test : ', pval)"
   ]
  },
  {
   "cell_type": "markdown",
   "id": "5bb361fc",
   "metadata": {},
   "source": [
    "(p-value (0.13) higher than significant threshold (0.05), we ‘accept the null hypothesis’  and conclude there is not significant difference in chol (cholesterol) for people with heart disease compared to people with no heart disease. )"
   ]
  },
  {
   "cell_type": "markdown",
   "id": "64e9bd8c",
   "metadata": {},
   "source": [
    "### Chest Pain and Max Heart Rate "
   ]
  },
  {
   "cell_type": "code",
   "execution_count": 80,
   "id": "272e6da0",
   "metadata": {},
   "outputs": [
    {
     "data": {
      "image/png": "[encoded data removed]",
      "text/plain": [
       "<Figure size 720x360 with 1 Axes>"
      ]
     },
     "metadata": {
      "needs_background": "light"
     },
     "output_type": "display_data"
    },
    {
     "data": {
      "text/plain": [
       "<Figure size 432x288 with 0 Axes>"
      ]
     },
     "metadata": {},
     "output_type": "display_data"
    }
   ],
   "source": [
    "plt.figure(figsize=(10, 5))\n",
    "\n",
    "sns.boxplot(x=heart['cp'], y=heart['thalach'])\n",
    "plt.xlabel('Chest Pain')\n",
    "plt.ylabel('Max heart rate in exercise test')\n",
    "plt.title('Chest Pain vs Max Heart rate', fontsize=15)\n",
    "plt.show()\n",
    "plt.clf()"
   ]
  },
  {
   "cell_type": "code",
   "execution_count": 81,
   "id": "f3cb7764",
   "metadata": {},
   "outputs": [],
   "source": [
    "thalach_typical = heart.thalach[heart['cp'] == 'typical angina']\n",
    "thalach_asymptom = heart.thalach[heart['cp'] == 'asymptomatic']\n",
    "thalach_nonangin = heart.thalach[heart['cp'] == 'non-anginal pain']\n",
    "thalach_atypical = heart.thalach[heart['cp'] == 'atypical angina']"
   ]
  },
  {
   "cell_type": "markdown",
   "id": "ad8ad24a",
   "metadata": {},
   "source": [
    "Run a single hypothesis test to address the following null and alternative hypotheses:\n",
    "\n",
    "- Null: People with typical angina, non-anginal pain, atypical angina, and asymptomatic people all have the same average thalach.\n",
    "- Alternative: People with typical angina, non-anginal pain, atypical angina, and asymptomatic people do not all have the same average thalach."
   ]
  },
  {
   "cell_type": "code",
   "execution_count": 82,
   "id": "03a8e2d4",
   "metadata": {},
   "outputs": [
    {
     "name": "stdout",
     "output_type": "stream",
     "text": [
      "p-value for ANOVA :  1.9065505247705008e-10\n"
     ]
    }
   ],
   "source": [
    "fstat, pval = f_oneway(thalach_typical, thalach_asymptom, thalach_nonangin, thalach_atypical)\n",
    "print('p-value for ANOVA : ', pval)"
   ]
  },
  {
   "cell_type": "markdown",
   "id": "bafd2834",
   "metadata": {},
   "source": [
    "(p-value (0.00000000019) less than significant threshold (0.05), we ‘reject the null hypothesis’  and conclude there is significant difference in people with typical angina, non-anginal pain, atypical angina, and asymptomatic people don't have the same average thalach. )"
   ]
  },
  {
   "cell_type": "markdown",
   "id": "c17ebf41",
   "metadata": {},
   "source": [
    "If you completed the previous step correctly, you should have concluded that there is at least one pair of chest pain types (cp) for which people with those pain types have significantly different average max heart rates during exercise (thalach).\n",
    "\n",
    "Run another hypothesis test to determine which of those pairs are significantly different. Use an overall type I error rate of 0.05 for all six comparisons."
   ]
  },
  {
   "cell_type": "code",
   "execution_count": 85,
   "id": "bd3e2136",
   "metadata": {},
   "outputs": [
    {
     "data": {
      "text/html": [
       "<table class=\"simpletable\">\n",
       "<caption>Multiple Comparison of Means - Tukey HSD, FWER=0.05</caption>\n",
       "<tr>\n",
       "       <th>group1</th>           <th>group2</th>      <th>meandiff</th>  <th>p-adj</th>   <th>lower</th>   <th>upper</th>  <th>reject</th>\n",
       "</tr>\n",
       "<tr>\n",
       "    <td>asymptomatic</td>    <td>atypical angina</td>  <td>21.7394</td>  <td>0.001</td>  <td>12.7439</td> <td>30.735</td>   <td>True</td> \n",
       "</tr>\n",
       "<tr>\n",
       "    <td>asymptomatic</td>   <td>non-anginal pain</td>  <td>14.7264</td>  <td>0.001</td>   <td>7.258</td>  <td>22.1948</td>  <td>True</td> \n",
       "</tr>\n",
       "<tr>\n",
       "    <td>asymptomatic</td>    <td>typical angina</td>   <td>15.276</td>  <td>0.0081</td>  <td>2.9702</td>  <td>27.5817</td>  <td>True</td> \n",
       "</tr>\n",
       "<tr>\n",
       "   <td>atypical angina</td> <td>non-anginal pain</td>  <td>-7.013</td>  <td>0.2481</td> <td>-16.7591</td>  <td>2.733</td>   <td>False</td>\n",
       "</tr>\n",
       "<tr>\n",
       "   <td>atypical angina</td>  <td>typical angina</td>   <td>-6.4635</td> <td>0.6069</td> <td>-20.2707</td> <td>7.3438</td>   <td>False</td>\n",
       "</tr>\n",
       "<tr>\n",
       "  <td>non-anginal pain</td>  <td>typical angina</td>   <td>0.5495</td>    <td>0.9</td>   <td>-12.315</td> <td>13.4141</td>  <td>False</td>\n",
       "</tr>\n",
       "</table>"
      ],
      "text/plain": [
       "<class 'statsmodels.iolib.table.SimpleTable'>"
      ]
     },
     "execution_count": 85,
     "metadata": {},
     "output_type": "execute_result"
    }
   ],
   "source": [
    "from statsmodels.stats.multicomp import pairwise_tukeyhsd\n",
    "\n",
    "tukey_result = pairwise_tukeyhsd(heart['thalach'], heart['cp'], .05)\n",
    "tukey_result.summary()"
   ]
  },
  {
   "cell_type": "markdown",
   "id": "dcde85df",
   "metadata": {},
   "source": [
    "-\tfor any pairwaise ‘reject the null’ is ‘True’, we conclude that people with those chest pain types have significantly different maximum heart rates during exercise.  \n",
    "-\tMaybe surprisingly, people who are ‘asymptomatic’ seem to have lower maximum heart rate (associated with heart disease) than people who have other kinds of chest pain."
   ]
  },
  {
   "cell_type": "markdown",
   "id": "c7e81dc4",
   "metadata": {},
   "source": [
    "### Heart Disease and Chest Pain "
   ]
  },
  {
   "cell_type": "code",
   "execution_count": 86,
   "id": "58cf3a82",
   "metadata": {},
   "outputs": [
    {
     "data": {
      "text/html": [
       "<div>\n",
       "<style scoped>\n",
       "    .dataframe tbody tr th:only-of-type {\n",
       "        vertical-align: middle;\n",
       "    }\n",
       "\n",
       "    .dataframe tbody tr th {\n",
       "        vertical-align: top;\n",
       "    }\n",
       "\n",
       "    .dataframe thead th {\n",
       "        text-align: right;\n",
       "    }\n",
       "</style>\n",
       "<table border=\"1\" class=\"dataframe\">\n",
       "  <thead>\n",
       "    <tr style=\"text-align: right;\">\n",
       "      <th>cp</th>\n",
       "      <th>asymptomatic</th>\n",
       "      <th>atypical angina</th>\n",
       "      <th>non-anginal pain</th>\n",
       "      <th>typical angina</th>\n",
       "    </tr>\n",
       "    <tr>\n",
       "      <th>heart_disease</th>\n",
       "      <th></th>\n",
       "      <th></th>\n",
       "      <th></th>\n",
       "      <th></th>\n",
       "    </tr>\n",
       "  </thead>\n",
       "  <tbody>\n",
       "    <tr>\n",
       "      <th>absence</th>\n",
       "      <td>39</td>\n",
       "      <td>41</td>\n",
       "      <td>68</td>\n",
       "      <td>16</td>\n",
       "    </tr>\n",
       "    <tr>\n",
       "      <th>presence</th>\n",
       "      <td>105</td>\n",
       "      <td>9</td>\n",
       "      <td>18</td>\n",
       "      <td>7</td>\n",
       "    </tr>\n",
       "  </tbody>\n",
       "</table>\n",
       "</div>"
      ],
      "text/plain": [
       "cp             asymptomatic  atypical angina  non-anginal pain  typical angina\n",
       "heart_disease                                                                 \n",
       "absence                  39               41                68              16\n",
       "presence                105                9                18               7"
      ]
     },
     "execution_count": 86,
     "metadata": {},
     "output_type": "execute_result"
    }
   ],
   "source": [
    "xtab = pd.crosstab(heart['heart_disease'], heart['cp'])\n",
    "xtab"
   ]
  },
  {
   "cell_type": "markdown",
   "id": "bfaef573",
   "metadata": {},
   "source": [
    "Run a hypothesis test for the following null and alternative hypotheses:\n",
    "\n",
    "- Null: There is NOT an association between chest pain type and whether or not someone is diagnosed with heart disease.\n",
    "- Alternative: There is an association between chest pain type and whether or not someone is diagnosed with heart disease."
   ]
  },
  {
   "cell_type": "code",
   "execution_count": 89,
   "id": "a1f2f4de",
   "metadata": {},
   "outputs": [
    {
     "name": "stdout",
     "output_type": "stream",
     "text": [
      "chi2-value :  81.81577027653815\n"
     ]
    }
   ],
   "source": [
    "from scipy.stats import chi2_contingency\n",
    "\n",
    "chi2, pval, dof, expected = chi2_contingency(xtab)\n",
    "print('chi2-value : ', chi2)"
   ]
  },
  {
   "cell_type": "code",
   "execution_count": 90,
   "id": "8ad11acc",
   "metadata": {},
   "outputs": [
    {
     "name": "stdout",
     "output_type": "stream",
     "text": [
      "p-value :  1.2517106007837527e-17\n"
     ]
    }
   ],
   "source": [
    "print('p-value : ', pval)"
   ]
  },
  {
   "cell_type": "markdown",
   "id": "e7be22c7",
   "metadata": {},
   "source": [
    "(p-value (0.0000000000000000125) less than 0.05, we ‘reject the null’, we can conclude that there is a significant association between these variable.)"
   ]
  },
  {
   "cell_type": "markdown",
   "id": "59ff919d",
   "metadata": {},
   "source": [
    "### Further Exploration "
   ]
  },
  {
   "cell_type": "code",
   "execution_count": 92,
   "id": "a4f5b148",
   "metadata": {},
   "outputs": [
    {
     "data": {
      "text/html": [
       "<div>\n",
       "<style scoped>\n",
       "    .dataframe tbody tr th:only-of-type {\n",
       "        vertical-align: middle;\n",
       "    }\n",
       "\n",
       "    .dataframe tbody tr th {\n",
       "        vertical-align: top;\n",
       "    }\n",
       "\n",
       "    .dataframe thead th {\n",
       "        text-align: right;\n",
       "    }\n",
       "</style>\n",
       "<table border=\"1\" class=\"dataframe\">\n",
       "  <thead>\n",
       "    <tr style=\"text-align: right;\">\n",
       "      <th>heart_disease</th>\n",
       "      <th>absence</th>\n",
       "      <th>presence</th>\n",
       "    </tr>\n",
       "    <tr>\n",
       "      <th>sex</th>\n",
       "      <th></th>\n",
       "      <th></th>\n",
       "    </tr>\n",
       "  </thead>\n",
       "  <tbody>\n",
       "    <tr>\n",
       "      <th>female</th>\n",
       "      <td>72</td>\n",
       "      <td>25</td>\n",
       "    </tr>\n",
       "    <tr>\n",
       "      <th>male</th>\n",
       "      <td>92</td>\n",
       "      <td>114</td>\n",
       "    </tr>\n",
       "  </tbody>\n",
       "</table>\n",
       "</div>"
      ],
      "text/plain": [
       "heart_disease  absence  presence\n",
       "sex                             \n",
       "female              72        25\n",
       "male                92       114"
      ]
     },
     "execution_count": 92,
     "metadata": {},
     "output_type": "execute_result"
    }
   ],
   "source": [
    "xtab_sex_hd = pd.crosstab(heart['sex'], heart['heart_disease'])\n",
    "xtab_sex_hd"
   ]
  },
  {
   "cell_type": "code",
   "execution_count": 93,
   "id": "10e88e39",
   "metadata": {},
   "outputs": [
    {
     "name": "stdout",
     "output_type": "stream",
     "text": [
      "chi2-value :  22.042560606155472\n"
     ]
    }
   ],
   "source": [
    "chi2, pval, dof, expected = chi2_contingency(xtab_sex_hd)\n",
    "print('chi2-value : ', chi2)"
   ]
  },
  {
   "cell_type": "code",
   "execution_count": 94,
   "id": "bee30e02",
   "metadata": {},
   "outputs": [
    {
     "name": "stdout",
     "output_type": "stream",
     "text": [
      "p-value :  2.666712348180942e-06\n"
     ]
    }
   ],
   "source": [
    "print('p-value : ', pval)"
   ]
  },
  {
   "cell_type": "markdown",
   "id": "95f2a5ef",
   "metadata": {},
   "source": [
    "(p-value (0.00000266) less than 0.05, we ‘reject the null’, we can conclude that there is a significant between gender for people with heart disease compared to people with no heart disease.)"
   ]
  }
 ],
 "metadata": {
  "kernelspec": {
   "display_name": "Python 3",
   "language": "python",
   "name": "python3"
  },
  "language_info": {
   "codemirror_mode": {
    "name": "ipython",
    "version": 3
   },
   "file_extension": ".py",
   "mimetype": "text/x-python",
   "name": "python",
   "nbconvert_exporter": "python",
   "pygments_lexer": "ipython3",
   "version": "3.8.8"
  }
 },
 "nbformat": 4,
 "nbformat_minor": 5
}
