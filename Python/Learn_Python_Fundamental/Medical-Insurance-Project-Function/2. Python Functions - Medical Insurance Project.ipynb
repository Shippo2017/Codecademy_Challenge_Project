{
 "cells": [
  {
   "cell_type": "markdown",
   "id": "b8f29d87",
   "metadata": {},
   "source": [
    "# Python Functions: Medical Insurance Project\n",
    "You are curious about how certain factors such as age, sex, BMI, number of children, and smoking status contribute to medical insurance costs.\n",
    "\n",
    "You will apply your new knowledge of Python functions to write a useful function that calculates medical insurance costs.\n",
    "\n",
    "Let’s get started!"
   ]
  },
  {
   "cell_type": "markdown",
   "id": "fc14e616",
   "metadata": {},
   "source": [
    "## Creating a function\n",
    "\n",
    "First, take a look at the code in script.py.\n",
    "\n",
    "In this code, we estimate the medical insurance costs for two individuals, Maria and Omar, based on five variables:\n",
    "\n",
    "- `age`: age of the individual in years\n",
    "- `sex`: 0 for female, 1 for male\n",
    "- `bmi`: individual’s body mass index\n",
    "- `num_of_children`: number of children the individual has\n",
    "- `smoker`: 0 for a non-smoker, 1 for a smoker\n",
    "\n",
    "These variables are used in the following formula to estimate an individual’s insurance cost (in USD):\n",
    "\n",
    "`insurance_cost = 250∗age − 128∗sex + 370∗bmi + 425∗num_of_children + 24000∗smoker − 12500`\n",
    "\n",
    "Click “Save” to see the estimated insurance costs for Maria and Omar. "
   ]
  },
  {
   "cell_type": "code",
   "execution_count": 12,
   "id": "78230cda",
   "metadata": {},
   "outputs": [
    {
     "name": "stdout",
     "output_type": "stream",
     "text": [
      "The estimated insurance cost for Maria is 5469.0 dollars.\n",
      "The estimated insurance cost for Omar is 28336.0 dollars.\n"
     ]
    }
   ],
   "source": [
    "# Initial variables for Maria \n",
    "age = 28\n",
    "sex = 0  \n",
    "bmi = 26.2\n",
    "num_of_children = 3\n",
    "smoker = 0  \n",
    "\n",
    "# Estimate Maria's insurance cost\n",
    "insurance_cost = 250*age - 128*sex + 370*bmi + 425*num_of_children + 24000*smoker - 12500\n",
    "\n",
    "print(\"The estimated insurance cost for Maria is \" + str(insurance_cost) + \" dollars.\")\n",
    "\n",
    "# Initial variables for Omar\n",
    "age = 35\n",
    "sex = 1 \n",
    "bmi = 22.2\n",
    "num_of_children = 0\n",
    "smoker = 1  \n",
    "\n",
    "# Estimate Omar's insurance cost \n",
    "insurance_cost = 250*age - 128*sex + 370*bmi + 425*num_of_children + 24000*smoker - 12500\n",
    "\n",
    "print(\"The estimated insurance cost for Omar is \" + str(insurance_cost) + \" dollars.\")"
   ]
  },
  {
   "cell_type": "markdown",
   "id": "f930ac1f",
   "metadata": {},
   "source": [
    "The code used to estimate insurance costs for Maria and Omar looks quite similar – in both cases we calculate the insurance cost using the same formula and then print the output.\n",
    "\n",
    "This code is a great candidate for a function because it involves repeating almost identical commands in multiple places.\n",
    "\n",
    "Let’s start by defining a function called `calculate_insurance_cost()`. For now, your function should not have any parameters or output."
   ]
  },
  {
   "cell_type": "code",
   "execution_count": 13,
   "id": "57372095",
   "metadata": {},
   "outputs": [
    {
     "ename": "SyntaxError",
     "evalue": "unexpected EOF while parsing (<ipython-input-13-fb6b7ccdfb75>, line 1)",
     "output_type": "error",
     "traceback": [
      "\u001b[1;36m  File \u001b[1;32m\"<ipython-input-13-fb6b7ccdfb75>\"\u001b[1;36m, line \u001b[1;32m1\u001b[0m\n\u001b[1;33m    def calculate_insurance_cost():\u001b[0m\n\u001b[1;37m                                   ^\u001b[0m\n\u001b[1;31mSyntaxError\u001b[0m\u001b[1;31m:\u001b[0m unexpected EOF while parsing\n"
     ]
    }
   ],
   "source": [
    "def calculate_insurance_cost():"
   ]
  },
  {
   "cell_type": "markdown",
   "id": "231d30f3",
   "metadata": {},
   "source": [
    "Let’s outline the behavior we want our function to have. Inside of `calculate_insurance_cost()`, do the following:\n",
    "- Create a variable called `estimated_cost`. For now, set this variable equal to a value of `1000`. You’ll add the full formula in the next step.\n",
    "- Add a print statement that prints `estimated_cost`. You should output a message similar to: `\"The estimated insurance cost for this person is xxx dollars.\"`\n",
    "- Return `estimated_cost`"
   ]
  },
  {
   "cell_type": "code",
   "execution_count": 14,
   "id": "281c9ff0",
   "metadata": {},
   "outputs": [],
   "source": [
    "def calculate_insurance_cost():\n",
    "    estimated_cost = 1000\n",
    "    print('The estimated insurance cost for this person is ' + str(estimated_cost) + ' dollars.')\n",
    "    return estimated_cost"
   ]
  },
  {
   "cell_type": "markdown",
   "id": "b9b8e083",
   "metadata": {},
   "source": [
    "## Adding parameters to a function\n",
    "Nice job – you’ve created a simple Python function that we’ll use to estimate medical insurance costs.\n",
    "\n",
    "However, the function currently returns a value of 1000. We want it to return our insurance cost formula instead.\n",
    "\n",
    "Modify the function definition so that it contains five parameters:\n",
    "- age\n",
    "- sex\n",
    "- bmi\n",
    "- num_of_children\n",
    "- smoker\n",
    "\n",
    "Take a look at the hint if you need a reminder on how to add parameters to a function definition. "
   ]
  },
  {
   "cell_type": "code",
   "execution_count": 15,
   "id": "1c8c29a8",
   "metadata": {},
   "outputs": [],
   "source": [
    "def calculate_insurance_cost(age, sex, bmi, num_of_children, smoker):\n",
    "    estimated_cost = 1000\n",
    "    print('The estimated insurance cost for this person is ' + str(estimated_cost) + ' dollars.')\n",
    "    return estimated_cost"
   ]
  },
  {
   "cell_type": "markdown",
   "id": "5e155e59",
   "metadata": {},
   "source": [
    "Now that we have set up the function to take inputs for each of the values needed in the insurance formula, we can make use of them inside of our function.\n",
    "\n",
    "In `calculate_insurance_cost()`, change the value of estimated_cost from 1000 to our formula for insurance cost.\n",
    "\n",
    "Remember that the formula for insurance cost is: `250*age - 128*sex + 370*bmi + 425*num_of_children + 24000*smoker - 12500`"
   ]
  },
  {
   "cell_type": "code",
   "execution_count": 16,
   "id": "8159bcb9",
   "metadata": {},
   "outputs": [],
   "source": [
    "def calculate_insurance_cost(age, sex, bmi, num_of_children, smoker):\n",
    "    estimated_cost = 250*age - 128*sex + 370*bmi + 425*num_of_children + 24000*smoker - 12500\n",
    "    print('The estimated insurance cost for this person is ' + str(estimated_cost) + ' dollars.')\n",
    "    return estimated_cost"
   ]
  },
  {
   "cell_type": "markdown",
   "id": "b3c0a079",
   "metadata": {},
   "source": [
    "## Calling a function\n",
    "The function is now properly set up to calculate an individual’s medical insurance costs based on the five variables passed into it. Let’s test this out!\n",
    "\n",
    "Go to the section of code that estimates Maria’s insurance cost.\n",
    "\n",
    "- Rename `insurance_cost` as `maria_insurance_cost` and set it equal to `calculate_insurance_cost()` with the appropriate values for Maria as arguments. \n",
    "- Rename `insurance_cost` as `omar_insurance_cost` and set it equal to `calculate_insurance_cost()` with the appropriate values for Maria as arguments. "
   ]
  },
  {
   "cell_type": "code",
   "execution_count": 17,
   "id": "f286923e",
   "metadata": {},
   "outputs": [
    {
     "name": "stdout",
     "output_type": "stream",
     "text": [
      "The estimated insurance cost for this person is 5469.0 dollars.\n",
      "The estimated insurance cost for this person is 28336.0 dollars.\n"
     ]
    }
   ],
   "source": [
    "# Estimate Maria's insurance cost\n",
    "maria_insurance_cost = calculate_insurance_cost(28, 0, 26.2, 3, 0)\n",
    "\n",
    "# Estimate Omar's insurance cost \n",
    "omar_insurance_cost = calculate_insurance_cost(35, 1, 22.2, 0, 1)"
   ]
  },
  {
   "cell_type": "markdown",
   "id": "c30a4cc9",
   "metadata": {},
   "source": [
    "# Adding new parameters\n",
    "Click “Save” to see the estimated insurance costs for Maria and Omar as calculated by your function.\n",
    "\n",
    "In the output terminal, notice that it says `\"The estimated insurance cost for this person is...\"` but it does not specify the actual name of the person.\n",
    "\n",
    "To fix this, begin by adding an additional parameter called `name` to the function definition. "
   ]
  },
  {
   "cell_type": "markdown",
   "id": "ed10e819",
   "metadata": {},
   "source": [
    "Next, modify the print statement in the function so that it includes the new `name` parameter, replacing `\"this person\"` with the actual `name` of the person."
   ]
  },
  {
   "cell_type": "code",
   "execution_count": 18,
   "id": "00508ccd",
   "metadata": {},
   "outputs": [
    {
     "name": "stdout",
     "output_type": "stream",
     "text": [
      "The estimated insurance cost for Maria is 5469.0 dollars.\n",
      "The estimated insurance cost for Omar is 28336.0 dollars.\n"
     ]
    }
   ],
   "source": [
    "def calculate_insurance_cost(age, sex, bmi, num_of_children, smoker, name):\n",
    "    estimated_cost = 250*age - 128*sex + 370*bmi + 425*num_of_children + 24000*smoker - 12500\n",
    "    print('The estimated insurance cost for ' + name + ' is ' + str(estimated_cost) + ' dollars.')\n",
    "    return estimated_cost\n",
    "\n",
    "# Estimate Maria's insurance cost\n",
    "maria_insurance_cost = calculate_insurance_cost(28, 0, 26.2, 3, 0, 'Maria')\n",
    "\n",
    "# Estimate Omar's insurance cost \n",
    "omar_insurance_cost = calculate_insurance_cost(35, 1, 22.2, 0, 1, name=\"Omar\")"
   ]
  },
  {
   "cell_type": "markdown",
   "id": "1f11e536",
   "metadata": {},
   "source": [
    "## Estimating your own insurance cost\n",
    "In this example, we calculated the insurance costs for two individuals, but with our new code we can easily extend this to thousands or even millions of individuals.\n",
    "\n",
    "To illustrate, estimate your own insurance cost.\n",
    "\n",
    "At the bottom of your code, create a new `insurance_cost` variable for yourself, similar to how we did it for Maria and Omar.\n",
    "\n",
    "Set the variable equal to a function call to `calculate_insurance_cost()`, passing in your own name, age, sex, bmi, number of children, and smoker status.\n",
    "\n",
    "Click “Save” to see the result. "
   ]
  },
  {
   "cell_type": "code",
   "execution_count": 19,
   "id": "16034e3c",
   "metadata": {},
   "outputs": [
    {
     "name": "stdout",
     "output_type": "stream",
     "text": [
      "The estimated insurance cost for Jane Doe is 4464.0 dollars.\n"
     ]
    }
   ],
   "source": [
    "# Estimate my's insurance cost \n",
    "my_insurance_cost = calculate_insurance_cost(35, 0, 22.2, 0, 0, name=\"Jane Doe\")"
   ]
  },
  {
   "cell_type": "markdown",
   "id": "f3b7038c",
   "metadata": {},
   "source": [
    "## Extra\n",
    "Congratulations! In this project, you created a useful function that calculates medical insurance costs based on the values passed into the function. Great job!\n",
    "\n",
    "As a data scientist, you should always strive to make your code more clean and modular. Using functions to avoid repetitive code is a great way to do just that.\n",
    "\n",
    "Now it’s your turn! If you’d like extra practice with Python functions, here are some suggestions to get you started:\n",
    "- Modify the `calculate_insurance_cost()` function so that it returns two values – the output message and the estimated cost.\n",
    "- Create a second function to calculate the difference between the insurance costs (given as inputs) of any two individuals and print a statement saying: `\"The difference in insurance cost is xxx dollars.\"`\n",
    "\n",
    "Happy coding! "
   ]
  },
  {
   "cell_type": "code",
   "execution_count": 20,
   "id": "82b2309b",
   "metadata": {},
   "outputs": [
    {
     "name": "stdout",
     "output_type": "stream",
     "text": [
      "5469.0\n",
      "The estimated insurance cost for Maria is 5469.0 dollars.\n",
      "28336.0\n",
      "The estimated insurance cost for Omar is 28336.0 dollars.\n"
     ]
    }
   ],
   "source": [
    "def calculate_insurance_cost(age, sex, bmi, num_of_children, smoker, name):\n",
    "    estimated_cost = 250*age - 128*sex + 370*bmi + 425*num_of_children + 24000*smoker - 12500\n",
    "    print(estimated_cost)\n",
    "    print('The estimated insurance cost for ' + name + ' is ' + str(estimated_cost) + ' dollars.')\n",
    "    return estimated_cost\n",
    "\n",
    "# Estimate Maria's insurance cost\n",
    "maria_insurance_cost = calculate_insurance_cost(28, 0, 26.2, 3, 0, 'Maria')\n",
    "\n",
    "# Estimate Omar's insurance cost \n",
    "omar_insurance_cost = calculate_insurance_cost(35, 1, 22.2, 0, 1, name=\"Omar\")"
   ]
  },
  {
   "cell_type": "code",
   "execution_count": 21,
   "id": "f42a6dd6",
   "metadata": {},
   "outputs": [
    {
     "name": "stdout",
     "output_type": "stream",
     "text": [
      "The difference in insurance cost is -22867.0 dollars.\n"
     ]
    },
    {
     "data": {
      "text/plain": [
       "-22867.0"
      ]
     },
     "execution_count": 21,
     "metadata": {},
     "output_type": "execute_result"
    }
   ],
   "source": [
    "def diff_insurance_cost(cost1, cost2):\n",
    "    diff_cost = cost1 - cost2\n",
    "    print('The difference in insurance cost is ' + str(diff_cost) + ' dollars.')\n",
    "    return diff_cost\n",
    "\n",
    "diff_insurance_cost(maria_insurance_cost, omar_insurance_cost)"
   ]
  },
  {
   "cell_type": "markdown",
   "id": "81fd19de",
   "metadata": {},
   "source": [
    "Maria's insurance cost is 22867 dollars less than Omar's insurance cost"
   ]
  }
 ],
 "metadata": {
  "kernelspec": {
   "display_name": "Python 3",
   "language": "python",
   "name": "python3"
  },
  "language_info": {
   "codemirror_mode": {
    "name": "ipython",
    "version": 3
   },
   "file_extension": ".py",
   "mimetype": "text/x-python",
   "name": "python",
   "nbconvert_exporter": "python",
   "pygments_lexer": "ipython3",
   "version": "3.8.8"
  }
 },
 "nbformat": 4,
 "nbformat_minor": 5
}
