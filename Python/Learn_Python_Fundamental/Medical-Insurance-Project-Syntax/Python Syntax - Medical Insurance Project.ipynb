{
 "cells": [
  {
   "cell_type": "markdown",
   "id": "68b1ec97",
   "metadata": {},
   "source": [
    "# Python Syntax: Medical Insurance Project\n",
    "\n",
    "Suppose you are a medical professional curious about how certain factors contribute to medical insurance costs. Using a formula that estimates a person’s yearly insurance costs, you will investigate how different factors such as age, sex, BMI, etc. affect the prediction."
   ]
  },
  {
   "cell_type": "markdown",
   "id": "d1cdfd31",
   "metadata": {},
   "source": [
    "## Setting Up Factors\n",
    "\n",
    "Our first step is to create the variables for each factor we will consider when estimating medical insurance costs.\n",
    "\n",
    "These are the variables we will need to create:\n",
    "\n",
    "- age: age of the individual in years\n",
    "- sex: 0 for female, 1 for male*\n",
    "- bmi: individual’s body mass index\n",
    "- num_of_children: number of children the individual has\n",
    "- smoker: 0 for a non-smoker, 1 for a smoker\n",
    "\n",
    "create the following variables for a 28-year-old, nonsmoking woman who has three children and a BMI of 26.2.\n",
    "\n",
    "Note: We are using this medical insurance dataset as a guide, which unfortunately does not include data for non-binary individuals."
   ]
  },
  {
   "cell_type": "code",
   "execution_count": 43,
   "id": "d1385f4c",
   "metadata": {},
   "outputs": [],
   "source": [
    "# create the initial variables below\n",
    "age = 28\n",
    "sex = 0\n",
    "bmi = 26.2\n",
    "num_of_children = 3\n",
    "smoker = 0"
   ]
  },
  {
   "cell_type": "markdown",
   "id": "b0e28074",
   "metadata": {},
   "source": [
    "## Working with the Formula\n",
    "\n",
    "After the declaration of the variables, create a variable called insurance_cost that utilizes the following formula:\n",
    "\n",
    "`insurance_cost = 250∗age − 128∗sex + 370∗bmi + 425∗num_of_children + 24000∗smoker − 12500`"
   ]
  },
  {
   "cell_type": "code",
   "execution_count": 44,
   "id": "8a5b4071",
   "metadata": {},
   "outputs": [],
   "source": [
    "# Add insurance estimate formula below\n",
    "insurance_cost = 250*age - 128*sex + 370*bmi + 425*num_of_children + 24000*smoker - 12500"
   ]
  },
  {
   "cell_type": "markdown",
   "id": "75311fa9",
   "metadata": {},
   "source": [
    "Let’s display this value in an informative way. Print out the following string in the terminal:\n",
    "\n",
    "`This person's insurance cost is {insurance_cost} dollars.`\n",
    "\n",
    "You will need to use string concatenation, including the str() function to print out the `insurance_cost`."
   ]
  },
  {
   "cell_type": "code",
   "execution_count": 45,
   "id": "3656ce38",
   "metadata": {},
   "outputs": [
    {
     "name": "stdout",
     "output_type": "stream",
     "text": [
      "This person's insurance cost is $5469.0 dollars.\n"
     ]
    }
   ],
   "source": [
    "print(\"This person's insurance cost is $\" + str(insurance_cost) + \" dollars.\")"
   ]
  },
  {
   "cell_type": "markdown",
   "id": "ac37715b",
   "metadata": {},
   "source": [
    "## Looking at Age Factor\n",
    "\n",
    "We have seen how our formula can estimate costs for one individual. Now let’s play with some individual factors to see what role each one plays in our estimation!\n",
    "\n",
    "Let’s start with the `age` factor. Using a plus-equal operator, add 4 years to our `age` variable. "
   ]
  },
  {
   "cell_type": "code",
   "execution_count": 46,
   "id": "f08e8df2",
   "metadata": {},
   "outputs": [],
   "source": [
    "# Age Factor\n",
    "age += 4"
   ]
  },
  {
   "cell_type": "markdown",
   "id": "5e2a6d15",
   "metadata": {},
   "source": [
    "Now that we have changed our `age` value, we want to recalculate our insurance cost. Declare a new variable called `new_insurance_cost` underneath the expression that increased `age` by `4`.\n",
    "\n",
    "Make sure you leave the line with the `insurance_cost` variable the same. We will use it later in our program!"
   ]
  },
  {
   "cell_type": "code",
   "execution_count": 47,
   "id": "6c117408",
   "metadata": {},
   "outputs": [
    {
     "name": "stdout",
     "output_type": "stream",
     "text": [
      "6469.0\n"
     ]
    }
   ],
   "source": [
    "new_insurance_cost = 250*age - 128*sex + 370*bmi + 425*num_of_children + 24000*smoker - 12500\n",
    "print(new_insurance_cost)"
   ]
  },
  {
   "cell_type": "markdown",
   "id": "11a9cb94",
   "metadata": {},
   "source": [
    "Next, we want to find the difference between our `new_insurance_cost` and `insurance_cost`. To do this, let’s create a new variable called `change_in_insurance_cost` and set it equal to the difference between `new_insurance_cost` and `insurance_cost`.\n",
    "\n",
    "Note: depending on the order that we subtract (eg., `new_insurance_cost - insurance cost` vs. `insurance_cost - new_insurance_cost`), we’ll get a positive or negative version of the same number. To make this difference interpretable, let’s calculate `new_insurance_cost - insurance_cost`. Then we can say, “people who are four years older have estimated insurance costs that are `change_in_insurance_cost` dollars different,” where the sign of `change_in_insurance_cost` tells us whether the cost is higher or lower."
   ]
  },
  {
   "cell_type": "code",
   "execution_count": 48,
   "id": "0acc08e5",
   "metadata": {},
   "outputs": [],
   "source": [
    "change_in_insurance_cost = new_insurance_cost - insurance_cost"
   ]
  },
  {
   "cell_type": "markdown",
   "id": "b4712a71",
   "metadata": {},
   "source": [
    "We want to display this information in an informative way similar to the output from instruction 3. On the next line, print the following string in the terminal, where XXX is replaced by the value of `change_in_insurance_cost`:\n",
    "\n",
    "`The change in cost of insurance after increasing the age by 4 years is XXX dollars.`\n",
    "\n",
    "Doing this will tell us how 4 years in age affects medical insurance cost estimates assuming that all other variables remain the same.\n",
    "\n",
    "You will need to concatenate strings and use the `str()` method."
   ]
  },
  {
   "cell_type": "code",
   "execution_count": 49,
   "id": "ca1399c1",
   "metadata": {},
   "outputs": [
    {
     "name": "stdout",
     "output_type": "stream",
     "text": [
      "The change in cost of insurance after increasing the age by 4 years is $1000.0 dollars.\n"
     ]
    }
   ],
   "source": [
    "print(\"The change in cost of insurance after increasing the age by 4 years is $\" + str(change_in_insurance_cost) + \" dollars.\")"
   ]
  },
  {
   "cell_type": "markdown",
   "id": "89f3cc5e",
   "metadata": {},
   "source": [
    "## Looking at BMI Factor\n",
    "Now that you have looked at the age factor, let’s move onto another one: BMI. First, we have to redefine our `age` variable to be its original value.\n",
    "\n",
    "Set `age` to `28` following your last piece of code. This will reset its value and allow us to focus on just the change in the BMI factor moving forward.\n",
    "\n",
    "On the next line, using the plus-equal operator, add `3.1` to our `bmi` variable. "
   ]
  },
  {
   "cell_type": "code",
   "execution_count": 50,
   "id": "546d332e",
   "metadata": {},
   "outputs": [],
   "source": [
    "# BMI Factor\n",
    "age = 28\n",
    "bmi += 3.1\n",
    "new_insurance_cost = 250*age - 128*sex + 370*bmi + 425*num_of_children + 24000*smoker - 12500\n",
    "change_in_insurance_cost = new_insurance_cost - insurance_cost"
   ]
  },
  {
   "cell_type": "markdown",
   "id": "46afa94a",
   "metadata": {},
   "source": [
    "Now let’s find out how a change in BMI affects insurance costs. Our next steps are pretty much the same as we have done before when looking at `age`.\n",
    "\n",
    "1. Below the line where `bmi` was increased by `3.1`, rewrite the insurance cost formula and assign it to the variable name `new_insurance_cost`.\n",
    "\n",
    "2. Save the difference between `new_insurance_cost` and `insurance_cost` in a variable called `change_in_insurance_cost`\n",
    "\n",
    "3. Display the following string in the output terminal, where XXX is replaced by the value of `change_in_insurance_cost`:\n",
    "\n",
    "`The change in estimated insurance cost after increasing BMI by 3.1 is XXX dollars.`\n",
    "\n",
    "You can leave the code above it as is, including the print statements."
   ]
  },
  {
   "cell_type": "code",
   "execution_count": 51,
   "id": "0295ffc1",
   "metadata": {},
   "outputs": [
    {
     "name": "stdout",
     "output_type": "stream",
     "text": [
      "The change in estimated insurance cost after increasing BMI by 3.1 is $1147.0 dollars.\n"
     ]
    }
   ],
   "source": [
    "print(\"The change in estimated insurance cost after increasing BMI by 3.1 is $\" + str(change_in_insurance_cost) + \" dollars.\")"
   ]
  },
  {
   "cell_type": "markdown",
   "id": "a5183fc5",
   "metadata": {},
   "source": [
    "## Looking at Male vs. Female Factor\n",
    "Let’s look at the effect sex has on medical insurance costs. Before we make any additional changes, first reassign your `bmi` variable back to its original value of `26.2`.\n",
    "\n",
    "On a new line of code, reassign the value of `sex` to `1`. A reminder that `1` identifies male individuals and `0` identifies female individuals. "
   ]
  },
  {
   "cell_type": "code",
   "execution_count": 52,
   "id": "ff66a0eb",
   "metadata": {},
   "outputs": [],
   "source": [
    "# Male vs. Female Factor\n",
    "bmi = 26.2\n",
    "sex = 1"
   ]
  },
  {
   "cell_type": "markdown",
   "id": "da5349e4",
   "metadata": {},
   "source": [
    "Perform the steps below!\n",
    "\n",
    "1. Rewrite the insurance cost formula and assign it to the variable name new_insurance_cost.\n",
    "\n",
    "2. Save the difference between new_insurance_cost and insurance_cost in a variable called change_in_insurance_cost.\n",
    "\n",
    "3. Display the following string in the output terminal, where XXX is replaced by the value of change_in_insurance_cost:\n",
    "\n",
    "`The change in estimated cost for being male instead of female is XXX dollars.`"
   ]
  },
  {
   "cell_type": "code",
   "execution_count": 53,
   "id": "9bc3709c",
   "metadata": {},
   "outputs": [
    {
     "name": "stdout",
     "output_type": "stream",
     "text": [
      "The change in estimated cost for being male instead of female is $-128.0 dollars.\n"
     ]
    }
   ],
   "source": [
    "new_insurance_cost = 250*age - 128*sex + 370*bmi + 425*num_of_children + 24000*smoker - 12500\n",
    "change_in_insurance_cost = new_insurance_cost - insurance_cost\n",
    "print(\"The change in estimated cost for being male instead of female is $\" + str(change_in_insurance_cost) + \" dollars.\")"
   ]
  },
  {
   "cell_type": "markdown",
   "id": "abe039da",
   "metadata": {},
   "source": [
    "Notice that this time you got a negative value for `change_in_insurance_cost`. Let’s think about what this means. We changed the sex variable from 0 (female) to 1 (male) and it decreased the estimated insurance costs.\n",
    "\n",
    "This means that men tend to have lower medical costs on average than women. Reflect on the other findings you have dug up from this investigation so far."
   ]
  },
  {
   "cell_type": "markdown",
   "id": "93ea7243",
   "metadata": {},
   "source": [
    "## Extra Practice\n",
    "Great job on the project!!!\n",
    "\n",
    "So far we have looked at 3 of the 5 factors in the insurance costs formula. The two remaining are smoker and num_of_children. If you want to keep challenging yourself, spend some time investigating these factors!\n",
    "\n",
    "1. Rewrite the insurance cost formula and assign it to the variable name new_insurance_cost.\n",
    "\n",
    "2. Save the difference between new_insurance_cost and insurance_cost in a variable called change_in_insurance_cost\n",
    "\n",
    "3. Display the information in the terminal! "
   ]
  },
  {
   "cell_type": "code",
   "execution_count": 54,
   "id": "734a6d75",
   "metadata": {},
   "outputs": [
    {
     "name": "stdout",
     "output_type": "stream",
     "text": [
      "The change in estimated cost for having 4 children is  $425.0 dollars.\n"
     ]
    }
   ],
   "source": [
    "# Extra Practice\n",
    "sex = 0\n",
    "num_of_children = 4\n",
    "\n",
    "new_insurance_cost = 250*age - 128*sex + 370*bmi + 425*num_of_children + 24000*smoker - 12500\n",
    "change_in_insurance_cost = new_insurance_cost - insurance_cost\n",
    "print(\"The change in estimated cost for having 4 children is  $\" + str(change_in_insurance_cost) + \" dollars.\")"
   ]
  },
  {
   "cell_type": "code",
   "execution_count": 55,
   "id": "6649c249",
   "metadata": {},
   "outputs": [
    {
     "name": "stdout",
     "output_type": "stream",
     "text": [
      "The change in estimated cost for being smoker instead of non-smoker is  $24000.0 dollars.\n"
     ]
    }
   ],
   "source": [
    "num_of_children = 3\n",
    "smoker = 1\n",
    "\n",
    "new_insurance_cost = 250*age - 128*sex + 370*bmi + 425*num_of_children + 24000*smoker - 12500\n",
    "change_in_insurance_cost = new_insurance_cost - insurance_cost\n",
    "print(\"The change in estimated cost for being smoker instead of non-smoker is  $\" + str(change_in_insurance_cost) + \" dollars.\")"
   ]
  },
  {
   "cell_type": "markdown",
   "id": "4355effc",
   "metadata": {},
   "source": [
    "- Trial with different variable, for being smoker instead of non-smoker has biggest changed in estimated insurance cost 24000 dollars, second biggest was changed BMI 1147 dollars.\n",
    "- While being male instead of female has decreased the estimated insurance cost 128 dollars."
   ]
  }
 ],
 "metadata": {
  "kernelspec": {
   "display_name": "Python 3",
   "language": "python",
   "name": "python3"
  },
  "language_info": {
   "codemirror_mode": {
    "name": "ipython",
    "version": 3
   },
   "file_extension": ".py",
   "mimetype": "text/x-python",
   "name": "python",
   "nbconvert_exporter": "python",
   "pygments_lexer": "ipython3",
   "version": "3.8.8"
  }
 },
 "nbformat": 4,
 "nbformat_minor": 5
}
