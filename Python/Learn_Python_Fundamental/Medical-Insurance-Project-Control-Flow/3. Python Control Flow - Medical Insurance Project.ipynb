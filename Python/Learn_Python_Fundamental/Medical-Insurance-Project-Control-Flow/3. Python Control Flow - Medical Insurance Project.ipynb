{
 "cells": [
  {
   "cell_type": "markdown",
   "id": "aa8c401d",
   "metadata": {},
   "source": [
    "# Python Control Flow: Medical Insurance Project\n",
    "In this project, you will examine how factors such as age, sex, BMI, number of children, and smoking status contribute to medical insurance costs.\n",
    "\n",
    "You will apply your knowledge of Python control flow to write code that gives people advice on how to lower their medical insurance costs.\n",
    "\n",
    "Let’s get started!"
   ]
  },
  {
   "cell_type": "markdown",
   "id": "50168aa5",
   "metadata": {},
   "source": [
    "## Intro to Control Flow\n",
    "First, take a look at the code in script.py.\n",
    "\n",
    "The function `estimate_insurance_cost()` estimates the medical insurance cost for an individual, based on five variables:\n",
    "- age: age of the individual in years\n",
    "- sex: 0 for female, 1 if male\n",
    "- bmi: individual’s body mass index\n",
    "- num_of_children: number of children the individual has\n",
    "- smoker: 0 for a non-smoker, 1 for a smoker\n",
    "\n",
    "These variables are used in the following formula to estimate an individual’s insurance cost:\n",
    "`insurance_cost=250∗age−128∗sex+370∗bmi+425∗num_of_children+24000∗smoker−12500`\n",
    "\n",
    "Click “Save” to see the estimated medical insurance cost for Keanu, a 29 year-old male smoker with three children and a BMI of 26.2. "
   ]
  },
  {
   "cell_type": "code",
   "execution_count": 1,
   "id": "1d318e2b",
   "metadata": {},
   "outputs": [
    {
     "name": "stdout",
     "output_type": "stream",
     "text": [
      "Keanu's Estimated Insurance Cost: 29591.0 dollars.\n"
     ]
    }
   ],
   "source": [
    "def estimate_insurance_cost(name, age, sex, bmi, num_of_children, smoker):\n",
    "    estimated_cost = 250*age - 128*sex + 370*bmi + 425*num_of_children + 24000*smoker - 12500\n",
    "    print(name + \"'s Estimated Insurance Cost: \" + str(estimated_cost) + \" dollars.\")\n",
    "    return estimated_cost\n",
    "\n",
    "# Estimate Keanu's insurance cost\n",
    "keanu_insurance_cost = estimate_insurance_cost(name = 'Keanu', age = 29, sex = 1, bmi = 26.2, num_of_children = 3, smoker = 1)"
   ]
  },
  {
   "cell_type": "markdown",
   "id": "1f373913",
   "metadata": {},
   "source": [
    "Currently, our function prints out the estimated insurance cost based on the values passed into the function. But it doesn’t do much beyond that.\n",
    "\n",
    "It would be much more helpful if our function could provide more insight into how we can lower our insurance cost. We’ll learn to do exactly that by using control flow – if, elif, and else statements – in our code.\n",
    "\n",
    "When you’re ready, move on to the next step."
   ]
  },
  {
   "cell_type": "markdown",
   "id": "df272c2d",
   "metadata": {},
   "source": [
    "## Analyzing Smoker Status\n",
    "In general, insurance costs are higher for smokers as well as people with a higher BMI. We can use data from the variables smoker and bmi to provide advice on how to lower insurance costs.\n",
    "\n",
    "We’ll first create a function that analyzes an individual’s smoking status.\n",
    "\n",
    "At the top of your code, define a function called `analyze_smoker()` that takes an input `smoker_status`. For now, the function should print `smoker_status`. "
   ]
  },
  {
   "cell_type": "code",
   "execution_count": 2,
   "id": "7a32cfa7",
   "metadata": {},
   "outputs": [],
   "source": [
    "def analyze_smoker(smkore_status):\n",
    "    print(smoker_status)"
   ]
  },
  {
   "cell_type": "markdown",
   "id": "5755a69a",
   "metadata": {},
   "source": [
    "Inside of the `analyze_smoker()` function, replace the print statement you wrote in the previous step with an if/else statement that does the following:\n",
    "\n",
    "If `smoker_status` is equal to `1`, print `\"To lower your cost, you should consider quitting smoking.\"`\n",
    "Otherwise, print `\"Smoking is not an issue for you.\"`"
   ]
  },
  {
   "cell_type": "code",
   "execution_count": 3,
   "id": "9c15b0df",
   "metadata": {},
   "outputs": [],
   "source": [
    "def analyze_smoker(smoker_status):\n",
    "    if smoker_status == 1:\n",
    "        print(\"To lower your cost, you should consider quitting smoking.\")\n",
    "    else:\n",
    "        print(\"Smoking is not an issue for you.\")"
   ]
  },
  {
   "cell_type": "markdown",
   "id": "5bee352a",
   "metadata": {},
   "source": [
    "Now that we’ve written the `analyze_smoker()` function, let’s make use of it.\n",
    "\n",
    "In the `estimate_insurance_cost()` function, go to the line of code that prints the estimated insurance cost. On the next line, make a function call to `analyze_smoker()`, passing in the smoker variable as an argument.\n",
    "\n",
    "Click “Save” to see the result."
   ]
  },
  {
   "cell_type": "code",
   "execution_count": 6,
   "id": "8019e155",
   "metadata": {},
   "outputs": [
    {
     "name": "stdout",
     "output_type": "stream",
     "text": [
      "To lower your cost, you should consider quitting smoking.\n",
      "Keanu's Estimated Insurance Cost: 29591.0 dollars.\n"
     ]
    }
   ],
   "source": [
    "def analyze_smoker(smoker_status):\n",
    "    if smoker_status == 1:\n",
    "        print(\"To lower your cost, you should consider quitting smoking.\")\n",
    "    else:\n",
    "        print(\"Smoking is not an issue for you.\")\n",
    "        \n",
    "def estimate_insurance_cost(name, age, sex, bmi, num_of_children, smoker):\n",
    "    estimated_cost = 250*age - 128*sex + 370*bmi + 425*num_of_children + 24000*smoker - 12500\n",
    "    analyze_smoker(smoker)\n",
    "    print(name + \"'s Estimated Insurance Cost: \" + str(estimated_cost) + \" dollars.\")\n",
    "    return estimated_cost\n",
    "\n",
    "        \n",
    "# Estimate Keanu's insurance cost\n",
    "keanu_insurance_cost = estimate_insurance_cost(name = 'Keanu', age = 29, sex = 1, bmi = 26.2, num_of_children = 3, smoker = 1)"
   ]
  },
  {
   "cell_type": "markdown",
   "id": "d2f720fe",
   "metadata": {},
   "source": [
    "## Analyzing BMI\n",
    "Great job – you’ve created a simple function that notifies an individual if their insurance cost can be lowered by altering their smoking habits.\n",
    "\n",
    "Next, create a function that analyzes an individual’s BMI (body mass index).\n",
    "\n",
    "Below your `analyze_smoker()` function, define a function called `analyze_bmi()` that takes an input `bmi_value`. For now, the function should print `bmi_value`. "
   ]
  },
  {
   "cell_type": "code",
   "execution_count": 7,
   "id": "bd905452",
   "metadata": {},
   "outputs": [],
   "source": [
    "def analyze_bmi(bmi_value):\n",
    "    print(bmi_value)"
   ]
  },
  {
   "cell_type": "markdown",
   "id": "d698ca55",
   "metadata": {},
   "source": [
    "Inside of this function we’ll want to notify an individual whether their BMI can be improved, printing a personalized message based on the bmi_value passed in.\n",
    "\n",
    "According to the WHO (World Health Organization), here are the nutritional statuses for various BMI ranges:\n",
    "- BMI > 30: obese\n",
    "- BMI >= 25 and bmi <= 30: overweight\n",
    "- BMI >= 18.5 and bmi < 25: normal weight\n",
    "- BMI < 18.5: underweight\n",
    "\n",
    "Remove the print statement from the previous step and write code using if, elif and else statements representing each of the following cases:\n",
    "- bmi_value > 30: “Your BMI is in the obese range. To lower your cost, you should significantly lower your BMI.”\n",
    "- bmi_value >= 25 and bmi_value <= 30: “Your BMI is in the overweight range. To lower your cost, you should lower your BMI.”\n",
    "- bmi_value >= 18.5 and bmi_value < 25: “Your BMI is in a healthy range.”\n",
    "- bmi_value < 18.5: “Your BMI is in the underweight range. Increasing your BMI will not help lower your cost, but it will help improve your health.”"
   ]
  },
  {
   "cell_type": "code",
   "execution_count": 8,
   "id": "e54c9b74",
   "metadata": {},
   "outputs": [],
   "source": [
    "def analyze_bmi(bmi_value):\n",
    "    if bmi_value > 30:\n",
    "        print('Your BMI is in the obese range. To lower your cost, you should significantly lower your BMI.')\n",
    "    elif bmi_value >= 25 and bmi_value <= 30:\n",
    "        print('Your BMI is in the overweight range. To lower your cost, you should lower your BMI.')\n",
    "    elif bmi_value >= 18 and bmi_value < 25:\n",
    "        print('Your BMI is in a healthy range.')\n",
    "    elif bmi_value < 18.5:\n",
    "        print('Your BMI is in the underweight range. Increasing your BMI will not help lower your cost, but it will help improve your health.')"
   ]
  },
  {
   "cell_type": "markdown",
   "id": "ac762c79",
   "metadata": {},
   "source": [
    "We now have a function that provides an individual guidance on how to lower their insurance cost by adjusting their BMI. Let’s test this out!\n",
    "\n",
    "In the `estimate_insurance_cost()` function, under the line of code that calls the `analyze_smoker()` function, make a function call to `analyze_bmi()`, passing in the bmi variable as an argument.\n",
    "\n",
    "Click “Save” to see the result.\n",
    "\n",
    "Notice that now Keanu gets much more insight into actions he can take to lower his insurance cost. Keanu should consider quitting smoking and lowering his BMI if he wants to lower his medical insurance costs."
   ]
  },
  {
   "cell_type": "code",
   "execution_count": 9,
   "id": "08bb0af5",
   "metadata": {},
   "outputs": [
    {
     "name": "stdout",
     "output_type": "stream",
     "text": [
      "To lower your cost, you should consider quitting smoking.\n",
      "Your BMI is in the overweight range. To lower your cost, you should lower your BMI.\n",
      "Keanu's Estimated Insurance Cost: 29591.0 dollars.\n"
     ]
    }
   ],
   "source": [
    "def analyze_smoker(smoker_status):\n",
    "    if smoker_status == 1:\n",
    "        print(\"To lower your cost, you should consider quitting smoking.\")\n",
    "    else:\n",
    "        print(\"Smoking is not an issue for you.\")\n",
    "        \n",
    "def analyze_bmi(bmi_value):\n",
    "    if bmi_value > 30:\n",
    "        print('Your BMI is in the obese range. To lower your cost, you should significantly lower your BMI.')\n",
    "    elif bmi_value >= 25 and bmi_value <= 30:\n",
    "        print('Your BMI is in the overweight range. To lower your cost, you should lower your BMI.')\n",
    "    elif bmi_value >= 18 and bmi_value < 25:\n",
    "        print('Your BMI is in a healthy range.')\n",
    "    elif bmi_value < 18.5:\n",
    "        print('Your BMI is in the underweight range. Increasing your BMI will not help lower your cost, but it will help improve your health.')\n",
    "        \n",
    "def estimate_insurance_cost(name, age, sex, bmi, num_of_children, smoker):\n",
    "    estimated_cost = 250*age - 128*sex + 370*bmi + 425*num_of_children + 24000*smoker - 12500\n",
    "    analyze_smoker(smoker)\n",
    "    analyze_bmi(bmi)\n",
    "    print(name + \"'s Estimated Insurance Cost: \" + str(estimated_cost) + \" dollars.\")\n",
    "    return estimated_cost\n",
    "\n",
    "        \n",
    "# Estimate Keanu's insurance cost\n",
    "keanu_insurance_cost = estimate_insurance_cost(name = 'Keanu', age = 29, sex = 1, bmi = 26.2, num_of_children = 3, smoker = 1)"
   ]
  },
  {
   "cell_type": "markdown",
   "id": "a675a2e4",
   "metadata": {},
   "source": [
    "## Analyze your own insurance cost\n",
    "Now that we’ve estimated and analyzed Keanu’s insurance cost, let’s see if we can do the same for our own!\n",
    "\n",
    "At the bottom of your code, create a new insurance cost variable for yourself, similar to how we did it for Keanu.\n",
    "\n",
    "Set the variable equal to a function call to `estimate_insurance_cost()`, passing in your own age, sex, BMI, number of children, and smoker status.\n",
    "\n",
    "Click “Save” to see the result. Do you see any ways that you can potentially lower your insurance cost? "
   ]
  },
  {
   "cell_type": "code",
   "execution_count": 10,
   "id": "ad5e5b96",
   "metadata": {},
   "outputs": [
    {
     "name": "stdout",
     "output_type": "stream",
     "text": [
      "Smoking is not an issue for you.\n",
      "Your BMI is in a healthy range.\n",
      "Jane Doe's Estimated Insurance Cost: 4464.0 dollars.\n"
     ]
    }
   ],
   "source": [
    "my_insurance_cost = estimate_insurance_cost('Jane Doe', age=35, sex=0, bmi=22.2, num_of_children=0, smoker=0)"
   ]
  },
  {
   "cell_type": "markdown",
   "id": "e3641c3d",
   "metadata": {},
   "source": [
    "## Extra\n",
    "Great job! In this project, you used control flow in your code – using if, elif, and else statements – to provide advice on how individuals can lower their medical insurance costs.\n",
    "\n",
    "As a data scientist, it’s important to have an understanding of control flow as you’ll eventually work with and build complex decision tree algorithms. You are now better equipped to move forward in your data science journey!\n",
    "\n",
    "If you’d like additional practice on control flow, here are some ways you might extend this project:\n",
    "- Use `try` and `except` statements to build error control into your code.\n",
    "- In your `analyze_bmi()` function, notify the individual how much they need to lower their BMI to bring it to a normal weight range.\n",
    "\n",
    "Create a new function or code block that utilizes control flow in some way – feel free to experiment!\n",
    "Happy coding!"
   ]
  },
  {
   "cell_type": "code",
   "execution_count": 23,
   "id": "955504b4",
   "metadata": {},
   "outputs": [],
   "source": [
    "def analyze_smoker(smoker_status):\n",
    "    if smoker_status == 1:\n",
    "        print(\"To lower your cost, you should consider quitting smoking.\")\n",
    "    else:\n",
    "        print(\"Smoking is not an issue for you.\")\n",
    "        \n",
    "def analyze_bmi(bmi_value):\n",
    "    bmi_adjust = round(bmi_value - 25, 1)\n",
    "    if bmi_value > 30:\n",
    "        print('Your BMI is in the obese range. To lower your cost, you should significantly lower your BMI ' + str(bmi_adjust))\n",
    "    elif bmi_value >= 25 and bmi_value <= 30:\n",
    "        print('Your BMI is in the overweight range. To lower your cost, you should lower your BMI ' + str(bmi_adjust))\n",
    "    elif bmi_value >= 18 and bmi_value < 25:\n",
    "        print('Your BMI is in a healthy range.')\n",
    "    elif bmi_value < 18.5:\n",
    "        print('Your BMI is in the underweight range. Increasing your BMI will not help lower your cost, but it will help improve your health.')\n",
    "        \n",
    "def estimate_insurance_cost(name, age, sex, bmi, num_of_children, smoker):\n",
    "    estimated_cost = 250*age - 128*sex + 370*bmi + 425*num_of_children + 24000*smoker - 12500\n",
    "    analyze_smoker(smoker)\n",
    "    analyze_bmi(bmi)\n",
    "    print(name + \"'s Estimated Insurance Cost: \" + str(estimated_cost) + \" dollars.\\n\")\n",
    "    return estimated_cost"
   ]
  },
  {
   "cell_type": "code",
   "execution_count": 24,
   "id": "f933a0b8",
   "metadata": {},
   "outputs": [
    {
     "name": "stdout",
     "output_type": "stream",
     "text": [
      "To lower your cost, you should consider quitting smoking.\n",
      "Your BMI is in the overweight range. To lower your cost, you should lower your BMI 1.2\n",
      "Keanu's Estimated Insurance Cost: 29591.0 dollars.\n",
      "\n",
      "Sorry! Enter the correct data.\n"
     ]
    }
   ],
   "source": [
    "try:\n",
    "    # Estimate Keanu's insurance cost\n",
    "    keanu_insurance_cost = estimate_insurance_cost(name = 'Keanu', age = 29, sex = 1, bmi = 26.2, num_of_children = 3, smoker = 1)\n",
    "    # My insurance\n",
    "    my_insurance_cost = estimate_insurance_cost('Jane Doe', age=35, sex=0, bmi=22.2, num_of_children=0, smoker='Jack')\n",
    "except:\n",
    "    print('Sorry! Enter the correct data.')"
   ]
  }
 ],
 "metadata": {
  "kernelspec": {
   "display_name": "Python 3",
   "language": "python",
   "name": "python3"
  },
  "language_info": {
   "codemirror_mode": {
    "name": "ipython",
    "version": 3
   },
   "file_extension": ".py",
   "mimetype": "text/x-python",
   "name": "python",
   "nbconvert_exporter": "python",
   "pygments_lexer": "ipython3",
   "version": "3.8.8"
  }
 },
 "nbformat": 4,
 "nbformat_minor": 5
}
