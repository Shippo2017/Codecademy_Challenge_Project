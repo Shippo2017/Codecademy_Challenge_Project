{
 "cells": [
  {
   "cell_type": "markdown",
   "id": "531d77f5",
   "metadata": {},
   "source": [
    "# Basta Fazoolin'\n",
    "You’ve started position as the lead programmer for the family-style Italian restaurant Basta Fazoolin’ with My Heart. \n",
    "\n",
    "The restaurant has been doing fantastically and seen a lot of growth lately. You’ve been hired to keep things organized."
   ]
  },
  {
   "cell_type": "markdown",
   "id": "606c6ff3",
   "metadata": {},
   "source": [
    "## Making the Menus\n",
    "\n",
    "At Basta Fazoolin’ with my Heart our motto is simple: when you’re here with family, that’s great! \n",
    "\n",
    "We have four different menus: brunch, early-bird, dinner, and kids.\n",
    "\n",
    "- Create a `Menu` class.\n",
    "- Give Menu a constructor with the five parameters `self`, `name`, `items`, `start_time`, and `end_time`.\n",
    "- Give our Menu class a string representation method that will tell you the name of the menu. Also, indicate in this representation when the menu is available.\n",
    "- Give Menu a method `.calculate_bill(`) that has two parameters: `self`, and `purchased_items`, a list of the names of purchased items.\n",
    "\n",
    "Have `calculate_bill` return the total price of a purchase consisting of all the items in `purchased_items`.\n",
    "\n",
    "\n",
    "## Creating the Franchises\n",
    "We’ve decided to create more than one restaurant to offer our fantastic menus, services, and ambience around the country.\n",
    "\n",
    "- First, let’s create a `Franchise` class.\n",
    "- Give the Franchise class a constructor. Take in an `address`, and assign it to `self.address`. Also take in a list of `menus` \n",
    "and assign it to `self.menus`.\n",
    "- Give our Franchises a string representation so that we’ll be able to tell them apart. If we print out a Franchise it should tell us the address of the restaurant.\n",
    "- Let’s tell our customers what they can order! Give Franchise an `.available_menus()` method that takes in a `time` parameter and returns a list of the `Menu` objects that are available at that time.\n",
    "\n",
    "\n",
    "## Creating Business\n",
    "Since we’ve been so successful building out a branded chain of restaurants, we’ve decided to diversify. We’re going to create a restaurant that sells arepas!\n",
    "\n",
    "- First let’s define a `Business` class.\n",
    "- Give `Business a constructor`. A `Business` needs a `name` and a list of `franchises`."
   ]
  },
  {
   "cell_type": "code",
   "execution_count": 138,
   "id": "1888ab79",
   "metadata": {},
   "outputs": [],
   "source": [
    "class Business:\n",
    "    def __init__(self, name, franchises):\n",
    "        self.name = name\n",
    "        self.franchises = franchises\n",
    "    \n",
    "class Franchise:\n",
    "    def __init__(self, address, menus):\n",
    "        self.address = address\n",
    "        self.menus = menus\n",
    "        \n",
    "    def __repr__(self):\n",
    "        return self.address\n",
    "    \n",
    "    def available_menus(self, time):\n",
    "        available_menu = []\n",
    "        for menu in self.menus:\n",
    "            if time >= menu.start_time and time <= menu.end_time:\n",
    "                available_menu.append(menu)\n",
    "        return available_menu\n",
    "        \n",
    "class Menu:\n",
    "    def __init__(self, name, items, start_time, end_time):\n",
    "        self.name = name\n",
    "        self.items = items\n",
    "        self.start_time = start_time\n",
    "        self.end_time = end_time\n",
    "        \n",
    "    def __repr__(self):\n",
    "        return f\"{self.name} menu available from {self.start_time} - {self.end_time}\"\n",
    "    \n",
    "    def calculate_bill(self, purchased_items):\n",
    "        bill = 0\n",
    "        for purchased_item in purchased_items:\n",
    "            if purchased_item in self.items:\n",
    "                bill += self.items[purchased_item]\n",
    "        return bill"
   ]
  },
  {
   "cell_type": "code",
   "execution_count": 139,
   "id": "489f0fa2",
   "metadata": {},
   "outputs": [],
   "source": [
    "# Brunch menu serve 11am to 4pm\n",
    "brunch = {\n",
    "    'pancakes': 7.50, \n",
    "    'waffles': 9.00, \n",
    "    'burger': 11.00, \n",
    "    'home fries': 4.50, \n",
    "    'coffee': 1.50, \n",
    "    'espresso': 3.00, \n",
    "    'tea': 1.00, \n",
    "    'mimosa': 10.50, \n",
    "    'orange juice': 3.50\n",
    "}\n",
    "brunch_menu = Menu(\"Brunch\", brunch, 1100, 1600)"
   ]
  },
  {
   "cell_type": "code",
   "execution_count": 140,
   "id": "d5fca2b0",
   "metadata": {},
   "outputs": [
    {
     "name": "stdout",
     "output_type": "stream",
     "text": [
      "Brunch menu available from 1100 - 1600\n"
     ]
    }
   ],
   "source": [
    "print(brunch_menu)"
   ]
  },
  {
   "cell_type": "code",
   "execution_count": 141,
   "id": "c4de192b",
   "metadata": {},
   "outputs": [
    {
     "name": "stdout",
     "output_type": "stream",
     "text": [
      "19.0\n"
     ]
    }
   ],
   "source": [
    "print(brunch_menu.calculate_bill(['burger', 'home fries', 'orange juice']))"
   ]
  },
  {
   "cell_type": "code",
   "execution_count": 142,
   "id": "9a466c25",
   "metadata": {},
   "outputs": [],
   "source": [
    "# early-bird dinner menu serve 3pm to 6pm\n",
    "early_bird = {\n",
    "    'salumeria plate': 8.00, \n",
    "    'salad and breadsticks (serves 2, no refills)': 14.00, \n",
    "    'pizza with quattro formaggi': 9.00, \n",
    "    'duck ragu': 17.50, \n",
    "    'mushroom ravioli (vegan)': 13.50, \n",
    "    'coffee': 1.50, \n",
    "    'espresso': 3.00\n",
    "}\n",
    "early_bird_menu = Menu(\"Early Bird Dinner\", early_bird, 1500, 1800)"
   ]
  },
  {
   "cell_type": "code",
   "execution_count": 143,
   "id": "120fd239",
   "metadata": {},
   "outputs": [
    {
     "name": "stdout",
     "output_type": "stream",
     "text": [
      "Early Bird Dinner menu available from 1500 - 1800\n"
     ]
    }
   ],
   "source": [
    "print(early_bird_menu)"
   ]
  },
  {
   "cell_type": "code",
   "execution_count": 144,
   "id": "bb65743a",
   "metadata": {},
   "outputs": [
    {
     "name": "stdout",
     "output_type": "stream",
     "text": [
      "10.5\n"
     ]
    }
   ],
   "source": [
    "print(early_bird_menu.calculate_bill(['pizza with quattro formaggi', 'coffee']))"
   ]
  },
  {
   "cell_type": "code",
   "execution_count": 145,
   "id": "9d4000cb",
   "metadata": {},
   "outputs": [],
   "source": [
    "# dinner menu serve 5pm to 11pm\n",
    "dinner = {\n",
    "    'crostini with eggplant caponata': 13.00, \n",
    "    'ceaser salad': 16.00, \n",
    "    'pizza with quattro formaggi': 11.00, \n",
    "    'duck ragu': 19.50, \n",
    "    'mushroom ravioli (vegan)': 13.50, \n",
    "    'coffee': 2.00, \n",
    "    'espresso': 3.00\n",
    "}\n",
    "dinner_menu = Menu(\"Dinner\", dinner, 1700, 2300)"
   ]
  },
  {
   "cell_type": "code",
   "execution_count": 146,
   "id": "c637d6da",
   "metadata": {},
   "outputs": [
    {
     "name": "stdout",
     "output_type": "stream",
     "text": [
      "Dinner menu available from 1700 - 2300\n"
     ]
    }
   ],
   "source": [
    "print(dinner_menu)"
   ]
  },
  {
   "cell_type": "code",
   "execution_count": 147,
   "id": "61d807a4",
   "metadata": {},
   "outputs": [],
   "source": [
    "# kids menu serve 11am to 9pm\n",
    "kids = {\n",
    "    'chicken nuggets': 6.50, \n",
    "    'fusilli with wild mushrooms': 12.00, \n",
    "    'apple juice': 3.00\n",
    "}\n",
    "kids_menu = Menu(\"Kids\", kids, 1100, 2100)"
   ]
  },
  {
   "cell_type": "code",
   "execution_count": 148,
   "id": "a2b2f449",
   "metadata": {},
   "outputs": [
    {
     "name": "stdout",
     "output_type": "stream",
     "text": [
      "Kids menu available from 1100 - 2100\n"
     ]
    }
   ],
   "source": [
    "print(kids_menu)"
   ]
  },
  {
   "cell_type": "markdown",
   "id": "d65de2c1",
   "metadata": {},
   "source": [
    "#### Creating the frenchise"
   ]
  },
  {
   "cell_type": "code",
   "execution_count": 149,
   "id": "84193efc",
   "metadata": {},
   "outputs": [],
   "source": [
    "menus = [brunch_menu, early_bird_menu, dinner_menu, kids_menu]"
   ]
  },
  {
   "cell_type": "code",
   "execution_count": 150,
   "id": "f092b6f9",
   "metadata": {},
   "outputs": [],
   "source": [
    "# two new stores location\n",
    "flagship_store = Franchise(\"1232 West End Road\", menus)\n",
    "new_installment = Franchise(\"12 East Mulberry Street\", menus)"
   ]
  },
  {
   "cell_type": "code",
   "execution_count": 151,
   "id": "9f32837c",
   "metadata": {},
   "outputs": [
    {
     "name": "stdout",
     "output_type": "stream",
     "text": [
      "1232 West End Road\n",
      "[Brunch menu available from 1100 - 1600, Kids menu available from 1100 - 2100]\n"
     ]
    }
   ],
   "source": [
    "print(flagship_store)\n",
    "print(flagship_store.available_menus(1200))"
   ]
  },
  {
   "cell_type": "code",
   "execution_count": 152,
   "id": "01cbcf81",
   "metadata": {},
   "outputs": [
    {
     "name": "stdout",
     "output_type": "stream",
     "text": [
      "12 East Mulberry Street\n",
      "[Early Bird Dinner menu available from 1500 - 1800, Dinner menu available from 1700 - 2300, Kids menu available from 1100 - 2100]\n"
     ]
    }
   ],
   "source": [
    "print(new_installment)\n",
    "print(new_installment.available_menus(1700))"
   ]
  },
  {
   "cell_type": "code",
   "execution_count": 153,
   "id": "1f5ce4cb",
   "metadata": {},
   "outputs": [
    {
     "data": {
      "text/plain": [
       "[Brunch menu available from 1100 - 1600,\n",
       " Early Bird Dinner menu available from 1500 - 1800,\n",
       " Dinner menu available from 1700 - 2300,\n",
       " Kids menu available from 1100 - 2100]"
      ]
     },
     "execution_count": 153,
     "metadata": {},
     "output_type": "execute_result"
    }
   ],
   "source": [
    "flagship_store.menus"
   ]
  },
  {
   "cell_type": "markdown",
   "id": "ed5434ef",
   "metadata": {},
   "source": [
    "#### Creating business"
   ]
  },
  {
   "cell_type": "code",
   "execution_count": 154,
   "id": "92484e32",
   "metadata": {},
   "outputs": [],
   "source": [
    "# first business\n",
    "basta = Business(\"Basta Fazoolin' with my Heart\", [flagship_store, new_installment])"
   ]
  },
  {
   "cell_type": "code",
   "execution_count": 155,
   "id": "7e9a04e8",
   "metadata": {},
   "outputs": [
    {
     "name": "stdout",
     "output_type": "stream",
     "text": [
      "Basta Fazoolin' with my Heart\n"
     ]
    }
   ],
   "source": [
    "print(basta.name)"
   ]
  },
  {
   "cell_type": "code",
   "execution_count": 156,
   "id": "08c050c4",
   "metadata": {},
   "outputs": [
    {
     "name": "stdout",
     "output_type": "stream",
     "text": [
      "[1232 West End Road, 12 East Mulberry Street]\n"
     ]
    }
   ],
   "source": [
    "print(basta.franchises)"
   ]
  },
  {
   "cell_type": "code",
   "execution_count": 157,
   "id": "9dfedf2a",
   "metadata": {},
   "outputs": [],
   "source": [
    "# create menu for second business available from 10am till 8 pm\n",
    "arepas = {\n",
    "    'arepa pabellon': 7.00, \n",
    "    'pernil arepa': 8.50, \n",
    "    'guayanes arepa': 8.00, \n",
    "    'jamon arepa': 7.50\n",
    "}\n",
    "arepas_menu = Menu(\"Arepa\", arepas, 10000, 20000)"
   ]
  },
  {
   "cell_type": "code",
   "execution_count": 158,
   "id": "167df71f",
   "metadata": {},
   "outputs": [
    {
     "data": {
      "text/plain": [
       "Arepa menu available from 10000 - 20000"
      ]
     },
     "execution_count": 158,
     "metadata": {},
     "output_type": "execute_result"
    }
   ],
   "source": [
    "arepas_menu"
   ]
  },
  {
   "cell_type": "code",
   "execution_count": 159,
   "id": "d3b97c78",
   "metadata": {},
   "outputs": [
    {
     "data": {
      "text/plain": [
       "16.0"
      ]
     },
     "execution_count": 159,
     "metadata": {},
     "output_type": "execute_result"
    }
   ],
   "source": [
    "arepas_menu.calculate_bill(['pernil arepa', 'jamon arepa'])"
   ]
  },
  {
   "cell_type": "code",
   "execution_count": 160,
   "id": "3342c9aa",
   "metadata": {},
   "outputs": [],
   "source": [
    "arepas_place = Franchise(\"189 Fitzgerald Avenue\", [arepas_menu])"
   ]
  },
  {
   "cell_type": "code",
   "execution_count": 161,
   "id": "d8be704c",
   "metadata": {},
   "outputs": [],
   "source": [
    "arepa = Business(\"Take a' Arepa\", [arepas_place])"
   ]
  },
  {
   "cell_type": "code",
   "execution_count": 162,
   "id": "c10ebd44",
   "metadata": {},
   "outputs": [
    {
     "data": {
      "text/plain": [
       "\"Take a' Arepa\""
      ]
     },
     "execution_count": 162,
     "metadata": {},
     "output_type": "execute_result"
    }
   ],
   "source": [
    "# business name\n",
    "arepa.name"
   ]
  },
  {
   "cell_type": "code",
   "execution_count": 163,
   "id": "1e1d88ba",
   "metadata": {},
   "outputs": [
    {
     "data": {
      "text/plain": [
       "[189 Fitzgerald Avenue]"
      ]
     },
     "execution_count": 163,
     "metadata": {},
     "output_type": "execute_result"
    }
   ],
   "source": [
    "# business location\n",
    "arepa.franchises"
   ]
  },
  {
   "cell_type": "code",
   "execution_count": 164,
   "id": "19e5b69a",
   "metadata": {},
   "outputs": [
    {
     "data": {
      "text/plain": [
       "Arepa menu available from 10000 - 20000"
      ]
     },
     "execution_count": 164,
     "metadata": {},
     "output_type": "execute_result"
    }
   ],
   "source": [
    "# business availability\n",
    "arepa.franchises[0].menus[0]"
   ]
  },
  {
   "cell_type": "markdown",
   "id": "e4f207af",
   "metadata": {},
   "source": [
    "Note :\n",
    "how to calculate combine some menus in different variable?"
   ]
  }
 ],
 "metadata": {
  "kernelspec": {
   "display_name": "Python 3",
   "language": "python",
   "name": "python3"
  },
  "language_info": {
   "codemirror_mode": {
    "name": "ipython",
    "version": 3
   },
   "file_extension": ".py",
   "mimetype": "text/x-python",
   "name": "python",
   "nbconvert_exporter": "python",
   "pygments_lexer": "ipython3",
   "version": "3.8.8"
  }
 },
 "nbformat": 4,
 "nbformat_minor": 5
}
