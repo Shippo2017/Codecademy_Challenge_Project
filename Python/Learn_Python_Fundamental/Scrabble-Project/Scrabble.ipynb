{
 "cells": [
  {
   "cell_type": "markdown",
   "id": "2bb4e5bb",
   "metadata": {},
   "source": [
    "# Scrabble\n",
    "In this project, you will process some data from a group of friends playing scrabble. You will use dictionaries to organize players, words, and points.\n",
    "\n",
    "There are many ways you can extend this project on your own if you finish and want to get more practice!"
   ]
  },
  {
   "cell_type": "markdown",
   "id": "91eff23e",
   "metadata": {},
   "source": [
    "## Build your Point Dictionary"
   ]
  },
  {
   "cell_type": "code",
   "execution_count": 102,
   "id": "6f2df8ec",
   "metadata": {},
   "outputs": [],
   "source": [
    "letters = [\"A\", \"B\", \"C\", \"D\", \"E\", \"F\", \"G\", \"H\", \"I\", \"J\", \"K\", \"L\", \"M\", \"N\", \"O\", \"P\", \"Q\", \"R\", \"S\", \"T\", \"U\", \"V\", \"W\", \"X\", \"Y\", \"Z\"]\n",
    "points = [1, 3, 3, 2, 1, 4, 2, 4, 1, 8, 5, 1, 3, 4, 1, 3, 10, 1, 1, 1, 1, 4, 4, 8, 4, 10]"
   ]
  },
  {
   "cell_type": "markdown",
   "id": "c51c7b30",
   "metadata": {},
   "source": [
    "Using a list comprehension and zip, create a dictionary called `letter_to_points` that has the elements of letters as the keys and the elements of points as the values."
   ]
  },
  {
   "cell_type": "code",
   "execution_count": 103,
   "id": "2bc0a47f",
   "metadata": {},
   "outputs": [],
   "source": [
    "# combine two variables\n",
    "letter_to_points = {\n",
    "    key:value\n",
    "    for key, value\n",
    "    in zip(letters, points)\n",
    "}"
   ]
  },
  {
   "cell_type": "code",
   "execution_count": 104,
   "id": "47c65491",
   "metadata": {},
   "outputs": [
    {
     "name": "stdout",
     "output_type": "stream",
     "text": [
      "{'A': 1, 'B': 3, 'C': 3, 'D': 2, 'E': 1, 'F': 4, 'G': 2, 'H': 4, 'I': 1, 'J': 8, 'K': 5, 'L': 1, 'M': 3, 'N': 4, 'O': 1, 'P': 3, 'Q': 10, 'R': 1, 'S': 1, 'T': 1, 'U': 1, 'V': 4, 'W': 4, 'X': 8, 'Y': 4, 'Z': 10}\n"
     ]
    }
   ],
   "source": [
    "print(letter_to_points)"
   ]
  },
  {
   "cell_type": "markdown",
   "id": "43a07cc8",
   "metadata": {},
   "source": [
    "Our letters list did not take into account blank tiles. Add an element to the `letter_to_points` dictionary that has a key of `\" \"` and a point value of `0`."
   ]
  },
  {
   "cell_type": "code",
   "execution_count": 105,
   "id": "a92e468d",
   "metadata": {},
   "outputs": [
    {
     "name": "stdout",
     "output_type": "stream",
     "text": [
      "{'A': 1, 'B': 3, 'C': 3, 'D': 2, 'E': 1, 'F': 4, 'G': 2, 'H': 4, 'I': 1, 'J': 8, 'K': 5, 'L': 1, 'M': 3, 'N': 4, 'O': 1, 'P': 3, 'Q': 10, 'R': 1, 'S': 1, 'T': 1, 'U': 1, 'V': 4, 'W': 4, 'X': 8, 'Y': 4, 'Z': 10, ' ': 0}\n"
     ]
    }
   ],
   "source": [
    "letter_to_points[\" \"] = 0\n",
    "print(letter_to_points)"
   ]
  },
  {
   "cell_type": "markdown",
   "id": "6d4dedf0",
   "metadata": {},
   "source": [
    "## Score a Word"
   ]
  },
  {
   "cell_type": "markdown",
   "id": "0e4120c5",
   "metadata": {},
   "source": [
    "Create a function that will take in a word and return how many points that word is worth.\n",
    "\n",
    "- Define a function called `score_word` that takes in a parameter `word`.\n",
    "- Inside `score_word`, create a variable called `point_total` and set it to `0`.\n",
    "- After defining `point_total`, create a for loop that goes through the letters in word and adds the point value of each letter to `point_total`.\n",
    "\n",
    "You should get the point value from the `letter_to_points` dictionary. If the letter you are checking for is not in `letter_to_points`, add `0` to the `point_total`.\n",
    "- After the for loop is finished, return `point_total`."
   ]
  },
  {
   "cell_type": "code",
   "execution_count": 106,
   "id": "8bb7890f",
   "metadata": {},
   "outputs": [],
   "source": [
    "def score_word(word):\n",
    "    point_total = 0\n",
    "    for letter in word:\n",
    "        point_total += letter_to_points.get(letter, 0)\n",
    "    return point_total"
   ]
  },
  {
   "cell_type": "code",
   "execution_count": 107,
   "id": "5c9c2185",
   "metadata": {},
   "outputs": [
    {
     "name": "stdout",
     "output_type": "stream",
     "text": [
      "15\n"
     ]
    }
   ],
   "source": [
    "# test the fucntion\n",
    "brownie_points = \"BROWNIE\"\n",
    "\n",
    "print(score_word(brownie_points))"
   ]
  },
  {
   "cell_type": "markdown",
   "id": "13ec9258",
   "metadata": {},
   "source": [
    "## Score a Game"
   ]
  },
  {
   "cell_type": "markdown",
   "id": "fff646d4",
   "metadata": {},
   "source": [
    "Create a dictionary called `player_to_words` that maps players to a list of the words they have played. This table represents the data to transcribe into your dictionary:\n",
    "\n",
    "| player1 | wordNerd | Lexi Con | Prof Reader |\n",
    "| --- | --- | --- | --- |\n",
    "| BLUE | EARTH | ERASER | ZAP |\n",
    "| TENNIS | EYES | BELLY | COMA |\n",
    "| EXIT | MACHINE | HUSKY | PERIOD |"
   ]
  },
  {
   "cell_type": "code",
   "execution_count": 108,
   "id": "3423e5c7",
   "metadata": {},
   "outputs": [
    {
     "name": "stdout",
     "output_type": "stream",
     "text": [
      "{'player1': ['BLUE', 'TENNIS', 'EXIT'], 'wordNerd': ['EARTH', 'EYES', 'MACHINE'], 'Lexi Con': ['ERASER', 'BELLY', 'HUSKY'], 'Prof Reader': ['ZAP', 'COMA', 'PERIOD']}\n"
     ]
    }
   ],
   "source": [
    "player_to_words = {\n",
    "    \"player1\": [\"BLUE\", \"TENNIS\", \"EXIT\"],\n",
    "    \"wordNerd\": [\"EARTH\", \"EYES\", \"MACHINE\"],\n",
    "    \"Lexi Con\": [\"ERASER\", \"BELLY\", \"HUSKY\"],\n",
    "    \"Prof Reader\": [\"ZAP\", \"COMA\", \"PERIOD\"]\n",
    "}\n",
    "\n",
    "print(player_to_words)"
   ]
  },
  {
   "cell_type": "markdown",
   "id": "165b7171",
   "metadata": {},
   "source": [
    "- Create an empty dictionary called `player_to_points`.\n",
    "- Iterate through the items in `player_to_words`. Call each player player and each list of words words.\n",
    "- Within your loop, create a variable called `player_points` and set it to `0`.\n",
    "- Within the loop, create another loop that goes through each word in words and adds the value of `score_word()` with word as an input.\n",
    "- After the inner loop ends, set the current player value to be a key of `player_to_points`, with a value of `player_points`.\n",
    "\n",
    "`player_to_points` should now contain the mapping of players to how many points they’ve scored. \n",
    "\n",
    "Print this out to see the current standings for this game!\n",
    "\n",
    "<b>If you’ve calculated correctly, wordNerd should be winning by 1 point.</b>"
   ]
  },
  {
   "cell_type": "code",
   "execution_count": 109,
   "id": "861d4f5b",
   "metadata": {},
   "outputs": [],
   "source": [
    "player_to_points = {}\n",
    "for player, words in player_to_words.items():\n",
    "    player_points = 0\n",
    "    for word in words:\n",
    "        player_points += score_word(word)\n",
    "        \n",
    "    player_to_points[player] = player_points"
   ]
  },
  {
   "cell_type": "code",
   "execution_count": 110,
   "id": "29f2da8a",
   "metadata": {},
   "outputs": [
    {
     "name": "stdout",
     "output_type": "stream",
     "text": [
      "{'player1': 29, 'wordNerd': 32, 'Lexi Con': 31, 'Prof Reader': 31}\n"
     ]
    }
   ],
   "source": [
    "print(player_to_points)"
   ]
  },
  {
   "cell_type": "markdown",
   "id": "20abfd67",
   "metadata": {},
   "source": [
    "## Ideas for Further Practice!"
   ]
  },
  {
   "cell_type": "markdown",
   "id": "e25de1ef",
   "metadata": {},
   "source": [
    "- `play_word()` — a function that would take in a player and a word, and add that word to the list of words they’ve played"
   ]
  },
  {
   "cell_type": "code",
   "execution_count": 111,
   "id": "5ade787f",
   "metadata": {},
   "outputs": [],
   "source": [
    "def play_word(player, word):\n",
    "    player_to_words[player].append(word)\n",
    "\n",
    "# add new word in player    \n",
    "play_word('player1', 'CODE')\n",
    "play_word('Lexi Con', 'MONEY')\n",
    "    \n",
    "player_to_points = {}\n",
    "for player, words in player_to_words.items():\n",
    "    player_points = 0\n",
    "    for word in words:\n",
    "        player_points += score_word(word)\n",
    "        \n",
    "    player_to_points[player] = player_points"
   ]
  },
  {
   "cell_type": "code",
   "execution_count": 112,
   "id": "01cd63ec",
   "metadata": {},
   "outputs": [
    {
     "name": "stdout",
     "output_type": "stream",
     "text": [
      "{'player1': ['BLUE', 'TENNIS', 'EXIT', 'CODE'], 'wordNerd': ['EARTH', 'EYES', 'MACHINE'], 'Lexi Con': ['ERASER', 'BELLY', 'HUSKY', 'MONEY'], 'Prof Reader': ['ZAP', 'COMA', 'PERIOD']}\n",
      "\n",
      " {'player1': 36, 'wordNerd': 32, 'Lexi Con': 44, 'Prof Reader': 31}\n"
     ]
    }
   ],
   "source": [
    "print(player_to_words)\n",
    "print(\"\\n\", player_to_points)"
   ]
  },
  {
   "cell_type": "markdown",
   "id": "37c200b0",
   "metadata": {},
   "source": [
    "- `update_point_totals()` — turn your nested loops into a function that you can call any time a word is played"
   ]
  },
  {
   "cell_type": "code",
   "execution_count": 113,
   "id": "ad1cbad5",
   "metadata": {},
   "outputs": [
    {
     "name": "stdout",
     "output_type": "stream",
     "text": [
      "{'player1': 36, 'wordNerd': 32, 'Lexi Con': 44, 'Prof Reader': 31}\n"
     ]
    }
   ],
   "source": [
    "player_to_points = {}\n",
    "def update_points_totals():\n",
    "    for player, words in player_to_words.items():\n",
    "        player_points = 0\n",
    "        for word in words:\n",
    "            player_points += score_word(word)\n",
    "\n",
    "        player_to_points[player] = player_points\n",
    "        \n",
    "update_points_totals()\n",
    "print(player_to_points)"
   ]
  },
  {
   "cell_type": "markdown",
   "id": "5f2c3b5d",
   "metadata": {},
   "source": [
    "- make your `letter_to_points` dictionary able to handle lowercase inputs as well"
   ]
  },
  {
   "cell_type": "code",
   "execution_count": 114,
   "id": "34760751",
   "metadata": {},
   "outputs": [],
   "source": [
    "letters = [\"A\", \"B\", \"C\", \"D\", \"E\", \"F\", \"G\", \"H\", \"I\", \"J\", \"K\", \"L\", \"M\", \"N\", \"O\", \"P\", \"Q\", \"R\", \"S\", \"T\", \"U\", \"V\", \"W\", \"X\", \"Y\", \"Z\"]\n",
    "points = [1, 3, 3, 2, 1, 4, 2, 4, 1, 8, 5, 1, 3, 4, 1, 3, 10, 1, 1, 1, 1, 4, 4, 8, 4, 10]\n",
    "\n",
    "# letters handle lowercase\n",
    "letters += [\n",
    "    letter.lower()\n",
    "    for letter\n",
    "    in letters\n",
    "]\n",
    "points *= 2\n",
    "\n",
    "# combine two variables\n",
    "letter_to_points = {\n",
    "    key:value\n",
    "    for key, value\n",
    "    in zip(letters, points)\n",
    "}\n",
    "\n",
    "letter_to_points[\" \"] = 0\n",
    "\n",
    "# count the total score\n",
    "def score_word(word):\n",
    "    point_total = 0\n",
    "    for letter in word:\n",
    "        point_total += letter_to_points.get(letter, 0)\n",
    "    return point_total\n",
    "\n",
    "player_to_words = {\n",
    "    \"player1\": [\"BLUE\", \"TENNIS\", \"EXIT\"],\n",
    "    \"wordNerd\": [\"EARTH\", \"EYES\", \"MACHINE\"],\n",
    "    \"Lexi Con\": [\"ERASER\", \"BELLY\", \"HUSKY\"],\n",
    "    \"Prof Reader\": [\"ZAP\", \"COMA\", \"PERIOD\"]\n",
    "}\n",
    "\n",
    "def play_word(player, word):\n",
    "    player_to_words[player].append(word)\n",
    "\n",
    "# add new word in player    \n",
    "play_word('player1', 'CODE')\n",
    "play_word('Lexi Con', 'Money')\n",
    "\n",
    "\n",
    "player_to_points = {}\n",
    "def update_points_totals():\n",
    "    for player, words in player_to_words.items():\n",
    "        player_points = 0\n",
    "        for word in words:\n",
    "            player_points += score_word(word)\n",
    "\n",
    "        player_to_points[player] = player_points\n",
    "        \n",
    "update_points_totals()"
   ]
  },
  {
   "cell_type": "code",
   "execution_count": 115,
   "id": "ad90c352",
   "metadata": {},
   "outputs": [
    {
     "name": "stdout",
     "output_type": "stream",
     "text": [
      "{'A': 1, 'B': 3, 'C': 3, 'D': 2, 'E': 1, 'F': 4, 'G': 2, 'H': 4, 'I': 1, 'J': 8, 'K': 5, 'L': 1, 'M': 3, 'N': 4, 'O': 1, 'P': 3, 'Q': 10, 'R': 1, 'S': 1, 'T': 1, 'U': 1, 'V': 4, 'W': 4, 'X': 8, 'Y': 4, 'Z': 10, 'a': 1, 'b': 3, 'c': 3, 'd': 2, 'e': 1, 'f': 4, 'g': 2, 'h': 4, 'i': 1, 'j': 8, 'k': 5, 'l': 1, 'm': 3, 'n': 4, 'o': 1, 'p': 3, 'q': 10, 'r': 1, 's': 1, 't': 1, 'u': 1, 'v': 4, 'w': 4, 'x': 8, 'y': 4, 'z': 10, ' ': 0}\n"
     ]
    }
   ],
   "source": [
    "print(letter_to_points)"
   ]
  },
  {
   "cell_type": "code",
   "execution_count": 116,
   "id": "4cc39704",
   "metadata": {},
   "outputs": [
    {
     "name": "stdout",
     "output_type": "stream",
     "text": [
      "{'player1': ['BLUE', 'TENNIS', 'EXIT', 'CODE'], 'wordNerd': ['EARTH', 'EYES', 'MACHINE'], 'Lexi Con': ['ERASER', 'BELLY', 'HUSKY', 'Money'], 'Prof Reader': ['ZAP', 'COMA', 'PERIOD']}\n"
     ]
    }
   ],
   "source": [
    "print(player_to_words)"
   ]
  },
  {
   "cell_type": "code",
   "execution_count": 117,
   "id": "7be6e976",
   "metadata": {},
   "outputs": [
    {
     "name": "stdout",
     "output_type": "stream",
     "text": [
      "{'player1': 36, 'wordNerd': 32, 'Lexi Con': 44, 'Prof Reader': 31}\n"
     ]
    }
   ],
   "source": [
    "print(player_to_points)"
   ]
  }
 ],
 "metadata": {
  "kernelspec": {
   "display_name": "Python 3",
   "language": "python",
   "name": "python3"
  },
  "language_info": {
   "codemirror_mode": {
    "name": "ipython",
    "version": 3
   },
   "file_extension": ".py",
   "mimetype": "text/x-python",
   "name": "python",
   "nbconvert_exporter": "python",
   "pygments_lexer": "ipython3",
   "version": "3.8.8"
  }
 },
 "nbformat": 4,
 "nbformat_minor": 5
}
